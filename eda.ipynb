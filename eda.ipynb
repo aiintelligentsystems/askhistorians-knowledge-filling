{
 "cells": [
  {
   "cell_type": "code",
   "execution_count": 1,
   "metadata": {},
   "outputs": [
    {
     "name": "stderr",
     "output_type": "stream",
     "text": [
      "/home/jhoffbauer/reddit_qa/venv/lib/python3.10/site-packages/tqdm/auto.py:21: TqdmWarning: IProgress not found. Please update jupyter and ipywidgets. See https://ipywidgets.readthedocs.io/en/stable/user_install.html\n",
      "  from .autonotebook import tqdm as notebook_tqdm\n"
     ]
    }
   ],
   "source": [
    "import pandas as pd\n",
    "import numpy as np\n",
    "import matplotlib.pyplot as plt\n",
    "from sklearn.model_selection import train_test_split\n",
    "import datasets as ds"
   ]
  },
  {
   "cell_type": "code",
   "execution_count": 2,
   "metadata": {},
   "outputs": [],
   "source": [
    "ELIF_COMMENTS = \"/scratch1/jhoff/explainlikeimfive_comments.jsonl\"\n",
    "ELIF_SUBMISSIONS = \"/scratch1/jhoff/explainlikeimfive_submissions.jsonl\""
   ]
  },
  {
   "cell_type": "code",
   "execution_count": 3,
   "metadata": {},
   "outputs": [
    {
     "name": "stdout",
     "output_type": "stream",
     "text": [
      "number of lines\n",
      "  comments: 16258308\n",
      "  submissions  1803202\n"
     ]
    }
   ],
   "source": [
    "print('number of lines')\n",
    "print(f'  comments: {len(open(ELIF_COMMENTS).readlines())}')\n",
    "print(f'  submissions  {len(open(ELIF_SUBMISSIONS).readlines())}')"
   ]
  },
  {
   "cell_type": "code",
   "execution_count": 4,
   "metadata": {},
   "outputs": [
    {
     "name": "stdout",
     "output_type": "stream",
     "text": [
      "Size after load: 5.241GB\n"
     ]
    },
    {
     "data": {
      "text/html": [
       "<div>\n",
       "<style scoped>\n",
       "    .dataframe tbody tr th:only-of-type {\n",
       "        vertical-align: middle;\n",
       "    }\n",
       "\n",
       "    .dataframe tbody tr th {\n",
       "        vertical-align: top;\n",
       "    }\n",
       "\n",
       "    .dataframe thead th {\n",
       "        text-align: right;\n",
       "    }\n",
       "</style>\n",
       "<table border=\"1\" class=\"dataframe\">\n",
       "  <thead>\n",
       "    <tr style=\"text-align: right;\">\n",
       "      <th></th>\n",
       "      <th>downs</th>\n",
       "      <th>id</th>\n",
       "      <th>created_utc</th>\n",
       "      <th>name</th>\n",
       "      <th>title</th>\n",
       "      <th>is_self</th>\n",
       "      <th>selftext</th>\n",
       "      <th>num_comments</th>\n",
       "      <th>ups</th>\n",
       "      <th>score</th>\n",
       "      <th>...</th>\n",
       "      <th>treatment_tags</th>\n",
       "      <th>upvote_ratio</th>\n",
       "      <th>is_created_from_ads_ui</th>\n",
       "      <th>retrieved_utc</th>\n",
       "      <th>top_awarded_type</th>\n",
       "      <th>call_to_action</th>\n",
       "      <th>crosspost_parent</th>\n",
       "      <th>crosspost_parent_list</th>\n",
       "      <th>url_overridden_by_dest</th>\n",
       "      <th>deleted</th>\n",
       "    </tr>\n",
       "  </thead>\n",
       "  <tbody>\n",
       "    <tr>\n",
       "      <th>0</th>\n",
       "      <td>4.0</td>\n",
       "      <td>j2pag</td>\n",
       "      <td>2011-07-28 23:56:50</td>\n",
       "      <td>t3_j2pag</td>\n",
       "      <td>Can someone explain to me what a tax bracket is?</td>\n",
       "      <td>True</td>\n",
       "      <td>I hear the term all the time in money speak bu...</td>\n",
       "      <td>14</td>\n",
       "      <td>25.0</td>\n",
       "      <td>21</td>\n",
       "      <td>...</td>\n",
       "      <td>NaN</td>\n",
       "      <td>NaN</td>\n",
       "      <td>NaN</td>\n",
       "      <td>NaN</td>\n",
       "      <td>NaN</td>\n",
       "      <td>NaN</td>\n",
       "      <td>NaN</td>\n",
       "      <td>NaN</td>\n",
       "      <td>NaN</td>\n",
       "      <td>False</td>\n",
       "    </tr>\n",
       "    <tr>\n",
       "      <th>1</th>\n",
       "      <td>0.0</td>\n",
       "      <td>j2p9d</td>\n",
       "      <td>2011-07-28 23:55:39</td>\n",
       "      <td>t3_j2p9d</td>\n",
       "      <td>Can someone explain to me how to rate an Orche...</td>\n",
       "      <td>True</td>\n",
       "      <td>I have recently went to a live local orchestra...</td>\n",
       "      <td>0</td>\n",
       "      <td>1.0</td>\n",
       "      <td>1</td>\n",
       "      <td>...</td>\n",
       "      <td>NaN</td>\n",
       "      <td>NaN</td>\n",
       "      <td>NaN</td>\n",
       "      <td>NaN</td>\n",
       "      <td>NaN</td>\n",
       "      <td>NaN</td>\n",
       "      <td>NaN</td>\n",
       "      <td>NaN</td>\n",
       "      <td>NaN</td>\n",
       "      <td>False</td>\n",
       "    </tr>\n",
       "    <tr>\n",
       "      <th>2</th>\n",
       "      <td>2.0</td>\n",
       "      <td>j2p92</td>\n",
       "      <td>2011-07-28 23:55:18</td>\n",
       "      <td>t3_j2p92</td>\n",
       "      <td>[LI5] Can you please explain to me what exactl...</td>\n",
       "      <td>True</td>\n",
       "      <td></td>\n",
       "      <td>2</td>\n",
       "      <td>23.0</td>\n",
       "      <td>21</td>\n",
       "      <td>...</td>\n",
       "      <td>NaN</td>\n",
       "      <td>NaN</td>\n",
       "      <td>NaN</td>\n",
       "      <td>NaN</td>\n",
       "      <td>NaN</td>\n",
       "      <td>NaN</td>\n",
       "      <td>NaN</td>\n",
       "      <td>NaN</td>\n",
       "      <td>NaN</td>\n",
       "      <td>False</td>\n",
       "    </tr>\n",
       "    <tr>\n",
       "      <th>3</th>\n",
       "      <td>8.0</td>\n",
       "      <td>j2p84</td>\n",
       "      <td>2011-07-28 23:54:22</td>\n",
       "      <td>t3_j2p84</td>\n",
       "      <td>World War 2.  Explain like I'm 5.</td>\n",
       "      <td>True</td>\n",
       "      <td>Who what where and most importantly, why?</td>\n",
       "      <td>12</td>\n",
       "      <td>27.0</td>\n",
       "      <td>19</td>\n",
       "      <td>...</td>\n",
       "      <td>NaN</td>\n",
       "      <td>NaN</td>\n",
       "      <td>NaN</td>\n",
       "      <td>NaN</td>\n",
       "      <td>NaN</td>\n",
       "      <td>NaN</td>\n",
       "      <td>NaN</td>\n",
       "      <td>NaN</td>\n",
       "      <td>NaN</td>\n",
       "      <td>False</td>\n",
       "    </tr>\n",
       "    <tr>\n",
       "      <th>4</th>\n",
       "      <td>0.0</td>\n",
       "      <td>j2p7y</td>\n",
       "      <td>2011-07-28 23:54:11</td>\n",
       "      <td>t3_j2p7y</td>\n",
       "      <td>Why is my reflexion upside down when I look in...</td>\n",
       "      <td>True</td>\n",
       "      <td></td>\n",
       "      <td>0</td>\n",
       "      <td>1.0</td>\n",
       "      <td>1</td>\n",
       "      <td>...</td>\n",
       "      <td>NaN</td>\n",
       "      <td>NaN</td>\n",
       "      <td>NaN</td>\n",
       "      <td>NaN</td>\n",
       "      <td>NaN</td>\n",
       "      <td>NaN</td>\n",
       "      <td>NaN</td>\n",
       "      <td>NaN</td>\n",
       "      <td>NaN</td>\n",
       "      <td>False</td>\n",
       "    </tr>\n",
       "  </tbody>\n",
       "</table>\n",
       "<p>5 rows × 94 columns</p>\n",
       "</div>"
      ],
      "text/plain": [
       "   downs     id         created_utc      name   \n",
       "0    4.0  j2pag 2011-07-28 23:56:50  t3_j2pag  \\\n",
       "1    0.0  j2p9d 2011-07-28 23:55:39  t3_j2p9d   \n",
       "2    2.0  j2p92 2011-07-28 23:55:18  t3_j2p92   \n",
       "3    8.0  j2p84 2011-07-28 23:54:22  t3_j2p84   \n",
       "4    0.0  j2p7y 2011-07-28 23:54:11  t3_j2p7y   \n",
       "\n",
       "                                               title  is_self   \n",
       "0   Can someone explain to me what a tax bracket is?     True  \\\n",
       "1  Can someone explain to me how to rate an Orche...     True   \n",
       "2  [LI5] Can you please explain to me what exactl...     True   \n",
       "3                  World War 2.  Explain like I'm 5.     True   \n",
       "4  Why is my reflexion upside down when I look in...     True   \n",
       "\n",
       "                                            selftext  num_comments   ups   \n",
       "0  I hear the term all the time in money speak bu...            14  25.0  \\\n",
       "1  I have recently went to a live local orchestra...             0   1.0   \n",
       "2                                                                2  23.0   \n",
       "3          Who what where and most importantly, why?            12  27.0   \n",
       "4                                                                0   1.0   \n",
       "\n",
       "   score  ...  treatment_tags upvote_ratio  is_created_from_ads_ui   \n",
       "0     21  ...             NaN          NaN                     NaN  \\\n",
       "1      1  ...             NaN          NaN                     NaN   \n",
       "2     21  ...             NaN          NaN                     NaN   \n",
       "3     19  ...             NaN          NaN                     NaN   \n",
       "4      1  ...             NaN          NaN                     NaN   \n",
       "\n",
       "   retrieved_utc  top_awarded_type  call_to_action  crosspost_parent   \n",
       "0            NaN               NaN             NaN               NaN  \\\n",
       "1            NaN               NaN             NaN               NaN   \n",
       "2            NaN               NaN             NaN               NaN   \n",
       "3            NaN               NaN             NaN               NaN   \n",
       "4            NaN               NaN             NaN               NaN   \n",
       "\n",
       "   crosspost_parent_list url_overridden_by_dest deleted  \n",
       "0                    NaN                    NaN   False  \n",
       "1                    NaN                    NaN   False  \n",
       "2                    NaN                    NaN   False  \n",
       "3                    NaN                    NaN   False  \n",
       "4                    NaN                    NaN   False  \n",
       "\n",
       "[5 rows x 94 columns]"
      ]
     },
     "execution_count": 4,
     "metadata": {},
     "output_type": "execute_result"
    }
   ],
   "source": [
    "# Let's work on the submissions first\n",
    "df_elif_submissions = pd.read_json(ELIF_SUBMISSIONS, lines=True)\n",
    "print(f\"Size after load: {round(df_elif_submissions.memory_usage(deep=True).sum() / (1024**3), 3)}GB\")\n",
    "\n",
    "# Delete a few columns we wont need\n",
    "submission_cols_to_delete = [\n",
    "    'author', 'author_flair_css_class', 'clicked', 'distinguished', 'domain', 'gilded', \n",
    "    'link_flair_css_class', 'media_embed', 'secure_media', 'secure_media_embed', \n",
    "    'selftext_html', 'stickied', 'subreddit_id', 'thumbnail', 'saved', 'url', 'edited',\n",
    "    'link_flair_text', 'report_reasons', 'author_flair_text', 'banned_by', 'mod_reports',\n",
    "    'permalink', 'approved_by', 'user_reports', 'media', 'hidden', 'created', 'likes', 'num_reports',\n",
    "    'subreddit'\n",
    "]\n",
    "for col in submission_cols_to_delete:\n",
    "    if col in df_elif_submissions.columns:\n",
    "        del df_elif_submissions[col]\n",
    "\n",
    "# Convert dates\n",
    "df_elif_submissions['created_utc'] = pd.to_datetime(df_elif_submissions['created_utc'], unit='s')\n",
    "df_elif_submissions['retrieved_on'] = pd.to_datetime(df_elif_submissions['retrieved_on'], unit='s')\n",
    "\n",
    "# Mark deleted submissions\n",
    "df_elif_submissions['deleted'] = df_elif_submissions['selftext'].apply(lambda x: '[deleted]' in x or '[removed]' in x)\n",
    "\n",
    "df_elif_submissions.head(5)"
   ]
  },
  {
   "cell_type": "code",
   "execution_count": 5,
   "metadata": {},
   "outputs": [
    {
     "name": "stdout",
     "output_type": "stream",
     "text": [
      "deleted\n",
      "  True     50.7838%\n",
      "  False    49.2162%\n",
      "is_self\n",
      "  True     99.9913%\n",
      "  False     0.0087%\n",
      "over_18\n",
      "  False    99.6251%\n",
      "  True      0.3749%\n"
     ]
    }
   ],
   "source": [
    "for col in ['deleted', 'is_self', 'over_18']:\n",
    "    # Print value counts with indent\n",
    "    print(df_elif_submissions[col].value_counts(normalize=True).apply(lambda x: f\"{round(x * 100, 4)}%\").to_string().replace('\\n', '\\n  '))"
   ]
  },
  {
   "cell_type": "code",
   "execution_count": 6,
   "metadata": {},
   "outputs": [
    {
     "data": {
      "image/png": "[encoded data removed]",
      "text/plain": [
       "<Figure size 900x400 with 6 Axes>"
      ]
     },
     "metadata": {},
     "output_type": "display_data"
    }
   ],
   "source": [
    "figsize=(9, 4)\n",
    "\n",
    "fig, axes = plt.subplots(nrows=2, ncols=3)\n",
    "\n",
    "axes[0, 0].set_title('created_utc')\n",
    "df_elif_submissions.created_utc.hist(ax=axes[0, 0], xrot=45, figsize=figsize, xlabelsize=6)\n",
    "\n",
    "axes[0, 1].set_title('retrieved_on')\n",
    "df_elif_submissions.retrieved_on.hist(ax=axes[0, 1], xrot=45, figsize=figsize, xlabelsize=6)\n",
    "\n",
    "axes[0, 2].set_title('num_comments')\n",
    "df_elif_submissions.num_comments.hist(ax=axes[0, 2], bins=100, log=True, figsize=figsize)\n",
    "\n",
    "axes[1, 0].set_title('score')\n",
    "df_elif_submissions.score.hist(ax=axes[1, 0], bins=100, log=True, figsize=figsize)\n",
    "\n",
    "axes[1, 1].set_title('downs')\n",
    "df_elif_submissions.downs.hist(ax=axes[1, 1], bins=100, log=True, figsize=figsize)\n",
    "\n",
    "axes[1, 2].set_title('age at retrieval')\n",
    "(df_elif_submissions['retrieved_on'] - df_elif_submissions['created_utc']).dropna().apply(lambda x: x.days).hist(ax=axes[1, 2], bins=100, log=True, figsize=figsize)\n",
    "\n",
    "fig.tight_layout()"
   ]
  },
  {
   "cell_type": "code",
   "execution_count": 7,
   "metadata": {},
   "outputs": [
    {
     "name": "stdout",
     "output_type": "stream",
     "text": [
      "Most upvoted submission: ELI5: Please explain climate change proof like I am 5\n",
      "Most downvoted submission: ELI5: What exactly is Obamacare and what did it change?\n",
      "Highest score submission: ELI5: Apparently, the smell of freshly mowed grass is actually chemicals that grass releases to warn other grass of the oncoming danger. Why would this be a thing since there's literally nothing grass can do to avoid the oncoming danger?\n"
     ]
    }
   ],
   "source": [
    "print(f\"Most upvoted submission: {df_elif_submissions.iloc[df_elif_submissions.ups.idxmax()].to_dict()['title']}\")\n",
    "print(f\"Most downvoted submission: {df_elif_submissions.iloc[df_elif_submissions.downs.idxmax()].to_dict()['title']}\")\n",
    "print(f\"Highest score submission: {df_elif_submissions.iloc[df_elif_submissions.score.idxmax()].to_dict()['title']}\")"
   ]
  },
  {
   "cell_type": "code",
   "execution_count": 3,
   "metadata": {},
   "outputs": [
    {
     "name": "stdout",
     "output_type": "stream",
     "text": [
      "Loading only 100.0% of rows\n",
      "Size after load: 12.136GB\n"
     ]
    }
   ],
   "source": [
    "# Now let's work on the comments\n",
    "nrows = 1e7\n",
    "print(f'Loading only {round(min(nrows, 1803202) / 1803202 * 100, 100)}% of rows')\n",
    "df_elif_comments = pd.read_json(ELIF_COMMENTS, lines=True, nrows=1e7)\n",
    "print(f\"Size after load: {round(df_elif_comments.memory_usage(deep=True).sum() / (1024**3), 3)}GB\")"
   ]
  },
  {
   "cell_type": "code",
   "execution_count": null,
   "metadata": {},
   "outputs": [
    {
     "ename": "NameError",
     "evalue": "name 'df_elif_comments' is not defined",
     "output_type": "error",
     "traceback": [
      "\u001b[0;31m---------------------------------------------------------------------------\u001b[0m",
      "\u001b[0;31mNameError\u001b[0m                                 Traceback (most recent call last)",
      "Cell \u001b[0;32mIn[4], line 15\u001b[0m\n\u001b[1;32m      2\u001b[0m comment_cols_to_delete \u001b[39m=\u001b[39m [\n\u001b[1;32m      3\u001b[0m     \u001b[39m'\u001b[39m\u001b[39mauthor\u001b[39m\u001b[39m'\u001b[39m, \u001b[39m'\u001b[39m\u001b[39mauthor_flair_css_class\u001b[39m\u001b[39m'\u001b[39m, \u001b[39m'\u001b[39m\u001b[39mauthor_flair_text\u001b[39m\u001b[39m'\u001b[39m, \u001b[39m'\u001b[39m\u001b[39mdistinguished\u001b[39m\u001b[39m'\u001b[39m, \u001b[39m'\u001b[39m\u001b[39medited\u001b[39m\u001b[39m'\u001b[39m, \u001b[39m'\u001b[39m\u001b[39mgilded\u001b[39m\u001b[39m'\u001b[39m,\n\u001b[1;32m      4\u001b[0m     \u001b[39m'\u001b[39m\u001b[39msubreddit\u001b[39m\u001b[39m'\u001b[39m, \u001b[39m'\u001b[39m\u001b[39msubreddit_id\u001b[39m\u001b[39m'\u001b[39m, \u001b[39m'\u001b[39m\u001b[39mapproved_at_utc\u001b[39m\u001b[39m'\u001b[39m,\t\u001b[39m'\u001b[39m\u001b[39mcan_mod_post\u001b[39m\u001b[39m'\u001b[39m,\t\u001b[39m'\u001b[39m\u001b[39mcollapsed\u001b[39m\u001b[39m'\u001b[39m, \u001b[39m'\u001b[39m\u001b[39mcollapsed_reason\u001b[39m\u001b[39m'\u001b[39m,\n\u001b[0;32m   (...)\u001b[0m\n\u001b[1;32m     12\u001b[0m \n\u001b[1;32m     13\u001b[0m ]\n\u001b[1;32m     14\u001b[0m \u001b[39mfor\u001b[39;00m col \u001b[39min\u001b[39;00m comment_cols_to_delete:\n\u001b[0;32m---> 15\u001b[0m     \u001b[39mif\u001b[39;00m col \u001b[39min\u001b[39;00m df_elif_comments\u001b[39m.\u001b[39mcolumns:\n\u001b[1;32m     16\u001b[0m         \u001b[39mdel\u001b[39;00m df_elif_comments[col]\n\u001b[1;32m     18\u001b[0m \u001b[39m# Convert dates\u001b[39;00m\n",
      "\u001b[0;31mNameError\u001b[0m: name 'df_elif_comments' is not defined"
     ]
    }
   ],
   "source": [
    "# Delete a few columns we wont need\n",
    "comment_cols_to_delete = [\n",
    "    'author', 'author_flair_css_class', 'author_flair_text', 'distinguished', 'edited', 'gilded',\n",
    "    'subreddit', 'subreddit_id', 'approved_at_utc',\t'can_mod_post',\t'collapsed', 'collapsed_reason',\n",
    "    'banned_at_utc', 'is_submitter', 'permalink', 'user_reports', 'banned_by', 'saved', 'report_reasons',\n",
    "    'approved_by', 'num_reports', 'created', 'mod_reports', 'body_html', 'stickied', 'author_cakeday', \n",
    "    'can_gild', 'subreddit_type\t', 'score_hidden', 'removal_reason', \n",
    "    #'replies', \n",
    "    'subreddit_type',\n",
    "    'controversiality', \n",
    "    #'likes'\n",
    "\n",
    "]\n",
    "for col in comment_cols_to_delete:\n",
    "    if col in df_elif_comments.columns:\n",
    "        del df_elif_comments[col]\n",
    "\n",
    "# Convert dates\n",
    "df_elif_comments['created_utc'] = pd.to_datetime(df_elif_comments['created_utc'], unit='s')\n",
    "df_elif_comments['retrieved_on'] = pd.to_datetime(df_elif_comments['retrieved_on'], unit='s')\n",
    "\n",
    "# Mark deleted comments\n",
    "df_elif_comments['deleted'] = df_elif_comments['body'].apply(lambda x: '[deleted]' in x or '[removed]' in x)\n",
    "\n",
    "df_elif_comments.head()"
   ]
  },
  {
   "cell_type": "code",
   "execution_count": 10,
   "metadata": {},
   "outputs": [
    {
     "name": "stdout",
     "output_type": "stream",
     "text": [
      "deleted\n",
      "  False    87.8243%\n",
      "  True     12.1758%\n",
      "archived\n",
      "  1.0    60.4798%\n",
      "  0.0    39.5202%\n",
      "Most upvoted submission: When you get a quarter you put it in the piggy bank. The piggy bank is on a shelf in your closet. Your mom knows this and she checks on it every once in a while, so she knows when you put more money in or spend it.   Now one day, you might decide \"I don't want mom to look at my money.\" So you go over to Johnny's house with an extra piggy bank that you're going to keep in his room. You write your name on it and put it in his closet. Johnny's mom is always very busy, so she never has time to check on his piggy bank. So you can keep yours there and it will stay a secret.  Now all the kids in the neighborhood think this is a good idea, and everyone goes to Johnny's house with extra piggy banks. Now Johnny's closet is full of piggy banks from everyone in the neighborhood.  One day, Johnny's mom comes home and sees all the piggy banks. She gets very mad and calls everyone's parents to let them know.  Now not everyone did this for a bad reason. Eric's older brother always steals from his piggy bank, so he just wanted a better hiding spot. Timmy wanted to save up to buy his mom a birthday present without her knowing. Sammy just did it because he thought it was fun. But many kids did do it for a bad reason. Jacob was stealing people's lunch money and didn't want his parents to figure it out. Michael was stealing money from his mom's purse. Fat Bobby's parents put him on a diet, and didn't want them to figure out when he was buying candy.  Now in real life, many very important people were just caught hiding their piggy banks at Johnny's house in Panama. Today their moms all found out. Pretty soon, we'll know more about which of these important people were doing it for bad reasons and which were doing it for good reasons. But almost everyone is in trouble regardless, because it's against the rules to keep secrets no matter what.\n",
      "Highest score submission: They aren't warning other grass.  The chemicals being released do a couple things.  They help heal the grass, help seal the grass so that it's a bit more resistant to dmg (doesn't do shit against a steel blade, but helps against a caterpillar).  And it can help to call certain bugs that feed on the bugs that feed on the grass.  Edit: Some grasses will also release certain chemicals that make their leaves taste awful to bugs.   Some grasses can also concentrate nutrients into their roots to better rebuild.  re-Edit: for information on the talking to other plants bit   https://ed.ted.com/lessons/can-plants-talk-to-each-other-richard-karban  The smell may also be a chemical warning to other grass to preemptively taste bad, but its far more likely that other grass is warned via the Wood Wide Web\n",
      "Max downvotes: 0.0\n"
     ]
    }
   ],
   "source": [
    "for col in ['deleted', 'archived']:\n",
    "    # Print value counts with indent\n",
    "    print(df_elif_comments[col].value_counts(normalize=True).apply(lambda x: f\"{round(x * 100, 4)}%\").to_string().replace('\\n', '\\n  '))\n",
    "\n",
    "print(f\"Most upvoted submission: {df_elif_comments.iloc[df_elif_comments.ups.idxmax()].to_dict()['body']}\".replace('\\n', ' '))\n",
    "print(f\"Highest score submission: {df_elif_comments.iloc[df_elif_comments.score.idxmax()].to_dict()['body']}\".replace('\\n', ' '))\n",
    "\n",
    "print(f'Max downvotes: {df_elif_comments.downs.max()}')"
   ]
  },
  {
   "cell_type": "code",
   "execution_count": 11,
   "metadata": {},
   "outputs": [
    {
     "data": {
      "image/png": "[encoded data removed]",
      "text/plain": [
       "<Figure size 900x400 with 6 Axes>"
      ]
     },
     "metadata": {},
     "output_type": "display_data"
    }
   ],
   "source": [
    "figsize=(9, 4)\n",
    "\n",
    "fig, axes = plt.subplots(nrows=2, ncols=3)\n",
    "\n",
    "axes[0, 0].set_title('created_utc')\n",
    "df_elif_comments.created_utc.hist(ax=axes[0, 0], xrot=45, figsize=figsize, xlabelsize=6)\n",
    "\n",
    "axes[0, 1].set_title('retrieved_on')\n",
    "df_elif_comments.retrieved_on.hist(ax=axes[0, 1], xrot=45, figsize=figsize, xlabelsize=6)\n",
    "\n",
    "axes[0, 2].set_title('comment char length')\n",
    "df_elif_comments.body.apply(len).hist(ax=axes[0, 2], bins=1000, figsize=figsize)\n",
    "\n",
    "axes[1, 0].set_title('score')\n",
    "df_elif_comments.score.hist(ax=axes[1, 0], bins=100, log=True, figsize=figsize)\n",
    "\n",
    "axes[1, 1].set_title('age at retrieval')\n",
    "(df_elif_comments['retrieved_on'] - df_elif_comments['created_utc']).dropna().apply(lambda x: x.days).hist(ax=axes[1, 1], bins=100, log=True, figsize=figsize)\n",
    "\n",
    "axes[1, 2].set_title('comment char length (truncated)')\n",
    "df_elif_comments.body.apply(lambda t: min(10000, len(t))).hist(ax=axes[1, 2], bins=1000, log=True, figsize=figsize)\n",
    "\n",
    "fig.tight_layout()"
   ]
  },
  {
   "cell_type": "code",
   "execution_count": 12,
   "metadata": {},
   "outputs": [],
   "source": [
    "# Let's create a dataset that shows the top-level comments per submission\n",
    "\n",
    "# We ignore the deleted comments \n",
    "df = df_elif_comments.query('deleted == False')\n",
    "\n",
    "# We keep only top-level comments\n",
    "df = df.query('parent_id == link_id')\n",
    "df['link_id'] = df['link_id'].apply(lambda x: x[3:])\n",
    "del df['parent_id']\n",
    "\n",
    "# Let's bring in the submission bodies and titles \n",
    "df = df.join(df_elif_submissions[['id', 'title', 'selftext', 'deleted']].set_index('id').add_prefix('submission_'), on='link_id')\n",
    "\n",
    "# We remove submissions that are deleted \n",
    "df = df.query('submission_deleted == False')\n",
    "del df['submission_deleted']\n",
    "\n",
    "# Now, let's sort by score within each submission\n",
    "df = df.sort_values(['link_id', 'score'], ascending=[True, False])\n",
    "\n",
    "# Now, we index by parent id and id to get the comments per post \n",
    "df = df.set_index(['link_id', 'id'])\n",
    "\n",
    "# We keep only submissions with more than 1 comment\n",
    "df = df.reset_index().groupby('link_id').filter(lambda x: len(x) > 1).set_index(['link_id', 'id'])"
   ]
  },
  {
   "cell_type": "code",
   "execution_count": 13,
   "metadata": {},
   "outputs": [
    {
     "data": {
      "text/plain": [
       "<Axes: >"
      ]
     },
     "execution_count": 13,
     "metadata": {},
     "output_type": "execute_result"
    },
    {
     "data": {
      "image/png": "[encoded data removed]",
      "text/plain": [
       "<Figure size 640x480 with 1 Axes>"
      ]
     },
     "metadata": {},
     "output_type": "display_data"
    }
   ],
   "source": [
    "# Now, let's understand how many comments per submission we have\n",
    "df.reset_index().groupby('link_id').count()['id'].hist(log=True, bins=100)"
   ]
  },
  {
   "cell_type": "code",
   "execution_count": 14,
   "metadata": {},
   "outputs": [
    {
     "name": "stdout",
     "output_type": "stream",
     "text": [
      "No submissions without comments: True\n"
     ]
    }
   ],
   "source": [
    "# Finally, let's assemble our dataset for training \n",
    "\n",
    "# Per submission, we create a list of comments that are dicts\n",
    "def group_to_dicts(group): \n",
    "    return group.to_dict(orient='records')\n",
    "\n",
    "df_final_comments = df.reset_index().groupby('link_id').apply(group_to_dicts)\n",
    "df_final_comments = pd.DataFrame({'comments': df_final_comments})\n",
    "\n",
    "df_final = df.reset_index()[['link_id', 'submission_title', 'submission_selftext']].drop_duplicates()\n",
    "df_final = df_final.set_index('link_id').join(df_final_comments, how='inner').reset_index()\n",
    "\n",
    "# As a sanity check, let's make sure every submission has comments\n",
    "print(f'No submissions without comments: {df_final[df_final.comments.apply(len) == 0].shape[0] == 0}')\n",
    "\n",
    "# Shuffle dataset\n",
    "df_final = df_final.sample(frac=1)"
   ]
  },
  {
   "cell_type": "code",
   "execution_count": 30,
   "metadata": {},
   "outputs": [],
   "source": [
    "df_final.to_json('/scratch1/jhoff/elif_full.jsonl', orient='records', lines=True)"
   ]
  },
  {
   "cell_type": "code",
   "execution_count": 15,
   "metadata": {},
   "outputs": [
    {
     "data": {
      "text/html": [
       "<div>\n",
       "<style scoped>\n",
       "    .dataframe tbody tr th:only-of-type {\n",
       "        vertical-align: middle;\n",
       "    }\n",
       "\n",
       "    .dataframe tbody tr th {\n",
       "        vertical-align: top;\n",
       "    }\n",
       "\n",
       "    .dataframe thead th {\n",
       "        text-align: right;\n",
       "    }\n",
       "</style>\n",
       "<table border=\"1\" class=\"dataframe\">\n",
       "  <thead>\n",
       "    <tr style=\"text-align: right;\">\n",
       "      <th></th>\n",
       "      <th>link_id</th>\n",
       "      <th>submission_title</th>\n",
       "      <th>submission_selftext</th>\n",
       "      <th>comments</th>\n",
       "    </tr>\n",
       "  </thead>\n",
       "  <tbody>\n",
       "    <tr>\n",
       "      <th>87714</th>\n",
       "      <td>1vk3xw</td>\n",
       "      <td>ELI5: Why was it that the whole of Europe (and...</td>\n",
       "      <td>I am British but I am curious to as why the wh...</td>\n",
       "      <td>[{'link_id': '1vk3xw', 'id': 'cet1dl7', 'creat...</td>\n",
       "    </tr>\n",
       "    <tr>\n",
       "      <th>276235</th>\n",
       "      <td>38eme9</td>\n",
       "      <td>ELI5: why do I see screen tearing on PC games ...</td>\n",
       "      <td>I've always assumed it's because consoles were...</td>\n",
       "      <td>[{'link_id': '38eme9', 'id': 'crufqgo', 'creat...</td>\n",
       "    </tr>\n",
       "    <tr>\n",
       "      <th>313300</th>\n",
       "      <td>3jsuiw</td>\n",
       "      <td>ELI5: How is it possible for a black hole to e...</td>\n",
       "      <td></td>\n",
       "      <td>[{'link_id': '3jsuiw', 'id': 'curza95', 'creat...</td>\n",
       "    </tr>\n",
       "    <tr>\n",
       "      <th>140183</th>\n",
       "      <td>289obc</td>\n",
       "      <td>ELI5: what's the difference between quick nap ...</td>\n",
       "      <td></td>\n",
       "      <td>[{'link_id': '289obc', 'id': 'ci8tdhy', 'creat...</td>\n",
       "    </tr>\n",
       "    <tr>\n",
       "      <th>282632</th>\n",
       "      <td>3agtii</td>\n",
       "      <td>ELI5:Why does anyone use condoms to prevent pr...</td>\n",
       "      <td></td>\n",
       "      <td>[{'link_id': '3agtii', 'id': 'cschz1y', 'creat...</td>\n",
       "    </tr>\n",
       "    <tr>\n",
       "      <th>332644</th>\n",
       "      <td>3szwff</td>\n",
       "      <td>ELI5:Why do all animals generally have their g...</td>\n",
       "      <td>Dogs, cats, ducks, bunnies, etc</td>\n",
       "      <td>[{'link_id': '3szwff', 'id': 'cx1wgat', 'creat...</td>\n",
       "    </tr>\n",
       "    <tr>\n",
       "      <th>45899</th>\n",
       "      <td>1lys5d</td>\n",
       "      <td>ELI5: Why are cars so expensive?</td>\n",
       "      <td>Well, they have a lot of electronics and mecha...</td>\n",
       "      <td>[{'link_id': '1lys5d', 'id': 'cc478yv', 'creat...</td>\n",
       "    </tr>\n",
       "    <tr>\n",
       "      <th>398016</th>\n",
       "      <td>5qe5pd</td>\n",
       "      <td>ELI5: Why do kernels of microwave popcorn pop ...</td>\n",
       "      <td></td>\n",
       "      <td>[{'link_id': '5qe5pd', 'id': 'dcyi9kk', 'creat...</td>\n",
       "    </tr>\n",
       "    <tr>\n",
       "      <th>201147</th>\n",
       "      <td>2nv8hy</td>\n",
       "      <td>ELI5: I'm 17 and have never had a nose bleed, ...</td>\n",
       "      <td></td>\n",
       "      <td>[{'link_id': '2nv8hy', 'id': 'cmh6e4q', 'creat...</td>\n",
       "    </tr>\n",
       "    <tr>\n",
       "      <th>379269</th>\n",
       "      <td>50aine</td>\n",
       "      <td>ELI5: What is an Ion?</td>\n",
       "      <td>I searched and I couldn't find an explanation ...</td>\n",
       "      <td>[{'link_id': '50aine', 'id': 'd731032', 'creat...</td>\n",
       "    </tr>\n",
       "  </tbody>\n",
       "</table>\n",
       "</div>"
      ],
      "text/plain": [
       "       link_id                                   submission_title   \n",
       "87714   1vk3xw  ELI5: Why was it that the whole of Europe (and...  \\\n",
       "276235  38eme9  ELI5: why do I see screen tearing on PC games ...   \n",
       "313300  3jsuiw  ELI5: How is it possible for a black hole to e...   \n",
       "140183  289obc  ELI5: what's the difference between quick nap ...   \n",
       "282632  3agtii  ELI5:Why does anyone use condoms to prevent pr...   \n",
       "332644  3szwff  ELI5:Why do all animals generally have their g...   \n",
       "45899   1lys5d                   ELI5: Why are cars so expensive?   \n",
       "398016  5qe5pd  ELI5: Why do kernels of microwave popcorn pop ...   \n",
       "201147  2nv8hy  ELI5: I'm 17 and have never had a nose bleed, ...   \n",
       "379269  50aine                              ELI5: What is an Ion?   \n",
       "\n",
       "                                      submission_selftext   \n",
       "87714   I am British but I am curious to as why the wh...  \\\n",
       "276235  I've always assumed it's because consoles were...   \n",
       "313300                                                      \n",
       "140183                                                      \n",
       "282632                                                      \n",
       "332644                    Dogs, cats, ducks, bunnies, etc   \n",
       "45899   Well, they have a lot of electronics and mecha...   \n",
       "398016                                                      \n",
       "201147                                                      \n",
       "379269  I searched and I couldn't find an explanation ...   \n",
       "\n",
       "                                                 comments  \n",
       "87714   [{'link_id': '1vk3xw', 'id': 'cet1dl7', 'creat...  \n",
       "276235  [{'link_id': '38eme9', 'id': 'crufqgo', 'creat...  \n",
       "313300  [{'link_id': '3jsuiw', 'id': 'curza95', 'creat...  \n",
       "140183  [{'link_id': '289obc', 'id': 'ci8tdhy', 'creat...  \n",
       "282632  [{'link_id': '3agtii', 'id': 'cschz1y', 'creat...  \n",
       "332644  [{'link_id': '3szwff', 'id': 'cx1wgat', 'creat...  \n",
       "45899   [{'link_id': '1lys5d', 'id': 'cc478yv', 'creat...  \n",
       "398016  [{'link_id': '5qe5pd', 'id': 'dcyi9kk', 'creat...  \n",
       "201147  [{'link_id': '2nv8hy', 'id': 'cmh6e4q', 'creat...  \n",
       "379269  [{'link_id': '50aine', 'id': 'd731032', 'creat...  "
      ]
     },
     "execution_count": 15,
     "metadata": {},
     "output_type": "execute_result"
    }
   ],
   "source": [
    "df_final.head(10)"
   ]
  },
  {
   "cell_type": "code",
   "execution_count": 52,
   "metadata": {},
   "outputs": [],
   "source": []
  },
  {
   "cell_type": "code",
   "execution_count": 65,
   "metadata": {},
   "outputs": [
    {
     "data": {
      "text/plain": [
       "{'link_id': '5nq8an',\n",
       " 'submission_title': 'ELI5: Why does water not always act as a lubricant?',\n",
       " 'submission_selftext': '',\n",
       " 'response_j': \"Water [has both *cohesion* -- wants to stick to itself -- and *adhesion* -- wants to stick to other things](https://water.usgs.gov/edu/adhesion.html). So, water is a fluid, and wants to stick to itself as a single object, which makes it somewhat slippery.\\n\\nBut, it also wants to stick to you, and anything else it touches, on a small scale,  It's how drops stick to the wall in the shower, and you can press something light and smooth against something else smooth with just a little water in between and it will stick.\\n\\nSo, on a large scale your tires can slip on a wet road because the water is forming a barrier between the tire and the road through cohesion, but on a small scale like rubbing skin together, the water is trying to stick and causes friction.\",\n",
       " 'response_k': 'Water \"always\" acts as a \"lubricant\", but it\\'s not a very _good_ lubricant.\\n\\nLubricants only work when there\\'s \"enough\" of the substance to isolate the passing objects from each other. Basically there has to be the two things. Enough lubricant to stick to, and move with, the two things, and enough extra lubricant to not-stick to the two layers of stuck lubricant.\\n\\nWater is a poor lubricant because it is very fond of getting out of the way. Air is an even worse lubricant because it can get out of the way even easier.\\n\\nBut even in normal circumstances \"better\" lubricants need to be forced back into position because all lubricants can be forced out of the way eventually. So your car has an \"oil pump\" to force the oil back into the all the parts of the engine. And your wheel bearings are \"packed\" with grease so that the grease has no place to go when the forces try to move it out of the way.\\n\\nMost conditions where you have encountered water there\\'s also been plenty of places for the lubricant layers to go away into.\\n\\nYour car tires are even designed with \"treads\" to pump the water away, or at least help it leave. On a smooth tire, like a racing slick, the water would have to get all the way to the edge of the tire to be released. Racing slicks _suck_ in the rain. But in a normal tire all those groves and whatnot mean that the water is rarely more than a couple centimeters away from an opportunity to flow freely.\\n\\nBut you can still \"hydroplane\" really easily by going \"too fast for the conditions\". The water on the road is more-or-less stationary. It\\'s an object at rest. Your heavy car comes along and _squeezes_ the execess water away. But that squeezing takes time. If you are moving \"too fast\" there isn\\'t enough time to let the water squeeze out and your tire \"loses contact with the road\". Basically it climbs up on top of the water and as it sinks to the pavement you force it to climb back up onto the next bit of water.\\n\\nNow because of the fact that water, like all matter, can not move instantly. It is actually the outstanding choice of lubricants for _some_ applications.\\n\\nAnd air is the perfect lubricant for playing \"air hockey\" on an air hocky table despite air being a really crappy lubricant... it leaves no mess and its easily available, so the game is good to go.\\n\\nSo too water, and indeed steam, are used to lubricate steam turbines in power plants. Water is a universal solvent and would break down any other lubricant, but we need the very high pressure, and very hot steam to spin the turbines very fast. So water or steam is constantly injected into the bearings of the turbines at very high pressure. Any water that enters the turbine is carried along with the steam harmlessly, and the hot water sprayed out just evaporates. But the pressure of continuous injection allows a \"hydrodynamic wedge\" (a hydroplane) to be formed and maintained between the spinning parts of the turbines and the stationary parts.\\n\\nSo water is actually a suckey lubricant for the uses you usually think of, but it\\'s good for some specific things, and it\\'s dangerous when you drive.\\n\\nNote that using the wrong lubricant is bad. Since the system depends on all five layers. The two things being lubricated, the two layers of lubricant stuck to those things, and the fifth layer that isn\\'t stuck to anything... if the lubricant is too thick the two stuck-to-it layers might become thick enough to touch each other and so eliminate that fifth layer.\\n\\nAnd a lubricant that\\'s too thin and runny can form stuck-on layers that are too thin. That can let the free layer build up in one spot and be squrited out of the another spot, again letting the two stuck-on layers to touch.\\n\\nThis is why motor oil has \"grades\". Like 10W30 and 5W40. The two numbers are the thin and thick limits. So your car has a list of what oils it can tollerate, and which ones are right for which weather conditions (because heating thins oil). Use oil that\\'s too thick and the system will bind up, use oil that\\'s too thin and it will all squirt out too fast and the parts with touch and burn.\\n\\nSo water, like all \"lubricants\", has the things it\\'s good for and the things it sucks for.\\n\\nFor more reading look up \"Newton\\'s laws of viscosity\" and \"Laminar Flow\" along with \"how do lubricants work\".'}"
      ]
     },
     "execution_count": 65,
     "metadata": {},
     "output_type": "execute_result"
    }
   ],
   "source": []
  },
  {
   "cell_type": "code",
   "execution_count": null,
   "metadata": {},
   "outputs": [],
   "source": [
    "#def read_jsonl(fname, max_rows=None):\n",
    "#    rows = []\n",
    "#    with jsonlines.open(fname) as reader:\n",
    "#        for obj in reader:\n",
    "#            rows.append(obj)\n",
    "#\n",
    "#            if max_rows is not None and len(rows) >= max_rows:\n",
    "#                break\n",
    "#\n",
    "#    return rows\n",
    "\n",
    "#elif_comments = read_jsonl(ELIF_COMMENTS, max_rows=1e5)\n",
    "#elif_submissions = read_jsonl(ELIF_SUBMISSIONS, max_rows=1e5)\n",
    "\n",
    "#get_keys = lambda x: sorted(list({k for r in x for k in r.keys()}))\n",
    "#print(f'Keys in submissions: {get_keys(elif_submissions)}')\n",
    "#print(f'Keys in comments: {get_keys(elif_comments)}' )\n",
    "\n",
    "#Keys in submissions: ['approved_by', 'author', 'author_flair_css_class', 'author_flair_text', 'banned_by', 'clicked', 'created', 'created_utc', 'distinguished', 'domain', 'downs', 'edited', 'gilded', 'hidden', 'id', 'is_self', 'likes', 'link_flair_css_class', 'link_flair_text', 'media', 'media_embed', 'mod_reports', 'name', 'num_comments', 'num_reports', 'over_18', 'permalink', 'report_reasons', 'retrieved_on', 'saved', 'score', 'secure_media', 'secure_media_embed', 'selftext', 'selftext_html', 'stickied', 'subreddit', 'subreddit_id', 'thumbnail', 'title', 'ups', 'url', 'user_reports']\n",
    "#Keys in comments: ['archived', 'author', 'author_flair_css_class', 'author_flair_text', 'body', 'controversiality', 'created_utc', 'distinguished', 'downs', 'edited', 'gilded', 'id', 'link_id', 'name', 'parent_id', 'retrieved_on', 'score', 'score_hidden', 'subreddit', 'subreddit_id', 'ups']\n",
    "\n",
    "# def get_submission(parent_id): \n",
    "#\n",
    "#     if not parent_id.startswith('t3_'):\n",
    "#         return\n",
    "#    \n",
    "#     submission_id = parent_id.replace('t3_', '')\n",
    "#\n",
    "#     result = filter(lambda row: row['id'] == submission_id, elif_submissions)\n",
    "#     result = next(result, None)\n",
    "#\n",
    "#     return result\n",
    "# \n",
    "# i = 4\n",
    "#print(elif_comments[i]['body'])\n",
    "#get_submission(elif_comments[i]['parent_id'])"
   ]
  },
  {
   "cell_type": "code",
   "execution_count": null,
   "metadata": {},
   "outputs": [],
   "source": []
  },
  {
   "cell_type": "code",
   "execution_count": null,
   "metadata": {},
   "outputs": [],
   "source": []
  }
 ],
 "metadata": {
  "kernelspec": {
   "display_name": "venv",
   "language": "python",
   "name": "python3"
  },
  "language_info": {
   "codemirror_mode": {
    "name": "ipython",
    "version": 3
   },
   "file_extension": ".py",
   "mimetype": "text/x-python",
   "name": "python",
   "nbconvert_exporter": "python",
   "pygments_lexer": "ipython3",
   "version": "3.10.6"
  },
  "orig_nbformat": 4
 },
 "nbformat": 4,
 "nbformat_minor": 2
}
