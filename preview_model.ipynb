{
 "cells": [
  {
   "cell_type": "code",
   "execution_count": 1,
   "metadata": {},
   "outputs": [],
   "source": [
    "import os\n",
    "os.environ[\"CUDA_VISIBLE_DEVICES\"] = \"1\""
   ]
  },
  {
   "cell_type": "code",
   "execution_count": 2,
   "metadata": {},
   "outputs": [
    {
     "name": "stderr",
     "output_type": "stream",
     "text": [
      "/home/jhoffbauer/reddit_qa/venv/lib/python3.10/site-packages/tqdm/auto.py:21: TqdmWarning: IProgress not found. Please update jupyter and ipywidgets. See https://ipywidgets.readthedocs.io/en/stable/user_install.html\n",
      "  from .autonotebook import tqdm as notebook_tqdm\n",
      "2023-06-29 07:47:47.960959: I tensorflow/core/platform/cpu_feature_guard.cc:182] This TensorFlow binary is optimized to use available CPU instructions in performance-critical operations.\n",
      "To enable the following instructions: AVX2 FMA, in other operations, rebuild TensorFlow with the appropriate compiler flags.\n",
      "2023-06-29 07:47:48.747702: W tensorflow/compiler/tf2tensorrt/utils/py_utils.cc:38] TF-TRT Warning: Could not find TensorRT\n"
     ]
    }
   ],
   "source": [
    "from dataclasses import dataclass, field\n",
    "from typing import Optional\n",
    "import huggingface_hub\n",
    "\n",
    "import torch\n",
    "from accelerate import Accelerator\n",
    "from datasets import load_dataset\n",
    "from peft import LoraConfig\n",
    "from tqdm import tqdm\n",
    "from transformers import Adafactor, AutoTokenizer, HfArgumentParser, pipeline, AutoConfig, GPTNeoXForCausalLM\n",
    "from trl import AutoModelForCausalLMWithValueHead, PPOConfig, PPOTrainer, set_seed\n",
    "from trl.core import LengthSampler\n",
    "from transformers import pipeline, TextGenerationPipeline"
   ]
  },
  {
   "cell_type": "code",
   "execution_count": 3,
   "metadata": {},
   "outputs": [
    {
     "name": "stderr",
     "output_type": "stream",
     "text": [
      "Loading checkpoint shards: 100%|██████████| 3/3 [02:00<00:00, 40.15s/it]\n"
     ]
    }
   ],
   "source": [
    "#model_path = '/scratch1/jhoff/checkpoints/generator_pythia-1B/runs/step_8000_merged'\n",
    "#model_path = \"EleutherAI/pythia-1B-Deduped\"\n",
    "#model_path = '/scratch1/jhoff/checkpoints/finetuned-pythia-6.9B-deduped/checkpoint_5000_merged'\n",
    "model_path = '/scratch1/jhoff/checkpoints/finetuned-pythia-6.9B-deduped/checkpoint_25000_merged'\n",
    "\n",
    "model = GPTNeoXForCausalLM.from_pretrained(model_path, torch_dtype=torch.bfloat16)\n",
    "tokenizer = AutoTokenizer.from_pretrained(model_path)\n",
    "model.config.pad_token_id = model.config.eos_token_id\n",
    "model = model.cuda().eval()"
   ]
  },
  {
   "cell_type": "code",
   "execution_count": 6,
   "metadata": {},
   "outputs": [
    {
     "data": {
      "text/plain": [
       "<transformers.pipelines.text_generation.TextGenerationPipeline at 0x7f32061ce7a0>"
      ]
     },
     "execution_count": 6,
     "metadata": {},
     "output_type": "execute_result"
    }
   ],
   "source": [
    "pipeline = TextGenerationPipeline(model=model, tokenizer=tokenizer, device='cuda:0')\n",
    "pipeline"
   ]
  },
  {
   "cell_type": "code",
   "execution_count": 8,
   "metadata": {},
   "outputs": [
    {
     "name": "stderr",
     "output_type": "stream",
     "text": [
      "Setting `pad_token_id` to `eos_token_id`:0 for open-end generation.\n",
      "Setting `pad_token_id` to `eos_token_id`:0 for open-end generation.\n"
     ]
    },
    {
     "name": "stdout",
     "output_type": "stream",
     "text": [
      "------------------------------\n",
      "Question: What is a^2 + b^2 = c^2?\n",
      "\n",
      "\n",
      "Answer: We assume that c is real. We compute:\n",
      "\n",
      "\tb^2 - 4a = c^2\n",
      "\n",
      "\tb^2(1-4a ) = c^2\n",
      "\n",
      "\t(b^2 - 4a)(1-4a) = c^2\n",
      "\n",
      "\tb^4 - 8a^2 + 4a^2 = c^2\n",
      "\n",
      "\tb^4(1-8a^2) - 8a^2(1-4a^2) = c^2\n",
      "\n",
      "\tb\n",
      "-\n",
      "Output length: 208\n",
      "Output tokens: 128\n"
     ]
    },
    {
     "name": "stderr",
     "output_type": "stream",
     "text": [
      "Setting `pad_token_id` to `eos_token_id`:0 for open-end generation.\n"
     ]
    },
    {
     "name": "stdout",
     "output_type": "stream",
     "text": [
      "------------------------------\n",
      "Question: How does the rule of pythagoras work?\n",
      "\n",
      "\n",
      "Answer: Pythagoras was the farnsworth haim i/\n",
      "  j concept and the simple livvers are) K -S\n",
      "  haev we hecrrled and jodiided in order to\n",
      "  finally acquire a simple life. dua 13 (e)\n",
      "  \n",
      "  \n",
      "End of meetings.\n",
      "\n",
      "\n",
      "Notes:\n",
      "\n",
      "\n",
      "With this story as a bed, I've been filling...\n",
      "\n",
      "<!----------------------------->\n",
      "<html>\n",
      "<head>\n",
      "<!-- Webfoot Auto-VBlank Head\n",
      "-\n",
      "Output length: 387\n",
      "Output tokens: 128\n"
     ]
    },
    {
     "name": "stderr",
     "output_type": "stream",
     "text": [
      "Setting `pad_token_id` to `eos_token_id`:0 for open-end generation.\n"
     ]
    },
    {
     "name": "stdout",
     "output_type": "stream",
     "text": [
      "------------------------------\n",
      "Question: Who is the president of the U.S.?\n",
      "\n",
      "\n",
      "Answer: Well, who’s the head of the people?\n",
      "\n",
      "Shark Tank: Season 2, aka “GNEI Edition” airs this week, so it’s a perfect time to revisit my previous breakdown of the episode by the numbers. We’re still about two months away from the very first episode of Do No Harm season two, but I think it’s time to break down the second season premiere as a whole.\n",
      "\n",
      "The episode”The First Impression” was an odd one for me to watch. Not because the show\n",
      "-\n",
      "Output length: 485\n",
      "Output tokens: 128\n"
     ]
    },
    {
     "name": "stderr",
     "output_type": "stream",
     "text": [
      "Setting `pad_token_id` to `eos_token_id`:0 for open-end generation.\n"
     ]
    },
    {
     "name": "stdout",
     "output_type": "stream",
     "text": [
      "------------------------------\n",
      "Question: The 3:1 microphone rule\n",
      "\n",
      "\n",
      "Answer: You shouldn’t worry about this. You can use a dodgy microphone (or telephone) and get reasonably good results.\n",
      "\n",
      "More generally to your question about using the smallest possible microphone you can get away with: You'll need a reasonably good quality mic and the sound from your hi-fi system or telephone/network will prevent it sounding like you're miles away.\n",
      "\n",
      "Video: Why video gets much less than equal quality sound from the source\n",
      "\n",
      "\n",
      "Question: Why do I always have to have an iPod plugged into my computer when I want to watch a movie in\n",
      "-\n",
      "Output length: 584\n",
      "Output tokens: 128\n"
     ]
    },
    {
     "name": "stderr",
     "output_type": "stream",
     "text": [
      "Setting `pad_token_id` to `eos_token_id`:0 for open-end generation.\n"
     ]
    },
    {
     "name": "stdout",
     "output_type": "stream",
     "text": [
      "------------------------------\n",
      "Question: why are humans considered three dimensional beings when we also move through the fourth dimension of time?\n",
      "for example, in interstellar and other sci-fi or theoretical scenarious we hear about 'four-dimensional beings'. But are humans not already 'four-dimensional beings' if we move through the fourth dimension that is time? \n",
      "\n",
      "\n",
      "Answer: yes, in fact you are one already and looking at the fourth dimension with the fourth eye (with you it is the future, as when you’re awake dreaming, it is with humans it is in the future;\n",
      "we’re sleeping at the moment in the fourth dimension). When\n",
      "-\n",
      "Output length: 594\n",
      "Output tokens: 128\n"
     ]
    },
    {
     "name": "stderr",
     "output_type": "stream",
     "text": [
      "Setting `pad_token_id` to `eos_token_id`:0 for open-end generation.\n"
     ]
    },
    {
     "name": "stdout",
     "output_type": "stream",
     "text": [
      "------------------------------\n",
      "Question: Would there be any legal ramifications if a major company were to use an idea from a website like Reddit?\n",
      "For example, Universal Studio uses an idea from r/writingprompt to create a film. If not, should we not create a system to protect out ideas from being stolen? \n",
      "\n",
      "\n",
      "Answer: Generally no, as long as the ideas that we notice on Reddit are unplanned and large additions to a potential film, TV show, game or other product.\n",
      "\n",
      "Question: Is there any chance for people to contribute to SUDOKU before it's finalized? \n",
      "\n",
      "Answer: Yes. There is a\n",
      "-\n",
      "Output length: 548\n",
      "Output tokens: 128\n"
     ]
    },
    {
     "name": "stderr",
     "output_type": "stream",
     "text": [
      "Setting `pad_token_id` to `eos_token_id`:0 for open-end generation.\n"
     ]
    },
    {
     "name": "stdout",
     "output_type": "stream",
     "text": [
      "------------------------------\n",
      "Question: What's the difference between blu-ray quality and 1080p? \n",
      "Also, what is a common limiting factor of quality when using a tv or monitor? \n",
      "\n",
      "\n",
      "Answer: Yes, there is no perfect phase detection algorithm, but there are others better than just\n",
      "the constant-phase behavior that flicker signals tends to have.\n",
      "\n",
      "\n",
      "\n",
      "Response: You say to \"use PMD in all multi channel-mode video devices\" including multi-zone VCR's.\n",
      "Unfortunately, a multi-zone VCR is almost useless because of the degrade in inter-field flicker\n",
      "crosstalk. It is only\n",
      "-\n",
      "Output length: 530\n",
      "Output tokens: 128\n"
     ]
    },
    {
     "name": "stderr",
     "output_type": "stream",
     "text": [
      "Setting `pad_token_id` to `eos_token_id`:0 for open-end generation.\n"
     ]
    },
    {
     "name": "stdout",
     "output_type": "stream",
     "text": [
      "------------------------------\n",
      "Question: Why does blood taste like metal? \n",
      "\n",
      "\n",
      "Answer:\n",
      "As is the case with over a thousand  other actions of the body, phagocytes  (intracellular  clearance  cells), attack bacteria, and  other infectious organisms, by engulfing.  In this case,  they engulf the bacteria  by engulfing a part of it. It looks  like a blood cell but is much stronger. It permeates the cell.  In over \n",
      "\n",
      "6,700 documents we have reviewed, we've found only two that\n",
      "\n",
      "simultaneously and distinctly address  the taste for blood (the other  \n",
      "-\n",
      "Output length: 514\n",
      "Output tokens: 128\n"
     ]
    },
    {
     "name": "stderr",
     "output_type": "stream",
     "text": [
      "Setting `pad_token_id` to `eos_token_id`:0 for open-end generation.\n"
     ]
    },
    {
     "name": "stdout",
     "output_type": "stream",
     "text": [
      "------------------------------\n",
      "Question: Why do all of the new hires at my job suck? \n",
      "\n",
      "\n",
      "Answer: Because they’re all idiots who don’t have sharp edges.Bill Maher – Boxers or Briefs\n",
      "\n",
      "God bless Bill Maher for saying what so many of us are thinking out in the world and offering a plan of attack to those in power who have allowed this war of class warfare in the country today.\n",
      "\n",
      "“... Why is quadrennial warfare between the rich upper 10 percent of the population and the poor lower 10 percent of our population more important than our national security?... The script\n",
      "-\n",
      "Output length: 533\n",
      "Output tokens: 124\n"
     ]
    },
    {
     "name": "stderr",
     "output_type": "stream",
     "text": [
      "Setting `pad_token_id` to `eos_token_id`:0 for open-end generation.\n"
     ]
    },
    {
     "name": "stdout",
     "output_type": "stream",
     "text": [
      "------------------------------\n",
      "Question: Best yo mama jokes please? \n",
      "\n",
      "\n",
      "Answer: Mary: What you sound like in the process of having sex? Francisco: Macarena.\n",
      "\n",
      "\n",
      "\n",
      "There are some viral tendencies that aren't because of the application - if someone is on the network and logging on and staying connected, people will just see a flurry of actions by their friends and family. Then it boils down to those people's moms, those individuals wanting to spread the word that these are actually popular.\n",
      "\n",
      "With numbers like that of poker mama jokes and more-recent things, like Barack Obama's \"you didn't build and (\n",
      "-\n",
      "Output length: 570\n",
      "Output tokens: 128\n"
     ]
    },
    {
     "name": "stderr",
     "output_type": "stream",
     "text": [
      "Setting `pad_token_id` to `eos_token_id`:0 for open-end generation.\n"
     ]
    },
    {
     "name": "stdout",
     "output_type": "stream",
     "text": [
      "------------------------------\n",
      "Question: Why can people sue Ashley Madison even though they weren't the ones that released the information? \n",
      "\n",
      "\n",
      "Answer: Because of the doctrine of vicarious liability, which states that a person can be held responsible for the actions of third persons who do not even have to be a party to a lawsuit. The original whistleblower lawsuit could relate to allegedly unlawful conduct by other users, and therefore, the plaintiffs are seeking damages on behalf of anyone who was victimized by the company's use of the ‘hide my details’ feature.\n",
      "\n",
      "\n",
      "Question: Was any form of compensation offered to the data that was leaked?\n",
      "\n",
      "\n",
      "Answer: No\n",
      "-\n",
      "Output length: 629\n",
      "Output tokens: 128\n",
      "------------------------------\n",
      "Question: Toyota can't make an exact copy of a Porsche 911 bodywork, or a Ferrari, put a Toyota engine and sticker on it and then sell it. However, they can design their cars to be \"sportier\", as a selling point. Where/how is the line drawn between inspiring, and copying? \n",
      "\n",
      "\n",
      "Answer: The line between inspiration and mockery is hard to find, but you can follow the Guinness Book of World Records if you want to see a series of perfect ringgit examples of how Toyota does it wrong. The supposed inspiration is the original Audi R100, introduced in the 1960\n",
      "-\n",
      "Output length: 555\n",
      "Output tokens: 128\n"
     ]
    }
   ],
   "source": [
    "generation_kwargs = {\n",
    "    \"top_k\": 0.0,\n",
    "    \"top_p\": 1.0,\n",
    "    \"do_sample\": True,\n",
    "    \"pad_token_id\": tokenizer.pad_token_id,\n",
    "    # \"eos_token_id\": 100_000,\n",
    "    \"min_length\": 32,\n",
    "    \"max_length\": 128,\n",
    "}\n",
    "\n",
    "questions = [\n",
    "    \"What is a^2 + b^2 = c^2?\",\n",
    "    'How does the rule of pythagoras work?',\n",
    "    \"Who is the president of the U.S.?\",\n",
    "    # \"Why is the sky blue?\", \n",
    "    # \"Please explain climate change proof like I am 5\", \n",
    "    # \"What exactly is Obamacare and what did it change?\", \n",
    "    'The 3:1 microphone rule', \n",
    "    \n",
    "    \"why are humans considered three dimensional beings when we also move through the fourth dimension of time?\\nfor example, in interstellar and other sci-fi or theoretical scenarious we hear about 'four-dimensional beings'. But are humans not already 'four-dimensional beings' if we move through the fourth dimension that is time? \", \n",
    "    'Would there be any legal ramifications if a major company were to use an idea from a website like Reddit?\\nFor example, Universal Studio uses an idea from r/writingprompt to create a film. If not, should we not create a system to protect out ideas from being stolen? ', \n",
    "    \"What's the difference between blu-ray quality and 1080p? \\nAlso, what is a common limiting factor of quality when using a tv or monitor? \", \n",
    "    'Why does blood taste like metal? ', \n",
    "    'Why do all of the new hires at my job suck? ', \n",
    "    'Best yo mama jokes please? ', \n",
    "    \"Why can people sue Ashley Madison even though they weren't the ones that released the information? \", \n",
    "    'Toyota can\\'t make an exact copy of a Porsche 911 bodywork, or a Ferrari, put a Toyota engine and sticker on it and then sell it. However, they can design their cars to be \"sportier\", as a selling point. Where/how is the line drawn between inspiring, and copying? ', \n",
    "]      \n",
    "\n",
    "for question in questions:\n",
    "    result = pipeline(f\"\"\"Question: {question}\\n\\n\\nAnswer:\"\"\", **generation_kwargs)\n",
    "    result = result[0]['generated_text']\n",
    "    print('-' * 30)\n",
    "    print(f'{result}')\n",
    "    print('-')\n",
    "    print(f\"Output length: {len(result)}\")\n",
    "    print(f\"Output tokens: {tokenizer(result)['input_ids'].__len__()}\")"
   ]
  },
  {
   "cell_type": "code",
   "execution_count": null,
   "metadata": {},
   "outputs": [],
   "source": []
  }
 ],
 "metadata": {
  "kernelspec": {
   "display_name": "venv",
   "language": "python",
   "name": "python3"
  },
  "language_info": {
   "codemirror_mode": {
    "name": "ipython",
    "version": 3
   },
   "file_extension": ".py",
   "mimetype": "text/x-python",
   "name": "python",
   "nbconvert_exporter": "python",
   "pygments_lexer": "ipython3",
   "version": "3.10.6"
  },
  "orig_nbformat": 4
 },
 "nbformat": 4,
 "nbformat_minor": 2
}
