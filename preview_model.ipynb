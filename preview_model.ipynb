{
 "cells": [
  {
   "cell_type": "code",
   "execution_count": 1,
   "metadata": {},
   "outputs": [
    {
     "name": "stdout",
     "output_type": "stream",
     "text": [
      "Collecting git+https://github.com/lvwerra/trl (from -r requirements.txt (line 11))\n",
      "  Cloning https://github.com/lvwerra/trl to /tmp/pip-req-build-o7d2vgd5\n",
      "  Running command git clone --filter=blob:none --quiet https://github.com/lvwerra/trl /tmp/pip-req-build-o7d2vgd5\n",
      "  Resolved https://github.com/lvwerra/trl to commit d1ad5405cb90cbfd8cfa252069104cf493787476\n",
      "  Preparing metadata (setup.py) ... \u001b[?25ldone\n",
      "\u001b[?25hRequirement already satisfied: pandas in ./venv/lib/python3.10/site-packages (from -r requirements.txt (line 1)) (2.0.1)\n",
      "Requirement already satisfied: jsonlines in ./venv/lib/python3.10/site-packages (from -r requirements.txt (line 2)) (3.1.0)\n",
      "Requirement already satisfied: matplotlib in ./venv/lib/python3.10/site-packages (from -r requirements.txt (line 3)) (3.7.1)\n",
      "Requirement already satisfied: dask in ./venv/lib/python3.10/site-packages (from -r requirements.txt (line 4)) (2023.5.1)\n",
      "Requirement already satisfied: scikit-learn in ./venv/lib/python3.10/site-packages (from -r requirements.txt (line 5)) (1.2.2)\n",
      "Requirement already satisfied: transformers in ./venv/lib/python3.10/site-packages (from -r requirements.txt (line 6)) (4.30.0.dev0)\n",
      "Requirement already satisfied: datasets in ./venv/lib/python3.10/site-packages (from -r requirements.txt (line 7)) (2.12.0)\n",
      "Requirement already satisfied: torch in ./venv/lib/python3.10/site-packages (from -r requirements.txt (line 8)) (2.0.1)\n",
      "Requirement already satisfied: accelerate in ./venv/lib/python3.10/site-packages (from -r requirements.txt (line 9)) (0.19.0)\n",
      "Requirement already satisfied: peft in ./venv/lib/python3.10/site-packages (from -r requirements.txt (line 10)) (0.3.0)\n",
      "Requirement already satisfied: bitsandbytes in ./venv/lib/python3.10/site-packages (from -r requirements.txt (line 12)) (0.39.0)\n",
      "Requirement already satisfied: evaluate in ./venv/lib/python3.10/site-packages (from -r requirements.txt (line 13)) (0.4.0)\n",
      "Collecting xformers (from -r requirements.txt (line 14))\n",
      "  Downloading xformers-0.0.20-cp310-cp310-manylinux2014_x86_64.whl (109.1 MB)\n",
      "\u001b[2K     \u001b[90m━━━━━━━━━━━━━━━━━━━━━━━━━━━━━━━━━━━━━━\u001b[0m \u001b[32m109.1/109.1 MB\u001b[0m \u001b[31m16.8 MB/s\u001b[0m eta \u001b[36m0:00:00\u001b[0m00:01\u001b[0m00:01\u001b[0m\n",
      "\u001b[?25hRequirement already satisfied: python-dateutil>=2.8.2 in ./venv/lib/python3.10/site-packages (from pandas->-r requirements.txt (line 1)) (2.8.2)\n",
      "Requirement already satisfied: pytz>=2020.1 in ./venv/lib/python3.10/site-packages (from pandas->-r requirements.txt (line 1)) (2023.3)\n",
      "Requirement already satisfied: tzdata>=2022.1 in ./venv/lib/python3.10/site-packages (from pandas->-r requirements.txt (line 1)) (2023.3)\n",
      "Requirement already satisfied: numpy>=1.21.0 in ./venv/lib/python3.10/site-packages (from pandas->-r requirements.txt (line 1)) (1.24.3)\n",
      "Requirement already satisfied: attrs>=19.2.0 in ./venv/lib/python3.10/site-packages (from jsonlines->-r requirements.txt (line 2)) (23.1.0)\n",
      "Requirement already satisfied: contourpy>=1.0.1 in ./venv/lib/python3.10/site-packages (from matplotlib->-r requirements.txt (line 3)) (1.0.7)\n",
      "Requirement already satisfied: cycler>=0.10 in ./venv/lib/python3.10/site-packages (from matplotlib->-r requirements.txt (line 3)) (0.11.0)\n",
      "Requirement already satisfied: fonttools>=4.22.0 in ./venv/lib/python3.10/site-packages (from matplotlib->-r requirements.txt (line 3)) (4.39.4)\n",
      "Requirement already satisfied: kiwisolver>=1.0.1 in ./venv/lib/python3.10/site-packages (from matplotlib->-r requirements.txt (line 3)) (1.4.4)\n",
      "Requirement already satisfied: packaging>=20.0 in ./venv/lib/python3.10/site-packages (from matplotlib->-r requirements.txt (line 3)) (23.1)\n",
      "Requirement already satisfied: pillow>=6.2.0 in ./venv/lib/python3.10/site-packages (from matplotlib->-r requirements.txt (line 3)) (9.5.0)\n",
      "Requirement already satisfied: pyparsing>=2.3.1 in ./venv/lib/python3.10/site-packages (from matplotlib->-r requirements.txt (line 3)) (3.0.9)\n",
      "Requirement already satisfied: click>=8.0 in ./venv/lib/python3.10/site-packages (from dask->-r requirements.txt (line 4)) (8.1.3)\n",
      "Requirement already satisfied: cloudpickle>=1.5.0 in ./venv/lib/python3.10/site-packages (from dask->-r requirements.txt (line 4)) (2.2.1)\n",
      "Requirement already satisfied: fsspec>=2021.09.0 in ./venv/lib/python3.10/site-packages (from dask->-r requirements.txt (line 4)) (2023.5.0)\n",
      "Requirement already satisfied: partd>=1.2.0 in ./venv/lib/python3.10/site-packages (from dask->-r requirements.txt (line 4)) (1.4.0)\n",
      "Requirement already satisfied: pyyaml>=5.3.1 in ./venv/lib/python3.10/site-packages (from dask->-r requirements.txt (line 4)) (6.0)\n",
      "Requirement already satisfied: toolz>=0.10.0 in ./venv/lib/python3.10/site-packages (from dask->-r requirements.txt (line 4)) (0.12.0)\n",
      "Requirement already satisfied: importlib-metadata>=4.13.0 in ./venv/lib/python3.10/site-packages (from dask->-r requirements.txt (line 4)) (6.6.0)\n",
      "Requirement already satisfied: scipy>=1.3.2 in ./venv/lib/python3.10/site-packages (from scikit-learn->-r requirements.txt (line 5)) (1.10.1)\n",
      "Requirement already satisfied: joblib>=1.1.1 in ./venv/lib/python3.10/site-packages (from scikit-learn->-r requirements.txt (line 5)) (1.2.0)\n",
      "Requirement already satisfied: threadpoolctl>=2.0.0 in ./venv/lib/python3.10/site-packages (from scikit-learn->-r requirements.txt (line 5)) (3.1.0)\n",
      "Requirement already satisfied: filelock in ./venv/lib/python3.10/site-packages (from transformers->-r requirements.txt (line 6)) (3.12.0)\n",
      "Requirement already satisfied: huggingface-hub<1.0,>=0.14.1 in ./venv/lib/python3.10/site-packages (from transformers->-r requirements.txt (line 6)) (0.14.1)\n",
      "Requirement already satisfied: regex!=2019.12.17 in ./venv/lib/python3.10/site-packages (from transformers->-r requirements.txt (line 6)) (2023.5.5)\n",
      "Requirement already satisfied: requests in ./venv/lib/python3.10/site-packages (from transformers->-r requirements.txt (line 6)) (2.31.0)\n",
      "Requirement already satisfied: tokenizers!=0.11.3,<0.14,>=0.11.1 in ./venv/lib/python3.10/site-packages (from transformers->-r requirements.txt (line 6)) (0.13.3)\n",
      "Requirement already satisfied: safetensors>=0.2.1 in ./venv/lib/python3.10/site-packages (from transformers->-r requirements.txt (line 6)) (0.3.1)\n",
      "Requirement already satisfied: tqdm>=4.27 in ./venv/lib/python3.10/site-packages (from transformers->-r requirements.txt (line 6)) (4.65.0)\n",
      "Requirement already satisfied: pyarrow>=8.0.0 in ./venv/lib/python3.10/site-packages (from datasets->-r requirements.txt (line 7)) (12.0.0)\n",
      "Requirement already satisfied: dill<0.3.7,>=0.3.0 in ./venv/lib/python3.10/site-packages (from datasets->-r requirements.txt (line 7)) (0.3.6)\n",
      "Requirement already satisfied: xxhash in ./venv/lib/python3.10/site-packages (from datasets->-r requirements.txt (line 7)) (3.2.0)\n",
      "Requirement already satisfied: multiprocess in ./venv/lib/python3.10/site-packages (from datasets->-r requirements.txt (line 7)) (0.70.14)\n",
      "Requirement already satisfied: aiohttp in ./venv/lib/python3.10/site-packages (from datasets->-r requirements.txt (line 7)) (3.8.4)\n",
      "Requirement already satisfied: responses<0.19 in ./venv/lib/python3.10/site-packages (from datasets->-r requirements.txt (line 7)) (0.18.0)\n",
      "Requirement already satisfied: typing-extensions in ./venv/lib/python3.10/site-packages (from torch->-r requirements.txt (line 8)) (4.6.2)\n",
      "Requirement already satisfied: sympy in ./venv/lib/python3.10/site-packages (from torch->-r requirements.txt (line 8)) (1.12)\n",
      "Requirement already satisfied: networkx in ./venv/lib/python3.10/site-packages (from torch->-r requirements.txt (line 8)) (3.1)\n",
      "Requirement already satisfied: jinja2 in ./venv/lib/python3.10/site-packages (from torch->-r requirements.txt (line 8)) (3.1.2)\n",
      "Requirement already satisfied: nvidia-cuda-nvrtc-cu11==11.7.99 in ./venv/lib/python3.10/site-packages (from torch->-r requirements.txt (line 8)) (11.7.99)\n",
      "Requirement already satisfied: nvidia-cuda-runtime-cu11==11.7.99 in ./venv/lib/python3.10/site-packages (from torch->-r requirements.txt (line 8)) (11.7.99)\n",
      "Requirement already satisfied: nvidia-cuda-cupti-cu11==11.7.101 in ./venv/lib/python3.10/site-packages (from torch->-r requirements.txt (line 8)) (11.7.101)\n",
      "Requirement already satisfied: nvidia-cudnn-cu11==8.5.0.96 in ./venv/lib/python3.10/site-packages (from torch->-r requirements.txt (line 8)) (8.5.0.96)\n",
      "Requirement already satisfied: nvidia-cublas-cu11==11.10.3.66 in ./venv/lib/python3.10/site-packages (from torch->-r requirements.txt (line 8)) (11.10.3.66)\n",
      "Requirement already satisfied: nvidia-cufft-cu11==10.9.0.58 in ./venv/lib/python3.10/site-packages (from torch->-r requirements.txt (line 8)) (10.9.0.58)\n",
      "Requirement already satisfied: nvidia-curand-cu11==10.2.10.91 in ./venv/lib/python3.10/site-packages (from torch->-r requirements.txt (line 8)) (10.2.10.91)\n",
      "Requirement already satisfied: nvidia-cusolver-cu11==11.4.0.1 in ./venv/lib/python3.10/site-packages (from torch->-r requirements.txt (line 8)) (11.4.0.1)\n",
      "Requirement already satisfied: nvidia-cusparse-cu11==11.7.4.91 in ./venv/lib/python3.10/site-packages (from torch->-r requirements.txt (line 8)) (11.7.4.91)\n",
      "Requirement already satisfied: nvidia-nccl-cu11==2.14.3 in ./venv/lib/python3.10/site-packages (from torch->-r requirements.txt (line 8)) (2.14.3)\n",
      "Requirement already satisfied: nvidia-nvtx-cu11==11.7.91 in ./venv/lib/python3.10/site-packages (from torch->-r requirements.txt (line 8)) (11.7.91)\n",
      "Requirement already satisfied: triton==2.0.0 in ./venv/lib/python3.10/site-packages (from torch->-r requirements.txt (line 8)) (2.0.0)\n",
      "Requirement already satisfied: setuptools in ./venv/lib/python3.10/site-packages (from nvidia-cublas-cu11==11.10.3.66->torch->-r requirements.txt (line 8)) (67.7.2)\n",
      "Requirement already satisfied: wheel in ./venv/lib/python3.10/site-packages (from nvidia-cublas-cu11==11.10.3.66->torch->-r requirements.txt (line 8)) (0.40.0)\n",
      "Requirement already satisfied: cmake in ./venv/lib/python3.10/site-packages (from triton==2.0.0->torch->-r requirements.txt (line 8)) (3.26.3)\n",
      "Requirement already satisfied: lit in ./venv/lib/python3.10/site-packages (from triton==2.0.0->torch->-r requirements.txt (line 8)) (16.0.5)\n",
      "Requirement already satisfied: psutil in ./venv/lib/python3.10/site-packages (from accelerate->-r requirements.txt (line 9)) (5.9.5)\n",
      "Collecting pyre-extensions==0.0.29 (from xformers->-r requirements.txt (line 14))\n",
      "  Downloading pyre_extensions-0.0.29-py3-none-any.whl (12 kB)\n",
      "Collecting typing-inspect (from pyre-extensions==0.0.29->xformers->-r requirements.txt (line 14))\n",
      "  Downloading typing_inspect-0.9.0-py3-none-any.whl (8.8 kB)\n",
      "Requirement already satisfied: charset-normalizer<4.0,>=2.0 in ./venv/lib/python3.10/site-packages (from aiohttp->datasets->-r requirements.txt (line 7)) (3.1.0)\n",
      "Requirement already satisfied: multidict<7.0,>=4.5 in ./venv/lib/python3.10/site-packages (from aiohttp->datasets->-r requirements.txt (line 7)) (6.0.4)\n",
      "Requirement already satisfied: async-timeout<5.0,>=4.0.0a3 in ./venv/lib/python3.10/site-packages (from aiohttp->datasets->-r requirements.txt (line 7)) (4.0.2)\n",
      "Requirement already satisfied: yarl<2.0,>=1.0 in ./venv/lib/python3.10/site-packages (from aiohttp->datasets->-r requirements.txt (line 7)) (1.9.2)\n",
      "Requirement already satisfied: frozenlist>=1.1.1 in ./venv/lib/python3.10/site-packages (from aiohttp->datasets->-r requirements.txt (line 7)) (1.3.3)\n",
      "Requirement already satisfied: aiosignal>=1.1.2 in ./venv/lib/python3.10/site-packages (from aiohttp->datasets->-r requirements.txt (line 7)) (1.3.1)\n",
      "Requirement already satisfied: zipp>=0.5 in ./venv/lib/python3.10/site-packages (from importlib-metadata>=4.13.0->dask->-r requirements.txt (line 4)) (3.15.0)\n",
      "Requirement already satisfied: locket in ./venv/lib/python3.10/site-packages (from partd>=1.2.0->dask->-r requirements.txt (line 4)) (1.0.0)\n",
      "Requirement already satisfied: six>=1.5 in ./venv/lib/python3.10/site-packages (from python-dateutil>=2.8.2->pandas->-r requirements.txt (line 1)) (1.16.0)\n",
      "Requirement already satisfied: idna<4,>=2.5 in ./venv/lib/python3.10/site-packages (from requests->transformers->-r requirements.txt (line 6)) (3.4)\n",
      "Requirement already satisfied: urllib3<3,>=1.21.1 in ./venv/lib/python3.10/site-packages (from requests->transformers->-r requirements.txt (line 6)) (2.0.2)\n",
      "Requirement already satisfied: certifi>=2017.4.17 in ./venv/lib/python3.10/site-packages (from requests->transformers->-r requirements.txt (line 6)) (2023.5.7)\n",
      "Requirement already satisfied: MarkupSafe>=2.0 in ./venv/lib/python3.10/site-packages (from jinja2->torch->-r requirements.txt (line 8)) (2.1.2)\n",
      "Requirement already satisfied: mpmath>=0.19 in ./venv/lib/python3.10/site-packages (from sympy->torch->-r requirements.txt (line 8)) (1.3.0)\n",
      "Collecting mypy-extensions>=0.3.0 (from typing-inspect->pyre-extensions==0.0.29->xformers->-r requirements.txt (line 14))\n",
      "  Downloading mypy_extensions-1.0.0-py3-none-any.whl (4.7 kB)\n",
      "Building wheels for collected packages: trl\n",
      "  Building wheel for trl (setup.py) ... \u001b[?25ldone\n",
      "\u001b[?25h  Created wheel for trl: filename=trl-0.4.5.dev0-py3-none-any.whl size=73028 sha256=e714cd830d94045b4d4c297e6e68da73b11c47a60c19ae1f4098c426b2cc59bf\n",
      "  Stored in directory: /tmp/pip-ephem-wheel-cache-0f0gyqa2/wheels/7d/37/11/b8a47d95fe8a75dba8309956a73f90f08273d67ee4e35d36aa\n",
      "Successfully built trl\n",
      "Installing collected packages: mypy-extensions, typing-inspect, pyre-extensions, xformers, trl\n",
      "  Attempting uninstall: trl\n",
      "    Found existing installation: trl 0.4.2.dev0\n",
      "    Uninstalling trl-0.4.2.dev0:\n",
      "      Successfully uninstalled trl-0.4.2.dev0\n",
      "Successfully installed mypy-extensions-1.0.0 pyre-extensions-0.0.29 trl-0.4.5.dev0 typing-inspect-0.9.0 xformers-0.0.20\n",
      "Note: you may need to restart the kernel to use updated packages.\n"
     ]
    }
   ],
   "source": [
    "%pip install -r requirements.txt"
   ]
  },
  {
   "cell_type": "code",
   "execution_count": 2,
   "metadata": {},
   "outputs": [],
   "source": [
    "import os\n",
    "os.environ[\"CUDA_VISIBLE_DEVICES\"] = \"0\""
   ]
  },
  {
   "cell_type": "code",
   "execution_count": 3,
   "metadata": {},
   "outputs": [
    {
     "name": "stderr",
     "output_type": "stream",
     "text": [
      "/home/jhoffbauer/reddit_qa/venv/lib/python3.10/site-packages/tqdm/auto.py:21: TqdmWarning: IProgress not found. Please update jupyter and ipywidgets. See https://ipywidgets.readthedocs.io/en/stable/user_install.html\n",
      "  from .autonotebook import tqdm as notebook_tqdm\n"
     ]
    },
    {
     "name": "stdout",
     "output_type": "stream",
     "text": [
      "\n",
      "===================================BUG REPORT===================================\n",
      "Welcome to bitsandbytes. For bug reports, please run\n",
      "\n",
      "python -m bitsandbytes\n",
      "\n",
      " and submit this information together with your error trace to: https://github.com/TimDettmers/bitsandbytes/issues\n",
      "================================================================================\n",
      "/home/jhoffbauer/reddit_qa/venv/lib/python3.10/site-packages/bitsandbytes/libbitsandbytes_cpu.so: undefined symbol: cadam32bit_grad_fp32\n",
      "CUDA_SETUP: WARNING! libcudart.so not found in any environmental path. Searching in backup paths...\n",
      "CUDA SETUP: Highest compute capability among GPUs detected: 8.6\n",
      "CUDA SETUP: Detected CUDA version 117\n",
      "CUDA SETUP: Loading binary /home/jhoffbauer/reddit_qa/venv/lib/python3.10/site-packages/bitsandbytes/libbitsandbytes_cpu.so...\n"
     ]
    },
    {
     "name": "stderr",
     "output_type": "stream",
     "text": [
      "/home/jhoffbauer/reddit_qa/venv/lib/python3.10/site-packages/bitsandbytes/cextension.py:34: UserWarning: The installed version of bitsandbytes was compiled without GPU support. 8-bit optimizers, 8-bit multiplication, and GPU quantization are unavailable.\n",
      "  warn(\"The installed version of bitsandbytes was compiled without GPU support. \"\n",
      "/home/jhoffbauer/reddit_qa/venv/lib/python3.10/site-packages/bitsandbytes/cuda_setup/main.py:147: UserWarning: WARNING: The following directories listed in your path were found to be non-existent: {PosixPath('vs/workbench/api/node/extensionHostProcess')}\n",
      "  warn(msg)\n",
      "/home/jhoffbauer/reddit_qa/venv/lib/python3.10/site-packages/bitsandbytes/cuda_setup/main.py:147: UserWarning: WARNING: The following directories listed in your path were found to be non-existent: {PosixPath('//matplotlib_inline.backend_inline'), PosixPath('module')}\n",
      "  warn(msg)\n",
      "/home/jhoffbauer/reddit_qa/venv/lib/python3.10/site-packages/bitsandbytes/cuda_setup/main.py:147: UserWarning: WARNING: The following directories listed in your path were found to be non-existent: {PosixPath('/usr/local/cuda/lib64')}\n",
      "  warn(msg)\n",
      "/home/jhoffbauer/reddit_qa/venv/lib/python3.10/site-packages/bitsandbytes/cuda_setup/main.py:147: UserWarning: WARNING: No libcudart.so found! Install CUDA or the cudatoolkit package (anaconda)!\n",
      "  warn(msg)\n"
     ]
    }
   ],
   "source": [
    "from dataclasses import dataclass, field\n",
    "from typing import Optional\n",
    "import huggingface_hub\n",
    "\n",
    "import torch\n",
    "from accelerate import Accelerator\n",
    "from datasets import load_dataset\n",
    "from peft import LoraConfig\n",
    "from tqdm import tqdm\n",
    "from transformers import Adafactor, AutoTokenizer, HfArgumentParser, pipeline, AutoConfig, GPTNeoXForCausalLM\n",
    "from trl import AutoModelForCausalLMWithValueHead, PPOConfig, PPOTrainer, set_seed\n",
    "from trl.core import LengthSampler\n",
    "from transformers import pipeline, TextGenerationPipeline"
   ]
  },
  {
   "cell_type": "code",
   "execution_count": 4,
   "metadata": {},
   "outputs": [],
   "source": [
    "#model_path = '/scratch1/jhoff/checkpoints/generator/runs/step_8000_merged'\n",
    "model_path = \"EleutherAI/pythia-2.8B-Deduped\"\n",
    "model = GPTNeoXForCausalLM.from_pretrained(model_path)\n",
    "tokenizer = AutoTokenizer.from_pretrained(model_path)\n",
    "model.config.pad_token_id = model.config.eos_token_id\n",
    "model = model.cuda().eval()"
   ]
  },
  {
   "cell_type": "code",
   "execution_count": 5,
   "metadata": {},
   "outputs": [
    {
     "data": {
      "text/plain": [
       "<transformers.pipelines.text_generation.TextGenerationPipeline at 0x7fc5d63b4580>"
      ]
     },
     "execution_count": 5,
     "metadata": {},
     "output_type": "execute_result"
    }
   ],
   "source": [
    "pipeline = TextGenerationPipeline(model=model, tokenizer=tokenizer, device=0)\n",
    "pipeline"
   ]
  },
  {
   "cell_type": "code",
   "execution_count": 11,
   "metadata": {},
   "outputs": [
    {
     "name": "stdout",
     "output_type": "stream",
     "text": [
      "--------\n",
      "Question: What is 1+1=?\n",
      "Answer: 2\n",
      "\n",
      "A:\n",
      "\n",
      "The answer is 2.\n",
      "The question is asking you to find the sum of the first two numbers in the sequence.\n",
      "The first number is 1, so the sum is 1+1 = 2.\n",
      "The second number is 2, so the sum of the second two numbers is 2+2 = 4.\n",
      "The answer is therefore 2.\n",
      "\n",
      "\n",
      "-\n",
      "Output length: 288\n",
      "Output tokens: 90\n",
      "--------\n",
      "Question: Who is the president of the U.S.?\n",
      "Answer: The president of the United States is the president of all the people of the United States.\n",
      "\n",
      "Question: Who is in charge of the United States?\n",
      "Answer: The United States is in charge of itself.\n",
      "\n",
      "Question : Who is the president?\n",
      "Answer: He is the president of himself.\n",
      "\n",
      "Question; Who is the president, the president of the United states?\n",
      "Answer: President of the United States of America.\n",
      "\n",
      "Question ; Who is the president?\n",
      "Answer: He has the power to make himself the president.\n",
      "\n",
      "\n",
      "-\n",
      "Output length: 529\n",
      "Output tokens: 127\n",
      "--------\n",
      "Question: Why is the sky blue?\n",
      "Answer: Because it is made of blue light.\n",
      "\n",
      "Question: Why is a tree green?\n",
      "Answer: It is made of green light.\n",
      "\n",
      "The sky is blue because it is made of light that is blue. The tree is green because it is made up of light that is green.\n",
      "\n",
      "Question 2: Why is the moon blue?\n",
      "Answer 2: Because it is a blue planet.\n",
      "\n",
      "Question 3: Why is the sun yellow?\n",
      "Answer 3: Because it is the sun.\n",
      "\n",
      "Question 4: Why is the earth green?\n",
      "Answer 4:\n",
      "-\n",
      "Output length: 452\n",
      "Output tokens: 128\n",
      "--------\n",
      "Question: Please explain climate change proof like I am 5\n",
      "Answer: The climate is changing, but it is not changing in a way that is harmful to humans.\n",
      "\n",
      "Question: Please explain the difference between a climate change denier and a climate change skeptic.\n",
      "Answer: A climate change denier is someone who denies that the climate is changing. A climate change skeptic is someone who believes that the climate is not changing.\n",
      "\n",
      "Question : What is the difference between a skeptic and a denier?\n",
      "Answer: A skeptic is someone who is skeptical of the idea that the climate is warming. A denier is someone whose opinion\n",
      "-\n",
      "Output length: 607\n",
      "Output tokens: 128\n",
      "--------\n",
      "Question: What exactly is Obamacare and what did it change?\n",
      "Answer: Obamacare is a health care reform law that was passed by the U.S. Congress in March 2010. It was signed into law by President Barack Obama on March 23, 2010.\n",
      "\n",
      "The law is called the Patient Protection and Affordable Care Act (PPACA). It is a major overhaul of the U.S health care system. It is the most significant change to the U.S healthcare system since the creation of Medicare and Medicaid in 1965.\n",
      "\n",
      "The PPACA is a major overhaul to the U. S. health care system. The law is called\n",
      "-\n",
      "Output length: 552\n",
      "Output tokens: 128\n"
     ]
    }
   ],
   "source": [
    "generation_kwargs = {\n",
    "    'max_length': 128,\n",
    "    #'top_k' : 50,\n",
    "    #'top_p': 0.85,\n",
    "    'no_repeat_ngram_size': 5,\n",
    "}\n",
    "\n",
    "questions = [\"What is 1+1=?\",\n",
    "             \"Who is the president of the U.S.?\",\n",
    "             \"Why is the sky blue?\", \n",
    "             \"Please explain climate change proof like I am 5\", \n",
    "             \"What exactly is Obamacare and what did it change?\"]\n",
    "\n",
    "for question in questions:\n",
    "    result = pipeline(f\"\"\"Question: {question}\\nAnswer:\"\"\", **generation_kwargs)\n",
    "    result = result[0]['generated_text']\n",
    "    print('-' * 8)\n",
    "    print(f'{result}')\n",
    "    print('-')\n",
    "    print(f\"Output length: {len(result)}\")\n",
    "    print(f\"Output tokens: {tokenizer(result)['input_ids'].__len__()}\")"
   ]
  },
  {
   "cell_type": "code",
   "execution_count": 7,
   "metadata": {},
   "outputs": [
    {
     "data": {
      "text/plain": [
       "GPTNeoXConfig {\n",
       "  \"_name_or_path\": \"EleutherAI/pythia-2.8B-Deduped\",\n",
       "  \"architectures\": [\n",
       "    \"GPTNeoXForCausalLM\"\n",
       "  ],\n",
       "  \"bos_token_id\": 0,\n",
       "  \"classifier_dropout\": 0.1,\n",
       "  \"eos_token_id\": 0,\n",
       "  \"hidden_act\": \"gelu\",\n",
       "  \"hidden_size\": 2560,\n",
       "  \"initializer_range\": 0.02,\n",
       "  \"intermediate_size\": 10240,\n",
       "  \"layer_norm_eps\": 1e-05,\n",
       "  \"max_position_embeddings\": 2048,\n",
       "  \"model_type\": \"gpt_neox\",\n",
       "  \"num_attention_heads\": 32,\n",
       "  \"num_hidden_layers\": 32,\n",
       "  \"pad_token_id\": 0,\n",
       "  \"rotary_emb_base\": 10000,\n",
       "  \"rotary_pct\": 0.25,\n",
       "  \"tie_word_embeddings\": false,\n",
       "  \"torch_dtype\": \"float16\",\n",
       "  \"transformers_version\": \"4.30.0.dev0\",\n",
       "  \"use_cache\": true,\n",
       "  \"use_parallel_residual\": true,\n",
       "  \"vocab_size\": 50304\n",
       "}"
      ]
     },
     "execution_count": 7,
     "metadata": {},
     "output_type": "execute_result"
    }
   ],
   "source": [
    "model.config"
   ]
  },
  {
   "cell_type": "code",
   "execution_count": null,
   "metadata": {},
   "outputs": [],
   "source": []
  }
 ],
 "metadata": {
  "kernelspec": {
   "display_name": "venv",
   "language": "python",
   "name": "python3"
  },
  "language_info": {
   "codemirror_mode": {
    "name": "ipython",
    "version": 3
   },
   "file_extension": ".py",
   "mimetype": "text/x-python",
   "name": "python",
   "nbconvert_exporter": "python",
   "pygments_lexer": "ipython3",
   "version": "3.10.6"
  },
  "orig_nbformat": 4
 },
 "nbformat": 4,
 "nbformat_minor": 2
}
