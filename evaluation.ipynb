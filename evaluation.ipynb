{
 "cells": [
  {
   "cell_type": "code",
   "execution_count": 9,
   "metadata": {},
   "outputs": [],
   "source": [
    "import os\n",
    "import pickle as pkl\n",
    "import pandas as pd"
   ]
  },
  {
   "cell_type": "code",
   "execution_count": 10,
   "metadata": {},
   "outputs": [
    {
     "data": {
      "text/plain": [
       "dict_keys(['gpt2', 'EleutherAI-pythia-6.9B-Deduped', 'EleutherAI-pythia-1.4B-Deduped', 'EleutherAI-pythia-2.8B-Deduped', 'EleutherAI-pythia-410M-Deduped', 'EleutherAI-pythia-160M-Deduped', 'EleutherAI-pythia-1B-Deduped'])"
      ]
     },
     "execution_count": 10,
     "metadata": {},
     "output_type": "execute_result"
    }
   ],
   "source": [
    "results_dir = \"eval_results\"\n",
    "\n",
    "results = {}\n",
    "for name in os.listdir(results_dir):\n",
    "    result = pkl.load(open(os.path.join(results_dir, name), \"rb\"))\n",
    "    name = name.split(\"-\")\n",
    "    name = name[1:-1]\n",
    "    name = \"-\".join(name)\n",
    "    results[name] = result\n",
    "\n",
    "results.keys()"
   ]
  },
  {
   "cell_type": "code",
   "execution_count": 12,
   "metadata": {},
   "outputs": [
    {
     "data": {
      "text/html": [
       "<div>\n",
       "<style scoped>\n",
       "    .dataframe tbody tr th:only-of-type {\n",
       "        vertical-align: middle;\n",
       "    }\n",
       "\n",
       "    .dataframe tbody tr th {\n",
       "        vertical-align: top;\n",
       "    }\n",
       "\n",
       "    .dataframe thead th {\n",
       "        text-align: right;\n",
       "    }\n",
       "</style>\n",
       "<table border=\"1\" class=\"dataframe\">\n",
       "  <thead>\n",
       "    <tr style=\"text-align: right;\">\n",
       "      <th></th>\n",
       "      <th>model</th>\n",
       "      <th>arc_easy</th>\n",
       "      <th>arc_challenge</th>\n",
       "      <th>boolq</th>\n",
       "      <th>hellaswag</th>\n",
       "      <th>openbookqa</th>\n",
       "      <th>winogrande</th>\n",
       "    </tr>\n",
       "  </thead>\n",
       "  <tbody>\n",
       "    <tr>\n",
       "      <th>0</th>\n",
       "      <td>gpt2</td>\n",
       "      <td>0.438131</td>\n",
       "      <td>0.190273</td>\n",
       "      <td>0.487156</td>\n",
       "      <td>0.289185</td>\n",
       "      <td>0.164</td>\n",
       "      <td>0.516180</td>\n",
       "    </tr>\n",
       "    <tr>\n",
       "      <th>1</th>\n",
       "      <td>EleutherAI-pythia-6.9B-Deduped</td>\n",
       "      <td>0.683923</td>\n",
       "      <td>0.331058</td>\n",
       "      <td>0.644954</td>\n",
       "      <td>0.496315</td>\n",
       "      <td>0.272</td>\n",
       "      <td>0.627466</td>\n",
       "    </tr>\n",
       "    <tr>\n",
       "      <th>2</th>\n",
       "      <td>EleutherAI-pythia-1.4B-Deduped</td>\n",
       "      <td>0.617003</td>\n",
       "      <td>0.274744</td>\n",
       "      <td>0.581957</td>\n",
       "      <td>0.418044</td>\n",
       "      <td>0.228</td>\n",
       "      <td>0.562747</td>\n",
       "    </tr>\n",
       "    <tr>\n",
       "      <th>3</th>\n",
       "      <td>EleutherAI-pythia-2.8B-Deduped</td>\n",
       "      <td>0.637205</td>\n",
       "      <td>0.300341</td>\n",
       "      <td>0.638838</td>\n",
       "      <td>0.453894</td>\n",
       "      <td>0.240</td>\n",
       "      <td>0.590371</td>\n",
       "    </tr>\n",
       "    <tr>\n",
       "      <th>4</th>\n",
       "      <td>EleutherAI-pythia-410M-Deduped</td>\n",
       "      <td>0.515993</td>\n",
       "      <td>0.200512</td>\n",
       "      <td>0.580734</td>\n",
       "      <td>0.344453</td>\n",
       "      <td>0.176</td>\n",
       "      <td>0.530387</td>\n",
       "    </tr>\n",
       "    <tr>\n",
       "      <th>5</th>\n",
       "      <td>EleutherAI-pythia-160M-Deduped</td>\n",
       "      <td>0.437710</td>\n",
       "      <td>0.196246</td>\n",
       "      <td>0.486850</td>\n",
       "      <td>0.289185</td>\n",
       "      <td>0.178</td>\n",
       "      <td>0.512234</td>\n",
       "    </tr>\n",
       "    <tr>\n",
       "      <th>6</th>\n",
       "      <td>EleutherAI-pythia-1B-Deduped</td>\n",
       "      <td>0.584175</td>\n",
       "      <td>0.244027</td>\n",
       "      <td>0.608869</td>\n",
       "      <td>0.389663</td>\n",
       "      <td>0.220</td>\n",
       "      <td>0.528808</td>\n",
       "    </tr>\n",
       "  </tbody>\n",
       "</table>\n",
       "</div>"
      ],
      "text/plain": [
       "                            model  arc_easy  arc_challenge     boolq   \n",
       "0                            gpt2  0.438131       0.190273  0.487156  \\\n",
       "1  EleutherAI-pythia-6.9B-Deduped  0.683923       0.331058  0.644954   \n",
       "2  EleutherAI-pythia-1.4B-Deduped  0.617003       0.274744  0.581957   \n",
       "3  EleutherAI-pythia-2.8B-Deduped  0.637205       0.300341  0.638838   \n",
       "4  EleutherAI-pythia-410M-Deduped  0.515993       0.200512  0.580734   \n",
       "5  EleutherAI-pythia-160M-Deduped  0.437710       0.196246  0.486850   \n",
       "6    EleutherAI-pythia-1B-Deduped  0.584175       0.244027  0.608869   \n",
       "\n",
       "   hellaswag  openbookqa  winogrande  \n",
       "0   0.289185       0.164    0.516180  \n",
       "1   0.496315       0.272    0.627466  \n",
       "2   0.418044       0.228    0.562747  \n",
       "3   0.453894       0.240    0.590371  \n",
       "4   0.344453       0.176    0.530387  \n",
       "5   0.289185       0.178    0.512234  \n",
       "6   0.389663       0.220    0.528808  "
      ]
     },
     "execution_count": 12,
     "metadata": {},
     "output_type": "execute_result"
    }
   ],
   "source": [
    "scores_df = []\n",
    "\n",
    "for model in results.keys():\n",
    "    scores = results[model]['results']\n",
    "    scores_row = {'model': model}\n",
    "    for task in scores.keys():\n",
    "        if 'acc' in scores[task]:\n",
    "            scores_row[task] = scores[task]['acc']\n",
    "    scores_df.append(scores_row)\n",
    "\n",
    "scores_df = pd.DataFrame(scores_df)\n",
    "scores_df\n"
   ]
  },
  {
   "cell_type": "code",
   "execution_count": null,
   "metadata": {},
   "outputs": [],
   "source": []
  }
 ],
 "metadata": {
  "kernelspec": {
   "display_name": "venv",
   "language": "python",
   "name": "python3"
  },
  "language_info": {
   "codemirror_mode": {
    "name": "ipython",
    "version": 3
   },
   "file_extension": ".py",
   "mimetype": "text/x-python",
   "name": "python",
   "nbconvert_exporter": "python",
   "pygments_lexer": "ipython3",
   "version": "3.10.6"
  },
  "orig_nbformat": 4
 },
 "nbformat": 4,
 "nbformat_minor": 2
}
