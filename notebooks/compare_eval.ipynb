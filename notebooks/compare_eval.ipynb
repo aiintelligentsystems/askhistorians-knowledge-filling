{
 "cells": [
  {
   "cell_type": "code",
   "execution_count": 6,
   "metadata": {},
   "outputs": [],
   "source": [
    "import json\n",
    "import numpy as np\n",
    "import pandas as pd\n",
    "\n",
    "with open('/scratch1/jhoff/bleu_eval_llama7b/eval_output_baseline.json') as f:\n",
    "    results_baseline = json.load(f)\n",
    "\n",
    "with open('/scratch1/jhoff/bleu_eval_llama7b/eval_output_trained.json') as f: \n",
    "    results_trained = json.load(f)\n",
    "\n",
    "baseline_bleu = np.mean(results_baseline['metrics']['bleu_bleu'])\n",
    "trained_bleu = np.mean(results_trained['metrics']['bleu_bleu'])\n",
    "baseline_rouge = np.mean(results_baseline['metrics']['rouge_rougeLsum'])\n",
    "trained_rouge = np.mean(results_trained['metrics']['rouge_rougeLsum'])\n",
    "baseline_bertscore_f1 = np.mean(results_baseline['metrics']['bertscore_f1'])\n",
    "trained_bertscore_f1 = np.mean(results_trained['metrics']['bertscore_f1'])"
   ]
  },
  {
   "cell_type": "code",
   "execution_count": 8,
   "metadata": {},
   "outputs": [
    {
     "data": {
      "text/html": [
       "<div>\n",
       "<style scoped>\n",
       "    .dataframe tbody tr th:only-of-type {\n",
       "        vertical-align: middle;\n",
       "    }\n",
       "\n",
       "    .dataframe tbody tr th {\n",
       "        vertical-align: top;\n",
       "    }\n",
       "\n",
       "    .dataframe thead th {\n",
       "        text-align: right;\n",
       "    }\n",
       "</style>\n",
       "<table border=\"1\" class=\"dataframe\">\n",
       "  <thead>\n",
       "    <tr style=\"text-align: right;\">\n",
       "      <th></th>\n",
       "      <th>BLEU</th>\n",
       "      <th>ROUGE-L</th>\n",
       "      <th>BERTScore F1</th>\n",
       "    </tr>\n",
       "  </thead>\n",
       "  <tbody>\n",
       "    <tr>\n",
       "      <th>Baseline</th>\n",
       "      <td>0.005562</td>\n",
       "      <td>0.121967</td>\n",
       "      <td>0.820897</td>\n",
       "    </tr>\n",
       "    <tr>\n",
       "      <th>Trained</th>\n",
       "      <td>0.006443</td>\n",
       "      <td>0.122707</td>\n",
       "      <td>0.820367</td>\n",
       "    </tr>\n",
       "  </tbody>\n",
       "</table>\n",
       "</div>"
      ],
      "text/plain": [
       "              BLEU   ROUGE-L  BERTScore F1\n",
       "Baseline  0.005562  0.121967      0.820897\n",
       "Trained   0.006443  0.122707      0.820367"
      ]
     },
     "execution_count": 8,
     "metadata": {},
     "output_type": "execute_result"
    }
   ],
   "source": [
    "pd.DataFrame({\n",
    "    'Baseline': [baseline_bleu, baseline_rouge, baseline_bertscore_f1],\n",
    "    'Trained': [trained_bleu, trained_rouge, trained_bertscore_f1]\n",
    "}, index=['BLEU', 'ROUGE-L', 'BERTScore F1']).T"
   ]
  },
  {
   "cell_type": "code",
   "execution_count": 2,
   "metadata": {},
   "outputs": [
    {
     "data": {
      "text/plain": [
       "-0.0008811800242785207"
      ]
     },
     "execution_count": 2,
     "metadata": {},
     "output_type": "execute_result"
    }
   ],
   "source": [
    "results_baseline['metrics']['bleu_bleu'] - results_trained['metrics']['bleu_bleu'] "
   ]
  },
  {
   "cell_type": "code",
   "execution_count": 3,
   "metadata": {},
   "outputs": [
    {
     "data": {
      "text/plain": [
       "-0.0007396783167840926"
      ]
     },
     "execution_count": 3,
     "metadata": {},
     "output_type": "execute_result"
    }
   ],
   "source": [
    "results_baseline['metrics']['rouge_rougeLsum'] - results_trained['metrics']['rouge_rougeLsum'] "
   ]
  },
  {
   "cell_type": "code",
   "execution_count": 4,
   "metadata": {},
   "outputs": [
    {
     "data": {
      "text/plain": [
       "0.0005295792818069689"
      ]
     },
     "execution_count": 4,
     "metadata": {},
     "output_type": "execute_result"
    }
   ],
   "source": [
    "baseline_bertscore_f1 - trained_bertscore_f1"
   ]
  },
  {
   "cell_type": "code",
   "execution_count": null,
   "metadata": {},
   "outputs": [],
   "source": []
  }
 ],
 "metadata": {
  "kernelspec": {
   "display_name": "Python 3 (ipykernel)",
   "language": "python",
   "name": "python3"
  },
  "language_info": {
   "codemirror_mode": {
    "name": "ipython",
    "version": 3
   },
   "file_extension": ".py",
   "mimetype": "text/x-python",
   "name": "python",
   "nbconvert_exporter": "python",
   "pygments_lexer": "ipython3",
   "version": "3.10.6"
  },
  "orig_nbformat": 4
 },
 "nbformat": 4,
 "nbformat_minor": 2
}
