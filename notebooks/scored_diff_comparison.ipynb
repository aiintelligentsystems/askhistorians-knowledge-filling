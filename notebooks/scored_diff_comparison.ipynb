{
 "cells": [
  {
   "cell_type": "code",
   "execution_count": 6,
   "metadata": {},
   "outputs": [],
   "source": [
    "from redditqa.data.loader import load_dataset"
   ]
  },
  {
   "cell_type": "code",
   "execution_count": 8,
   "metadata": {},
   "outputs": [
    {
     "name": "stderr",
     "output_type": "stream",
     "text": [
      "Saving the dataset (4/4 shards): 100%|██████████| 584432/584432 [00:01<00:00, 328393.91 examples/s]\n",
      "Map: 100%|██████████| 584432/584432 [01:27<00:00, 6671.34 examples/s]\n",
      "Map: 100%|██████████| 584432/584432 [03:49<00:00, 2542.37 examples/s]\n",
      "Map: 100%|██████████| 584432/584432 [02:43<00:00, 3582.88 examples/s]\n",
      "Filter: 100%|██████████| 584432/584432 [00:50<00:00, 11590.35 examples/s]\n",
      "Filter: 100%|██████████| 584432/584432 [00:50<00:00, 11612.03 examples/s]\n",
      "Filter: 100%|██████████| 584432/584432 [00:50<00:00, 11645.76 examples/s]\n",
      "Map: 100%|██████████| 409103/409103 [01:39<00:00, 4116.47 examples/s]\n",
      "Map: 100%|██████████| 87665/87665 [00:22<00:00, 3919.50 examples/s]\n",
      "Map: 100%|██████████| 87666/87666 [00:22<00:00, 3927.75 examples/s]\n",
      "Map: 100%|██████████| 409103/409103 [01:50<00:00, 3696.82 examples/s]\n",
      "Map: 100%|██████████| 87665/87665 [00:24<00:00, 3585.23 examples/s]\n",
      "Map: 100%|██████████| 87666/87666 [00:24<00:00, 3576.78 examples/s]\n",
      "Filter: 100%|██████████| 409103/409103 [00:34<00:00, 11797.00 examples/s]\n",
      "Filter: 100%|██████████| 87665/87665 [00:07<00:00, 11908.23 examples/s]\n",
      "Filter: 100%|██████████| 87666/87666 [00:07<00:00, 11795.36 examples/s]\n",
      "Filter: 100%|██████████| 281107/281107 [00:33<00:00, 8479.18 examples/s]\n",
      "Filter: 100%|██████████| 60039/60039 [00:07<00:00, 8530.03 examples/s]\n",
      "Filter: 100%|██████████| 60433/60433 [00:07<00:00, 8487.06 examples/s]\n",
      "Map: 100%|██████████| 26359/26359 [00:16<00:00, 1600.44 examples/s]\n",
      "Map: 100%|██████████| 5612/5612 [00:03<00:00, 1629.80 examples/s]\n",
      "Map: 100%|██████████| 5651/5651 [00:03<00:00, 1612.56 examples/s]\n",
      "Filter: 100%|██████████| 26359/26359 [00:07<00:00, 3611.91 examples/s]\n",
      "Filter: 100%|██████████| 5612/5612 [00:01<00:00, 3503.20 examples/s]\n",
      "Filter: 100%|██████████| 5651/5651 [00:01<00:00, 3806.63 examples/s]\n",
      "Map: 100%|██████████| 22541/22541 [00:10<00:00, 2160.26 examples/s]\n",
      "Map: 100%|██████████| 4802/4802 [00:02<00:00, 2200.74 examples/s]\n",
      "Map: 100%|██████████| 4818/4818 [00:02<00:00, 2219.51 examples/s]\n"
     ]
    },
    {
     "data": {
      "text/plain": [
       "DatasetDict({\n",
       "    train: Dataset({\n",
       "        features: ['text'],\n",
       "        num_rows: 22541\n",
       "    })\n",
       "    eval: Dataset({\n",
       "        features: ['text'],\n",
       "        num_rows: 4802\n",
       "    })\n",
       "    test: Dataset({\n",
       "        features: ['text'],\n",
       "        num_rows: 4818\n",
       "    })\n",
       "})"
      ]
     },
     "execution_count": 8,
     "metadata": {},
     "output_type": "execute_result"
    }
   ],
   "source": [
    "load_dataset(name=\"eli5\", task=\"sft\")"
   ]
  },
  {
   "cell_type": "code",
   "execution_count": 3,
   "metadata": {},
   "outputs": [
    {
     "data": {
      "text/plain": [
       "DatasetDict({\n",
       "    train: Dataset({\n",
       "        features: ['text'],\n",
       "        num_rows: 12086\n",
       "    })\n",
       "    eval: Dataset({\n",
       "        features: ['text'],\n",
       "        num_rows: 2640\n",
       "    })\n",
       "    test: Dataset({\n",
       "        features: ['text'],\n",
       "        num_rows: 2590\n",
       "    })\n",
       "})"
      ]
     },
     "execution_count": 3,
     "metadata": {},
     "output_type": "execute_result"
    }
   ],
   "source": [
    "load_dataset(name=\"askhistorians\", task=\"sft\")"
   ]
  },
  {
   "cell_type": "code",
   "execution_count": 5,
   "metadata": {},
   "outputs": [
    {
     "name": "stderr",
     "output_type": "stream",
     "text": [
      "Map: 100%|██████████| 48456/48456 [00:07<00:00, 6894.66 examples/s]\n",
      "Map: 100%|██████████| 10405/10405 [00:01<00:00, 6678.93 examples/s]\n",
      "Map: 100%|██████████| 10400/10400 [00:01<00:00, 6816.02 examples/s]\n"
     ]
    },
    {
     "data": {
      "text/plain": [
       "DatasetDict({\n",
       "    train: Dataset({\n",
       "        features: ['text'],\n",
       "        num_rows: 48456\n",
       "    })\n",
       "    eval: Dataset({\n",
       "        features: ['text'],\n",
       "        num_rows: 10405\n",
       "    })\n",
       "    test: Dataset({\n",
       "        features: ['text'],\n",
       "        num_rows: 10400\n",
       "    })\n",
       "})"
      ]
     },
     "execution_count": 5,
     "metadata": {},
     "output_type": "execute_result"
    }
   ],
   "source": [
    "load_dataset(name=\"askhistorians\", task=\"sft\", load_kwargs={\"yes_prob_quantile\": 0.0})"
   ]
  },
  {
   "cell_type": "code",
   "execution_count": 3,
   "metadata": {},
   "outputs": [
    {
     "name": "stderr",
     "output_type": "stream",
     "text": [
      "Filter:   0%|          | 0/69262 [00:00<?, ? examples/s]"
     ]
    },
    {
     "name": "stderr",
     "output_type": "stream",
     "text": [
      "Filter: 100%|██████████| 69262/69262 [00:05<00:00, 13140.82 examples/s]\n",
      "Map: 100%|██████████| 69261/69261 [00:10<00:00, 6581.14 examples/s]\n",
      "Filter: 100%|██████████| 69261/69261 [00:04<00:00, 14695.67 examples/s]\n",
      "Filter: 100%|██████████| 69261/69261 [00:04<00:00, 14943.09 examples/s]\n",
      "Filter: 100%|██████████| 69261/69261 [00:04<00:00, 15080.94 examples/s]\n",
      "Map: 100%|██████████| 48456/48456 [00:21<00:00, 2305.04 examples/s]\n",
      "Map: 100%|██████████| 10405/10405 [00:03<00:00, 3094.34 examples/s]\n",
      "Map: 100%|██████████| 10400/10400 [00:03<00:00, 2887.66 examples/s]\n",
      "Map: 100%|██████████| 129998/129998 [00:13<00:00, 9288.97 examples/s] \n",
      "Map: 100%|██████████| 28087/28087 [00:03<00:00, 9288.42 examples/s] \n",
      "Map: 100%|██████████| 28172/28172 [00:03<00:00, 9384.33 examples/s] \n"
     ]
    }
   ],
   "source": [
    "dataset_askhistorians = load_dataset(name=\"askhistorians\", task=\"dpo\", load_kwargs={\"yes_prob_quantile\": 0.0})"
   ]
  },
  {
   "cell_type": "code",
   "execution_count": 6,
   "metadata": {},
   "outputs": [
    {
     "data": {
      "text/plain": [
       "DatasetDict({\n",
       "    train: Dataset({\n",
       "        features: ['prompt', 'chosen', 'rejected', 'score_chosen', 'score_rejected'],\n",
       "        num_rows: 129998\n",
       "    })\n",
       "    eval: Dataset({\n",
       "        features: ['prompt', 'chosen', 'rejected', 'score_chosen', 'score_rejected'],\n",
       "        num_rows: 28087\n",
       "    })\n",
       "    test: Dataset({\n",
       "        features: ['prompt', 'chosen', 'rejected', 'score_chosen', 'score_rejected'],\n",
       "        num_rows: 28172\n",
       "    })\n",
       "})"
      ]
     },
     "execution_count": 6,
     "metadata": {},
     "output_type": "execute_result"
    }
   ],
   "source": [
    "dataset_askhistorians"
   ]
  },
  {
   "cell_type": "code",
   "execution_count": 7,
   "metadata": {},
   "outputs": [
    {
     "name": "stderr",
     "output_type": "stream",
     "text": [
      "Saving the dataset (4/4 shards): 100%|██████████| 584432/584432 [00:08<00:00, 64979.00 examples/s] \n"
     ]
    }
   ],
   "source": [
    "dataset_eli5 = load_dataset(name=\"eli5\", task=\"dpo\")"
   ]
  },
  {
   "cell_type": "code",
   "execution_count": 12,
   "metadata": {},
   "outputs": [],
   "source": [
    "dataset_eli5 = dataset_eli5.rename_column(\"score_choosen\", \"score_chosen\")"
   ]
  },
  {
   "cell_type": "code",
   "execution_count": 9,
   "metadata": {},
   "outputs": [],
   "source": [
    "import pandas as pd"
   ]
  },
  {
   "cell_type": "code",
   "execution_count": 13,
   "metadata": {},
   "outputs": [
    {
     "name": "stderr",
     "output_type": "stream",
     "text": [
      "Map: 100%|██████████| 129998/129998 [00:08<00:00, 15600.85 examples/s]\n",
      "Map: 100%|██████████| 28087/28087 [00:01<00:00, 15135.73 examples/s]\n",
      "Map: 100%|██████████| 28172/28172 [00:01<00:00, 15602.41 examples/s]\n",
      "Map: 100%|██████████| 213757/213757 [00:12<00:00, 17594.03 examples/s]\n",
      "Map: 100%|██████████| 45320/45320 [00:02<00:00, 17858.67 examples/s]\n",
      "Map: 100%|██████████| 45660/45660 [00:02<00:00, 18664.59 examples/s]\n"
     ]
    },
    {
     "data": {
      "text/plain": [
       "(DatasetDict({\n",
       "     train: Dataset({\n",
       "         features: ['prompt', 'chosen', 'rejected', 'score_chosen', 'score_rejected', 'score_diff'],\n",
       "         num_rows: 129998\n",
       "     })\n",
       "     eval: Dataset({\n",
       "         features: ['prompt', 'chosen', 'rejected', 'score_chosen', 'score_rejected', 'score_diff'],\n",
       "         num_rows: 28087\n",
       "     })\n",
       "     test: Dataset({\n",
       "         features: ['prompt', 'chosen', 'rejected', 'score_chosen', 'score_rejected', 'score_diff'],\n",
       "         num_rows: 28172\n",
       "     })\n",
       " }),\n",
       " DatasetDict({\n",
       "     train: Dataset({\n",
       "         features: ['prompt', 'chosen', 'rejected', 'score_chosen', 'score_rejected', 'score_diff'],\n",
       "         num_rows: 213757\n",
       "     })\n",
       "     eval: Dataset({\n",
       "         features: ['prompt', 'chosen', 'rejected', 'score_chosen', 'score_rejected', 'score_diff'],\n",
       "         num_rows: 45320\n",
       "     })\n",
       "     test: Dataset({\n",
       "         features: ['prompt', 'chosen', 'rejected', 'score_chosen', 'score_rejected', 'score_diff'],\n",
       "         num_rows: 45660\n",
       "     })\n",
       " }))"
      ]
     },
     "execution_count": 13,
     "metadata": {},
     "output_type": "execute_result"
    }
   ],
   "source": [
    "def score_diff(row):\n",
    "    return {\"score_diff\": abs(row[\"score_chosen\"] - row[\"score_rejected\"])}\n",
    "\n",
    "dataset_askhistorians = dataset_askhistorians.map(score_diff)\n",
    "dataset_eli5 = dataset_eli5.map(score_diff)\n",
    "\n",
    "dataset_askhistorians, dataset_eli5"
   ]
  },
  {
   "cell_type": "code",
   "execution_count": 14,
   "metadata": {},
   "outputs": [],
   "source": [
    "series_askhistorians = pd.Series(dataset_askhistorians[\"train\"][\"score_diff\"])\n",
    "series_eli5 = pd.Series(dataset_eli5[\"train\"][\"score_diff\"])"
   ]
  },
  {
   "cell_type": "code",
   "execution_count": 15,
   "metadata": {},
   "outputs": [
    {
     "data": {
      "text/plain": [
       "<Axes: >"
      ]
     },
     "execution_count": 15,
     "metadata": {},
     "output_type": "execute_result"
    },
    {
     "data": {
      "image/png": "[encoded data removed]",
      "text/plain": [
       "<Figure size 640x480 with 1 Axes>"
      ]
     },
     "metadata": {},
     "output_type": "display_data"
    }
   ],
   "source": [
    "series_askhistorians.hist(bins=100, log=True)"
   ]
  },
  {
   "cell_type": "code",
   "execution_count": 16,
   "metadata": {},
   "outputs": [
    {
     "data": {
      "text/plain": [
       "<Axes: >"
      ]
     },
     "execution_count": 16,
     "metadata": {},
     "output_type": "execute_result"
    },
    {
     "data": {
      "image/png": "[encoded data removed]",
      "text/plain": [
       "<Figure size 640x480 with 1 Axes>"
      ]
     },
     "metadata": {},
     "output_type": "display_data"
    }
   ],
   "source": [
    "series_eli5.hist(bins=100, log=True)"
   ]
  },
  {
   "cell_type": "code",
   "execution_count": 17,
   "metadata": {},
   "outputs": [
    {
     "data": {
      "text/plain": [
       "0.3962911156125881"
      ]
     },
     "execution_count": 17,
     "metadata": {},
     "output_type": "execute_result"
    }
   ],
   "source": [
    "pct_kept_eli5 = (series_eli5 > 10).sum() / len(series_eli5)\n",
    "pct_kept_eli5"
   ]
  },
  {
   "cell_type": "code",
   "execution_count": 18,
   "metadata": {},
   "outputs": [
    {
     "data": {
      "text/plain": [
       "0.100000     1.000000\n",
       "0.200000     2.000000\n",
       "0.300000     3.000000\n",
       "0.400000     4.000000\n",
       "0.500000     7.000000\n",
       "0.600000    10.000000\n",
       "0.700000    17.000000\n",
       "0.800000    29.000000\n",
       "0.900000    63.000000\n",
       "0.603709    10.396291\n",
       "dtype: float64"
      ]
     },
     "execution_count": 18,
     "metadata": {},
     "output_type": "execute_result"
    }
   ],
   "source": [
    "series_eli5.quantile([0.1, 0.2, 0.3, 0.4, 0.5, 0.6, 0.7, 0.8, 0.9, 1-pct_kept_eli5])"
   ]
  },
  {
   "cell_type": "code",
   "execution_count": 19,
   "metadata": {},
   "outputs": [
    {
     "data": {
      "text/plain": [
       "0.100000      1.0\n",
       "0.200000      2.0\n",
       "0.300000      4.0\n",
       "0.400000      6.0\n",
       "0.500000      9.0\n",
       "0.600000     13.0\n",
       "0.700000     20.0\n",
       "0.800000     39.0\n",
       "0.900000    111.0\n",
       "0.603709     13.0\n",
       "dtype: float64"
      ]
     },
     "execution_count": 19,
     "metadata": {},
     "output_type": "execute_result"
    }
   ],
   "source": [
    "series_askhistorians.quantile([0.1, 0.2, 0.3, 0.4, 0.5, 0.6, 0.7, 0.8, 0.9, 1-pct_kept_eli5])"
   ]
  },
  {
   "cell_type": "code",
   "execution_count": 20,
   "metadata": {},
   "outputs": [
    {
     "name": "stderr",
     "output_type": "stream",
     "text": [
      "Map: 100%|██████████| 12086/12086 [00:02<00:00, 5565.63 examples/s]\n",
      "Map: 100%|██████████| 2640/2640 [00:00<00:00, 5883.48 examples/s]\n",
      "Map: 100%|██████████| 2590/2590 [00:00<00:00, 5692.93 examples/s]\n",
      "Map: 100%|██████████| 13429/13429 [00:01<00:00, 9016.73 examples/s] \n",
      "Map: 100%|██████████| 2863/2863 [00:00<00:00, 9893.02 examples/s] \n",
      "Map: 100%|██████████| 2979/2979 [00:00<00:00, 9376.62 examples/s] \n"
     ]
    },
    {
     "data": {
      "text/plain": [
       "DatasetDict({\n",
       "    train: Dataset({\n",
       "        features: ['prompt', 'chosen', 'rejected', 'score_chosen', 'score_rejected'],\n",
       "        num_rows: 13429\n",
       "    })\n",
       "    eval: Dataset({\n",
       "        features: ['prompt', 'chosen', 'rejected', 'score_chosen', 'score_rejected'],\n",
       "        num_rows: 2863\n",
       "    })\n",
       "    test: Dataset({\n",
       "        features: ['prompt', 'chosen', 'rejected', 'score_chosen', 'score_rejected'],\n",
       "        num_rows: 2979\n",
       "    })\n",
       "})"
      ]
     },
     "execution_count": 20,
     "metadata": {},
     "output_type": "execute_result"
    }
   ],
   "source": [
    "dataset_askhistorians = load_dataset(name=\"askhistorians\", task=\"dpo\", score_margin=13)\n",
    "dataset_askhistorians"
   ]
  },
  {
   "cell_type": "code",
   "execution_count": 23,
   "metadata": {},
   "outputs": [
    {
     "data": {
      "text/plain": [
       "4740"
      ]
     },
     "execution_count": 23,
     "metadata": {},
     "output_type": "execute_result"
    }
   ],
   "source": [
    "len(set(load_dataset(name=\"askhistorians\", task=\"dpo\", score_margin=13)[\"train\"][\"prompt\"]))"
   ]
  },
  {
   "cell_type": "code",
   "execution_count": 39,
   "metadata": {},
   "outputs": [
    {
     "data": {
      "text/plain": [
       "<module 'redditqa.data.continuous_learning' from '/workspaces/reddit_qa/redditqa/data/continuous_learning/__init__.py'>"
      ]
     },
     "execution_count": 39,
     "metadata": {},
     "output_type": "execute_result"
    }
   ],
   "source": [
    "from redditqa.data import continuous_learning\n",
    "from transformers import AutoTokenizer\n",
    "import importlib\n",
    "importlib.reload(continuous_learning)"
   ]
  },
  {
   "cell_type": "code",
   "execution_count": 32,
   "metadata": {},
   "outputs": [
    {
     "name": "stdout",
     "output_type": "stream",
     "text": [
      "DatasetDict({\n",
      "    train: Dataset({\n",
      "        features: ['text'],\n",
      "        num_rows: 12086\n",
      "    })\n",
      "    eval: Dataset({\n",
      "        features: ['text'],\n",
      "        num_rows: 2640\n",
      "    })\n",
      "    test: Dataset({\n",
      "        features: ['text'],\n",
      "        num_rows: 2590\n",
      "    })\n",
      "})\n"
     ]
    },
    {
     "data": {
      "text/plain": [
       "DatasetDict({\n",
       "    train: Dataset({\n",
       "        features: ['text'],\n",
       "        num_rows: 13086\n",
       "    })\n",
       "    eval: Dataset({\n",
       "        features: ['text'],\n",
       "        num_rows: 3640\n",
       "    })\n",
       "    test: Dataset({\n",
       "        features: ['text'],\n",
       "        num_rows: 2590\n",
       "    })\n",
       "})"
      ]
     },
     "execution_count": 32,
     "metadata": {},
     "output_type": "execute_result"
    }
   ],
   "source": [
    "dataset = load_dataset(name=\"askhistorians\", task=\"sft\")\n",
    "print(dataset)\n",
    "dataset = continuous_learning.add_continuous_learning_dataset(\n",
    "    dataset,\n",
    "    task=\"sft\",\n",
    "    subset=1000,\n",
    "    tokenizer=AutoTokenizer.from_pretrained(\"HuggingFaceH4/zephyr-7b-beta\"),\n",
    ")\n",
    "dataset"
   ]
  },
  {
   "cell_type": "code",
   "execution_count": 42,
   "metadata": {},
   "outputs": [
    {
     "name": "stdout",
     "output_type": "stream",
     "text": [
      "DatasetDict({\n",
      "    train: Dataset({\n",
      "        features: ['prompt', 'chosen', 'rejected', 'score_choosen', 'score_rejected'],\n",
      "        num_rows: 29622\n",
      "    })\n",
      "    eval: Dataset({\n",
      "        features: ['prompt', 'chosen', 'rejected', 'score_choosen', 'score_rejected'],\n",
      "        num_rows: 6482\n",
      "    })\n",
      "    test: Dataset({\n",
      "        features: ['prompt', 'chosen', 'rejected', 'score_choosen', 'score_rejected'],\n",
      "        num_rows: 6458\n",
      "    })\n",
      "})\n"
     ]
    },
    {
     "data": {
      "text/plain": [
       "DatasetDict({\n",
       "    train: Dataset({\n",
       "        features: ['prompt', 'chosen', 'rejected', 'score_choosen', 'score_rejected'],\n",
       "        num_rows: 30622\n",
       "    })\n",
       "    eval: Dataset({\n",
       "        features: ['prompt', 'chosen', 'rejected', 'score_choosen', 'score_rejected'],\n",
       "        num_rows: 7482\n",
       "    })\n",
       "    test: Dataset({\n",
       "        features: ['prompt', 'chosen', 'rejected', 'score_choosen', 'score_rejected'],\n",
       "        num_rows: 6458\n",
       "    })\n",
       "})"
      ]
     },
     "execution_count": 42,
     "metadata": {},
     "output_type": "execute_result"
    }
   ],
   "source": [
    "dataset = load_dataset(name=\"askhistorians\", task=\"dpo\")\n",
    "print(dataset)\n",
    "dataset = continuous_learning.add_continuous_learning_dataset(\n",
    "    dataset,\n",
    "    task=\"dpo\",\n",
    "    subset=1000,\n",
    "    tokenizer=AutoTokenizer.from_pretrained(\"HuggingFaceH4/zephyr-7b-beta\"),\n",
    ")\n",
    "dataset"
   ]
  },
  {
   "cell_type": "code",
   "execution_count": 41,
   "metadata": {},
   "outputs": [
    {
     "data": {
      "text/plain": [
       "{'prompt': \"<|REDDITQA|> Question: What were the lasting positive effects of Napoleon's conquests?\\nAnswer: \",\n",
       " 'chosen': 'When Napoleon conquered a new nation, he would often impose several of the principles of the French Revolution. These included Democracy, due process in courts, equality for all men, and civil law. \\n\\nFollowing the Napoleonic Wars, Monarchs found it difficult to go back to older types of Absolute Monarchy and many became Enlightened Absolutists (Where religious freedom, freedom of speech and the press, and the right to hold private property were granted but the King was still absolute). Many colonial empires such as Spain and Portugal had difficulty in maintain their overseas colonies and following the Napoleonic Wars many of their colonies began to seek independence (ex. Brazil, Mexico, Argentina, etc.)\\n\\nNapoleon also created several new nations that had spent decades under oppression from distant monarchs (Italy, Poland, Confederation of the Rhine (mainly Germany), etc.). This saw the rise of Nationalism which promoted the rapid industrialization and that occurred in Europe from the mid 1800s and into the early 1900s.\\n\\nLastly, Napoleon had been (until then) the most recent \"Conqueror of Europe\". Nobody had ever conquered so much of Europe since the Roman and Frankish Empires. His unification of Europe and standardization across his Empire later emerged in the modern day European Union and it\\'s predecessors.',\n",
       " 'rejected': 'I would go out on a limb and point out to the Napoleonic code, and civil law in general. \\n\\nThis might be lost to British and American Redditors since common law applies to you (in the united states with the neat addition of a constitution may I say) but the efects on the wider planet are pretty relevant. \\n\\nWith out a doubt civil law countries far outnumber not only in nation states but in populations those who follow either Common law systems, or Socialist law (basically, China). \\n\\nAnd even then China is many times grouped in the civil law crowd. Now Napoleon didnt invent Civil law, which actually comes initially from the romans, albeit with very extended comentary by Glossators, but he ordered it´s codifiaction in a unified text in an attempt to make the law clear and understandable for all, following many of the ideals of the French Revolution. It also served as a way to standarize the law among conquered territories, which did help smoth out legal procedding between nations then and now. \\n\\nAlso, yet perhpas more indirectly, by spreading the ideologies of the French Revolution, the idea of the Rights of Men began to take hold as a legal concept until it would finally become the Universal Declaration of Human Rights. \\n\\nHe also ended the Inquistion in Spain, and do it might have re-started after his defeat, it was never quite the same again. \\n\\n',\n",
       " 'score_choosen': 15,\n",
       " 'score_rejected': 11}"
      ]
     },
     "execution_count": 41,
     "metadata": {},
     "output_type": "execute_result"
    }
   ],
   "source": [
    "dataset[\"train\"][-3]"
   ]
  },
  {
   "cell_type": "code",
   "execution_count": null,
   "metadata": {},
   "outputs": [],
   "source": []
  },
  {
   "cell_type": "code",
   "execution_count": 45,
   "metadata": {},
   "outputs": [
    {
     "name": "stdout",
     "output_type": "stream",
     "text": [
      "Average length per packed sequence: 0.3164558618959954\n"
     ]
    }
   ],
   "source": [
    "dataset = load_dataset(name=\"askhistorians\", task=\"sft\")\n",
    "max_seq_length = 1024 * 2\n",
    "tokenizer = AutoTokenizer.from_pretrained(\"HuggingFaceH4/zephyr-7b-beta\")    \n",
    "train_lengths = [len((tokenizer.encode(x[\"text\"]))) for x in dataset[\"train\"]]\n",
    "average_length = sum(train_lengths) / len(train_lengths)\n",
    "print(f\"Average length per packed sequence: {average_length / max_seq_length}\")"
   ]
  },
  {
   "cell_type": "code",
   "execution_count": null,
   "metadata": {},
   "outputs": [],
   "source": []
  }
 ],
 "metadata": {
  "kernelspec": {
   "display_name": "Python 3",
   "language": "python",
   "name": "python3"
  },
  "language_info": {
   "codemirror_mode": {
    "name": "ipython",
    "version": 3
   },
   "file_extension": ".py",
   "mimetype": "text/x-python",
   "name": "python",
   "nbconvert_exporter": "python",
   "pygments_lexer": "ipython3",
   "version": "3.10.12"
  }
 },
 "nbformat": 4,
 "nbformat_minor": 2
}
