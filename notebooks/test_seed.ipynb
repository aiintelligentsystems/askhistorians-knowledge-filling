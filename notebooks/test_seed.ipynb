{
 "cells": [
  {
   "cell_type": "code",
   "execution_count": 1,
   "metadata": {},
   "outputs": [
    {
     "name": "stderr",
     "output_type": "stream",
     "text": [
      "/usr/local/lib/python3.10/dist-packages/tqdm/auto.py:21: TqdmWarning: IProgress not found. Please update jupyter and ipywidgets. See https://ipywidgets.readthedocs.io/en/stable/user_install.html\n",
      "  from .autonotebook import tqdm as notebook_tqdm\n",
      "2023-12-13 17:48:06.131340: E external/local_xla/xla/stream_executor/cuda/cuda_dnn.cc:9261] Unable to register cuDNN factory: Attempting to register factory for plugin cuDNN when one has already been registered\n",
      "2023-12-13 17:48:06.131380: E external/local_xla/xla/stream_executor/cuda/cuda_fft.cc:607] Unable to register cuFFT factory: Attempting to register factory for plugin cuFFT when one has already been registered\n",
      "2023-12-13 17:48:06.132442: E external/local_xla/xla/stream_executor/cuda/cuda_blas.cc:1515] Unable to register cuBLAS factory: Attempting to register factory for plugin cuBLAS when one has already been registered\n",
      "2023-12-13 17:48:06.138412: I tensorflow/core/platform/cpu_feature_guard.cc:182] This TensorFlow binary is optimized to use available CPU instructions in performance-critical operations.\n",
      "To enable the following instructions: AVX2 FMA, in other operations, rebuild TensorFlow with the appropriate compiler flags.\n",
      "2023-12-13 17:48:07.105594: W tensorflow/compiler/tf2tensorrt/utils/py_utils.cc:38] TF-TRT Warning: Could not find TensorRT\n"
     ]
    }
   ],
   "source": [
    "from transformers import (\n",
    "    AutoConfig,\n",
    "    AutoModelForCausalLM,\n",
    "    AutoTokenizer,\n",
    "    LlamaForCausalLM,\n",
    "    TrainingArguments,\n",
    "    logging,\n",
    "    set_seed,\n",
    ")\n",
    "from functools import partial\n",
    "from redditqa.data.smart_filter import question_filter\n",
    "import datasets as ds"
   ]
  },
  {
   "cell_type": "code",
   "execution_count": 2,
   "metadata": {},
   "outputs": [],
   "source": [
    "set_seed(43)"
   ]
  },
  {
   "cell_type": "code",
   "execution_count": 3,
   "metadata": {},
   "outputs": [],
   "source": [
    "dataset = ds.load_from_disk(\"/scratch1/redditqa/cached_datasets/AskHistorians_question_filtered.jsonl\")\n",
    "question_filter_func = partial(question_filter, accepted_token_str=[\"y\", \"yes\"])\n",
    "dataset = dataset.filter(question_filter_func)\n",
    "train_valid = dataset.train_test_split(test_size=0.1)[\"train\"]"
   ]
  },
  {
   "cell_type": "code",
   "execution_count": 4,
   "metadata": {},
   "outputs": [
    {
     "data": {
      "text/plain": [
       "['What are the factors behind of the slow population growth of France in the 19th Century?',\n",
       " 'Question about what the Germans wanted to achieve in World War 1',\n",
       " 'Is there any accepted explanation to the existence of the Danzig Massacres?',\n",
       " 'Was there \"collateral racism\" against non-Japanese Asians after pearl harbor, similar to the spike in mistaken identity hatecrime after 9-11?',\n",
       " 'After colonialism/cold war: Is it viable to say that we live in the most peaceful time im human history?',\n",
       " 'How were war chariots used in Mycenaean Greece? What sources could I refer to in order to further investigate the matter?',\n",
       " 'Did the samurai ride into battle with armor and what combat would really look like?',\n",
       " 'Did Eurasian Nomads(Scythians, Sarmatians, etc.) use wagons?',\n",
       " 'Why do the Dutch (Netherlands) have such an affinity with the color orange?',\n",
       " 'When and Why did wearing blue jeans become both socially acceptable, as well as popular and fashionable?']"
      ]
     },
     "execution_count": 4,
     "metadata": {},
     "output_type": "execute_result"
    }
   ],
   "source": [
    "train_valid[\"question_title\"][:10]"
   ]
  },
  {
   "cell_type": "code",
   "execution_count": 5,
   "metadata": {},
   "outputs": [],
   "source": [
    "from redditqa.data import pair_generation\n",
    "\n",
    "pairs = pair_generation.apply(train_valid.select(range(20)))"
   ]
  },
  {
   "cell_type": "code",
   "execution_count": 6,
   "metadata": {},
   "outputs": [
    {
     "data": {
      "text/plain": [
       "{'question_created_utc': 1343645212000,\n",
       " 'question_retrieved_on': 0,\n",
       " 'question_deleted': False,\n",
       " 'question_title': 'What are the factors behind of the slow population growth of France in the 19th Century?',\n",
       " 'question_selftext': 'Just being curious. Their low population strongly affected plannings and wars (especially WWI and WWII). Other European countries had very quick population growth at the same period, but there seems to be no real advantage (resource-wise) for them to do that.',\n",
       " 'question_score': 23,\n",
       " 'question_char_length': 88,\n",
       " 'question_selftext_char_length': 259,\n",
       " 'graded_output': [{'probability': 0.9298139810562134,\n",
       "   'token_id': 5613,\n",
       "   'token_str': 'Yes'}],\n",
       " 'response_j': 'This is a very hard question to answer, and one that is not looked at that often for this reason. \\n\\nI would ascribe the low population growth in 19th century France to cultural factors that privileged celibacy, and to internal demographic shifts represented by large internal migrations, mostly from country to city. Of course also one must look at what increased the mortality rate: wars foreign and civil, and plague outbreaks both helped keep the national population down. \\n\\nKeep in mind that France had a very large population to begin with. It was the most populated area during the middle ages, and still had formidable numbers up until 1800. However, in 1800, the great majority of the population lived in rural places, subsisting as peasants in roughly the same ways they had done for generations. Only 550,000 people lived in Paris - circa 2% of the population. By 1850, this number will swell to nearly 1,750,000 Parisians, around 3%. How to account for this doubling in population? Well, in 1850 about half of Parisians were not born there - they were either immigrants from abroad or from the rural parts of France. Parisians weren\\'t making babies, but more of them arrived everyday from the provinces to \"faire fortune\" and make a name for themselves. \\n\\nTh phenomenon can be described as something like every post grad\\'s dream of moving to NY or LA to make it big, either in finance or the movies. Imagine that mentality and elevate it to the point of a national obsession. \\n\\nWhy weren\\'t the French having more children? Not sure. Why weren\\'t Parisians having more kids? That\\'s an easier question. These young people who arrived from the provinces weren\\'t coming to have a family, they were coming to get a high-paying job. And career ambition tends to preclude child-rearing. Getting pregnant meant getting married, and getting married was a political move - hence the necessity to marry well and not just because there\\'s a child involved. Unfortunately, this meant that children were often treated as intruders in parents\\' lives, and were rejected accordingly. Nurses began cropping up on the outskirts of town, to whom unfortunate babies would be relegated (think Berthe in Madame Bovary). These nurses often took on more kids than they could handle and living conditions in these suburban nurseries were miserable. With more neglect comes more disease...  I\\'ll note here that two cholera outbreaks increased mortality rates in 1832 and 1849 - and cholera manifested itself most often in these unhygienic liminal zones of the capital where nurses and the poor lived. \\n\\nNew sexual practices also kept the natal rate low. Coitus interruptus was the preferred measure against unwanted children, but oral sex was also in fashion. It was a sexually liberated time, despite the prudish stereotype we have of it now. Keep in mind pornography was born in the late 19th century, the women of the moulin rouge, the folies bergeres, etc. It was la Belle Epoque!\\n\\nOne last thing to consider is the intense amount of unrest - violent unrest - in France during the long 19th century. The Terror saw tens of thousands French die by the hands of their compatriots (1793). Napoleon I lead many wars and lost many soldiers in his exploits. Napoleon III entered a disastrous war with Prussia, leaving France bereft of around 750,000 men women and children (1870). The Commune was a moment of civil war, that once again pitted French against French - the casualties are hard to measure, but estimates range from 10,000 to 30,000 people killed while Paris was besieged by the French army. \\n\\n**TL;DR** Paris grew to two times its size in the 19th century, and Parisians tended to forgo having babies, thus keeping the birth rate low. The French Revolution saw tens of thousands of its own citizens die in the Reign of Terror at the end of the 18th century. Many wars, pursued by Napoleons I and III, contributed to over one million French dead at the end of the 19th century. Cholera outbreaks in the 1830s and 40s resulted from the poor living conditions of the suburbs and the slums. \\n\\nWant more reading? \\n\\nEugen Weber\\'s \"Peasants into Frenchmen\"\\n\\n\"Laboring Classes and Dangerous Classes in the First Half of the 19th Century\" Louis Chevalier\\n\\n\"Le Bal des célibataires\" Pierre Bourdieu',\n",
       " 'response_k': 'As adamfutur noted, France entered the 19th century with an extraordinarily huge population. Part of the reason behind this early population growth is that France entered the demographic transition earlier than its neighbours, with birth rates going down quite early. This is due to a number of factors, one of which is the change in inheritance law enacted after the French Revolution. Under the Ancien Régime, much like elsewhere in Europe, the eldest son of a family would inherit everything, but after the Revolution the estate would be split equally between the surviving sons. This had a huge impact on small landowners, who would try not to have too many children in order to keep as much of their estate intact as they could, and provide each of their children with enough land to make a living on their own.',\n",
       " 'score_j': 17,\n",
       " 'score_k': 5}"
      ]
     },
     "execution_count": 6,
     "metadata": {},
     "output_type": "execute_result"
    }
   ],
   "source": [
    "pairs[0]"
   ]
  },
  {
   "cell_type": "code",
   "execution_count": 7,
   "metadata": {},
   "outputs": [
    {
     "data": {
      "text/plain": [
       "{'question_created_utc': 1672517730000,\n",
       " 'question_retrieved_on': 1673167825000,\n",
       " 'question_deleted': False,\n",
       " 'question_title': 'Are there any Major or semi- major generally accepted historic events that we only know about due to secondary sources?',\n",
       " 'question_selftext': \"I seem to remember that there were from my history classes but it's been a very long time since those classes, so I'll ask the experts.\",\n",
       " 'question_score': 126,\n",
       " 'question_char_length': 119,\n",
       " 'question_selftext_char_length': 135,\n",
       " 'answers': [{'answer_body': 'In many cases, it can sort-of depend on how you define \"primary\" vs \"secondary.\" Conventionally a primary source is a document \"from the time\" under study, but it can be difficult to determine how far that extends, particularly in ancient history. Something written in 400 BCE is monumentally closer to something that happened in 600 BCE than we are now, but being 200 years after the fact, it is also very much a secondary source in that it builds on original \"truly\" primary accounts.\\n\\nFor example, almost everything we know about Cyrus the Great and the founding of the Achaemenid Persian Empire comes from a century or more after Cyrus\\' death, and from Greece, a culture outside the bounds of the Empire. Aside from a small handful of genuinely contemporary sources from Babylonia and the Bible that reference just a few landmark events in Cyrus\\' career, the earliest records of Cyrus the Great come from Herodotus\\' *Histories*.\\n\\nCyrus the Great\\'s conquests are surely a major historical event. Beginning in 553 BCE, he united the largest empire the world had yet seen, laying the basic political foundations for the next 1200 years of Near Eastern politics. Despite this, stories of his birth, his death, and the conquest of Lydia are known exclusively from Herodotus and much later authors who clearly incorporated Herodotus as one of their own sources.\\n\\nHe wrote his *Histories* in the 440s BCE, and is not shy about the fact that he conducted his own research to gather oral histories and primary accounts. By strict definition, that makes Herodotus a secondary source. However, just 100 years after the fact, Herodotus is so much closer to being \"from the time\" that the *Histories* are also a de facto primary source for modern scholars.\\n\\nIn fact, the same can be said for many events in ancient Persian history. There was no Persian literary tradition, so most of our narratives of Achaemenid-era history come from Greek historians writing after the fact. By far, the most dramatic version of this for most people is the story of Alexander the Great\\'s conquest of the Persian Empire. Famously, Alexander brought a team of writers, chroniclers, and historians along with him, and after Alexander\\'s death, several of his officers like Ptolemy wrote down their own accounts of their wars. Despite that, none of those primary sources survive today. \\n\\nThe major sources for Alexander the Great\\'s life, 356-323 BCE, are:\\n\\n* Diodorus Siculus\\' *Library of History* \\\\- c. 30 BCE\\n* Quintus Curtius Rufus\\' *Histories of Alexander the Great* \\\\- c. 40 CE\\n* Plutarch\\'s *Life of Alexander* \\\\- c. 100 CE\\n* Arrian\\'s *Anabasis of Alexander* \\\\- c. 130 CE\\n* Justin\\'s *Epitome of Pompeius Trogus* \\\\- c. 200 CE (summarizing Trogus, c. 50 BCE)\\n\\nIt has occasionally been said that we have more \"primary\" evidence for Jesus of Nazareth than Alexander, given that the Gospel accounts are typically dated to the late 1st Century CE. Strictly speaking this is not true; there are references to him in true primary documents. However, the earliest, extant, detailed narrative for Alexander\\'s life comes from almost 300 years after his death. Diodorus and the rest are obviously text-book secondary sources, and yet they are also so much closer to the events and had the ability to cite and quote the true \"primary\" sources that they have to serve that role for modern historians.',\n",
       "   'answer_char_length': 3361,\n",
       "   'answer_created_utc': 1672526627000,\n",
       "   'answer_deleted': False,\n",
       "   'answer_id': 'j2fnn1y',\n",
       "   'answer_retrieved_on': 1673021928000,\n",
       "   'answer_score': 158},\n",
       "  {'answer_body': 'It depends what you mean by ‘secondary sources’; literally this means sources written *about* primary sources (generally by scholars). I presume you mean sources that are not literally from the event itself such as news articles or battlefield reports? \\n\\nAssuming that’s true, I’ll put in a word for the Battle of Clontarf just outside of Dublin, Ireland on 23 April, 1014 CE. The most written about it is in the *Cogadh Gáedhel re Gallaibh* (War of the [Irish] Gaels against the Foreigners) which was not composed until c. 1100 and the oldest version of which we have is in the Book of Leinster which dates to around 1170. The oldest *complete* version is from a 17th c. copy! The Battle of Clontarf also gets a few paragraphs in the Icelandic *Njáls saga* which is dated to the 13th c. and the earliest manuscript copies are from the early 14th c. There are some contemporary annals that mention the battle with just a few words, but nothing that carefully traces its causes, participants, or consequences. \\n\\nBasically, we know it was a *big* deal that involved combatants from all over the North Atlantic, and hundreds, perhaps a few thousand, of people died in combat or were caught in the tide coming in to the Liffey plain towards the end of the day. The disputed High King of Ireland, Brian Bóru, was killed, along with many members of his family. (Yet the point of the battle - to capture Dublin itself - was not achieved!) Strangely, no smoking-gun archaeological evidence for a mass battle has been found, and we don’t even know exactly where it happened: Clontarf is reported as where one of Brian’s sons was impaled on a weir, but this could be apocryphal. \\n\\nAs a medieval historian, I study the psychological impact of this battle, knowing full well that it may have not existed, or took a very different form from how it was recorded later. It became an important touchstone in Irish nationalism and deserves commemoration for that itself - 2014 was the millennium celebration and Dublin went all out. But in terms of ‘primary sources’ that are indisputable, unbiased news reports fresh from the site, the Battle of Clontarf is a ghost. \\n\\nSeán Duffy’s *Brian Boru and the Battle of Clontarf* (2014) remains the best book on the topic (and its historiography), while Etchingham et alia’s *Norse-Gaelic Contacts in a Viking World* (2019) is a really great fresh look at how Clontarf was disseminated in later material.',\n",
       "   'answer_char_length': 2430,\n",
       "   'answer_created_utc': 1672525790000,\n",
       "   'answer_deleted': False,\n",
       "   'answer_id': 'j2flro7',\n",
       "   'answer_retrieved_on': 1673021978000,\n",
       "   'answer_score': 78},\n",
       "  {'answer_body': 'Welcome to /r/AskHistorians. **Please [Read Our Rules]([LINK] before you comment in this community**. Understand that [rule breaking comments get removed]([LINK]\\n\\n#Please consider **[Clicking Here for RemindMeBot]([LINK] as it takes time for an answer to be written. Additionally, for weekly content summaries, **[Click Here to Subscribe to our Weekly Roundup]([LINK]\\n\\nWe thank you for your interest in this *question*, and your patience in waiting for an in-depth and comprehensive answer to show up. In addition to RemindMeBot, consider [using our Browser Extension]([LINK] or getting the [Weekly Roundup]([LINK] In the meantime our [Twitter]([LINK] [Facebook]([LINK] and [Sunday Digest]([LINK] feature excellent content that has already been written!\\n\\n\\n*I am a bot, and this action was performed automatically. Please [contact the moderators of this subreddit](/message/compose/?to=/r/AskHistorians) if you have any questions or concerns.*',\n",
       "   'answer_char_length': 1781,\n",
       "   'answer_created_utc': 1672517730000,\n",
       "   'answer_deleted': False,\n",
       "   'answer_id': 'j2f3fw4',\n",
       "   'answer_retrieved_on': 1673022476000,\n",
       "   'answer_score': 1}],\n",
       " 'graded_output': [{'probability': 0.9964271783828735,\n",
       "   'token_id': 5613,\n",
       "   'token_str': 'Yes'}]}"
      ]
     },
     "execution_count": 7,
     "metadata": {},
     "output_type": "execute_result"
    }
   ],
   "source": [
    "dataset[0]"
   ]
  },
  {
   "cell_type": "code",
   "execution_count": 10,
   "metadata": {},
   "outputs": [
    {
     "data": {
      "text/plain": [
       "<Axes: >"
      ]
     },
     "execution_count": 10,
     "metadata": {},
     "output_type": "execute_result"
    },
    {
     "data": {
      "image/png": "[encoded data removed]",
      "text/plain": [
       "<Figure size 2000x300 with 1 Axes>"
      ]
     },
     "metadata": {},
     "output_type": "display_data"
    }
   ],
   "source": [
    "import pandas as pd \n",
    "\n",
    "def create_qa(row): \n",
    "    return {\"qa\": f\"Question: {row['question_title']}\\nAnswer: {row['answers'][0]['answer_body']}\"}\n",
    "\n",
    "pd.Series(\n",
    "    dataset.map(create_qa, batched=False)[\"qa\"]\n",
    ").apply(len).apply(lambda x: x/3).hist(bins=20, figsize=(20, 3))"
   ]
  },
  {
   "cell_type": "code",
   "execution_count": null,
   "metadata": {},
   "outputs": [],
   "source": []
  }
 ],
 "metadata": {
  "kernelspec": {
   "display_name": "Python 3",
   "language": "python",
   "name": "python3"
  },
  "language_info": {
   "codemirror_mode": {
    "name": "ipython",
    "version": 3
   },
   "file_extension": ".py",
   "mimetype": "text/x-python",
   "name": "python",
   "nbconvert_exporter": "python",
   "pygments_lexer": "ipython3",
   "version": "3.10.12"
  }
 },
 "nbformat": 4,
 "nbformat_minor": 2
}
