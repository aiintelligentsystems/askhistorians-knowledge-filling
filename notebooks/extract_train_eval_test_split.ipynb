{
 "cells": [
  {
   "cell_type": "code",
   "execution_count": 1,
   "metadata": {},
   "outputs": [
    {
     "name": "stderr",
     "output_type": "stream",
     "text": [
      "/usr/local/lib/python3.10/dist-packages/tqdm/auto.py:21: TqdmWarning: IProgress not found. Please update jupyter and ipywidgets. See https://ipywidgets.readthedocs.io/en/stable/user_install.html\n",
      "  from .autonotebook import tqdm as notebook_tqdm\n"
     ]
    },
    {
     "data": {
      "text/plain": [
       "<module 'redditqa.data.qa_generation' from '/workspaces/reddit_qa/redditqa/data/qa_generation.py'>"
      ]
     },
     "execution_count": 1,
     "metadata": {},
     "output_type": "execute_result"
    }
   ],
   "source": [
    "import json\n",
    "from redditqa.data import huggingface_dataset\n",
    "from redditqa.data import qa_generation\n",
    "\n",
    "import importlib\n",
    "importlib.reload(huggingface_dataset)\n",
    "importlib.reload(qa_generation)"
   ]
  },
  {
   "cell_type": "code",
   "execution_count": 2,
   "metadata": {},
   "outputs": [
    {
     "name": "stderr",
     "output_type": "stream",
     "text": [
      "Saving the dataset (2/2 shards): 100%|██████████| 116452/116452 [00:03<00:00, 37478.70 examples/s]\n"
     ]
    },
    {
     "data": {
      "text/plain": [
       "Dataset({\n",
       "    features: ['question_created_utc', 'question_retrieved_on', 'question_deleted', 'question_title', 'question_selftext', 'question_score', 'question_char_length', 'question_selftext_char_length', 'answers'],\n",
       "    num_rows: 116452\n",
       "})"
      ]
     },
     "execution_count": 2,
     "metadata": {},
     "output_type": "execute_result"
    }
   ],
   "source": [
    "dataset = huggingface_dataset.load_reddit_dataset('/scratch1/redditqa/data/ask_historians/AskHistorians.jsonl')\n",
    "dataset"
   ]
  },
  {
   "cell_type": "code",
   "execution_count": 3,
   "metadata": {},
   "outputs": [],
   "source": [
    "dataset = dataset.shuffle(seed=42)"
   ]
  },
  {
   "cell_type": "code",
   "execution_count": 9,
   "metadata": {},
   "outputs": [
    {
     "name": "stdout",
     "output_type": "stream",
     "text": [
      "Train ends at 69871. Eval ends at 93161\n",
      "Train size: 69871\n",
      "Eval size: 23290\n",
      "Test size: 23291\n"
     ]
    }
   ],
   "source": [
    "train_pct = 0.6\n",
    "eval_pct = 0.2\n",
    "test_pct = 0.2\n",
    "\n",
    "train_end_index = int(len(dataset) * train_pct)\n",
    "eval_end_index = train_end_index + int(len(dataset) * eval_pct)\n",
    "print(f\"Train ends at {train_end_index}. Eval ends at {eval_end_index}\")\n",
    "\n",
    "dataset_train = dataset.select(range(0, train_end_index))\n",
    "dataset_eval = dataset.select(range(train_end_index, eval_end_index))\n",
    "dataset_test = dataset.select(range(eval_end_index, len(dataset)))\n",
    "\n",
    "print(f\"Train size: {len(dataset_train)}\")\n",
    "print(f\"Eval size: {len(dataset_eval)}\")\n",
    "print(f\"Test size: {len(dataset_test)}\")"
   ]
  },
  {
   "cell_type": "code",
   "execution_count": 14,
   "metadata": {},
   "outputs": [],
   "source": [
    "selection_dict = {\n",
    "    \"train\": dataset_train[\"question_title\"],\n",
    "    \"eval\": dataset_eval[\"question_title\"],\n",
    "    \"test\": dataset_test[\"question_title\"]\n",
    "}\n",
    "\n",
    "with open(\"train_test_dev_questions.json\", \"w\") as f:\n",
    "    json.dump(selection_dict, f, indent=4)"
   ]
  },
  {
   "cell_type": "code",
   "execution_count": null,
   "metadata": {},
   "outputs": [],
   "source": []
  }
 ],
 "metadata": {
  "kernelspec": {
   "display_name": "Python 3",
   "language": "python",
   "name": "python3"
  },
  "language_info": {
   "codemirror_mode": {
    "name": "ipython",
    "version": 3
   },
   "file_extension": ".py",
   "mimetype": "text/x-python",
   "name": "python",
   "nbconvert_exporter": "python",
   "pygments_lexer": "ipython3",
   "version": "3.10.12"
  }
 },
 "nbformat": 4,
 "nbformat_minor": 2
}
