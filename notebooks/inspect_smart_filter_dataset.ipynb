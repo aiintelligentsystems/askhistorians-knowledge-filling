{
 "cells": [
  {
   "cell_type": "code",
   "execution_count": 3,
   "metadata": {},
   "outputs": [],
   "source": [
    "import datasets as ds\n",
    "from redditqa.data.smart_filter import question_filter\n",
    "from functools import partial"
   ]
  },
  {
   "cell_type": "code",
   "execution_count": 5,
   "metadata": {},
   "outputs": [],
   "source": [
    "dataset = ds.load_from_disk(\"/scratch1/redditqa/cached_datasets/AskHistorians_question_filtered.jsonl\")\n",
    "question_filter_func = partial(question_filter, accepted_token_str=['y', 'yes'])\n",
    "dataset = dataset.filter(question_filter_func)"
   ]
  },
  {
   "cell_type": "code",
   "execution_count": 6,
   "metadata": {},
   "outputs": [
    {
     "data": {
      "text/plain": [
       "Dataset({\n",
       "    features: ['question_created_utc', 'question_retrieved_on', 'question_deleted', 'question_title', 'question_selftext', 'question_score', 'question_char_length', 'question_selftext_char_length', 'answers', 'graded_output'],\n",
       "    num_rows: 29136\n",
       "})"
      ]
     },
     "execution_count": 6,
     "metadata": {},
     "output_type": "execute_result"
    }
   ],
   "source": [
    "dataset"
   ]
  },
  {
   "cell_type": "code",
   "execution_count": 7,
   "metadata": {},
   "outputs": [
    {
     "data": {
      "text/plain": [
       "{'question_created_utc': 1672517730000,\n",
       " 'question_retrieved_on': 1673167825000,\n",
       " 'question_deleted': False,\n",
       " 'question_title': 'Are there any Major or semi- major generally accepted historic events that we only know about due to secondary sources?',\n",
       " 'question_selftext': \"I seem to remember that there were from my history classes but it's been a very long time since those classes, so I'll ask the experts.\",\n",
       " 'question_score': 126,\n",
       " 'question_char_length': 119,\n",
       " 'question_selftext_char_length': 135,\n",
       " 'answers': [{'answer_body': 'In many cases, it can sort-of depend on how you define \"primary\" vs \"secondary.\" Conventionally a primary source is a document \"from the time\" under study, but it can be difficult to determine how far that extends, particularly in ancient history. Something written in 400 BCE is monumentally closer to something that happened in 600 BCE than we are now, but being 200 years after the fact, it is also very much a secondary source in that it builds on original \"truly\" primary accounts.\\n\\nFor example, almost everything we know about Cyrus the Great and the founding of the Achaemenid Persian Empire comes from a century or more after Cyrus\\' death, and from Greece, a culture outside the bounds of the Empire. Aside from a small handful of genuinely contemporary sources from Babylonia and the Bible that reference just a few landmark events in Cyrus\\' career, the earliest records of Cyrus the Great come from Herodotus\\' *Histories*.\\n\\nCyrus the Great\\'s conquests are surely a major historical event. Beginning in 553 BCE, he united the largest empire the world had yet seen, laying the basic political foundations for the next 1200 years of Near Eastern politics. Despite this, stories of his birth, his death, and the conquest of Lydia are known exclusively from Herodotus and much later authors who clearly incorporated Herodotus as one of their own sources.\\n\\nHe wrote his *Histories* in the 440s BCE, and is not shy about the fact that he conducted his own research to gather oral histories and primary accounts. By strict definition, that makes Herodotus a secondary source. However, just 100 years after the fact, Herodotus is so much closer to being \"from the time\" that the *Histories* are also a de facto primary source for modern scholars.\\n\\nIn fact, the same can be said for many events in ancient Persian history. There was no Persian literary tradition, so most of our narratives of Achaemenid-era history come from Greek historians writing after the fact. By far, the most dramatic version of this for most people is the story of Alexander the Great\\'s conquest of the Persian Empire. Famously, Alexander brought a team of writers, chroniclers, and historians along with him, and after Alexander\\'s death, several of his officers like Ptolemy wrote down their own accounts of their wars. Despite that, none of those primary sources survive today. \\n\\nThe major sources for Alexander the Great\\'s life, 356-323 BCE, are:\\n\\n* Diodorus Siculus\\' *Library of History* \\\\- c. 30 BCE\\n* Quintus Curtius Rufus\\' *Histories of Alexander the Great* \\\\- c. 40 CE\\n* Plutarch\\'s *Life of Alexander* \\\\- c. 100 CE\\n* Arrian\\'s *Anabasis of Alexander* \\\\- c. 130 CE\\n* Justin\\'s *Epitome of Pompeius Trogus* \\\\- c. 200 CE (summarizing Trogus, c. 50 BCE)\\n\\nIt has occasionally been said that we have more \"primary\" evidence for Jesus of Nazareth than Alexander, given that the Gospel accounts are typically dated to the late 1st Century CE. Strictly speaking this is not true; there are references to him in true primary documents. However, the earliest, extant, detailed narrative for Alexander\\'s life comes from almost 300 years after his death. Diodorus and the rest are obviously text-book secondary sources, and yet they are also so much closer to the events and had the ability to cite and quote the true \"primary\" sources that they have to serve that role for modern historians.',\n",
       "   'answer_char_length': 3361,\n",
       "   'answer_created_utc': 1672526627000,\n",
       "   'answer_deleted': False,\n",
       "   'answer_id': 'j2fnn1y',\n",
       "   'answer_retrieved_on': 1673021928000,\n",
       "   'answer_score': 158},\n",
       "  {'answer_body': 'It depends what you mean by ‘secondary sources’; literally this means sources written *about* primary sources (generally by scholars). I presume you mean sources that are not literally from the event itself such as news articles or battlefield reports? \\n\\nAssuming that’s true, I’ll put in a word for the Battle of Clontarf just outside of Dublin, Ireland on 23 April, 1014 CE. The most written about it is in the *Cogadh Gáedhel re Gallaibh* (War of the [Irish] Gaels against the Foreigners) which was not composed until c. 1100 and the oldest version of which we have is in the Book of Leinster which dates to around 1170. The oldest *complete* version is from a 17th c. copy! The Battle of Clontarf also gets a few paragraphs in the Icelandic *Njáls saga* which is dated to the 13th c. and the earliest manuscript copies are from the early 14th c. There are some contemporary annals that mention the battle with just a few words, but nothing that carefully traces its causes, participants, or consequences. \\n\\nBasically, we know it was a *big* deal that involved combatants from all over the North Atlantic, and hundreds, perhaps a few thousand, of people died in combat or were caught in the tide coming in to the Liffey plain towards the end of the day. The disputed High King of Ireland, Brian Bóru, was killed, along with many members of his family. (Yet the point of the battle - to capture Dublin itself - was not achieved!) Strangely, no smoking-gun archaeological evidence for a mass battle has been found, and we don’t even know exactly where it happened: Clontarf is reported as where one of Brian’s sons was impaled on a weir, but this could be apocryphal. \\n\\nAs a medieval historian, I study the psychological impact of this battle, knowing full well that it may have not existed, or took a very different form from how it was recorded later. It became an important touchstone in Irish nationalism and deserves commemoration for that itself - 2014 was the millennium celebration and Dublin went all out. But in terms of ‘primary sources’ that are indisputable, unbiased news reports fresh from the site, the Battle of Clontarf is a ghost. \\n\\nSeán Duffy’s *Brian Boru and the Battle of Clontarf* (2014) remains the best book on the topic (and its historiography), while Etchingham et alia’s *Norse-Gaelic Contacts in a Viking World* (2019) is a really great fresh look at how Clontarf was disseminated in later material.',\n",
       "   'answer_char_length': 2430,\n",
       "   'answer_created_utc': 1672525790000,\n",
       "   'answer_deleted': False,\n",
       "   'answer_id': 'j2flro7',\n",
       "   'answer_retrieved_on': 1673021978000,\n",
       "   'answer_score': 78},\n",
       "  {'answer_body': 'Welcome to /r/AskHistorians. **Please [Read Our Rules]([LINK] before you comment in this community**. Understand that [rule breaking comments get removed]([LINK]\\n\\n#Please consider **[Clicking Here for RemindMeBot]([LINK] as it takes time for an answer to be written. Additionally, for weekly content summaries, **[Click Here to Subscribe to our Weekly Roundup]([LINK]\\n\\nWe thank you for your interest in this *question*, and your patience in waiting for an in-depth and comprehensive answer to show up. In addition to RemindMeBot, consider [using our Browser Extension]([LINK] or getting the [Weekly Roundup]([LINK] In the meantime our [Twitter]([LINK] [Facebook]([LINK] and [Sunday Digest]([LINK] feature excellent content that has already been written!\\n\\n\\n*I am a bot, and this action was performed automatically. Please [contact the moderators of this subreddit](/message/compose/?to=/r/AskHistorians) if you have any questions or concerns.*',\n",
       "   'answer_char_length': 1781,\n",
       "   'answer_created_utc': 1672517730000,\n",
       "   'answer_deleted': False,\n",
       "   'answer_id': 'j2f3fw4',\n",
       "   'answer_retrieved_on': 1673022476000,\n",
       "   'answer_score': 1}],\n",
       " 'graded_output': [{'probability': 0.9964271783828735,\n",
       "   'token_id': 5613,\n",
       "   'token_str': 'Yes'}]}"
      ]
     },
     "execution_count": 7,
     "metadata": {},
     "output_type": "execute_result"
    }
   ],
   "source": [
    "dataset[0]"
   ]
  },
  {
   "cell_type": "code",
   "execution_count": null,
   "metadata": {},
   "outputs": [],
   "source": []
  }
 ],
 "metadata": {
  "kernelspec": {
   "display_name": "Python 3",
   "language": "python",
   "name": "python3"
  },
  "language_info": {
   "codemirror_mode": {
    "name": "ipython",
    "version": 3
   },
   "file_extension": ".py",
   "mimetype": "text/x-python",
   "name": "python",
   "nbconvert_exporter": "python",
   "pygments_lexer": "ipython3",
   "version": "3.10.12"
  }
 },
 "nbformat": 4,
 "nbformat_minor": 2
}
