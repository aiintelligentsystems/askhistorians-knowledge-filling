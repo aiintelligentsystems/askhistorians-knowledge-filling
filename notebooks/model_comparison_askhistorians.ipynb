{
 "cells": [
  {
   "cell_type": "code",
   "execution_count": 2,
   "metadata": {},
   "outputs": [],
   "source": [
    "import os\n",
    "os.environ[\"CUDA_VISIBLE_DEVICES\"] = \"0\""
   ]
  },
  {
   "cell_type": "code",
   "execution_count": 3,
   "metadata": {},
   "outputs": [
    {
     "name": "stdout",
     "output_type": "stream",
     "text": [
      "Token will not been saved to git credential helper. Pass `add_to_git_credential=True` if you want to set the git credential as well.\n",
      "Token is valid (permission: read).\n",
      "Your token has been saved to /root/.cache/huggingface/token\n",
      "Login successful\n"
     ]
    }
   ],
   "source": [
    "import ast\n",
    "import base64\n",
    "import torch\n",
    "import textstat\n",
    "import numpy as np\n",
    "import pandas as pd\n",
    "from tqdm import tqdm\n",
    "import datasets as ds\n",
    "from collections import defaultdict\n",
    "import matplotlib.pyplot as plt\n",
    "from transformers import (\n",
    "    AutoTokenizer,\n",
    "    pipeline,\n",
    "    AutoModelForCausalLM,\n",
    "    TextGenerationPipeline,\n",
    "    AutoModelForSequenceClassification,\n",
    ")\n",
    "from huggingface_hub import login\n",
    "\n",
    "HUGGINGFACE_TOKEN = os.environ.get(\"HUGGINGFACE_TOKEN\", None)\n",
    "if HUGGINGFACE_TOKEN is not None:\n",
    "    login(token=HUGGINGFACE_TOKEN)"
   ]
  },
  {
   "cell_type": "code",
   "execution_count": null,
   "metadata": {},
   "outputs": [
    {
     "data": {
      "text/plain": [
       "<torch._C.Generator at 0x7fe8e086a090>"
      ]
     },
     "execution_count": 3,
     "metadata": {},
     "output_type": "execute_result"
    }
   ],
   "source": [
    "torch.manual_seed(42)"
   ]
  },
  {
   "cell_type": "markdown",
   "metadata": {},
   "source": [
    "#### Loading the test dataset"
   ]
  },
  {
   "cell_type": "code",
   "execution_count": null,
   "metadata": {},
   "outputs": [
    {
     "name": "stderr",
     "output_type": "stream",
     "text": [
      "Saving the dataset (1/1 shards): 100%|██████████| 5626/5626 [00:00<00:00, 12062.08 examples/s]\n"
     ]
    }
   ],
   "source": [
    "dataset = ds.load_from_disk(\"/scratch1/redditqa/cached_datasets/AskHistorians_test_set_100\")"
   ]
  },
  {
   "cell_type": "code",
   "execution_count": null,
   "metadata": {},
   "outputs": [
    {
     "data": {
      "text/html": [
       "<div>\n",
       "<style scoped>\n",
       "    .dataframe tbody tr th:only-of-type {\n",
       "        vertical-align: middle;\n",
       "    }\n",
       "\n",
       "    .dataframe tbody tr th {\n",
       "        vertical-align: top;\n",
       "    }\n",
       "\n",
       "    .dataframe thead th {\n",
       "        text-align: right;\n",
       "    }\n",
       "</style>\n",
       "<table border=\"1\" class=\"dataframe\">\n",
       "  <thead>\n",
       "    <tr style=\"text-align: right;\">\n",
       "      <th></th>\n",
       "      <th>question</th>\n",
       "      <th>7B_dpo_cp-10000.answer</th>\n",
       "      <th>7B_dpo_cp-10000.reward</th>\n",
       "      <th>7B_dpo_cp-2000.answer</th>\n",
       "      <th>7B_dpo_cp-2000.reward</th>\n",
       "    </tr>\n",
       "  </thead>\n",
       "  <tbody>\n",
       "    <tr>\n",
       "      <th>0</th>\n",
       "      <td>How does new city formation works in US? If me...</td>\n",
       "      <td>Sooner or later they'll notice you.  They'll ...</td>\n",
       "      <td>0.757794</td>\n",
       "      <td>So called \"boom towns\" do indeed spring up ov...</td>\n",
       "      <td>0.953275</td>\n",
       "    </tr>\n",
       "    <tr>\n",
       "      <th>1</th>\n",
       "      <td>why aren't CCTV cameras made to produce higher...</td>\n",
       "      <td>CCTV cameras are not made to produce footage ...</td>\n",
       "      <td>0.930458</td>\n",
       "      <td>CCTV footage is not intended for identificati...</td>\n",
       "      <td>0.930458</td>\n",
       "    </tr>\n",
       "    <tr>\n",
       "      <th>2</th>\n",
       "      <td>how is Bill Gates still so rich if he is givin...</td>\n",
       "      <td>So go ahead and do it!  We're doing it with you.</td>\n",
       "      <td>0.762070</td>\n",
       "      <td>So far, Bill Gates has given $28 billion to t...</td>\n",
       "      <td>0.957912</td>\n",
       "    </tr>\n",
       "    <tr>\n",
       "      <th>3</th>\n",
       "      <td>How did America become so powerful despite bei...</td>\n",
       "      <td>So many other countries were fighting for Ame...</td>\n",
       "      <td>0.812867</td>\n",
       "      <td>So many factors went into America's rise to p...</td>\n",
       "      <td>0.983597</td>\n",
       "    </tr>\n",
       "    <tr>\n",
       "      <th>4</th>\n",
       "      <td>How do they make white gold? Can it be melted ...</td>\n",
       "      <td>So-called \"white gold\" is actually an alloy o...</td>\n",
       "      <td>0.927363</td>\n",
       "      <td>So-called \"white gold\" is actually an alloy o...</td>\n",
       "      <td>0.941654</td>\n",
       "    </tr>\n",
       "    <tr>\n",
       "      <th>...</th>\n",
       "      <td>...</td>\n",
       "      <td>...</td>\n",
       "      <td>...</td>\n",
       "      <td>...</td>\n",
       "      <td>...</td>\n",
       "    </tr>\n",
       "    <tr>\n",
       "      <th>195</th>\n",
       "      <td>In a roll of duct tape, how does the glue stic...</td>\n",
       "      <td>So /'s/ not glue.  It's tape.  Tape is made o...</td>\n",
       "      <td>0.919643</td>\n",
       "      <td>Soooooooooooooooooooooooooooooooooooooooooooo...</td>\n",
       "      <td>0.623377</td>\n",
       "    </tr>\n",
       "    <tr>\n",
       "      <th>196</th>\n",
       "      <td>How do popular social media apps become popula...</td>\n",
       "      <td>Softwaare like facebook weren't popular at st...</td>\n",
       "      <td>0.912436</td>\n",
       "      <td>Softwaare like twitter didn't start with 0 us...</td>\n",
       "      <td>0.894789</td>\n",
       "    </tr>\n",
       "    <tr>\n",
       "      <th>197</th>\n",
       "      <td>Are we fishing at too high of a rate? Are we g...</td>\n",
       "      <td>So many bass are being caught each year that ...</td>\n",
       "      <td>0.800692</td>\n",
       "      <td>So many bass are being caught each year that ...</td>\n",
       "      <td>0.791821</td>\n",
       "    </tr>\n",
       "    <tr>\n",
       "      <th>198</th>\n",
       "      <td>What is a freemason and why is it such a secre...</td>\n",
       "      <td>So you're telling me you've been to a meeting...</td>\n",
       "      <td>0.841826</td>\n",
       "      <td>So you're telling me you've never heard of th...</td>\n",
       "      <td>0.787931</td>\n",
       "    </tr>\n",
       "    <tr>\n",
       "      <th>199</th>\n",
       "      <td>What is the science behind birthmarks. How do ...</td>\n",
       "      <td>Birthmarks are caused by blood vessels that d...</td>\n",
       "      <td>0.948917</td>\n",
       "      <td>Birthmarks are caused by a burst of pigment i...</td>\n",
       "      <td>0.979668</td>\n",
       "    </tr>\n",
       "  </tbody>\n",
       "</table>\n",
       "<p>200 rows × 5 columns</p>\n",
       "</div>"
      ],
      "text/plain": [
       "                                              question  \\\n",
       "0    How does new city formation works in US? If me...   \n",
       "1    why aren't CCTV cameras made to produce higher...   \n",
       "2    how is Bill Gates still so rich if he is givin...   \n",
       "3    How did America become so powerful despite bei...   \n",
       "4    How do they make white gold? Can it be melted ...   \n",
       "..                                                 ...   \n",
       "195  In a roll of duct tape, how does the glue stic...   \n",
       "196  How do popular social media apps become popula...   \n",
       "197  Are we fishing at too high of a rate? Are we g...   \n",
       "198  What is a freemason and why is it such a secre...   \n",
       "199  What is the science behind birthmarks. How do ...   \n",
       "\n",
       "                                7B_dpo_cp-10000.answer  \\\n",
       "0     Sooner or later they'll notice you.  They'll ...   \n",
       "1     CCTV cameras are not made to produce footage ...   \n",
       "2     So go ahead and do it!  We're doing it with you.   \n",
       "3     So many other countries were fighting for Ame...   \n",
       "4     So-called \"white gold\" is actually an alloy o...   \n",
       "..                                                 ...   \n",
       "195   So /'s/ not glue.  It's tape.  Tape is made o...   \n",
       "196   Softwaare like facebook weren't popular at st...   \n",
       "197   So many bass are being caught each year that ...   \n",
       "198   So you're telling me you've been to a meeting...   \n",
       "199   Birthmarks are caused by blood vessels that d...   \n",
       "\n",
       "     7B_dpo_cp-10000.reward  \\\n",
       "0                  0.757794   \n",
       "1                  0.930458   \n",
       "2                  0.762070   \n",
       "3                  0.812867   \n",
       "4                  0.927363   \n",
       "..                      ...   \n",
       "195                0.919643   \n",
       "196                0.912436   \n",
       "197                0.800692   \n",
       "198                0.841826   \n",
       "199                0.948917   \n",
       "\n",
       "                                 7B_dpo_cp-2000.answer  7B_dpo_cp-2000.reward  \n",
       "0     So called \"boom towns\" do indeed spring up ov...               0.953275  \n",
       "1     CCTV footage is not intended for identificati...               0.930458  \n",
       "2     So far, Bill Gates has given $28 billion to t...               0.957912  \n",
       "3     So many factors went into America's rise to p...               0.983597  \n",
       "4     So-called \"white gold\" is actually an alloy o...               0.941654  \n",
       "..                                                 ...                    ...  \n",
       "195   Soooooooooooooooooooooooooooooooooooooooooooo...               0.623377  \n",
       "196   Softwaare like twitter didn't start with 0 us...               0.894789  \n",
       "197   So many bass are being caught each year that ...               0.791821  \n",
       "198   So you're telling me you've never heard of th...               0.787931  \n",
       "199   Birthmarks are caused by a burst of pigment i...               0.979668  \n",
       "\n",
       "[200 rows x 5 columns]"
      ]
     },
     "execution_count": 13,
     "metadata": {},
     "output_type": "execute_result"
    }
   ],
   "source": [
    "dfs = {}\n",
    "\n",
    "for name, qas in model_answers.items():\n",
    "\n",
    "    rewards = model_rewards[name]\n",
    "\n",
    "    df = pd.DataFrame.from_records([\n",
    "        {\n",
    "            'question': q, f'{name}.answer': a, \n",
    "            f'{name}.reward': rewards[q]\n",
    "        } \n",
    "        for q, a in qas.items()\n",
    "    ])\n",
    "\n",
    "    dfs[name] = df\n",
    "\n",
    "first_df_name = list(dfs.keys())[0]\n",
    "df = dfs[first_df_name]\n",
    "for name, df_other in dfs.items():\n",
    "    \n",
    "    if name == first_df_name:\n",
    "        continue\n",
    "\n",
    "    df = df.merge(df_other, on='question')\n",
    "\n",
    "df"
   ]
  },
  {
   "cell_type": "markdown",
   "metadata": {},
   "source": [
    "#### Textstat and toxicity scores"
   ]
  },
  {
   "cell_type": "code",
   "execution_count": null,
   "metadata": {},
   "outputs": [],
   "source": [
    "toxicity_pipe = pipeline(\"text-classification\", model=\"tomh/toxigen_roberta\")\n",
    "\n",
    "\n",
    "def mean_std(col, precision=2): \n",
    "    col_mean = col.mean()\n",
    "    col_std = col.std()\n",
    "    return f'{col_mean:.{precision}f} ± {col_std:.{precision}f}'\n",
    "\n",
    "\n",
    "def run_toxicity_pipe(text):\n",
    "    try: \n",
    "        result = toxicity_pipe(text, top_k=None)\n",
    "        result = [r for r in result if r['label'] == 'LABEL_1'][0]\n",
    "    except:\n",
    "        return 0.5\n",
    "\n",
    "    return result['score']\n",
    "\n",
    "\n",
    "metrics_list = []\n",
    "for col in df.columns:\n",
    "\n",
    "    if col == 'question':\n",
    "        continue\n",
    "\n",
    "    if not col.endswith('.answer'):\n",
    "        continue\n",
    "\n",
    "    name = col.replace('.answer', '')\n",
    "\n",
    "    # Apply textstat functions\n",
    "    text_standard = df[col].apply(lambda t: textstat.text_standard(t, float_output=True))\n",
    "    reading_time = df[col].apply(textstat.reading_time)\n",
    "    df[name + '.text_standard'] = text_standard\n",
    "    df[name + '.reading_time'] = reading_time\n",
    "\n",
    "    # Measure toxicity\n",
    "    toxicity = df[col].apply(run_toxicity_pipe)\n",
    "\n",
    "    # Save metrics\n",
    "    metrics_list.append({\n",
    "        'name': name,\n",
    "        'text_standard [grade]': mean_std(text_standard),\n",
    "        'reading_time [s]': mean_std(reading_time),\n",
    "        'toxicity [0-1]': mean_std(toxicity, precision=3),\n",
    "    })\n",
    "\n",
    "    # Print metrics\n",
    "    print(f'{name}:')\n",
    "    print('\\n'.join([f'  {k}: {v}' for k, v in metrics_list[-1].items()]))\n",
    "\n",
    "    # Print further info on rewards\n",
    "    df[name + '.reward'].hist(bins=20, figsize=(4, 2))\n",
    "    plt.title(name + '.reward')\n",
    "    plt.show()\n"
   ]
  },
  {
   "cell_type": "code",
   "execution_count": null,
   "metadata": {},
   "outputs": [
    {
     "data": {
      "text/html": [
       "<div>\n",
       "<style scoped>\n",
       "    .dataframe tbody tr th:only-of-type {\n",
       "        vertical-align: middle;\n",
       "    }\n",
       "\n",
       "    .dataframe tbody tr th {\n",
       "        vertical-align: top;\n",
       "    }\n",
       "\n",
       "    .dataframe thead th {\n",
       "        text-align: right;\n",
       "    }\n",
       "</style>\n",
       "<table border=\"1\" class=\"dataframe\">\n",
       "  <thead>\n",
       "    <tr style=\"text-align: right;\">\n",
       "      <th></th>\n",
       "      <th>text_standard [grade]</th>\n",
       "      <th>reading_time [s]</th>\n",
       "      <th>toxicity [0-1]</th>\n",
       "      <th>reward [0-1]</th>\n",
       "    </tr>\n",
       "    <tr>\n",
       "      <th>name</th>\n",
       "      <th></th>\n",
       "      <th></th>\n",
       "      <th></th>\n",
       "      <th></th>\n",
       "    </tr>\n",
       "  </thead>\n",
       "  <tbody>\n",
       "    <tr>\n",
       "      <th>7B_dpo_cp-10000</th>\n",
       "      <td>8.10 ± 10.33</td>\n",
       "      <td>2.19 ± 1.26</td>\n",
       "      <td>0.020 ± 0.085</td>\n",
       "      <td>0.872 ± 0.084</td>\n",
       "    </tr>\n",
       "    <tr>\n",
       "      <th>7B_dpo_cp-2000</th>\n",
       "      <td>7.13 ± 3.42</td>\n",
       "      <td>2.16 ± 1.18</td>\n",
       "      <td>0.042 ± 0.155</td>\n",
       "      <td>0.883 ± 0.071</td>\n",
       "    </tr>\n",
       "  </tbody>\n",
       "</table>\n",
       "</div>"
      ],
      "text/plain": [
       "                text_standard [grade] reading_time [s] toxicity [0-1]  \\\n",
       "name                                                                    \n",
       "7B_dpo_cp-10000          8.10 ± 10.33      2.19 ± 1.26  0.020 ± 0.085   \n",
       "7B_dpo_cp-2000            7.13 ± 3.42      2.16 ± 1.18  0.042 ± 0.155   \n",
       "\n",
       "                  reward [0-1]  \n",
       "name                            \n",
       "7B_dpo_cp-10000  0.872 ± 0.084  \n",
       "7B_dpo_cp-2000   0.883 ± 0.071  "
      ]
     },
     "execution_count": 17,
     "metadata": {},
     "output_type": "execute_result"
    }
   ],
   "source": [
    "metrics_df = pd.DataFrame(metrics_list)\n",
    "metrics_df = metrics_df.set_index('name').sort_index()\n",
    "metrics_df.to_markdown('metrics_model_comparison.md')\n",
    "metrics_df"
   ]
  },
  {
   "cell_type": "markdown",
   "metadata": {},
   "source": [
    "Review an example row"
   ]
  },
  {
   "cell_type": "code",
   "execution_count": null,
   "metadata": {},
   "outputs": [
    {
     "data": {
      "text/html": [
       "<div>\n",
       "<style scoped>\n",
       "    .dataframe tbody tr th:only-of-type {\n",
       "        vertical-align: middle;\n",
       "    }\n",
       "\n",
       "    .dataframe tbody tr th {\n",
       "        vertical-align: top;\n",
       "    }\n",
       "\n",
       "    .dataframe thead th {\n",
       "        text-align: right;\n",
       "    }\n",
       "</style>\n",
       "<table border=\"1\" class=\"dataframe\">\n",
       "  <thead>\n",
       "    <tr style=\"text-align: right;\">\n",
       "      <th></th>\n",
       "      <th>0</th>\n",
       "    </tr>\n",
       "  </thead>\n",
       "  <tbody>\n",
       "    <tr>\n",
       "      <th>question</th>\n",
       "      <td>How does new city formation works in US? If me and my 50 friend purchase land in middle of nowhere, build homes and start living there, will it be designated as city by state government?</td>\n",
       "    </tr>\n",
       "    <tr>\n",
       "      <th>7B_dpo_cp-10000.answer</th>\n",
       "      <td>Sooner or later they'll notice you.  They'll come and they'll make you leave.</td>\n",
       "    </tr>\n",
       "    <tr>\n",
       "      <th>7B_dpo_cp-10000.reward</th>\n",
       "      <td>0.757794</td>\n",
       "    </tr>\n",
       "    <tr>\n",
       "      <th>7B_dpo_cp-2000.answer</th>\n",
       "      <td>So called \"boom towns\" do indeed spring up overnight, but they're not started by 50 people.  They're started by an oil company, a mining company, a logging company, a sawmill, a cattle ranch, or some similar business.  The 50 people you're thinking of are called \"</td>\n",
       "    </tr>\n",
       "    <tr>\n",
       "      <th>7B_dpo_cp-2000.reward</th>\n",
       "      <td>0.953275</td>\n",
       "    </tr>\n",
       "    <tr>\n",
       "      <th>7B_dpo_cp-10000.text_standard</th>\n",
       "      <td>5.0</td>\n",
       "    </tr>\n",
       "    <tr>\n",
       "      <th>7B_dpo_cp-10000.reading_time</th>\n",
       "      <td>0.94</td>\n",
       "    </tr>\n",
       "    <tr>\n",
       "      <th>7B_dpo_cp-2000.text_standard</th>\n",
       "      <td>7.0</td>\n",
       "    </tr>\n",
       "    <tr>\n",
       "      <th>7B_dpo_cp-2000.reading_time</th>\n",
       "      <td>3.19</td>\n",
       "    </tr>\n",
       "  </tbody>\n",
       "</table>\n",
       "</div>"
      ],
      "text/plain": [
       "                                                                                                                                                                                                                                                                                                       0\n",
       "question                                                                                                      How does new city formation works in US? If me and my 50 friend purchase land in middle of nowhere, build homes and start living there, will it be designated as city by state government?\n",
       "7B_dpo_cp-10000.answer                                                                                                                                                                                                     Sooner or later they'll notice you.  They'll come and they'll make you leave.\n",
       "7B_dpo_cp-10000.reward                                                                                                                                                                                                                                                                          0.757794\n",
       "7B_dpo_cp-2000.answer           So called \"boom towns\" do indeed spring up overnight, but they're not started by 50 people.  They're started by an oil company, a mining company, a logging company, a sawmill, a cattle ranch, or some similar business.  The 50 people you're thinking of are called \"\n",
       "7B_dpo_cp-2000.reward                                                                                                                                                                                                                                                                           0.953275\n",
       "7B_dpo_cp-10000.text_standard                                                                                                                                                                                                                                                                        5.0\n",
       "7B_dpo_cp-10000.reading_time                                                                                                                                                                                                                                                                        0.94\n",
       "7B_dpo_cp-2000.text_standard                                                                                                                                                                                                                                                                         7.0\n",
       "7B_dpo_cp-2000.reading_time                                                                                                                                                                                                                                                                         3.19"
      ]
     },
     "metadata": {},
     "output_type": "display_data"
    }
   ],
   "source": [
    "with pd.option_context('display.max_rows', None, 'display.max_columns', None, 'display.max_colwidth', None):\n",
    "    display(pd.DataFrame(df.iloc[0]))"
   ]
  },
  {
   "cell_type": "markdown",
   "metadata": {},
   "source": [
    "#### Data for Human Annotators \n",
    "\n",
    "Generate sheet to compare models for human annotators. We focus on the baseline and the two checkpoints after 2500 and 8500 steps. We compare to the left and make sure that the order is randomized"
   ]
  },
  {
   "cell_type": "code",
   "execution_count": null,
   "metadata": {},
   "outputs": [],
   "source": [
    "def encode_metadata(metadata):\n",
    "    metadata = repr(metadata)\n",
    "    metadata = metadata.encode('utf-8')\n",
    "    metadata = base64.b64encode(metadata)\n",
    "    return metadata\n",
    "\n",
    "def decode_metadata(metadata):\n",
    "    metadata = metadata[2:-1]  # remove b' and '\n",
    "    metadata = base64.b64decode(metadata)\n",
    "    metadata = metadata.decode('utf-8')\n",
    "    metadata = ast.literal_eval(metadata)\n",
    "    return metadata"
   ]
  },
  {
   "cell_type": "code",
   "execution_count": null,
   "metadata": {},
   "outputs": [],
   "source": [
    "def create_comparison(col1, col2): \n",
    "\n",
    "    # Create a new dataframe with the two columns\n",
    "    comparisons = []\n",
    "\n",
    "    for i, row in df.iterrows():\n",
    "\n",
    "        question = row['question']\n",
    "        answer1 = row[col1]\n",
    "        answer2 = row[col2]\n",
    "\n",
    "        do_swap = np.random.choice([True, False])\n",
    "\n",
    "\n",
    "        comparison_row = {\n",
    "            'question': question,\n",
    "            'answer1': answer1 if not do_swap else answer2,\n",
    "            'answer2': answer2 if not do_swap else answer1,\n",
    "            'metadata': {\n",
    "                'rand1': np.random.randint(0, 1e5),\n",
    "                'do_swap': do_swap,\n",
    "                'answer1': col1 if not do_swap else col2,\n",
    "                'answer2': col2 if not do_swap else col1, \n",
    "                'rand2': np.random.randint(0, 1e5)\n",
    "            },\n",
    "        }\n",
    "        comparison_row['metadata_encoded'] = encode_metadata(comparison_row['metadata'])\n",
    "\n",
    "        comparisons.append(comparison_row)\n",
    "\n",
    "    df_comparisons = pd.DataFrame.from_records(comparisons)\n",
    "    return df_comparisons\n",
    "\n",
    "#with pd.option_context('display.max_colwidth', None):\n",
    "#    display(create_comparison('baseline.answer', 'checkpoint-2500.answer'))"
   ]
  },
  {
   "cell_type": "code",
   "execution_count": null,
   "metadata": {},
   "outputs": [
    {
     "data": {
      "text/plain": [
       "Index(['question', '7B_dpo_cp-10000.answer', '7B_dpo_cp-10000.reward',\n",
       "       '7B_dpo_cp-2000.answer', '7B_dpo_cp-2000.reward',\n",
       "       '7B_dpo_cp-10000.text_standard', '7B_dpo_cp-10000.reading_time',\n",
       "       '7B_dpo_cp-2000.text_standard', '7B_dpo_cp-2000.reading_time'],\n",
       "      dtype='object')"
      ]
     },
     "execution_count": 21,
     "metadata": {},
     "output_type": "execute_result"
    }
   ],
   "source": [
    "df.columns"
   ]
  },
  {
   "cell_type": "code",
   "execution_count": null,
   "metadata": {},
   "outputs": [],
   "source": [
    "create_comparison('3B_baseline.answer', '3B_cp-2500.answer')\\\n",
    "    .head(100)\\\n",
    "    .to_excel('Model Comparison - 3B Baseline vs 3B SFT (n100).xlsx')\n",
    "\n",
    "create_comparison('7B_baseline.answer', '7B_cp-2000.answer')\\\n",
    "    .head(100)\\\n",
    "    .to_excel('Model Comparison - 7B Baseline vs 7B SFT (n100).xlsx')"
   ]
  },
  {
   "cell_type": "markdown",
   "metadata": {},
   "source": [
    "#### EDA on Data from Human Annotators"
   ]
  },
  {
   "cell_type": "markdown",
   "metadata": {},
   "source": [
    "First, let's count the votes"
   ]
  },
  {
   "cell_type": "code",
   "execution_count": null,
   "metadata": {},
   "outputs": [],
   "source": [
    "comparison_files = [\n",
    "    'labelled_data/Model Comparison - Baseline vs Checkpoint-2500 (n200).xlsx',\n",
    "    'labelled_data/Model Comparison - Checkpoint-2500 vs Checkpoint-8500 (n200).xlsx',\n",
    "    'labelled_data/Model Comparison - 3B Baseline vs 3B SFT (n100).xlsx',\n",
    "    'labelled_data/Model Comparison - 7B Baseline vs 7B SFT (n100).xlsx',\n",
    "    'labelled_data/Model Comparison - 7B-Chat PPO vs 7B Chat SFT (n100).xlsx',\n",
    "    'labelled_data/Model Comparison - 7B PPO vs 7B SFT (n100).xlsx'\n",
    "]\n",
    "\n",
    "\n",
    "def organize_answers(row): \n",
    "    metadata = row['metadata']\n",
    "    answer1 = metadata['answer1']\n",
    "    answer2 = metadata['answer2']\n",
    "\n",
    "    return {answer1: row['answer1'], answer2: row['answer2']}\n",
    "\n",
    "\n",
    "comparisons = []\n",
    "answers = {}\n",
    "for comparison_file in comparison_files:\n",
    "\n",
    "    # Load comparison data\n",
    "    comparison_df = pd.read_excel(comparison_file)\n",
    "\n",
    "    # Decode metadata\n",
    "    comparison_df[\"metadata\"] = comparison_df.metadata_encoded.apply(decode_metadata)\n",
    "    comparison_df.drop(columns=[\"metadata_encoded\"], inplace=True)\n",
    "    comparison_df.metadata = comparison_df.metadata.apply(lambda d: {k: v for k, v in d.items() if k not in ['rand1', 'rand2']})\n",
    "\n",
    "    # Fix column names\n",
    "    comparison_df.drop(columns=[\"assignee1\"], inplace=True, errors=\"ignore\")\n",
    "    comparison_df.rename(columns={\"label1\": \"label\"}, inplace=True, errors=\"ignore\")\n",
    "\n",
    "    # Count votes\n",
    "    counters = defaultdict(int)\n",
    "    for _, row in comparison_df.iterrows():\n",
    "        if row['label'] == '1 - answer1 is better':\n",
    "            counters[row['metadata']['answer1']] += 1\n",
    "        \n",
    "        elif row['label'] == '2 - answer2 is better':\n",
    "            counters[row['metadata']['answer2']] += 1\n",
    "\n",
    "        elif row['label'] == '3 - both are equal':\n",
    "            counters['parity'] += 1\n",
    "\n",
    "    # Organize answers\n",
    "    answers_pair = comparison_df.apply(organize_answers, axis=1)\n",
    "    answers_pair = list(answers_pair)\n",
    "    model_names = {k for pair in answers_pair for k in pair.keys() }\n",
    "    for model_name in model_names: \n",
    "        answers[model_name] = [pair[model_name] for pair in answers_pair]\n",
    "\n",
    "    #print(answers_pair[:2])\n",
    "\n",
    "    counters = {name: counters[name] for name in sorted(counters.keys())}\n",
    "    comparisons.append(counters)\n",
    "\n",
    "\n",
    "# # Create df with answers\n",
    "# answers = pd.DataFrame(answers)\n",
    "# #answers.columns = [c.replace('.answer', '') for c in answers.columns]\n",
    "# answers.insert(0, \"question\", comparison_df[\"question\"])\n",
    "#\n",
    "#\n",
    "# # Display\n",
    "# with pd.option_context('display.max_rows', None, 'display.max_columns', None, 'display.max_colwidth', None):\n",
    "#     display(answers.head(3))"
   ]
  },
  {
   "cell_type": "code",
   "execution_count": null,
   "metadata": {},
   "outputs": [
    {
     "data": {
      "text/plain": [
       "[{'baseline.answer': 78, 'checkpoint-2500.answer': 40, 'parity': 33},\n",
       " {'checkpoint-2500.answer': 68, 'checkpoint-8500.answer': 60, 'parity': 46},\n",
       " {'3B_baseline.answer': 16, '3B_cp-2500.answer': 53, 'parity': 31},\n",
       " {'7B_baseline.answer': 24, '7B_cp-2000.answer': 60, 'parity': 16},\n",
       " {'7B-chat_cp-2500.answer': 18, '7B-chat_ppo.answer': 19, 'parity': 15},\n",
       " {'7B_cp-2000.answer': 16, '7B_ppo.answer': 17, 'parity': 19}]"
      ]
     },
     "execution_count": 5,
     "metadata": {},
     "output_type": "execute_result"
    }
   ],
   "source": [
    "comparisons"
   ]
  },
  {
   "cell_type": "code",
   "execution_count": null,
   "metadata": {},
   "outputs": [
    {
     "data": {
      "image/png": "[encoded data removed]",
      "text/plain": [
       "<Figure size 300x500 with 1 Axes>"
      ]
     },
     "metadata": {},
     "output_type": "display_data"
    },
    {
     "data": {
      "image/png": "[encoded data removed]",
      "text/plain": [
       "<Figure size 300x500 with 1 Axes>"
      ]
     },
     "metadata": {},
     "output_type": "display_data"
    },
    {
     "data": {
      "image/png": "[encoded data removed]",
      "text/plain": [
       "<Figure size 300x500 with 1 Axes>"
      ]
     },
     "metadata": {},
     "output_type": "display_data"
    },
    {
     "data": {
      "image/png": "[encoded data removed]",
      "text/plain": [
       "<Figure size 300x500 with 1 Axes>"
      ]
     },
     "metadata": {},
     "output_type": "display_data"
    },
    {
     "data": {
      "image/png": "[encoded data removed]",
      "text/plain": [
       "<Figure size 300x500 with 1 Axes>"
      ]
     },
     "metadata": {},
     "output_type": "display_data"
    },
    {
     "data": {
      "image/png": "[encoded data removed]",
      "text/plain": [
       "<Figure size 300x500 with 1 Axes>"
      ]
     },
     "metadata": {},
     "output_type": "display_data"
    }
   ],
   "source": [
    "for comparison in comparisons: \n",
    "\n",
    "    keys = list(comparison.keys())\n",
    "    keys = keys[:1] + ['parity'] + keys[1:2]\n",
    "\n",
    "    pd.DataFrame([\n",
    "        {'rating': k.replace('.answer', ''), 'count': comparison[k]} for k in keys\n",
    "    ]).set_index('rating').T.plot.bar(stacked=True, figsize=(3, 5), legend=False)\n",
    "    plt.axis('off')\n",
    "    plt.legend(bbox_to_anchor=(1.0, 0.0))\n",
    "    plt.show()"
   ]
  },
  {
   "cell_type": "code",
   "execution_count": null,
   "metadata": {},
   "outputs": [],
   "source": []
  }
 ],
 "metadata": {
  "kernelspec": {
   "display_name": "venv",
   "language": "python",
   "name": "python3"
  },
  "language_info": {
   "codemirror_mode": {
    "name": "ipython",
    "version": 3
   },
   "file_extension": ".py",
   "mimetype": "text/x-python",
   "name": "python",
   "nbconvert_exporter": "python",
   "pygments_lexer": "ipython3",
   "version": "3.10.12"
  },
  "orig_nbformat": 4
 },
 "nbformat": 4,
 "nbformat_minor": 2
}
