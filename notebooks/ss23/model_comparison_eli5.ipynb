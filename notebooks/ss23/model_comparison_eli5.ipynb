{
 "cells": [
  {
   "cell_type": "code",
   "execution_count": 1,
   "metadata": {},
   "outputs": [],
   "source": [
    "import os\n",
    "os.environ[\"CUDA_VISIBLE_DEVICES\"] = \"0\""
   ]
  },
  {
   "cell_type": "code",
   "execution_count": 2,
   "metadata": {},
   "outputs": [],
   "source": [
    "from dataclasses import dataclass, field\n",
    "from typing import Optional\n",
    "import huggingface_hub\n",
    "import functools as ft\n",
    "import torch\n",
    "import pandas as pd\n",
    "import torch\n",
    "from accelerate import Accelerator\n",
    "from datasets import load_dataset\n",
    "from peft import LoraConfig\n",
    "from tqdm import tqdm\n",
    "import ast\n",
    "from transformers import (\n",
    "    Adafactor,\n",
    "    AutoTokenizer,\n",
    "    HfArgumentParser,\n",
    "    pipeline,\n",
    "    AutoConfig,\n",
    "    GPTNeoXForCausalLM,\n",
    "    AutoModelForCausalLM,\n",
    ")\n",
    "from trl import AutoModelForCausalLMWithValueHead, PPOConfig, PPOTrainer, set_seed\n",
    "from trl.core import LengthSampler\n",
    "from transformers import pipeline, TextGenerationPipeline\n",
    "import pandas as pd\n",
    "import os\n",
    "import matplotlib.pyplot as plt\n",
    "import numpy as np\n",
    "from redditqa.dataset import load_reddit_dataset\n",
    "from dataclasses import dataclass, field\n",
    "from typing import Optional\n",
    "import huggingface_hub\n",
    "import functools as ft\n",
    "import torch\n",
    "import pandas as pd\n",
    "import torch\n",
    "import os\n",
    "from accelerate import Accelerator\n",
    "from datasets import load_dataset\n",
    "from peft import LoraConfig\n",
    "from tqdm import tqdm\n",
    "from transformers import (\n",
    "    Adafactor,\n",
    "    AutoTokenizer,\n",
    "    HfArgumentParser,\n",
    "    pipeline,\n",
    "    AutoConfig,\n",
    "    GPTNeoXForCausalLM,\n",
    "    AutoModelForCausalLM,\n",
    ")\n",
    "from trl import AutoModelForCausalLMWithValueHead, PPOConfig, PPOTrainer, set_seed\n",
    "from trl.core import LengthSampler\n",
    "from transformers import (\n",
    "    pipeline,\n",
    "    TextGenerationPipeline,\n",
    "    AutoConfig,\n",
    "    AutoTokenizer,\n",
    "    AutoModelForCausalLM,\n",
    "    AutoModel,\n",
    "    AutoModelForSequenceClassification,\n",
    "    GPTNeoXForCausalLM,\n",
    "    LlamaForSequenceClassification,\n",
    ")\n",
    "from redditqa.dataset import load_reddit_dataset\n",
    "from transformers.utils.hub import convert_file_size_to_int, get_checkpoint_shard_files\n",
    "from peft import (\n",
    "    LoraConfig,\n",
    "    PeftConfig,\n",
    "    PeftModel,\n",
    "    TaskType,\n",
    "    get_peft_model,\n",
    "    set_peft_model_state_dict,\n",
    ")\n",
    "from peft.utils import _get_submodules\n",
    "import peft\n",
    "import torch\n",
    "import pandas as pd\n",
    "from sklearn.metrics import cohen_kappa_score\n",
    "from statsmodels.stats import inter_rater as irr\n",
    "import base64\n",
    "from collections import defaultdict\n",
    "import textstat\n",
    "from huggingface_hub import login\n",
    "\n",
    "HUGGINGFACE_TOKEN = os.environ.get(\"HUGGINGFACE_TOKEN\", None)\n",
    "if HUGGINGFACE_TOKEN is not None:\n",
    "    login(token=HUGGINGFACE_TOKEN)"
   ]
  },
  {
   "cell_type": "code",
   "execution_count": null,
   "metadata": {},
   "outputs": [
    {
     "data": {
      "text/plain": [
       "<torch._C.Generator at 0x7fe8e086a090>"
      ]
     },
     "execution_count": 3,
     "metadata": {},
     "output_type": "execute_result"
    }
   ],
   "source": [
    "torch.manual_seed(42)"
   ]
  },
  {
   "cell_type": "markdown",
   "metadata": {},
   "source": [
    "#### Loading the eval dataset"
   ]
  },
  {
   "cell_type": "code",
   "execution_count": null,
   "metadata": {},
   "outputs": [
    {
     "name": "stderr",
     "output_type": "stream",
     "text": [
      "Saving the dataset (1/1 shards): 100%|██████████| 5626/5626 [00:00<00:00, 12062.08 examples/s]\n"
     ]
    }
   ],
   "source": [
    "eval_dataset = load_reddit_dataset(\"eval\")\n",
    "eval_dataset = eval_dataset.select(range(200))"
   ]
  },
  {
   "cell_type": "code",
   "execution_count": null,
   "metadata": {},
   "outputs": [],
   "source": [
    "questions = eval_dataset['question_title']"
   ]
  },
  {
   "cell_type": "markdown",
   "metadata": {},
   "source": [
    "#### Run models"
   ]
  },
  {
   "cell_type": "code",
   "execution_count": null,
   "metadata": {},
   "outputs": [],
   "source": [
    "model_checkpoints = {\n",
    "    # # 3B\n",
    "    # '3B_baseline': 'openlm-research/open_llama_3b_v2',\n",
    "    # '3B_cp-2500': '/scratch1/jhoff/checkpoints/finetuned_open-llama-3b-v2/checkpoint-2500_merged',\n",
    "    # # 7B\n",
    "    '7B_baseline': 'meta-llama/Llama-2-7b-hf',\n",
    "    '7B_cp-2000': '/scratch1/jhoff/checkpoints/finetuned_llama-2-7b-hf/checkpoint-2000_merged',\n",
    "    # '7B_ppo': '/scratch1/jhoff/checkpoints/ppo_llama-2-7b-nochat_sft-checkpoint-2000/final_merged',\n",
    "    # # 7B Chat\n",
    "    # '7B-chat_baseline': 'meta-llama/Llama-2-7b-chat-hf',\n",
    "    # '7B-chat_cp-2500': '/scratch1/jhoff/checkpoints/finetuned_llama-2-7b-chat-hf/checkpoint-2500_merged',\n",
    "    # '7B-chat_ppo': '/scratch1/jhoff/checkpoints/ppo_llama-2-7b_sft-checkpoint-2500/final_merged',\n",
    "    '7B_dpo_cp-10000': '/scratch1/redditqa/test_dpo/final_checkpoint_merged',\n",
    "    '7B_dpo_cp-2000': '/scratch1/redditqa/test_dpo/checkpoint-2000_merged',\n",
    "}"
   ]
  },
  {
   "cell_type": "markdown",
   "metadata": {},
   "source": [
    "Generate answers for questions with the models"
   ]
  },
  {
   "cell_type": "code",
   "execution_count": null,
   "metadata": {},
   "outputs": [
    {
     "name": "stderr",
     "output_type": "stream",
     "text": [
      "Loading checkpoint shards: 100%|██████████| 2/2 [02:44<00:00, 82.45s/it] \n",
      "  0%|          | 0/200 [00:00<?, ?it/s]Setting `pad_token_id` to `eos_token_id`:2 for open-end generation.\n",
      "  0%|          | 1/200 [00:07<24:07,  7.27s/it]Setting `pad_token_id` to `eos_token_id`:2 for open-end generation.\n",
      "  1%|          | 2/200 [00:09<14:15,  4.32s/it]Setting `pad_token_id` to `eos_token_id`:2 for open-end generation.\n",
      "  2%|▏         | 3/200 [00:11<11:02,  3.36s/it]Setting `pad_token_id` to `eos_token_id`:2 for open-end generation.\n",
      "  2%|▏         | 4/200 [00:13<09:21,  2.86s/it]Setting `pad_token_id` to `eos_token_id`:2 for open-end generation.\n",
      "  2%|▎         | 5/200 [00:16<08:28,  2.61s/it]Setting `pad_token_id` to `eos_token_id`:2 for open-end generation.\n",
      "  3%|▎         | 6/200 [00:18<07:58,  2.47s/it]Setting `pad_token_id` to `eos_token_id`:2 for open-end generation.\n",
      "  4%|▎         | 7/200 [00:20<07:35,  2.36s/it]Setting `pad_token_id` to `eos_token_id`:2 for open-end generation.\n",
      "  4%|▍         | 8/200 [00:21<06:43,  2.10s/it]Setting `pad_token_id` to `eos_token_id`:2 for open-end generation.\n",
      "  4%|▍         | 9/200 [00:23<06:29,  2.04s/it]Setting `pad_token_id` to `eos_token_id`:2 for open-end generation.\n",
      "  5%|▌         | 10/200 [00:25<06:35,  2.08s/it]/usr/local/lib/python3.10/dist-packages/transformers/pipelines/base.py:1101: UserWarning: You seem to be using the pipelines sequentially on GPU. In order to maximize efficiency please use a dataset\n",
      "  warnings.warn(\n",
      "Setting `pad_token_id` to `eos_token_id`:2 for open-end generation.\n",
      "  6%|▌         | 11/200 [00:27<06:26,  2.04s/it]Setting `pad_token_id` to `eos_token_id`:2 for open-end generation.\n",
      "  6%|▌         | 12/200 [00:30<06:43,  2.15s/it]Setting `pad_token_id` to `eos_token_id`:2 for open-end generation.\n",
      "  6%|▋         | 13/200 [00:32<06:31,  2.09s/it]Setting `pad_token_id` to `eos_token_id`:2 for open-end generation.\n",
      "  7%|▋         | 14/200 [00:34<06:39,  2.15s/it]Setting `pad_token_id` to `eos_token_id`:2 for open-end generation.\n",
      "  8%|▊         | 15/200 [00:36<06:46,  2.20s/it]Setting `pad_token_id` to `eos_token_id`:2 for open-end generation.\n",
      "  8%|▊         | 16/200 [00:39<06:45,  2.21s/it]Setting `pad_token_id` to `eos_token_id`:2 for open-end generation.\n",
      "  8%|▊         | 17/200 [00:41<06:43,  2.21s/it]Setting `pad_token_id` to `eos_token_id`:2 for open-end generation.\n",
      "  9%|▉         | 18/200 [00:43<06:29,  2.14s/it]Setting `pad_token_id` to `eos_token_id`:2 for open-end generation.\n",
      " 10%|▉         | 19/200 [00:45<06:37,  2.19s/it]Setting `pad_token_id` to `eos_token_id`:2 for open-end generation.\n",
      " 10%|█         | 20/200 [00:47<06:31,  2.18s/it]Setting `pad_token_id` to `eos_token_id`:2 for open-end generation.\n",
      " 10%|█         | 21/200 [00:49<06:17,  2.11s/it]Setting `pad_token_id` to `eos_token_id`:2 for open-end generation.\n",
      " 11%|█         | 22/200 [00:52<06:27,  2.18s/it]Setting `pad_token_id` to `eos_token_id`:2 for open-end generation.\n",
      " 12%|█▏        | 23/200 [00:54<06:30,  2.21s/it]Setting `pad_token_id` to `eos_token_id`:2 for open-end generation.\n",
      " 12%|█▏        | 24/200 [00:54<04:52,  1.66s/it]Setting `pad_token_id` to `eos_token_id`:2 for open-end generation.\n",
      " 12%|█▎        | 25/200 [00:56<05:05,  1.74s/it]Setting `pad_token_id` to `eos_token_id`:2 for open-end generation.\n",
      " 13%|█▎        | 26/200 [00:58<05:30,  1.90s/it]Setting `pad_token_id` to `eos_token_id`:2 for open-end generation.\n",
      " 14%|█▎        | 27/200 [01:00<05:29,  1.91s/it]Setting `pad_token_id` to `eos_token_id`:2 for open-end generation.\n",
      " 14%|█▍        | 28/200 [01:02<05:32,  1.93s/it]Setting `pad_token_id` to `eos_token_id`:2 for open-end generation.\n",
      " 14%|█▍        | 29/200 [01:04<05:43,  2.01s/it]Setting `pad_token_id` to `eos_token_id`:2 for open-end generation.\n",
      " 15%|█▌        | 30/200 [01:07<05:55,  2.09s/it]Setting `pad_token_id` to `eos_token_id`:2 for open-end generation.\n",
      " 16%|█▌        | 31/200 [01:09<06:00,  2.13s/it]Setting `pad_token_id` to `eos_token_id`:2 for open-end generation.\n",
      " 16%|█▌        | 32/200 [01:11<05:57,  2.13s/it]Setting `pad_token_id` to `eos_token_id`:2 for open-end generation.\n",
      " 16%|█▋        | 33/200 [01:13<05:44,  2.06s/it]Setting `pad_token_id` to `eos_token_id`:2 for open-end generation.\n",
      " 17%|█▋        | 34/200 [01:15<05:57,  2.15s/it]Setting `pad_token_id` to `eos_token_id`:2 for open-end generation.\n",
      " 18%|█▊        | 35/200 [01:18<06:02,  2.20s/it]Setting `pad_token_id` to `eos_token_id`:2 for open-end generation.\n",
      " 18%|█▊        | 36/200 [01:20<05:49,  2.13s/it]Setting `pad_token_id` to `eos_token_id`:2 for open-end generation.\n",
      " 18%|█▊        | 37/200 [01:22<05:41,  2.09s/it]Setting `pad_token_id` to `eos_token_id`:2 for open-end generation.\n",
      " 19%|█▉        | 38/200 [01:24<05:26,  2.02s/it]Setting `pad_token_id` to `eos_token_id`:2 for open-end generation.\n",
      " 20%|█▉        | 39/200 [01:26<05:26,  2.03s/it]Setting `pad_token_id` to `eos_token_id`:2 for open-end generation.\n",
      " 20%|██        | 40/200 [01:28<05:23,  2.02s/it]Setting `pad_token_id` to `eos_token_id`:2 for open-end generation.\n",
      " 20%|██        | 41/200 [01:30<05:33,  2.10s/it]Setting `pad_token_id` to `eos_token_id`:2 for open-end generation.\n",
      " 21%|██        | 42/200 [01:32<05:15,  2.00s/it]Setting `pad_token_id` to `eos_token_id`:2 for open-end generation.\n",
      " 22%|██▏       | 43/200 [01:34<05:28,  2.09s/it]Setting `pad_token_id` to `eos_token_id`:2 for open-end generation.\n",
      " 22%|██▏       | 44/200 [01:36<05:31,  2.13s/it]Setting `pad_token_id` to `eos_token_id`:2 for open-end generation.\n",
      " 22%|██▎       | 45/200 [01:38<05:34,  2.16s/it]Setting `pad_token_id` to `eos_token_id`:2 for open-end generation.\n",
      " 23%|██▎       | 46/200 [01:41<05:33,  2.17s/it]Setting `pad_token_id` to `eos_token_id`:2 for open-end generation.\n",
      " 24%|██▎       | 47/200 [01:43<05:36,  2.20s/it]Setting `pad_token_id` to `eos_token_id`:2 for open-end generation.\n",
      " 24%|██▍       | 48/200 [01:45<05:32,  2.18s/it]Setting `pad_token_id` to `eos_token_id`:2 for open-end generation.\n",
      " 24%|██▍       | 49/200 [01:47<05:32,  2.20s/it]Setting `pad_token_id` to `eos_token_id`:2 for open-end generation.\n",
      " 25%|██▌       | 50/200 [01:49<05:25,  2.17s/it]Setting `pad_token_id` to `eos_token_id`:2 for open-end generation.\n",
      " 26%|██▌       | 51/200 [01:52<05:28,  2.21s/it]Setting `pad_token_id` to `eos_token_id`:2 for open-end generation.\n",
      " 26%|██▌       | 52/200 [01:54<05:17,  2.15s/it]Setting `pad_token_id` to `eos_token_id`:2 for open-end generation.\n",
      " 26%|██▋       | 53/200 [01:55<04:59,  2.04s/it]Setting `pad_token_id` to `eos_token_id`:2 for open-end generation.\n",
      " 27%|██▋       | 54/200 [01:57<04:56,  2.03s/it]Setting `pad_token_id` to `eos_token_id`:2 for open-end generation.\n",
      " 28%|██▊       | 55/200 [01:59<04:51,  2.01s/it]Setting `pad_token_id` to `eos_token_id`:2 for open-end generation.\n",
      " 28%|██▊       | 56/200 [02:01<04:52,  2.03s/it]Setting `pad_token_id` to `eos_token_id`:2 for open-end generation.\n",
      " 28%|██▊       | 57/200 [02:04<04:54,  2.06s/it]Setting `pad_token_id` to `eos_token_id`:2 for open-end generation.\n",
      " 29%|██▉       | 58/200 [02:06<04:54,  2.08s/it]Setting `pad_token_id` to `eos_token_id`:2 for open-end generation.\n",
      " 30%|██▉       | 59/200 [02:08<05:04,  2.16s/it]Setting `pad_token_id` to `eos_token_id`:2 for open-end generation.\n",
      " 30%|███       | 60/200 [02:10<04:59,  2.14s/it]Setting `pad_token_id` to `eos_token_id`:2 for open-end generation.\n",
      " 30%|███       | 61/200 [02:12<04:40,  2.02s/it]Setting `pad_token_id` to `eos_token_id`:2 for open-end generation.\n",
      " 31%|███       | 62/200 [02:14<04:30,  1.96s/it]Setting `pad_token_id` to `eos_token_id`:2 for open-end generation.\n",
      " 32%|███▏      | 63/200 [02:16<04:36,  2.02s/it]Setting `pad_token_id` to `eos_token_id`:2 for open-end generation.\n",
      " 32%|███▏      | 64/200 [02:18<04:45,  2.10s/it]Setting `pad_token_id` to `eos_token_id`:2 for open-end generation.\n",
      " 32%|███▎      | 65/200 [02:20<04:28,  1.99s/it]Setting `pad_token_id` to `eos_token_id`:2 for open-end generation.\n",
      " 33%|███▎      | 66/200 [02:22<04:37,  2.07s/it]Setting `pad_token_id` to `eos_token_id`:2 for open-end generation.\n",
      " 34%|███▎      | 67/200 [02:24<04:45,  2.14s/it]Setting `pad_token_id` to `eos_token_id`:2 for open-end generation.\n",
      " 34%|███▍      | 68/200 [02:27<04:48,  2.19s/it]Setting `pad_token_id` to `eos_token_id`:2 for open-end generation.\n",
      " 34%|███▍      | 69/200 [02:29<04:34,  2.10s/it]Setting `pad_token_id` to `eos_token_id`:2 for open-end generation.\n",
      " 35%|███▌      | 70/200 [02:31<04:35,  2.12s/it]Setting `pad_token_id` to `eos_token_id`:2 for open-end generation.\n",
      " 36%|███▌      | 71/200 [02:33<04:29,  2.09s/it]Setting `pad_token_id` to `eos_token_id`:2 for open-end generation.\n",
      " 36%|███▌      | 72/200 [02:35<04:27,  2.09s/it]Setting `pad_token_id` to `eos_token_id`:2 for open-end generation.\n",
      " 36%|███▋      | 73/200 [02:37<04:32,  2.14s/it]Setting `pad_token_id` to `eos_token_id`:2 for open-end generation.\n",
      " 37%|███▋      | 74/200 [02:39<04:34,  2.18s/it]Setting `pad_token_id` to `eos_token_id`:2 for open-end generation.\n",
      " 38%|███▊      | 75/200 [02:42<04:30,  2.16s/it]Setting `pad_token_id` to `eos_token_id`:2 for open-end generation.\n",
      " 38%|███▊      | 76/200 [02:43<04:14,  2.05s/it]Setting `pad_token_id` to `eos_token_id`:2 for open-end generation.\n",
      " 38%|███▊      | 77/200 [02:45<04:04,  1.98s/it]Setting `pad_token_id` to `eos_token_id`:2 for open-end generation.\n",
      " 39%|███▉      | 78/200 [02:47<04:14,  2.08s/it]Setting `pad_token_id` to `eos_token_id`:2 for open-end generation.\n",
      " 40%|███▉      | 79/200 [02:50<04:19,  2.14s/it]Setting `pad_token_id` to `eos_token_id`:2 for open-end generation.\n",
      " 40%|████      | 80/200 [02:52<04:15,  2.13s/it]Setting `pad_token_id` to `eos_token_id`:2 for open-end generation.\n",
      " 40%|████      | 81/200 [02:54<04:18,  2.17s/it]Setting `pad_token_id` to `eos_token_id`:2 for open-end generation.\n",
      " 41%|████      | 82/200 [02:56<04:19,  2.19s/it]Setting `pad_token_id` to `eos_token_id`:2 for open-end generation.\n",
      " 42%|████▏     | 83/200 [02:59<04:14,  2.17s/it]Setting `pad_token_id` to `eos_token_id`:2 for open-end generation.\n",
      " 42%|████▏     | 84/200 [03:00<03:55,  2.03s/it]Setting `pad_token_id` to `eos_token_id`:2 for open-end generation.\n",
      " 42%|████▎     | 85/200 [03:02<03:57,  2.06s/it]Setting `pad_token_id` to `eos_token_id`:2 for open-end generation.\n",
      " 43%|████▎     | 86/200 [03:05<04:05,  2.16s/it]Setting `pad_token_id` to `eos_token_id`:2 for open-end generation.\n",
      " 44%|████▎     | 87/200 [03:07<03:57,  2.11s/it]Setting `pad_token_id` to `eos_token_id`:2 for open-end generation.\n",
      " 44%|████▍     | 88/200 [03:08<03:39,  1.96s/it]Setting `pad_token_id` to `eos_token_id`:2 for open-end generation.\n",
      " 44%|████▍     | 89/200 [03:10<03:34,  1.93s/it]Setting `pad_token_id` to `eos_token_id`:2 for open-end generation.\n",
      " 45%|████▌     | 90/200 [03:12<03:39,  1.99s/it]Setting `pad_token_id` to `eos_token_id`:2 for open-end generation.\n",
      " 46%|████▌     | 91/200 [03:14<03:39,  2.01s/it]Setting `pad_token_id` to `eos_token_id`:2 for open-end generation.\n",
      " 46%|████▌     | 92/200 [03:16<03:13,  1.79s/it]Setting `pad_token_id` to `eos_token_id`:2 for open-end generation.\n",
      " 46%|████▋     | 93/200 [03:18<03:24,  1.91s/it]Setting `pad_token_id` to `eos_token_id`:2 for open-end generation.\n",
      " 47%|████▋     | 94/200 [03:20<03:34,  2.02s/it]Setting `pad_token_id` to `eos_token_id`:2 for open-end generation.\n",
      " 48%|████▊     | 95/200 [03:22<03:39,  2.09s/it]Setting `pad_token_id` to `eos_token_id`:2 for open-end generation.\n",
      " 48%|████▊     | 96/200 [03:25<03:40,  2.12s/it]Setting `pad_token_id` to `eos_token_id`:2 for open-end generation.\n",
      " 48%|████▊     | 97/200 [03:26<03:31,  2.05s/it]Setting `pad_token_id` to `eos_token_id`:2 for open-end generation.\n",
      " 49%|████▉     | 98/200 [03:29<03:36,  2.12s/it]Setting `pad_token_id` to `eos_token_id`:2 for open-end generation.\n",
      " 50%|████▉     | 99/200 [03:31<03:36,  2.15s/it]Setting `pad_token_id` to `eos_token_id`:2 for open-end generation.\n",
      " 50%|█████     | 100/200 [03:33<03:32,  2.13s/it]Setting `pad_token_id` to `eos_token_id`:2 for open-end generation.\n",
      " 50%|█████     | 101/200 [03:35<03:28,  2.10s/it]Setting `pad_token_id` to `eos_token_id`:2 for open-end generation.\n",
      " 51%|█████     | 102/200 [03:37<03:29,  2.14s/it]Setting `pad_token_id` to `eos_token_id`:2 for open-end generation.\n",
      " 52%|█████▏    | 103/200 [03:39<03:28,  2.15s/it]Setting `pad_token_id` to `eos_token_id`:2 for open-end generation.\n",
      " 52%|█████▏    | 104/200 [03:42<03:25,  2.14s/it]Setting `pad_token_id` to `eos_token_id`:2 for open-end generation.\n",
      " 52%|█████▎    | 105/200 [03:44<03:20,  2.11s/it]Setting `pad_token_id` to `eos_token_id`:2 for open-end generation.\n",
      " 53%|█████▎    | 106/200 [03:46<03:20,  2.13s/it]Setting `pad_token_id` to `eos_token_id`:2 for open-end generation.\n",
      " 54%|█████▎    | 107/200 [03:48<03:08,  2.02s/it]Setting `pad_token_id` to `eos_token_id`:2 for open-end generation.\n",
      " 54%|█████▍    | 108/200 [03:49<02:59,  1.95s/it]Setting `pad_token_id` to `eos_token_id`:2 for open-end generation.\n",
      " 55%|█████▍    | 109/200 [03:52<03:08,  2.07s/it]Setting `pad_token_id` to `eos_token_id`:2 for open-end generation.\n",
      " 55%|█████▌    | 110/200 [03:54<03:00,  2.01s/it]Setting `pad_token_id` to `eos_token_id`:2 for open-end generation.\n",
      " 56%|█████▌    | 111/200 [03:56<03:01,  2.03s/it]Setting `pad_token_id` to `eos_token_id`:2 for open-end generation.\n",
      " 56%|█████▌    | 112/200 [03:58<02:56,  2.00s/it]Setting `pad_token_id` to `eos_token_id`:2 for open-end generation.\n",
      " 56%|█████▋    | 113/200 [04:00<02:51,  1.97s/it]Setting `pad_token_id` to `eos_token_id`:2 for open-end generation.\n",
      " 57%|█████▋    | 114/200 [04:02<02:59,  2.09s/it]Setting `pad_token_id` to `eos_token_id`:2 for open-end generation.\n",
      " 57%|█████▊    | 115/200 [04:04<03:03,  2.16s/it]Setting `pad_token_id` to `eos_token_id`:2 for open-end generation.\n",
      " 58%|█████▊    | 116/200 [04:06<02:59,  2.13s/it]Setting `pad_token_id` to `eos_token_id`:2 for open-end generation.\n",
      " 58%|█████▊    | 117/200 [04:08<02:51,  2.06s/it]Setting `pad_token_id` to `eos_token_id`:2 for open-end generation.\n",
      " 59%|█████▉    | 118/200 [04:10<02:51,  2.09s/it]Setting `pad_token_id` to `eos_token_id`:2 for open-end generation.\n",
      " 60%|█████▉    | 119/200 [04:13<02:54,  2.15s/it]Setting `pad_token_id` to `eos_token_id`:2 for open-end generation.\n",
      " 60%|██████    | 120/200 [04:14<02:41,  2.02s/it]Setting `pad_token_id` to `eos_token_id`:2 for open-end generation.\n",
      " 60%|██████    | 121/200 [04:16<02:42,  2.05s/it]Setting `pad_token_id` to `eos_token_id`:2 for open-end generation.\n",
      " 61%|██████    | 122/200 [04:19<02:42,  2.08s/it]Setting `pad_token_id` to `eos_token_id`:2 for open-end generation.\n",
      " 62%|██████▏   | 123/200 [04:21<02:44,  2.14s/it]Setting `pad_token_id` to `eos_token_id`:2 for open-end generation.\n",
      " 62%|██████▏   | 124/200 [04:23<02:37,  2.08s/it]Setting `pad_token_id` to `eos_token_id`:2 for open-end generation.\n",
      " 62%|██████▎   | 125/200 [04:25<02:38,  2.11s/it]Setting `pad_token_id` to `eos_token_id`:2 for open-end generation.\n",
      " 63%|██████▎   | 126/200 [04:27<02:29,  2.03s/it]Setting `pad_token_id` to `eos_token_id`:2 for open-end generation.\n",
      " 64%|██████▎   | 127/200 [04:29<02:31,  2.08s/it]Setting `pad_token_id` to `eos_token_id`:2 for open-end generation.\n",
      " 64%|██████▍   | 128/200 [04:31<02:31,  2.11s/it]Setting `pad_token_id` to `eos_token_id`:2 for open-end generation.\n",
      " 64%|██████▍   | 129/200 [04:33<02:29,  2.11s/it]Setting `pad_token_id` to `eos_token_id`:2 for open-end generation.\n",
      " 65%|██████▌   | 130/200 [04:35<02:26,  2.09s/it]Setting `pad_token_id` to `eos_token_id`:2 for open-end generation.\n",
      " 66%|██████▌   | 131/200 [04:37<02:05,  1.82s/it]Setting `pad_token_id` to `eos_token_id`:2 for open-end generation.\n",
      " 66%|██████▌   | 132/200 [04:39<02:10,  1.92s/it]Setting `pad_token_id` to `eos_token_id`:2 for open-end generation.\n",
      " 66%|██████▋   | 133/200 [04:41<02:10,  1.95s/it]Setting `pad_token_id` to `eos_token_id`:2 for open-end generation.\n",
      " 67%|██████▋   | 134/200 [04:42<02:03,  1.86s/it]Setting `pad_token_id` to `eos_token_id`:2 for open-end generation.\n",
      " 68%|██████▊   | 135/200 [04:45<02:09,  1.99s/it]Setting `pad_token_id` to `eos_token_id`:2 for open-end generation.\n",
      " 68%|██████▊   | 136/200 [04:47<02:08,  2.01s/it]Setting `pad_token_id` to `eos_token_id`:2 for open-end generation.\n",
      " 68%|██████▊   | 137/200 [04:49<02:09,  2.05s/it]Setting `pad_token_id` to `eos_token_id`:2 for open-end generation.\n",
      " 69%|██████▉   | 138/200 [04:51<02:04,  2.01s/it]Setting `pad_token_id` to `eos_token_id`:2 for open-end generation.\n",
      " 70%|██████▉   | 139/200 [04:53<02:07,  2.09s/it]Setting `pad_token_id` to `eos_token_id`:2 for open-end generation.\n",
      " 70%|███████   | 140/200 [04:54<01:50,  1.84s/it]Setting `pad_token_id` to `eos_token_id`:2 for open-end generation.\n",
      " 70%|███████   | 141/200 [04:56<01:48,  1.84s/it]Setting `pad_token_id` to `eos_token_id`:2 for open-end generation.\n",
      " 71%|███████   | 142/200 [04:58<01:54,  1.97s/it]Setting `pad_token_id` to `eos_token_id`:2 for open-end generation.\n",
      " 72%|███████▏  | 143/200 [05:01<01:57,  2.07s/it]Setting `pad_token_id` to `eos_token_id`:2 for open-end generation.\n",
      " 72%|███████▏  | 144/200 [05:03<01:50,  1.98s/it]Setting `pad_token_id` to `eos_token_id`:2 for open-end generation.\n",
      " 72%|███████▎  | 145/200 [05:05<01:51,  2.02s/it]Setting `pad_token_id` to `eos_token_id`:2 for open-end generation.\n",
      " 73%|███████▎  | 146/200 [05:07<01:46,  1.98s/it]Setting `pad_token_id` to `eos_token_id`:2 for open-end generation.\n",
      " 74%|███████▎  | 147/200 [05:09<01:48,  2.04s/it]Setting `pad_token_id` to `eos_token_id`:2 for open-end generation.\n",
      " 74%|███████▍  | 148/200 [05:11<01:49,  2.11s/it]Setting `pad_token_id` to `eos_token_id`:2 for open-end generation.\n",
      " 74%|███████▍  | 149/200 [05:13<01:40,  1.97s/it]Setting `pad_token_id` to `eos_token_id`:2 for open-end generation.\n",
      " 75%|███████▌  | 150/200 [05:14<01:35,  1.92s/it]Setting `pad_token_id` to `eos_token_id`:2 for open-end generation.\n",
      " 76%|███████▌  | 151/200 [05:16<01:34,  1.93s/it]Setting `pad_token_id` to `eos_token_id`:2 for open-end generation.\n",
      " 76%|███████▌  | 152/200 [05:19<01:37,  2.04s/it]Setting `pad_token_id` to `eos_token_id`:2 for open-end generation.\n",
      " 76%|███████▋  | 153/200 [05:20<01:31,  1.96s/it]Setting `pad_token_id` to `eos_token_id`:2 for open-end generation.\n",
      " 77%|███████▋  | 154/200 [05:23<01:35,  2.07s/it]Setting `pad_token_id` to `eos_token_id`:2 for open-end generation.\n",
      " 78%|███████▊  | 155/200 [05:25<01:34,  2.11s/it]Setting `pad_token_id` to `eos_token_id`:2 for open-end generation.\n",
      " 78%|███████▊  | 156/200 [05:27<01:35,  2.17s/it]Setting `pad_token_id` to `eos_token_id`:2 for open-end generation.\n",
      " 78%|███████▊  | 157/200 [05:30<01:35,  2.22s/it]Setting `pad_token_id` to `eos_token_id`:2 for open-end generation.\n",
      " 79%|███████▉  | 158/200 [05:32<01:33,  2.22s/it]Setting `pad_token_id` to `eos_token_id`:2 for open-end generation.\n",
      " 80%|███████▉  | 159/200 [05:34<01:26,  2.12s/it]Setting `pad_token_id` to `eos_token_id`:2 for open-end generation.\n",
      " 80%|████████  | 160/200 [05:36<01:26,  2.17s/it]Setting `pad_token_id` to `eos_token_id`:2 for open-end generation.\n",
      " 80%|████████  | 161/200 [05:38<01:19,  2.05s/it]Setting `pad_token_id` to `eos_token_id`:2 for open-end generation.\n",
      " 81%|████████  | 162/200 [05:40<01:18,  2.06s/it]Setting `pad_token_id` to `eos_token_id`:2 for open-end generation.\n",
      " 82%|████████▏ | 163/200 [05:42<01:15,  2.03s/it]Setting `pad_token_id` to `eos_token_id`:2 for open-end generation.\n",
      " 82%|████████▏ | 164/200 [05:44<01:09,  1.94s/it]Setting `pad_token_id` to `eos_token_id`:2 for open-end generation.\n",
      " 82%|████████▎ | 165/200 [05:45<01:05,  1.88s/it]Setting `pad_token_id` to `eos_token_id`:2 for open-end generation.\n",
      " 83%|████████▎ | 166/200 [05:47<01:02,  1.83s/it]Setting `pad_token_id` to `eos_token_id`:2 for open-end generation.\n",
      " 84%|████████▎ | 167/200 [05:49<01:02,  1.90s/it]Setting `pad_token_id` to `eos_token_id`:2 for open-end generation.\n",
      " 84%|████████▍ | 168/200 [05:51<00:59,  1.87s/it]Setting `pad_token_id` to `eos_token_id`:2 for open-end generation.\n",
      " 84%|████████▍ | 169/200 [05:53<01:02,  2.02s/it]Setting `pad_token_id` to `eos_token_id`:2 for open-end generation.\n",
      " 85%|████████▌ | 170/200 [05:55<00:58,  1.96s/it]Setting `pad_token_id` to `eos_token_id`:2 for open-end generation.\n",
      " 86%|████████▌ | 171/200 [05:57<00:58,  2.03s/it]Setting `pad_token_id` to `eos_token_id`:2 for open-end generation.\n",
      " 86%|████████▌ | 172/200 [05:59<00:54,  1.93s/it]Setting `pad_token_id` to `eos_token_id`:2 for open-end generation.\n",
      " 86%|████████▋ | 173/200 [06:00<00:48,  1.81s/it]Setting `pad_token_id` to `eos_token_id`:2 for open-end generation.\n",
      " 87%|████████▋ | 174/200 [06:03<00:51,  1.98s/it]Setting `pad_token_id` to `eos_token_id`:2 for open-end generation.\n",
      " 88%|████████▊ | 175/200 [06:05<00:51,  2.05s/it]Setting `pad_token_id` to `eos_token_id`:2 for open-end generation.\n",
      " 88%|████████▊ | 176/200 [06:07<00:50,  2.12s/it]Setting `pad_token_id` to `eos_token_id`:2 for open-end generation.\n",
      " 88%|████████▊ | 177/200 [06:09<00:48,  2.11s/it]Setting `pad_token_id` to `eos_token_id`:2 for open-end generation.\n",
      " 89%|████████▉ | 178/200 [06:11<00:45,  2.08s/it]Setting `pad_token_id` to `eos_token_id`:2 for open-end generation.\n",
      " 90%|████████▉ | 179/200 [06:14<00:44,  2.14s/it]Setting `pad_token_id` to `eos_token_id`:2 for open-end generation.\n",
      " 90%|█████████ | 180/200 [06:15<00:39,  1.96s/it]Setting `pad_token_id` to `eos_token_id`:2 for open-end generation.\n",
      " 90%|█████████ | 181/200 [06:17<00:38,  2.03s/it]Setting `pad_token_id` to `eos_token_id`:2 for open-end generation.\n",
      " 91%|█████████ | 182/200 [06:20<00:37,  2.08s/it]Setting `pad_token_id` to `eos_token_id`:2 for open-end generation.\n",
      " 92%|█████████▏| 183/200 [06:22<00:35,  2.10s/it]Setting `pad_token_id` to `eos_token_id`:2 for open-end generation.\n",
      " 92%|█████████▏| 184/200 [06:24<00:34,  2.15s/it]Setting `pad_token_id` to `eos_token_id`:2 for open-end generation.\n",
      " 92%|█████████▎| 185/200 [06:26<00:31,  2.13s/it]Setting `pad_token_id` to `eos_token_id`:2 for open-end generation.\n",
      " 93%|█████████▎| 186/200 [06:28<00:29,  2.13s/it]Setting `pad_token_id` to `eos_token_id`:2 for open-end generation.\n",
      " 94%|█████████▎| 187/200 [06:31<00:28,  2.17s/it]Setting `pad_token_id` to `eos_token_id`:2 for open-end generation.\n",
      " 94%|█████████▍| 188/200 [06:33<00:25,  2.16s/it]Setting `pad_token_id` to `eos_token_id`:2 for open-end generation.\n",
      " 94%|█████████▍| 189/200 [06:35<00:24,  2.20s/it]Setting `pad_token_id` to `eos_token_id`:2 for open-end generation.\n",
      " 95%|█████████▌| 190/200 [06:37<00:21,  2.20s/it]Setting `pad_token_id` to `eos_token_id`:2 for open-end generation.\n",
      " 96%|█████████▌| 191/200 [06:39<00:20,  2.23s/it]Setting `pad_token_id` to `eos_token_id`:2 for open-end generation.\n",
      " 96%|█████████▌| 192/200 [06:42<00:18,  2.26s/it]Setting `pad_token_id` to `eos_token_id`:2 for open-end generation.\n",
      " 96%|█████████▋| 193/200 [06:44<00:15,  2.19s/it]Setting `pad_token_id` to `eos_token_id`:2 for open-end generation.\n",
      " 97%|█████████▋| 194/200 [06:46<00:13,  2.23s/it]Setting `pad_token_id` to `eos_token_id`:2 for open-end generation.\n",
      " 98%|█████████▊| 195/200 [06:48<00:10,  2.17s/it]Setting `pad_token_id` to `eos_token_id`:2 for open-end generation.\n",
      " 98%|█████████▊| 196/200 [06:50<00:08,  2.17s/it]Setting `pad_token_id` to `eos_token_id`:2 for open-end generation.\n",
      " 98%|█████████▊| 197/200 [06:53<00:06,  2.20s/it]Setting `pad_token_id` to `eos_token_id`:2 for open-end generation.\n",
      " 99%|█████████▉| 198/200 [06:55<00:04,  2.19s/it]Setting `pad_token_id` to `eos_token_id`:2 for open-end generation.\n",
      "100%|█████████▉| 199/200 [06:57<00:02,  2.22s/it]Setting `pad_token_id` to `eos_token_id`:2 for open-end generation.\n",
      "100%|██████████| 200/200 [06:59<00:00,  2.10s/it]\n"
     ]
    },
    {
     "ename": "HFValidationError",
     "evalue": "Repo id must be in the form 'repo_name' or 'namespace/repo_name': '/scratch1/jhoff/checkpoints/finetuned_llama-2-7b-hf/checkpoint-2000_merged'. Use `repo_type` argument if needed.",
     "output_type": "error",
     "traceback": [
      "\u001b[0;31m---------------------------------------------------------------------------\u001b[0m",
      "\u001b[0;31mHFValidationError\u001b[0m                         Traceback (most recent call last)",
      "\u001b[1;32m/workspaces/reddit_qa/notebooks/model_comparison.ipynb Cell 10\u001b[0m line \u001b[0;36m3\n\u001b[1;32m     <a href='vscode-notebook-cell://dev-container%2B7b22686f737450617468223a222f686f6d652f6a686f666662617565722f7265646469745f7161222c226c6f63616c446f636b6572223a66616c73652c22636f6e66696746696c65223a7b22246d6964223a312c2270617468223a222f686f6d652f6a686f666662617565722f7265646469745f71612f2e646576636f6e7461696e65722f646576636f6e7461696e65722e6a736f6e222c22736368656d65223a227673636f64652d66696c65486f7374227d7d@ssh-remote%2Bhpi_gpu_server/workspaces/reddit_qa/notebooks/model_comparison.ipynb#X12sdnNjb2RlLXJlbW90ZQ%3D%3D?line=32'>33</a>\u001b[0m model_answers \u001b[39m=\u001b[39m {}\n\u001b[1;32m     <a href='vscode-notebook-cell://dev-container%2B7b22686f737450617468223a222f686f6d652f6a686f666662617565722f7265646469745f7161222c226c6f63616c446f636b6572223a66616c73652c22636f6e66696746696c65223a7b22246d6964223a312c2270617468223a222f686f6d652f6a686f666662617565722f7265646469745f71612f2e646576636f6e7461696e65722f646576636f6e7461696e65722e6a736f6e222c22736368656d65223a227673636f64652d66696c65486f7374227d7d@ssh-remote%2Bhpi_gpu_server/workspaces/reddit_qa/notebooks/model_comparison.ipynb#X12sdnNjb2RlLXJlbW90ZQ%3D%3D?line=33'>34</a>\u001b[0m \u001b[39mfor\u001b[39;00m model_name, checkpoint \u001b[39min\u001b[39;00m model_checkpoints\u001b[39m.\u001b[39mitems():\n\u001b[0;32m---> <a href='vscode-notebook-cell://dev-container%2B7b22686f737450617468223a222f686f6d652f6a686f666662617565722f7265646469745f7161222c226c6f63616c446f636b6572223a66616c73652c22636f6e66696746696c65223a7b22246d6964223a312c2270617468223a222f686f6d652f6a686f666662617565722f7265646469745f71612f2e646576636f6e7461696e65722f646576636f6e7461696e65722e6a736f6e222c22736368656d65223a227673636f64652d66696c65486f7374227d7d@ssh-remote%2Bhpi_gpu_server/workspaces/reddit_qa/notebooks/model_comparison.ipynb#X12sdnNjb2RlLXJlbW90ZQ%3D%3D?line=34'>35</a>\u001b[0m     model_answers[model_name] \u001b[39m=\u001b[39m generate_answers(checkpoint)\n",
      "\u001b[1;32m/workspaces/reddit_qa/notebooks/model_comparison.ipynb Cell 10\u001b[0m line \u001b[0;36m5\n\u001b[1;32m      <a href='vscode-notebook-cell://dev-container%2B7b22686f737450617468223a222f686f6d652f6a686f666662617565722f7265646469745f7161222c226c6f63616c446f636b6572223a66616c73652c22636f6e66696746696c65223a7b22246d6964223a312c2270617468223a222f686f6d652f6a686f666662617565722f7265646469745f71612f2e646576636f6e7461696e65722f646576636f6e7461696e65722e6a736f6e222c22736368656d65223a227673636f64652d66696c65486f7374227d7d@ssh-remote%2Bhpi_gpu_server/workspaces/reddit_qa/notebooks/model_comparison.ipynb#X12sdnNjb2RlLXJlbW90ZQ%3D%3D?line=2'>3</a>\u001b[0m \u001b[39mdef\u001b[39;00m \u001b[39mgenerate_answers\u001b[39m(model_path):\n\u001b[0;32m----> <a href='vscode-notebook-cell://dev-container%2B7b22686f737450617468223a222f686f6d652f6a686f666662617565722f7265646469745f7161222c226c6f63616c446f636b6572223a66616c73652c22636f6e66696746696c65223a7b22246d6964223a312c2270617468223a222f686f6d652f6a686f666662617565722f7265646469745f71612f2e646576636f6e7461696e65722f646576636f6e7461696e65722e6a736f6e222c22736368656d65223a227673636f64652d66696c65486f7374227d7d@ssh-remote%2Bhpi_gpu_server/workspaces/reddit_qa/notebooks/model_comparison.ipynb#X12sdnNjb2RlLXJlbW90ZQ%3D%3D?line=4'>5</a>\u001b[0m     model \u001b[39m=\u001b[39m AutoModelForCausalLM\u001b[39m.\u001b[39;49mfrom_pretrained(model_path, torch_dtype\u001b[39m=\u001b[39;49mtorch\u001b[39m.\u001b[39;49mbfloat16)\n\u001b[1;32m      <a href='vscode-notebook-cell://dev-container%2B7b22686f737450617468223a222f686f6d652f6a686f666662617565722f7265646469745f7161222c226c6f63616c446f636b6572223a66616c73652c22636f6e66696746696c65223a7b22246d6964223a312c2270617468223a222f686f6d652f6a686f666662617565722f7265646469745f71612f2e646576636f6e7461696e65722f646576636f6e7461696e65722e6a736f6e222c22736368656d65223a227673636f64652d66696c65486f7374227d7d@ssh-remote%2Bhpi_gpu_server/workspaces/reddit_qa/notebooks/model_comparison.ipynb#X12sdnNjb2RlLXJlbW90ZQ%3D%3D?line=5'>6</a>\u001b[0m     tokenizer \u001b[39m=\u001b[39m AutoTokenizer\u001b[39m.\u001b[39mfrom_pretrained(model_path)\n\u001b[1;32m      <a href='vscode-notebook-cell://dev-container%2B7b22686f737450617468223a222f686f6d652f6a686f666662617565722f7265646469745f7161222c226c6f63616c446f636b6572223a66616c73652c22636f6e66696746696c65223a7b22246d6964223a312c2270617468223a222f686f6d652f6a686f666662617565722f7265646469745f71612f2e646576636f6e7461696e65722f646576636f6e7461696e65722e6a736f6e222c22736368656d65223a227673636f64652d66696c65486f7374227d7d@ssh-remote%2Bhpi_gpu_server/workspaces/reddit_qa/notebooks/model_comparison.ipynb#X12sdnNjb2RlLXJlbW90ZQ%3D%3D?line=6'>7</a>\u001b[0m     model\u001b[39m.\u001b[39mconfig\u001b[39m.\u001b[39mpad_token_id \u001b[39m=\u001b[39m model\u001b[39m.\u001b[39mconfig\u001b[39m.\u001b[39meos_token_id\n",
      "File \u001b[0;32m/usr/local/lib/python3.10/dist-packages/transformers/models/auto/auto_factory.py:488\u001b[0m, in \u001b[0;36m_BaseAutoModelClass.from_pretrained\u001b[0;34m(cls, pretrained_model_name_or_path, *model_args, **kwargs)\u001b[0m\n\u001b[1;32m    485\u001b[0m \u001b[39mif\u001b[39;00m commit_hash \u001b[39mis\u001b[39;00m \u001b[39mNone\u001b[39;00m:\n\u001b[1;32m    486\u001b[0m     \u001b[39mif\u001b[39;00m \u001b[39mnot\u001b[39;00m \u001b[39misinstance\u001b[39m(config, PretrainedConfig):\n\u001b[1;32m    487\u001b[0m         \u001b[39m# We make a call to the config file first (which may be absent) to get the commit hash as soon as possible\u001b[39;00m\n\u001b[0;32m--> 488\u001b[0m         resolved_config_file \u001b[39m=\u001b[39m cached_file(\n\u001b[1;32m    489\u001b[0m             pretrained_model_name_or_path,\n\u001b[1;32m    490\u001b[0m             CONFIG_NAME,\n\u001b[1;32m    491\u001b[0m             _raise_exceptions_for_missing_entries\u001b[39m=\u001b[39;49m\u001b[39mFalse\u001b[39;49;00m,\n\u001b[1;32m    492\u001b[0m             _raise_exceptions_for_connection_errors\u001b[39m=\u001b[39;49m\u001b[39mFalse\u001b[39;49;00m,\n\u001b[1;32m    493\u001b[0m             \u001b[39m*\u001b[39;49m\u001b[39m*\u001b[39;49mhub_kwargs,\n\u001b[1;32m    494\u001b[0m         )\n\u001b[1;32m    495\u001b[0m         commit_hash \u001b[39m=\u001b[39m extract_commit_hash(resolved_config_file, commit_hash)\n\u001b[1;32m    496\u001b[0m     \u001b[39melse\u001b[39;00m:\n",
      "File \u001b[0;32m/usr/local/lib/python3.10/dist-packages/transformers/utils/hub.py:430\u001b[0m, in \u001b[0;36mcached_file\u001b[0;34m(path_or_repo_id, filename, cache_dir, force_download, resume_download, proxies, token, revision, local_files_only, subfolder, repo_type, user_agent, _raise_exceptions_for_missing_entries, _raise_exceptions_for_connection_errors, _commit_hash, **deprecated_kwargs)\u001b[0m\n\u001b[1;32m    427\u001b[0m user_agent \u001b[39m=\u001b[39m http_user_agent(user_agent)\n\u001b[1;32m    428\u001b[0m \u001b[39mtry\u001b[39;00m:\n\u001b[1;32m    429\u001b[0m     \u001b[39m# Load from URL or cache if already cached\u001b[39;00m\n\u001b[0;32m--> 430\u001b[0m     resolved_file \u001b[39m=\u001b[39m hf_hub_download(\n\u001b[1;32m    431\u001b[0m         path_or_repo_id,\n\u001b[1;32m    432\u001b[0m         filename,\n\u001b[1;32m    433\u001b[0m         subfolder\u001b[39m=\u001b[39;49m\u001b[39mNone\u001b[39;49;00m \u001b[39mif\u001b[39;49;00m \u001b[39mlen\u001b[39;49m(subfolder) \u001b[39m==\u001b[39;49m \u001b[39m0\u001b[39;49m \u001b[39melse\u001b[39;49;00m subfolder,\n\u001b[1;32m    434\u001b[0m         repo_type\u001b[39m=\u001b[39;49mrepo_type,\n\u001b[1;32m    435\u001b[0m         revision\u001b[39m=\u001b[39;49mrevision,\n\u001b[1;32m    436\u001b[0m         cache_dir\u001b[39m=\u001b[39;49mcache_dir,\n\u001b[1;32m    437\u001b[0m         user_agent\u001b[39m=\u001b[39;49muser_agent,\n\u001b[1;32m    438\u001b[0m         force_download\u001b[39m=\u001b[39;49mforce_download,\n\u001b[1;32m    439\u001b[0m         proxies\u001b[39m=\u001b[39;49mproxies,\n\u001b[1;32m    440\u001b[0m         resume_download\u001b[39m=\u001b[39;49mresume_download,\n\u001b[1;32m    441\u001b[0m         token\u001b[39m=\u001b[39;49mtoken,\n\u001b[1;32m    442\u001b[0m         local_files_only\u001b[39m=\u001b[39;49mlocal_files_only,\n\u001b[1;32m    443\u001b[0m     )\n\u001b[1;32m    444\u001b[0m \u001b[39mexcept\u001b[39;00m GatedRepoError \u001b[39mas\u001b[39;00m e:\n\u001b[1;32m    445\u001b[0m     \u001b[39mraise\u001b[39;00m \u001b[39mEnvironmentError\u001b[39;00m(\n\u001b[1;32m    446\u001b[0m         \u001b[39m\"\u001b[39m\u001b[39mYou are trying to access a gated repo.\u001b[39m\u001b[39m\\n\u001b[39;00m\u001b[39mMake sure to request access at \u001b[39m\u001b[39m\"\u001b[39m\n\u001b[1;32m    447\u001b[0m         \u001b[39mf\u001b[39m\u001b[39m\"\u001b[39m\u001b[39mhttps://huggingface.co/\u001b[39m\u001b[39m{\u001b[39;00mpath_or_repo_id\u001b[39m}\u001b[39;00m\u001b[39m and pass a token having permission to this repo either \u001b[39m\u001b[39m\"\u001b[39m\n\u001b[1;32m    448\u001b[0m         \u001b[39m\"\u001b[39m\u001b[39mby logging in with `huggingface-cli login` or by passing `token=<your_token>`.\u001b[39m\u001b[39m\"\u001b[39m\n\u001b[1;32m    449\u001b[0m     ) \u001b[39mfrom\u001b[39;00m \u001b[39me\u001b[39;00m\n",
      "File \u001b[0;32m/usr/local/lib/python3.10/dist-packages/huggingface_hub/utils/_validators.py:110\u001b[0m, in \u001b[0;36mvalidate_hf_hub_args.<locals>._inner_fn\u001b[0;34m(*args, **kwargs)\u001b[0m\n\u001b[1;32m    105\u001b[0m \u001b[39mfor\u001b[39;00m arg_name, arg_value \u001b[39min\u001b[39;00m chain(\n\u001b[1;32m    106\u001b[0m     \u001b[39mzip\u001b[39m(signature\u001b[39m.\u001b[39mparameters, args),  \u001b[39m# Args values\u001b[39;00m\n\u001b[1;32m    107\u001b[0m     kwargs\u001b[39m.\u001b[39mitems(),  \u001b[39m# Kwargs values\u001b[39;00m\n\u001b[1;32m    108\u001b[0m ):\n\u001b[1;32m    109\u001b[0m     \u001b[39mif\u001b[39;00m arg_name \u001b[39min\u001b[39;00m [\u001b[39m\"\u001b[39m\u001b[39mrepo_id\u001b[39m\u001b[39m\"\u001b[39m, \u001b[39m\"\u001b[39m\u001b[39mfrom_id\u001b[39m\u001b[39m\"\u001b[39m, \u001b[39m\"\u001b[39m\u001b[39mto_id\u001b[39m\u001b[39m\"\u001b[39m]:\n\u001b[0;32m--> 110\u001b[0m         validate_repo_id(arg_value)\n\u001b[1;32m    112\u001b[0m     \u001b[39melif\u001b[39;00m arg_name \u001b[39m==\u001b[39m \u001b[39m\"\u001b[39m\u001b[39mtoken\u001b[39m\u001b[39m\"\u001b[39m \u001b[39mand\u001b[39;00m arg_value \u001b[39mis\u001b[39;00m \u001b[39mnot\u001b[39;00m \u001b[39mNone\u001b[39;00m:\n\u001b[1;32m    113\u001b[0m         has_token \u001b[39m=\u001b[39m \u001b[39mTrue\u001b[39;00m\n",
      "File \u001b[0;32m/usr/local/lib/python3.10/dist-packages/huggingface_hub/utils/_validators.py:158\u001b[0m, in \u001b[0;36mvalidate_repo_id\u001b[0;34m(repo_id)\u001b[0m\n\u001b[1;32m    155\u001b[0m     \u001b[39mraise\u001b[39;00m HFValidationError(\u001b[39mf\u001b[39m\u001b[39m\"\u001b[39m\u001b[39mRepo id must be a string, not \u001b[39m\u001b[39m{\u001b[39;00m\u001b[39mtype\u001b[39m(repo_id)\u001b[39m}\u001b[39;00m\u001b[39m: \u001b[39m\u001b[39m'\u001b[39m\u001b[39m{\u001b[39;00mrepo_id\u001b[39m}\u001b[39;00m\u001b[39m'\u001b[39m\u001b[39m.\u001b[39m\u001b[39m\"\u001b[39m)\n\u001b[1;32m    157\u001b[0m \u001b[39mif\u001b[39;00m repo_id\u001b[39m.\u001b[39mcount(\u001b[39m\"\u001b[39m\u001b[39m/\u001b[39m\u001b[39m\"\u001b[39m) \u001b[39m>\u001b[39m \u001b[39m1\u001b[39m:\n\u001b[0;32m--> 158\u001b[0m     \u001b[39mraise\u001b[39;00m HFValidationError(\n\u001b[1;32m    159\u001b[0m         \u001b[39m\"\u001b[39m\u001b[39mRepo id must be in the form \u001b[39m\u001b[39m'\u001b[39m\u001b[39mrepo_name\u001b[39m\u001b[39m'\u001b[39m\u001b[39m or \u001b[39m\u001b[39m'\u001b[39m\u001b[39mnamespace/repo_name\u001b[39m\u001b[39m'\u001b[39m\u001b[39m:\u001b[39m\u001b[39m\"\u001b[39m\n\u001b[1;32m    160\u001b[0m         \u001b[39mf\u001b[39m\u001b[39m\"\u001b[39m\u001b[39m \u001b[39m\u001b[39m'\u001b[39m\u001b[39m{\u001b[39;00mrepo_id\u001b[39m}\u001b[39;00m\u001b[39m'\u001b[39m\u001b[39m. Use `repo_type` argument if needed.\u001b[39m\u001b[39m\"\u001b[39m\n\u001b[1;32m    161\u001b[0m     )\n\u001b[1;32m    163\u001b[0m \u001b[39mif\u001b[39;00m \u001b[39mnot\u001b[39;00m REPO_ID_REGEX\u001b[39m.\u001b[39mmatch(repo_id):\n\u001b[1;32m    164\u001b[0m     \u001b[39mraise\u001b[39;00m HFValidationError(\n\u001b[1;32m    165\u001b[0m         \u001b[39m\"\u001b[39m\u001b[39mRepo id must use alphanumeric chars or \u001b[39m\u001b[39m'\u001b[39m\u001b[39m-\u001b[39m\u001b[39m'\u001b[39m\u001b[39m, \u001b[39m\u001b[39m'\u001b[39m\u001b[39m_\u001b[39m\u001b[39m'\u001b[39m\u001b[39m, \u001b[39m\u001b[39m'\u001b[39m\u001b[39m.\u001b[39m\u001b[39m'\u001b[39m\u001b[39m, \u001b[39m\u001b[39m'\u001b[39m\u001b[39m--\u001b[39m\u001b[39m'\u001b[39m\u001b[39m and \u001b[39m\u001b[39m'\u001b[39m\u001b[39m..\u001b[39m\u001b[39m'\u001b[39m\u001b[39m are\u001b[39m\u001b[39m\"\u001b[39m\n\u001b[1;32m    166\u001b[0m         \u001b[39m\"\u001b[39m\u001b[39m forbidden, \u001b[39m\u001b[39m'\u001b[39m\u001b[39m-\u001b[39m\u001b[39m'\u001b[39m\u001b[39m and \u001b[39m\u001b[39m'\u001b[39m\u001b[39m.\u001b[39m\u001b[39m'\u001b[39m\u001b[39m cannot start or end the name, max length is 96:\u001b[39m\u001b[39m\"\u001b[39m\n\u001b[1;32m    167\u001b[0m         \u001b[39mf\u001b[39m\u001b[39m\"\u001b[39m\u001b[39m \u001b[39m\u001b[39m'\u001b[39m\u001b[39m{\u001b[39;00mrepo_id\u001b[39m}\u001b[39;00m\u001b[39m'\u001b[39m\u001b[39m.\u001b[39m\u001b[39m\"\u001b[39m\n\u001b[1;32m    168\u001b[0m     )\n",
      "\u001b[0;31mHFValidationError\u001b[0m: Repo id must be in the form 'repo_name' or 'namespace/repo_name': '/scratch1/jhoff/checkpoints/finetuned_llama-2-7b-hf/checkpoint-2000_merged'. Use `repo_type` argument if needed."
     ]
    }
   ],
   "source": [
    "template = \"<|ELIF|> Question: %question\\nAnswer: \"\n",
    "\n",
    "def generate_answers(model_path):\n",
    "\n",
    "    model = AutoModelForCausalLM.from_pretrained(model_path, torch_dtype=torch.bfloat16)\n",
    "    tokenizer = AutoTokenizer.from_pretrained(model_path)\n",
    "    model.config.pad_token_id = model.config.eos_token_id\n",
    "    model = model.cuda().eval()\n",
    "\n",
    "    generation_kwargs = {\n",
    "        \"top_k\": 0.0,\n",
    "        \"top_p\": 1.0,\n",
    "        \"do_sample\": True,\n",
    "        \"pad_token_id\": tokenizer.pad_token_id,\n",
    "        \"min_length\": 32,\n",
    "        \"max_length\": 128,\n",
    "    }\n",
    "\n",
    "    pipeline = TextGenerationPipeline(model=model, tokenizer=tokenizer, device='cuda:0')\n",
    "\n",
    "    answers = {}\n",
    "\n",
    "    for question in tqdm(questions):\n",
    "        prompt = template.replace('%question', question)\n",
    "        result = pipeline(prompt, **generation_kwargs, return_full_text=False)\n",
    "        result = result[0]['generated_text']\n",
    "\n",
    "        answers[question] = result\n",
    "\n",
    "    return answers\n",
    "\n",
    "\n",
    "model_answers = {}\n",
    "for model_name, checkpoint in model_checkpoints.items():\n",
    "    model_answers[model_name] = generate_answers(checkpoint)"
   ]
  },
  {
   "cell_type": "code",
   "execution_count": null,
   "metadata": {},
   "outputs": [],
   "source": [
    "import json\n",
    "json.dump(model_answers, open('tmp_model_answers.json', 'w'))"
   ]
  },
  {
   "cell_type": "code",
   "execution_count": null,
   "metadata": {},
   "outputs": [
    {
     "data": {
      "text/html": [
       "<div>\n",
       "<style scoped>\n",
       "    .dataframe tbody tr th:only-of-type {\n",
       "        vertical-align: middle;\n",
       "    }\n",
       "\n",
       "    .dataframe tbody tr th {\n",
       "        vertical-align: top;\n",
       "    }\n",
       "\n",
       "    .dataframe thead th {\n",
       "        text-align: right;\n",
       "    }\n",
       "</style>\n",
       "<table border=\"1\" class=\"dataframe\">\n",
       "  <thead>\n",
       "    <tr style=\"text-align: right;\">\n",
       "      <th></th>\n",
       "      <th>7B_dpo_cp-10000</th>\n",
       "      <th>7B_dpo_cp-2000</th>\n",
       "    </tr>\n",
       "  </thead>\n",
       "  <tbody>\n",
       "    <tr>\n",
       "      <th>How does new city formation works in US? If me and my 50 friend purchase land in middle of nowhere, build homes and start living there, will it be designated as city by state government?</th>\n",
       "      <td>Sooner or later they'll notice you.  They'll ...</td>\n",
       "      <td>So called \"boom towns\" do indeed spring up ov...</td>\n",
       "    </tr>\n",
       "    <tr>\n",
       "      <th>why aren't CCTV cameras made to produce higher quality footage?</th>\n",
       "      <td>CCTV cameras are not made to produce footage ...</td>\n",
       "      <td>CCTV footage is not intended for identificati...</td>\n",
       "    </tr>\n",
       "    <tr>\n",
       "      <th>how is Bill Gates still so rich if he is giving away most of his money?</th>\n",
       "      <td>So go ahead and do it!  We're doing it with you.</td>\n",
       "      <td>So far, Bill Gates has given $28 billion to t...</td>\n",
       "    </tr>\n",
       "    <tr>\n",
       "      <th>How did America become so powerful despite being such a young country (also having powerful enemies in their beginnings)?</th>\n",
       "      <td>So many other countries were fighting for Ame...</td>\n",
       "      <td>So many factors went into America's rise to p...</td>\n",
       "    </tr>\n",
       "    <tr>\n",
       "      <th>How do they make white gold? Can it be melted down and reused like yellow gold?</th>\n",
       "      <td>So-called \"white gold\" is actually an alloy o...</td>\n",
       "      <td>So-called \"white gold\" is actually an alloy o...</td>\n",
       "    </tr>\n",
       "    <tr>\n",
       "      <th>...</th>\n",
       "      <td>...</td>\n",
       "      <td>...</td>\n",
       "    </tr>\n",
       "    <tr>\n",
       "      <th>In a roll of duct tape, how does the glue stick to the correct side?</th>\n",
       "      <td>So /'s/ not glue.  It's tape.  Tape is made o...</td>\n",
       "      <td>Soooooooooooooooooooooooooooooooooooooooooooo...</td>\n",
       "    </tr>\n",
       "    <tr>\n",
       "      <th>How do popular social media apps become popular when they start out with 0 users?</th>\n",
       "      <td>Softwaare like facebook weren't popular at st...</td>\n",
       "      <td>Softwaare like twitter didn't start with 0 us...</td>\n",
       "    </tr>\n",
       "    <tr>\n",
       "      <th>Are we fishing at too high of a rate? Are we going to run out of fish?</th>\n",
       "      <td>So many bass are being caught each year that ...</td>\n",
       "      <td>So many bass are being caught each year that ...</td>\n",
       "    </tr>\n",
       "    <tr>\n",
       "      <th>What is a freemason and why is it such a secret society?</th>\n",
       "      <td>So you're telling me you've been to a meeting...</td>\n",
       "      <td>So you're telling me you've never heard of th...</td>\n",
       "    </tr>\n",
       "    <tr>\n",
       "      <th>What is the science behind birthmarks. How do we get it? Why do we have different birthmarks?</th>\n",
       "      <td>Birthmarks are caused by blood vessels that d...</td>\n",
       "      <td>Birthmarks are caused by a burst of pigment i...</td>\n",
       "    </tr>\n",
       "  </tbody>\n",
       "</table>\n",
       "<p>200 rows × 2 columns</p>\n",
       "</div>"
      ],
      "text/plain": [
       "                                                                                      7B_dpo_cp-10000  \\\n",
       "How does new city formation works in US? If me ...   Sooner or later they'll notice you.  They'll ...   \n",
       "why aren't CCTV cameras made to produce higher ...   CCTV cameras are not made to produce footage ...   \n",
       "how is Bill Gates still so rich if he is giving...   So go ahead and do it!  We're doing it with you.   \n",
       "How did America become so powerful despite bein...   So many other countries were fighting for Ame...   \n",
       "How do they make white gold? Can it be melted d...   So-called \"white gold\" is actually an alloy o...   \n",
       "...                                                                                               ...   \n",
       "In a roll of duct tape, how does the glue stick...   So /'s/ not glue.  It's tape.  Tape is made o...   \n",
       "How do popular social media apps become popular...   Softwaare like facebook weren't popular at st...   \n",
       "Are we fishing at too high of a rate? Are we go...   So many bass are being caught each year that ...   \n",
       "What is a freemason and why is it such a secret...   So you're telling me you've been to a meeting...   \n",
       "What is the science behind birthmarks. How do w...   Birthmarks are caused by blood vessels that d...   \n",
       "\n",
       "                                                                                       7B_dpo_cp-2000  \n",
       "How does new city formation works in US? If me ...   So called \"boom towns\" do indeed spring up ov...  \n",
       "why aren't CCTV cameras made to produce higher ...   CCTV footage is not intended for identificati...  \n",
       "how is Bill Gates still so rich if he is giving...   So far, Bill Gates has given $28 billion to t...  \n",
       "How did America become so powerful despite bein...   So many factors went into America's rise to p...  \n",
       "How do they make white gold? Can it be melted d...   So-called \"white gold\" is actually an alloy o...  \n",
       "...                                                                                               ...  \n",
       "In a roll of duct tape, how does the glue stick...   Soooooooooooooooooooooooooooooooooooooooooooo...  \n",
       "How do popular social media apps become popular...   Softwaare like twitter didn't start with 0 us...  \n",
       "Are we fishing at too high of a rate? Are we go...   So many bass are being caught each year that ...  \n",
       "What is a freemason and why is it such a secret...   So you're telling me you've never heard of th...  \n",
       "What is the science behind birthmarks. How do w...   Birthmarks are caused by a burst of pigment i...  \n",
       "\n",
       "[200 rows x 2 columns]"
      ]
     },
     "execution_count": 9,
     "metadata": {},
     "output_type": "execute_result"
    }
   ],
   "source": [
    "import json\n",
    "data = json.load(open('tmp_model_answers.json', 'r'))\n",
    "pd.DataFrame(data)"
   ]
  },
  {
   "cell_type": "code",
   "execution_count": null,
   "metadata": {},
   "outputs": [
    {
     "data": {
      "text/plain": [
       "{'7B_dpo_cp-10000': [\" Sooner or later they'll notice you.  They'll come and they'll make you leave.\",\n",
       "  ' CCTV cameras are not made to produce footage of such high quality for two reasons.  First of all, they are not intended for use in identifying individuals, as you suggested they be in your question.  Second, they are not intended for use as evidenance in court.  Video footage from a CCTV camera would not be allowed as evidence in a trial.',\n",
       "  \" So go ahead and do it!  We're doing it with you.\"],\n",
       " '7B_dpo_cp-2000': [' So called \"boom towns\" do indeed spring up overnight, but they\\'re not started by 50 people.  They\\'re started by an oil company, a mining company, a logging company, a sawmill, a cattle ranch, or some similar business.  The 50 people you\\'re thinking of are called \"',\n",
       "  ' CCTV footage is not intended for identification purposes,  so  it  is  not  required  to  be  as  high  a  quality  as  footage  used  for  broadcast  purposes.  CCTV footage is used for identification of people after an incident occurs,  not for live viewing.',\n",
       "  \" So far, Bill Gates has given $28 billion to the Gates Foundation, which supports health initiatives and education programs in developing countries.  That's a lot of money, but it's a fraction of his total wealth.  Gates's official estimate for the value of his assets is $62 billion.\"]}"
      ]
     },
     "execution_count": 10,
     "metadata": {},
     "output_type": "execute_result"
    }
   ],
   "source": [
    "{model_name: list(answers.values())[:3] for model_name, answers in model_answers.items()}"
   ]
  },
  {
   "cell_type": "markdown",
   "metadata": {},
   "source": [
    "#### Reward scores"
   ]
  },
  {
   "cell_type": "markdown",
   "metadata": {},
   "source": [
    "Now, let's run our reward model on these generations"
   ]
  },
  {
   "cell_type": "code",
   "execution_count": null,
   "metadata": {},
   "outputs": [
    {
     "name": "stderr",
     "output_type": "stream",
     "text": [
      "Loading checkpoint shards: 100%|██████████| 3/3 [03:26<00:00, 68.77s/it]\n"
     ]
    }
   ],
   "source": [
    "# Load the reward model\n",
    "reward_model_checkpoint = \"/scratch1/redditqa/checkpoints/reward_llama-2-7b-chat-hf/checkpoint-3000_merged\"\n",
    "\n",
    "tokenizer = AutoTokenizer.from_pretrained(reward_model_checkpoint)\n",
    "\n",
    "reward_model = AutoModelForSequenceClassification.from_pretrained(\n",
    "    reward_model_checkpoint, \n",
    "    num_labels=1, \n",
    "    torch_dtype=torch.bfloat16\n",
    ")\n",
    "\n",
    "reward_pipe = pipeline(\n",
    "    \"sentiment-analysis\",\n",
    "    model=reward_model,\n",
    "    tokenizer=tokenizer,\n",
    "    torch_dtype=torch.bfloat16,\n",
    "    device='cuda',\n",
    ")"
   ]
  },
  {
   "cell_type": "code",
   "execution_count": null,
   "metadata": {},
   "outputs": [
    {
     "name": "stdout",
     "output_type": "stream",
     "text": [
      "Applying reward model to answers from 7B_dpo_cp-10000\n"
     ]
    },
    {
     "name": "stderr",
     "output_type": "stream",
     "text": [
      "  5%|▌         | 10/200 [00:00<00:09, 20.42it/s]/usr/local/lib/python3.10/dist-packages/transformers/pipelines/base.py:1101: UserWarning: You seem to be using the pipelines sequentially on GPU. In order to maximize efficiency please use a dataset\n",
      "  warnings.warn(\n",
      "100%|██████████| 200/200 [00:07<00:00, 26.28it/s]\n"
     ]
    },
    {
     "name": "stdout",
     "output_type": "stream",
     "text": [
      "Applying reward model to answers from 7B_dpo_cp-2000\n"
     ]
    },
    {
     "name": "stderr",
     "output_type": "stream",
     "text": [
      "100%|██████████| 200/200 [00:07<00:00, 26.21it/s]\n"
     ]
    }
   ],
   "source": [
    "# Apply the reward model to the answers \n",
    "template = \"<|ELIF|> Question: %question\\nAnswer: %answer\"\n",
    "\n",
    "model_rewards = {}\n",
    "for model_name, model_qas in model_answers.items(): \n",
    "    print(f\"Applying reward model to answers from {model_name}\")\n",
    "    model_rewards[model_name] = {}\n",
    "    for question, answer in tqdm(model_qas.items()):\n",
    "        # Create prompt based on the question and answer\n",
    "        prompt = template.replace(\"%question\", question).replace(\"%answer\", answer)\n",
    "\n",
    "        # Apply the reward model to the prompt\n",
    "        reward = reward_pipe(prompt)[0][\"score\"]\n",
    "\n",
    "        # Store the reward\n",
    "        model_rewards[model_name][question] = reward"
   ]
  },
  {
   "cell_type": "markdown",
   "metadata": {},
   "source": [
    "Create a dataframe containing the Answers"
   ]
  },
  {
   "cell_type": "code",
   "execution_count": null,
   "metadata": {},
   "outputs": [
    {
     "data": {
      "text/html": [
       "<div>\n",
       "<style scoped>\n",
       "    .dataframe tbody tr th:only-of-type {\n",
       "        vertical-align: middle;\n",
       "    }\n",
       "\n",
       "    .dataframe tbody tr th {\n",
       "        vertical-align: top;\n",
       "    }\n",
       "\n",
       "    .dataframe thead th {\n",
       "        text-align: right;\n",
       "    }\n",
       "</style>\n",
       "<table border=\"1\" class=\"dataframe\">\n",
       "  <thead>\n",
       "    <tr style=\"text-align: right;\">\n",
       "      <th></th>\n",
       "      <th>question</th>\n",
       "      <th>7B_dpo_cp-10000.answer</th>\n",
       "      <th>7B_dpo_cp-10000.reward</th>\n",
       "      <th>7B_dpo_cp-2000.answer</th>\n",
       "      <th>7B_dpo_cp-2000.reward</th>\n",
       "    </tr>\n",
       "  </thead>\n",
       "  <tbody>\n",
       "    <tr>\n",
       "      <th>0</th>\n",
       "      <td>How does new city formation works in US? If me...</td>\n",
       "      <td>Sooner or later they'll notice you.  They'll ...</td>\n",
       "      <td>0.757794</td>\n",
       "      <td>So called \"boom towns\" do indeed spring up ov...</td>\n",
       "      <td>0.953275</td>\n",
       "    </tr>\n",
       "    <tr>\n",
       "      <th>1</th>\n",
       "      <td>why aren't CCTV cameras made to produce higher...</td>\n",
       "      <td>CCTV cameras are not made to produce footage ...</td>\n",
       "      <td>0.930458</td>\n",
       "      <td>CCTV footage is not intended for identificati...</td>\n",
       "      <td>0.930458</td>\n",
       "    </tr>\n",
       "    <tr>\n",
       "      <th>2</th>\n",
       "      <td>how is Bill Gates still so rich if he is givin...</td>\n",
       "      <td>So go ahead and do it!  We're doing it with you.</td>\n",
       "      <td>0.762070</td>\n",
       "      <td>So far, Bill Gates has given $28 billion to t...</td>\n",
       "      <td>0.957912</td>\n",
       "    </tr>\n",
       "    <tr>\n",
       "      <th>3</th>\n",
       "      <td>How did America become so powerful despite bei...</td>\n",
       "      <td>So many other countries were fighting for Ame...</td>\n",
       "      <td>0.812867</td>\n",
       "      <td>So many factors went into America's rise to p...</td>\n",
       "      <td>0.983597</td>\n",
       "    </tr>\n",
       "    <tr>\n",
       "      <th>4</th>\n",
       "      <td>How do they make white gold? Can it be melted ...</td>\n",
       "      <td>So-called \"white gold\" is actually an alloy o...</td>\n",
       "      <td>0.927363</td>\n",
       "      <td>So-called \"white gold\" is actually an alloy o...</td>\n",
       "      <td>0.941654</td>\n",
       "    </tr>\n",
       "    <tr>\n",
       "      <th>...</th>\n",
       "      <td>...</td>\n",
       "      <td>...</td>\n",
       "      <td>...</td>\n",
       "      <td>...</td>\n",
       "      <td>...</td>\n",
       "    </tr>\n",
       "    <tr>\n",
       "      <th>195</th>\n",
       "      <td>In a roll of duct tape, how does the glue stic...</td>\n",
       "      <td>So /'s/ not glue.  It's tape.  Tape is made o...</td>\n",
       "      <td>0.919643</td>\n",
       "      <td>Soooooooooooooooooooooooooooooooooooooooooooo...</td>\n",
       "      <td>0.623377</td>\n",
       "    </tr>\n",
       "    <tr>\n",
       "      <th>196</th>\n",
       "      <td>How do popular social media apps become popula...</td>\n",
       "      <td>Softwaare like facebook weren't popular at st...</td>\n",
       "      <td>0.912436</td>\n",
       "      <td>Softwaare like twitter didn't start with 0 us...</td>\n",
       "      <td>0.894789</td>\n",
       "    </tr>\n",
       "    <tr>\n",
       "      <th>197</th>\n",
       "      <td>Are we fishing at too high of a rate? Are we g...</td>\n",
       "      <td>So many bass are being caught each year that ...</td>\n",
       "      <td>0.800692</td>\n",
       "      <td>So many bass are being caught each year that ...</td>\n",
       "      <td>0.791821</td>\n",
       "    </tr>\n",
       "    <tr>\n",
       "      <th>198</th>\n",
       "      <td>What is a freemason and why is it such a secre...</td>\n",
       "      <td>So you're telling me you've been to a meeting...</td>\n",
       "      <td>0.841826</td>\n",
       "      <td>So you're telling me you've never heard of th...</td>\n",
       "      <td>0.787931</td>\n",
       "    </tr>\n",
       "    <tr>\n",
       "      <th>199</th>\n",
       "      <td>What is the science behind birthmarks. How do ...</td>\n",
       "      <td>Birthmarks are caused by blood vessels that d...</td>\n",
       "      <td>0.948917</td>\n",
       "      <td>Birthmarks are caused by a burst of pigment i...</td>\n",
       "      <td>0.979668</td>\n",
       "    </tr>\n",
       "  </tbody>\n",
       "</table>\n",
       "<p>200 rows × 5 columns</p>\n",
       "</div>"
      ],
      "text/plain": [
       "                                              question  \\\n",
       "0    How does new city formation works in US? If me...   \n",
       "1    why aren't CCTV cameras made to produce higher...   \n",
       "2    how is Bill Gates still so rich if he is givin...   \n",
       "3    How did America become so powerful despite bei...   \n",
       "4    How do they make white gold? Can it be melted ...   \n",
       "..                                                 ...   \n",
       "195  In a roll of duct tape, how does the glue stic...   \n",
       "196  How do popular social media apps become popula...   \n",
       "197  Are we fishing at too high of a rate? Are we g...   \n",
       "198  What is a freemason and why is it such a secre...   \n",
       "199  What is the science behind birthmarks. How do ...   \n",
       "\n",
       "                                7B_dpo_cp-10000.answer  \\\n",
       "0     Sooner or later they'll notice you.  They'll ...   \n",
       "1     CCTV cameras are not made to produce footage ...   \n",
       "2     So go ahead and do it!  We're doing it with you.   \n",
       "3     So many other countries were fighting for Ame...   \n",
       "4     So-called \"white gold\" is actually an alloy o...   \n",
       "..                                                 ...   \n",
       "195   So /'s/ not glue.  It's tape.  Tape is made o...   \n",
       "196   Softwaare like facebook weren't popular at st...   \n",
       "197   So many bass are being caught each year that ...   \n",
       "198   So you're telling me you've been to a meeting...   \n",
       "199   Birthmarks are caused by blood vessels that d...   \n",
       "\n",
       "     7B_dpo_cp-10000.reward  \\\n",
       "0                  0.757794   \n",
       "1                  0.930458   \n",
       "2                  0.762070   \n",
       "3                  0.812867   \n",
       "4                  0.927363   \n",
       "..                      ...   \n",
       "195                0.919643   \n",
       "196                0.912436   \n",
       "197                0.800692   \n",
       "198                0.841826   \n",
       "199                0.948917   \n",
       "\n",
       "                                 7B_dpo_cp-2000.answer  7B_dpo_cp-2000.reward  \n",
       "0     So called \"boom towns\" do indeed spring up ov...               0.953275  \n",
       "1     CCTV footage is not intended for identificati...               0.930458  \n",
       "2     So far, Bill Gates has given $28 billion to t...               0.957912  \n",
       "3     So many factors went into America's rise to p...               0.983597  \n",
       "4     So-called \"white gold\" is actually an alloy o...               0.941654  \n",
       "..                                                 ...                    ...  \n",
       "195   Soooooooooooooooooooooooooooooooooooooooooooo...               0.623377  \n",
       "196   Softwaare like twitter didn't start with 0 us...               0.894789  \n",
       "197   So many bass are being caught each year that ...               0.791821  \n",
       "198   So you're telling me you've never heard of th...               0.787931  \n",
       "199   Birthmarks are caused by a burst of pigment i...               0.979668  \n",
       "\n",
       "[200 rows x 5 columns]"
      ]
     },
     "execution_count": 13,
     "metadata": {},
     "output_type": "execute_result"
    }
   ],
   "source": [
    "dfs = {}\n",
    "\n",
    "for name, qas in model_answers.items():\n",
    "\n",
    "    rewards = model_rewards[name]\n",
    "\n",
    "    df = pd.DataFrame.from_records([\n",
    "        {\n",
    "            'question': q, f'{name}.answer': a, \n",
    "            f'{name}.reward': rewards[q]\n",
    "        } \n",
    "        for q, a in qas.items()\n",
    "    ])\n",
    "\n",
    "    dfs[name] = df\n",
    "\n",
    "first_df_name = list(dfs.keys())[0]\n",
    "df = dfs[first_df_name]\n",
    "for name, df_other in dfs.items():\n",
    "    \n",
    "    if name == first_df_name:\n",
    "        continue\n",
    "\n",
    "    df = df.merge(df_other, on='question')\n",
    "\n",
    "df"
   ]
  },
  {
   "cell_type": "code",
   "execution_count": null,
   "metadata": {},
   "outputs": [],
   "source": [
    "df.to_excel('tmp_model_comparison_df.xlsx')"
   ]
  },
  {
   "cell_type": "markdown",
   "metadata": {},
   "source": [
    "Show mean reward scores for different checkpoints"
   ]
  },
  {
   "cell_type": "code",
   "execution_count": null,
   "metadata": {},
   "outputs": [
    {
     "data": {
      "text/plain": [
       "7B_dpo_cp-10000.reward    0.8718 ± 0.0836\n",
       "7B_dpo_cp-2000.reward     0.8828 ± 0.0707\n",
       "dtype: object"
      ]
     },
     "execution_count": 15,
     "metadata": {},
     "output_type": "execute_result"
    }
   ],
   "source": [
    "reward_cols = [c for c in df.columns if c.endswith('.reward')]\n",
    "reward_mean = df[reward_cols].mean()\n",
    "reward_std = df[reward_cols].std()\n",
    "reward_str = reward_mean.apply(lambda x: f'{x:.4f}') + reward_std.apply(lambda x: f' ± {x:.4f}')\n",
    "reward_str"
   ]
  },
  {
   "cell_type": "markdown",
   "metadata": {},
   "source": [
    "#### Textstat and toxicity scores"
   ]
  },
  {
   "cell_type": "code",
   "execution_count": null,
   "metadata": {},
   "outputs": [
    {
     "name": "stdout",
     "output_type": "stream",
     "text": [
      "7B_dpo_cp-10000:\n",
      "  name: 7B_dpo_cp-10000\n",
      "  text_standard [grade]: 8.10 ± 10.33\n",
      "  reading_time [s]: 2.19 ± 1.26\n",
      "  toxicity [0-1]: 0.020 ± 0.085\n",
      "  reward [0-1]: 0.872 ± 0.084\n"
     ]
    },
    {
     "data": {
      "image/png": "[encoded data removed]",
      "text/plain": [
       "<Figure size 400x200 with 1 Axes>"
      ]
     },
     "metadata": {},
     "output_type": "display_data"
    },
    {
     "name": "stdout",
     "output_type": "stream",
     "text": [
      "7B_dpo_cp-2000:\n",
      "  name: 7B_dpo_cp-2000\n",
      "  text_standard [grade]: 7.13 ± 3.42\n",
      "  reading_time [s]: 2.16 ± 1.18\n",
      "  toxicity [0-1]: 0.042 ± 0.155\n",
      "  reward [0-1]: 0.883 ± 0.071\n"
     ]
    },
    {
     "data": {
      "image/png": "[encoded data removed]",
      "text/plain": [
       "<Figure size 400x200 with 1 Axes>"
      ]
     },
     "metadata": {},
     "output_type": "display_data"
    }
   ],
   "source": [
    "toxicity_pipe = pipeline(\"text-classification\", model=\"tomh/toxigen_roberta\")\n",
    "\n",
    "\n",
    "def mean_std(col, precision=2): \n",
    "    col_mean = col.mean()\n",
    "    col_std = col.std()\n",
    "\n",
    "    return f'{col_mean:.{precision}f} ± {col_std:.{precision}f}'\n",
    "\n",
    "\n",
    "\n",
    "def run_toxicity_pipe(text):\n",
    "    try: \n",
    "        result = toxicity_pipe(text, top_k=None)\n",
    "        result = [r for r in result if r['label'] == 'LABEL_1'][0]\n",
    "    except:\n",
    "        return 0.5\n",
    "\n",
    "    return result['score']\n",
    "\n",
    "\n",
    "metrics_list = []\n",
    "\n",
    "\n",
    "for col in df.columns:\n",
    "\n",
    "    if col == 'question':\n",
    "        continue\n",
    "\n",
    "    if not col.endswith('.answer'):\n",
    "        continue\n",
    "\n",
    "    name = col.replace('.answer', '')\n",
    "\n",
    "    # Apply textstat functions\n",
    "    text_standard = df[col].apply(lambda t: textstat.text_standard(t, float_output=True))\n",
    "    reading_time = df[col].apply(textstat.reading_time)\n",
    "    df[name + '.text_standard'] = text_standard\n",
    "    df[name + '.reading_time'] = reading_time\n",
    "\n",
    "    # Measure toxicity\n",
    "    toxicity = df[col].apply(run_toxicity_pipe)\n",
    "\n",
    "    # Save metrics\n",
    "    metrics_list.append({\n",
    "        'name': name,\n",
    "        'text_standard [grade]': mean_std(text_standard),\n",
    "        'reading_time [s]': mean_std(reading_time),\n",
    "        'toxicity [0-1]': mean_std(toxicity, precision=3),\n",
    "        'reward [0-1]': mean_std(df[name + '.reward'], precision=3),\n",
    "    })\n",
    "\n",
    "    # Print metrics\n",
    "    print(f'{name}:')\n",
    "    print('\\n'.join([f'  {k}: {v}' for k, v in metrics_list[-1].items()]))\n",
    "\n",
    "    # Print further info on rewards\n",
    "    df[name + '.reward'].hist(bins=20, figsize=(4, 2))\n",
    "    plt.title(name + '.reward')\n",
    "    plt.show()\n"
   ]
  },
  {
   "cell_type": "code",
   "execution_count": null,
   "metadata": {},
   "outputs": [
    {
     "data": {
      "text/html": [
       "<div>\n",
       "<style scoped>\n",
       "    .dataframe tbody tr th:only-of-type {\n",
       "        vertical-align: middle;\n",
       "    }\n",
       "\n",
       "    .dataframe tbody tr th {\n",
       "        vertical-align: top;\n",
       "    }\n",
       "\n",
       "    .dataframe thead th {\n",
       "        text-align: right;\n",
       "    }\n",
       "</style>\n",
       "<table border=\"1\" class=\"dataframe\">\n",
       "  <thead>\n",
       "    <tr style=\"text-align: right;\">\n",
       "      <th></th>\n",
       "      <th>text_standard [grade]</th>\n",
       "      <th>reading_time [s]</th>\n",
       "      <th>toxicity [0-1]</th>\n",
       "      <th>reward [0-1]</th>\n",
       "    </tr>\n",
       "    <tr>\n",
       "      <th>name</th>\n",
       "      <th></th>\n",
       "      <th></th>\n",
       "      <th></th>\n",
       "      <th></th>\n",
       "    </tr>\n",
       "  </thead>\n",
       "  <tbody>\n",
       "    <tr>\n",
       "      <th>7B_dpo_cp-10000</th>\n",
       "      <td>8.10 ± 10.33</td>\n",
       "      <td>2.19 ± 1.26</td>\n",
       "      <td>0.020 ± 0.085</td>\n",
       "      <td>0.872 ± 0.084</td>\n",
       "    </tr>\n",
       "    <tr>\n",
       "      <th>7B_dpo_cp-2000</th>\n",
       "      <td>7.13 ± 3.42</td>\n",
       "      <td>2.16 ± 1.18</td>\n",
       "      <td>0.042 ± 0.155</td>\n",
       "      <td>0.883 ± 0.071</td>\n",
       "    </tr>\n",
       "  </tbody>\n",
       "</table>\n",
       "</div>"
      ],
      "text/plain": [
       "                text_standard [grade] reading_time [s] toxicity [0-1]  \\\n",
       "name                                                                    \n",
       "7B_dpo_cp-10000          8.10 ± 10.33      2.19 ± 1.26  0.020 ± 0.085   \n",
       "7B_dpo_cp-2000            7.13 ± 3.42      2.16 ± 1.18  0.042 ± 0.155   \n",
       "\n",
       "                  reward [0-1]  \n",
       "name                            \n",
       "7B_dpo_cp-10000  0.872 ± 0.084  \n",
       "7B_dpo_cp-2000   0.883 ± 0.071  "
      ]
     },
     "execution_count": 17,
     "metadata": {},
     "output_type": "execute_result"
    }
   ],
   "source": [
    "metrics_df = pd.DataFrame(metrics_list)\n",
    "metrics_df = metrics_df.set_index('name').sort_index()\n",
    "metrics_df.to_markdown('metrics_model_comparison.md')\n",
    "metrics_df"
   ]
  },
  {
   "cell_type": "markdown",
   "metadata": {},
   "source": [
    "Review an example row"
   ]
  },
  {
   "cell_type": "code",
   "execution_count": null,
   "metadata": {},
   "outputs": [
    {
     "data": {
      "text/html": [
       "<div>\n",
       "<style scoped>\n",
       "    .dataframe tbody tr th:only-of-type {\n",
       "        vertical-align: middle;\n",
       "    }\n",
       "\n",
       "    .dataframe tbody tr th {\n",
       "        vertical-align: top;\n",
       "    }\n",
       "\n",
       "    .dataframe thead th {\n",
       "        text-align: right;\n",
       "    }\n",
       "</style>\n",
       "<table border=\"1\" class=\"dataframe\">\n",
       "  <thead>\n",
       "    <tr style=\"text-align: right;\">\n",
       "      <th></th>\n",
       "      <th>0</th>\n",
       "    </tr>\n",
       "  </thead>\n",
       "  <tbody>\n",
       "    <tr>\n",
       "      <th>question</th>\n",
       "      <td>How does new city formation works in US? If me and my 50 friend purchase land in middle of nowhere, build homes and start living there, will it be designated as city by state government?</td>\n",
       "    </tr>\n",
       "    <tr>\n",
       "      <th>7B_dpo_cp-10000.answer</th>\n",
       "      <td>Sooner or later they'll notice you.  They'll come and they'll make you leave.</td>\n",
       "    </tr>\n",
       "    <tr>\n",
       "      <th>7B_dpo_cp-10000.reward</th>\n",
       "      <td>0.757794</td>\n",
       "    </tr>\n",
       "    <tr>\n",
       "      <th>7B_dpo_cp-2000.answer</th>\n",
       "      <td>So called \"boom towns\" do indeed spring up overnight, but they're not started by 50 people.  They're started by an oil company, a mining company, a logging company, a sawmill, a cattle ranch, or some similar business.  The 50 people you're thinking of are called \"</td>\n",
       "    </tr>\n",
       "    <tr>\n",
       "      <th>7B_dpo_cp-2000.reward</th>\n",
       "      <td>0.953275</td>\n",
       "    </tr>\n",
       "    <tr>\n",
       "      <th>7B_dpo_cp-10000.text_standard</th>\n",
       "      <td>5.0</td>\n",
       "    </tr>\n",
       "    <tr>\n",
       "      <th>7B_dpo_cp-10000.reading_time</th>\n",
       "      <td>0.94</td>\n",
       "    </tr>\n",
       "    <tr>\n",
       "      <th>7B_dpo_cp-2000.text_standard</th>\n",
       "      <td>7.0</td>\n",
       "    </tr>\n",
       "    <tr>\n",
       "      <th>7B_dpo_cp-2000.reading_time</th>\n",
       "      <td>3.19</td>\n",
       "    </tr>\n",
       "  </tbody>\n",
       "</table>\n",
       "</div>"
      ],
      "text/plain": [
       "                                                                                                                                                                                                                                                                                                       0\n",
       "question                                                                                                      How does new city formation works in US? If me and my 50 friend purchase land in middle of nowhere, build homes and start living there, will it be designated as city by state government?\n",
       "7B_dpo_cp-10000.answer                                                                                                                                                                                                     Sooner or later they'll notice you.  They'll come and they'll make you leave.\n",
       "7B_dpo_cp-10000.reward                                                                                                                                                                                                                                                                          0.757794\n",
       "7B_dpo_cp-2000.answer           So called \"boom towns\" do indeed spring up overnight, but they're not started by 50 people.  They're started by an oil company, a mining company, a logging company, a sawmill, a cattle ranch, or some similar business.  The 50 people you're thinking of are called \"\n",
       "7B_dpo_cp-2000.reward                                                                                                                                                                                                                                                                           0.953275\n",
       "7B_dpo_cp-10000.text_standard                                                                                                                                                                                                                                                                        5.0\n",
       "7B_dpo_cp-10000.reading_time                                                                                                                                                                                                                                                                        0.94\n",
       "7B_dpo_cp-2000.text_standard                                                                                                                                                                                                                                                                         7.0\n",
       "7B_dpo_cp-2000.reading_time                                                                                                                                                                                                                                                                         3.19"
      ]
     },
     "metadata": {},
     "output_type": "display_data"
    }
   ],
   "source": [
    "with pd.option_context('display.max_rows', None, 'display.max_columns', None, 'display.max_colwidth', None):\n",
    "    display(pd.DataFrame(df.iloc[0]))"
   ]
  },
  {
   "cell_type": "markdown",
   "metadata": {},
   "source": [
    "#### Data for Human Annotators \n",
    "\n",
    "Generate sheet to compare models for human annotators. We focus on the baseline and the two checkpoints after 2500 and 8500 steps. We compare to the left and make sure that the order is randomized"
   ]
  },
  {
   "cell_type": "code",
   "execution_count": null,
   "metadata": {},
   "outputs": [],
   "source": [
    "def encode_metadata(metadata):\n",
    "    metadata = repr(metadata)\n",
    "    metadata = metadata.encode('utf-8')\n",
    "    metadata = base64.b64encode(metadata)\n",
    "    return metadata\n",
    "\n",
    "def decode_metadata(metadata):\n",
    "    metadata = metadata[2:-1]  # remove b' and '\n",
    "    metadata = base64.b64decode(metadata)\n",
    "    metadata = metadata.decode('utf-8')\n",
    "    metadata = ast.literal_eval(metadata)\n",
    "    return metadata"
   ]
  },
  {
   "cell_type": "code",
   "execution_count": null,
   "metadata": {},
   "outputs": [],
   "source": [
    "def create_comparison(col1, col2): \n",
    "\n",
    "    # Create a new dataframe with the two columns\n",
    "    comparisons = []\n",
    "\n",
    "    for i, row in df.iterrows():\n",
    "\n",
    "        question = row['question']\n",
    "        answer1 = row[col1]\n",
    "        answer2 = row[col2]\n",
    "\n",
    "        do_swap = np.random.choice([True, False])\n",
    "\n",
    "\n",
    "        comparison_row = {\n",
    "            'question': question,\n",
    "            'answer1': answer1 if not do_swap else answer2,\n",
    "            'answer2': answer2 if not do_swap else answer1,\n",
    "            'metadata': {\n",
    "                'rand1': np.random.randint(0, 1e5),\n",
    "                'do_swap': do_swap,\n",
    "                'answer1': col1 if not do_swap else col2,\n",
    "                'answer2': col2 if not do_swap else col1, \n",
    "                'rand2': np.random.randint(0, 1e5)\n",
    "            },\n",
    "        }\n",
    "        comparison_row['metadata_encoded'] = encode_metadata(comparison_row['metadata'])\n",
    "\n",
    "        comparisons.append(comparison_row)\n",
    "\n",
    "    df_comparisons = pd.DataFrame.from_records(comparisons)\n",
    "    return df_comparisons\n",
    "\n",
    "#with pd.option_context('display.max_colwidth', None):\n",
    "#    display(create_comparison('baseline.answer', 'checkpoint-2500.answer'))"
   ]
  },
  {
   "cell_type": "code",
   "execution_count": null,
   "metadata": {},
   "outputs": [
    {
     "data": {
      "text/plain": [
       "Index(['question', '7B_dpo_cp-10000.answer', '7B_dpo_cp-10000.reward',\n",
       "       '7B_dpo_cp-2000.answer', '7B_dpo_cp-2000.reward',\n",
       "       '7B_dpo_cp-10000.text_standard', '7B_dpo_cp-10000.reading_time',\n",
       "       '7B_dpo_cp-2000.text_standard', '7B_dpo_cp-2000.reading_time'],\n",
       "      dtype='object')"
      ]
     },
     "execution_count": 21,
     "metadata": {},
     "output_type": "execute_result"
    }
   ],
   "source": [
    "df.columns"
   ]
  },
  {
   "cell_type": "code",
   "execution_count": null,
   "metadata": {},
   "outputs": [
    {
     "ename": "KeyError",
     "evalue": "'3B_baseline.answer'",
     "output_type": "error",
     "traceback": [
      "\u001b[0;31m---------------------------------------------------------------------------\u001b[0m",
      "\u001b[0;31mKeyError\u001b[0m                                  Traceback (most recent call last)",
      "File \u001b[0;32m/usr/local/lib/python3.10/dist-packages/pandas/core/indexes/base.py:3790\u001b[0m, in \u001b[0;36mIndex.get_loc\u001b[0;34m(self, key)\u001b[0m\n\u001b[1;32m   3789\u001b[0m \u001b[39mtry\u001b[39;00m:\n\u001b[0;32m-> 3790\u001b[0m     \u001b[39mreturn\u001b[39;00m \u001b[39mself\u001b[39;49m\u001b[39m.\u001b[39;49m_engine\u001b[39m.\u001b[39;49mget_loc(casted_key)\n\u001b[1;32m   3791\u001b[0m \u001b[39mexcept\u001b[39;00m \u001b[39mKeyError\u001b[39;00m \u001b[39mas\u001b[39;00m err:\n",
      "File \u001b[0;32mindex.pyx:152\u001b[0m, in \u001b[0;36mpandas._libs.index.IndexEngine.get_loc\u001b[0;34m()\u001b[0m\n",
      "File \u001b[0;32mindex.pyx:181\u001b[0m, in \u001b[0;36mpandas._libs.index.IndexEngine.get_loc\u001b[0;34m()\u001b[0m\n",
      "File \u001b[0;32mpandas/_libs/hashtable_class_helper.pxi:7080\u001b[0m, in \u001b[0;36mpandas._libs.hashtable.PyObjectHashTable.get_item\u001b[0;34m()\u001b[0m\n",
      "File \u001b[0;32mpandas/_libs/hashtable_class_helper.pxi:7088\u001b[0m, in \u001b[0;36mpandas._libs.hashtable.PyObjectHashTable.get_item\u001b[0;34m()\u001b[0m\n",
      "\u001b[0;31mKeyError\u001b[0m: '3B_baseline.answer'",
      "\nThe above exception was the direct cause of the following exception:\n",
      "\u001b[0;31mKeyError\u001b[0m                                  Traceback (most recent call last)",
      "\u001b[1;32m/workspaces/reddit_qa/notebooks/model_comparison.ipynb Cell 32\u001b[0m line \u001b[0;36m2\n\u001b[1;32m      <a href='vscode-notebook-cell://dev-container%2B7b22686f737450617468223a222f686f6d652f6a686f666662617565722f7265646469745f7161222c226c6f63616c446f636b6572223a66616c73652c22636f6e66696746696c65223a7b22246d6964223a312c2270617468223a222f686f6d652f6a686f666662617565722f7265646469745f71612f2e646576636f6e7461696e65722f646576636f6e7461696e65722e6a736f6e222c22736368656d65223a227673636f64652d66696c65486f7374227d7d@ssh-remote%2Bhpi_gpu_server/workspaces/reddit_qa/notebooks/model_comparison.ipynb#X43sdnNjb2RlLXJlbW90ZQ%3D%3D?line=0'>1</a>\u001b[0m \u001b[39m# Yellow ones\u001b[39;00m\n\u001b[0;32m----> <a href='vscode-notebook-cell://dev-container%2B7b22686f737450617468223a222f686f6d652f6a686f666662617565722f7265646469745f7161222c226c6f63616c446f636b6572223a66616c73652c22636f6e66696746696c65223a7b22246d6964223a312c2270617468223a222f686f6d652f6a686f666662617565722f7265646469745f71612f2e646576636f6e7461696e65722f646576636f6e7461696e65722e6a736f6e222c22736368656d65223a227673636f64652d66696c65486f7374227d7d@ssh-remote%2Bhpi_gpu_server/workspaces/reddit_qa/notebooks/model_comparison.ipynb#X43sdnNjb2RlLXJlbW90ZQ%3D%3D?line=1'>2</a>\u001b[0m create_comparison(\u001b[39m'\u001b[39;49m\u001b[39m3B_baseline.answer\u001b[39;49m\u001b[39m'\u001b[39;49m, \u001b[39m'\u001b[39;49m\u001b[39m3B_cp-2500.answer\u001b[39;49m\u001b[39m'\u001b[39;49m)\\\n\u001b[1;32m      <a href='vscode-notebook-cell://dev-container%2B7b22686f737450617468223a222f686f6d652f6a686f666662617565722f7265646469745f7161222c226c6f63616c446f636b6572223a66616c73652c22636f6e66696746696c65223a7b22246d6964223a312c2270617468223a222f686f6d652f6a686f666662617565722f7265646469745f71612f2e646576636f6e7461696e65722f646576636f6e7461696e65722e6a736f6e222c22736368656d65223a227673636f64652d66696c65486f7374227d7d@ssh-remote%2Bhpi_gpu_server/workspaces/reddit_qa/notebooks/model_comparison.ipynb#X43sdnNjb2RlLXJlbW90ZQ%3D%3D?line=2'>3</a>\u001b[0m     \u001b[39m.\u001b[39mhead(\u001b[39m100\u001b[39m)\\\n\u001b[1;32m      <a href='vscode-notebook-cell://dev-container%2B7b22686f737450617468223a222f686f6d652f6a686f666662617565722f7265646469745f7161222c226c6f63616c446f636b6572223a66616c73652c22636f6e66696746696c65223a7b22246d6964223a312c2270617468223a222f686f6d652f6a686f666662617565722f7265646469745f71612f2e646576636f6e7461696e65722f646576636f6e7461696e65722e6a736f6e222c22736368656d65223a227673636f64652d66696c65486f7374227d7d@ssh-remote%2Bhpi_gpu_server/workspaces/reddit_qa/notebooks/model_comparison.ipynb#X43sdnNjb2RlLXJlbW90ZQ%3D%3D?line=3'>4</a>\u001b[0m     \u001b[39m.\u001b[39mto_excel(\u001b[39m'\u001b[39m\u001b[39mModel Comparison - 3B Baseline vs 3B SFT (n100).xlsx\u001b[39m\u001b[39m'\u001b[39m)\n\u001b[1;32m      <a href='vscode-notebook-cell://dev-container%2B7b22686f737450617468223a222f686f6d652f6a686f666662617565722f7265646469745f7161222c226c6f63616c446f636b6572223a66616c73652c22636f6e66696746696c65223a7b22246d6964223a312c2270617468223a222f686f6d652f6a686f666662617565722f7265646469745f71612f2e646576636f6e7461696e65722f646576636f6e7461696e65722e6a736f6e222c22736368656d65223a227673636f64652d66696c65486f7374227d7d@ssh-remote%2Bhpi_gpu_server/workspaces/reddit_qa/notebooks/model_comparison.ipynb#X43sdnNjb2RlLXJlbW90ZQ%3D%3D?line=5'>6</a>\u001b[0m create_comparison(\u001b[39m'\u001b[39m\u001b[39m7B_baseline.answer\u001b[39m\u001b[39m'\u001b[39m, \u001b[39m'\u001b[39m\u001b[39m7B_cp-2000.answer\u001b[39m\u001b[39m'\u001b[39m)\\\n\u001b[1;32m      <a href='vscode-notebook-cell://dev-container%2B7b22686f737450617468223a222f686f6d652f6a686f666662617565722f7265646469745f7161222c226c6f63616c446f636b6572223a66616c73652c22636f6e66696746696c65223a7b22246d6964223a312c2270617468223a222f686f6d652f6a686f666662617565722f7265646469745f71612f2e646576636f6e7461696e65722f646576636f6e7461696e65722e6a736f6e222c22736368656d65223a227673636f64652d66696c65486f7374227d7d@ssh-remote%2Bhpi_gpu_server/workspaces/reddit_qa/notebooks/model_comparison.ipynb#X43sdnNjb2RlLXJlbW90ZQ%3D%3D?line=6'>7</a>\u001b[0m     \u001b[39m.\u001b[39mhead(\u001b[39m100\u001b[39m)\\\n\u001b[1;32m      <a href='vscode-notebook-cell://dev-container%2B7b22686f737450617468223a222f686f6d652f6a686f666662617565722f7265646469745f7161222c226c6f63616c446f636b6572223a66616c73652c22636f6e66696746696c65223a7b22246d6964223a312c2270617468223a222f686f6d652f6a686f666662617565722f7265646469745f71612f2e646576636f6e7461696e65722f646576636f6e7461696e65722e6a736f6e222c22736368656d65223a227673636f64652d66696c65486f7374227d7d@ssh-remote%2Bhpi_gpu_server/workspaces/reddit_qa/notebooks/model_comparison.ipynb#X43sdnNjb2RlLXJlbW90ZQ%3D%3D?line=7'>8</a>\u001b[0m     \u001b[39m.\u001b[39mto_excel(\u001b[39m'\u001b[39m\u001b[39mModel Comparison - 7B Baseline vs 7B SFT (n100).xlsx\u001b[39m\u001b[39m'\u001b[39m)\n\u001b[1;32m     <a href='vscode-notebook-cell://dev-container%2B7b22686f737450617468223a222f686f6d652f6a686f666662617565722f7265646469745f7161222c226c6f63616c446f636b6572223a66616c73652c22636f6e66696746696c65223a7b22246d6964223a312c2270617468223a222f686f6d652f6a686f666662617565722f7265646469745f71612f2e646576636f6e7461696e65722f646576636f6e7461696e65722e6a736f6e222c22736368656d65223a227673636f64652d66696c65486f7374227d7d@ssh-remote%2Bhpi_gpu_server/workspaces/reddit_qa/notebooks/model_comparison.ipynb#X43sdnNjb2RlLXJlbW90ZQ%3D%3D?line=9'>10</a>\u001b[0m \u001b[39m# Green ones\u001b[39;00m\n",
      "\u001b[1;32m/workspaces/reddit_qa/notebooks/model_comparison.ipynb Cell 32\u001b[0m line \u001b[0;36m9\n\u001b[1;32m      <a href='vscode-notebook-cell://dev-container%2B7b22686f737450617468223a222f686f6d652f6a686f666662617565722f7265646469745f7161222c226c6f63616c446f636b6572223a66616c73652c22636f6e66696746696c65223a7b22246d6964223a312c2270617468223a222f686f6d652f6a686f666662617565722f7265646469745f71612f2e646576636f6e7461696e65722f646576636f6e7461696e65722e6a736f6e222c22736368656d65223a227673636f64652d66696c65486f7374227d7d@ssh-remote%2Bhpi_gpu_server/workspaces/reddit_qa/notebooks/model_comparison.ipynb#X43sdnNjb2RlLXJlbW90ZQ%3D%3D?line=5'>6</a>\u001b[0m \u001b[39mfor\u001b[39;00m i, row \u001b[39min\u001b[39;00m df\u001b[39m.\u001b[39miterrows():\n\u001b[1;32m      <a href='vscode-notebook-cell://dev-container%2B7b22686f737450617468223a222f686f6d652f6a686f666662617565722f7265646469745f7161222c226c6f63616c446f636b6572223a66616c73652c22636f6e66696746696c65223a7b22246d6964223a312c2270617468223a222f686f6d652f6a686f666662617565722f7265646469745f71612f2e646576636f6e7461696e65722f646576636f6e7461696e65722e6a736f6e222c22736368656d65223a227673636f64652d66696c65486f7374227d7d@ssh-remote%2Bhpi_gpu_server/workspaces/reddit_qa/notebooks/model_comparison.ipynb#X43sdnNjb2RlLXJlbW90ZQ%3D%3D?line=7'>8</a>\u001b[0m     question \u001b[39m=\u001b[39m row[\u001b[39m'\u001b[39m\u001b[39mquestion\u001b[39m\u001b[39m'\u001b[39m]\n\u001b[0;32m----> <a href='vscode-notebook-cell://dev-container%2B7b22686f737450617468223a222f686f6d652f6a686f666662617565722f7265646469745f7161222c226c6f63616c446f636b6572223a66616c73652c22636f6e66696746696c65223a7b22246d6964223a312c2270617468223a222f686f6d652f6a686f666662617565722f7265646469745f71612f2e646576636f6e7461696e65722f646576636f6e7461696e65722e6a736f6e222c22736368656d65223a227673636f64652d66696c65486f7374227d7d@ssh-remote%2Bhpi_gpu_server/workspaces/reddit_qa/notebooks/model_comparison.ipynb#X43sdnNjb2RlLXJlbW90ZQ%3D%3D?line=8'>9</a>\u001b[0m     answer1 \u001b[39m=\u001b[39m row[col1]\n\u001b[1;32m     <a href='vscode-notebook-cell://dev-container%2B7b22686f737450617468223a222f686f6d652f6a686f666662617565722f7265646469745f7161222c226c6f63616c446f636b6572223a66616c73652c22636f6e66696746696c65223a7b22246d6964223a312c2270617468223a222f686f6d652f6a686f666662617565722f7265646469745f71612f2e646576636f6e7461696e65722f646576636f6e7461696e65722e6a736f6e222c22736368656d65223a227673636f64652d66696c65486f7374227d7d@ssh-remote%2Bhpi_gpu_server/workspaces/reddit_qa/notebooks/model_comparison.ipynb#X43sdnNjb2RlLXJlbW90ZQ%3D%3D?line=9'>10</a>\u001b[0m     answer2 \u001b[39m=\u001b[39m row[col2]\n\u001b[1;32m     <a href='vscode-notebook-cell://dev-container%2B7b22686f737450617468223a222f686f6d652f6a686f666662617565722f7265646469745f7161222c226c6f63616c446f636b6572223a66616c73652c22636f6e66696746696c65223a7b22246d6964223a312c2270617468223a222f686f6d652f6a686f666662617565722f7265646469745f71612f2e646576636f6e7461696e65722f646576636f6e7461696e65722e6a736f6e222c22736368656d65223a227673636f64652d66696c65486f7374227d7d@ssh-remote%2Bhpi_gpu_server/workspaces/reddit_qa/notebooks/model_comparison.ipynb#X43sdnNjb2RlLXJlbW90ZQ%3D%3D?line=11'>12</a>\u001b[0m     do_swap \u001b[39m=\u001b[39m np\u001b[39m.\u001b[39mrandom\u001b[39m.\u001b[39mchoice([\u001b[39mTrue\u001b[39;00m, \u001b[39mFalse\u001b[39;00m])\n",
      "File \u001b[0;32m/usr/local/lib/python3.10/dist-packages/pandas/core/series.py:1040\u001b[0m, in \u001b[0;36mSeries.__getitem__\u001b[0;34m(self, key)\u001b[0m\n\u001b[1;32m   1037\u001b[0m     \u001b[39mreturn\u001b[39;00m \u001b[39mself\u001b[39m\u001b[39m.\u001b[39m_values[key]\n\u001b[1;32m   1039\u001b[0m \u001b[39melif\u001b[39;00m key_is_scalar:\n\u001b[0;32m-> 1040\u001b[0m     \u001b[39mreturn\u001b[39;00m \u001b[39mself\u001b[39;49m\u001b[39m.\u001b[39;49m_get_value(key)\n\u001b[1;32m   1042\u001b[0m \u001b[39m# Convert generator to list before going through hashable part\u001b[39;00m\n\u001b[1;32m   1043\u001b[0m \u001b[39m# (We will iterate through the generator there to check for slices)\u001b[39;00m\n\u001b[1;32m   1044\u001b[0m \u001b[39mif\u001b[39;00m is_iterator(key):\n",
      "File \u001b[0;32m/usr/local/lib/python3.10/dist-packages/pandas/core/series.py:1156\u001b[0m, in \u001b[0;36mSeries._get_value\u001b[0;34m(self, label, takeable)\u001b[0m\n\u001b[1;32m   1153\u001b[0m     \u001b[39mreturn\u001b[39;00m \u001b[39mself\u001b[39m\u001b[39m.\u001b[39m_values[label]\n\u001b[1;32m   1155\u001b[0m \u001b[39m# Similar to Index.get_value, but we do not fall back to positional\u001b[39;00m\n\u001b[0;32m-> 1156\u001b[0m loc \u001b[39m=\u001b[39m \u001b[39mself\u001b[39;49m\u001b[39m.\u001b[39;49mindex\u001b[39m.\u001b[39;49mget_loc(label)\n\u001b[1;32m   1158\u001b[0m \u001b[39mif\u001b[39;00m is_integer(loc):\n\u001b[1;32m   1159\u001b[0m     \u001b[39mreturn\u001b[39;00m \u001b[39mself\u001b[39m\u001b[39m.\u001b[39m_values[loc]\n",
      "File \u001b[0;32m/usr/local/lib/python3.10/dist-packages/pandas/core/indexes/base.py:3797\u001b[0m, in \u001b[0;36mIndex.get_loc\u001b[0;34m(self, key)\u001b[0m\n\u001b[1;32m   3792\u001b[0m     \u001b[39mif\u001b[39;00m \u001b[39misinstance\u001b[39m(casted_key, \u001b[39mslice\u001b[39m) \u001b[39mor\u001b[39;00m (\n\u001b[1;32m   3793\u001b[0m         \u001b[39misinstance\u001b[39m(casted_key, abc\u001b[39m.\u001b[39mIterable)\n\u001b[1;32m   3794\u001b[0m         \u001b[39mand\u001b[39;00m \u001b[39many\u001b[39m(\u001b[39misinstance\u001b[39m(x, \u001b[39mslice\u001b[39m) \u001b[39mfor\u001b[39;00m x \u001b[39min\u001b[39;00m casted_key)\n\u001b[1;32m   3795\u001b[0m     ):\n\u001b[1;32m   3796\u001b[0m         \u001b[39mraise\u001b[39;00m InvalidIndexError(key)\n\u001b[0;32m-> 3797\u001b[0m     \u001b[39mraise\u001b[39;00m \u001b[39mKeyError\u001b[39;00m(key) \u001b[39mfrom\u001b[39;00m \u001b[39merr\u001b[39;00m\n\u001b[1;32m   3798\u001b[0m \u001b[39mexcept\u001b[39;00m \u001b[39mTypeError\u001b[39;00m:\n\u001b[1;32m   3799\u001b[0m     \u001b[39m# If we have a listlike key, _check_indexing_error will raise\u001b[39;00m\n\u001b[1;32m   3800\u001b[0m     \u001b[39m#  InvalidIndexError. Otherwise we fall through and re-raise\u001b[39;00m\n\u001b[1;32m   3801\u001b[0m     \u001b[39m#  the TypeError.\u001b[39;00m\n\u001b[1;32m   3802\u001b[0m     \u001b[39mself\u001b[39m\u001b[39m.\u001b[39m_check_indexing_error(key)\n",
      "\u001b[0;31mKeyError\u001b[0m: '3B_baseline.answer'"
     ]
    }
   ],
   "source": [
    "# Yellow ones\n",
    "create_comparison('3B_baseline.answer', '3B_cp-2500.answer')\\\n",
    "    .head(100)\\\n",
    "    .to_excel('Model Comparison - 3B Baseline vs 3B SFT (n100).xlsx')\n",
    "\n",
    "create_comparison('7B_baseline.answer', '7B_cp-2000.answer')\\\n",
    "    .head(100)\\\n",
    "    .to_excel('Model Comparison - 7B Baseline vs 7B SFT (n100).xlsx')\n",
    "\n",
    "# Green ones\n",
    "create_comparison('3B_cp-2500.answer', '7B_cp-2000.answer')\\\n",
    "    .head(100)\\\n",
    "    .to_excel('Model Comparison - 3B SFT vs 7B SFT (n100).xlsx')\n",
    "\n",
    "create_comparison('7B_cp-2000.answer', '7B-chat_cp-2500.answer')\\\n",
    "    .head(100)\\\n",
    "    .to_excel('Model Comparison - 7B SFT vs 7B Chat SFT (n100).xlsx')\n",
    "\n",
    "# RLHF\n",
    "create_comparison('7B-chat_ppo.answer', '7B-chat_cp-2500.answer')\\\n",
    "    .head(100)\\\n",
    "    .to_excel('(PPO) Model Comparison - 7B-Chat PPO vs 7B Chat SFT (n100).xlsx')\n",
    "\n",
    "create_comparison('7B_ppo.answer', '7B_cp-2000.answer')\\\n",
    "    .head(100)\\\n",
    "    .to_excel('(PPO) Model Comparison - 7B PPO vs 7B SFT (n100).xlsx')\n",
    "\n",
    "\n",
    "# create_comparison('baseline.answer', 'checkpoint-2500.answer')\\\n",
    "#     .to_excel('Model Comparison - Baseline vs Checkpoint-2500 (n200).xlsx')\n",
    "#\n",
    "# create_comparison('checkpoint-2500.answer', 'checkpoint-8500.answer')\\\n",
    "#     .to_excel('Model Comparison - Checkpoint-2500 vs Checkpoint-8500 (n200).xlsx')"
   ]
  },
  {
   "cell_type": "markdown",
   "metadata": {},
   "source": [
    "#### EDA on Data from Human Annotators"
   ]
  },
  {
   "cell_type": "markdown",
   "metadata": {},
   "source": [
    "First, let's count the votes"
   ]
  },
  {
   "cell_type": "code",
   "execution_count": null,
   "metadata": {},
   "outputs": [],
   "source": [
    "comparison_files = [\n",
    "    'labelled_data/Model Comparison - Baseline vs Checkpoint-2500 (n200).xlsx',\n",
    "    'labelled_data/Model Comparison - Checkpoint-2500 vs Checkpoint-8500 (n200).xlsx',\n",
    "    'labelled_data/Model Comparison - 3B Baseline vs 3B SFT (n100).xlsx',\n",
    "    'labelled_data/Model Comparison - 7B Baseline vs 7B SFT (n100).xlsx',\n",
    "    'labelled_data/Model Comparison - 7B-Chat PPO vs 7B Chat SFT (n100).xlsx',\n",
    "    'labelled_data/Model Comparison - 7B PPO vs 7B SFT (n100).xlsx'\n",
    "]\n",
    "\n",
    "\n",
    "def organize_answers(row): \n",
    "    metadata = row['metadata']\n",
    "    answer1 = metadata['answer1']\n",
    "    answer2 = metadata['answer2']\n",
    "\n",
    "    return {answer1: row['answer1'], answer2: row['answer2']}\n",
    "\n",
    "\n",
    "comparisons = []\n",
    "answers = {}\n",
    "for comparison_file in comparison_files:\n",
    "\n",
    "    # Load comparison data\n",
    "    comparison_df = pd.read_excel(comparison_file)\n",
    "\n",
    "    # Decode metadata\n",
    "    comparison_df[\"metadata\"] = comparison_df.metadata_encoded.apply(decode_metadata)\n",
    "    comparison_df.drop(columns=[\"metadata_encoded\"], inplace=True)\n",
    "    comparison_df.metadata = comparison_df.metadata.apply(lambda d: {k: v for k, v in d.items() if k not in ['rand1', 'rand2']})\n",
    "\n",
    "    # Fix column names\n",
    "    comparison_df.drop(columns=[\"assignee1\"], inplace=True, errors=\"ignore\")\n",
    "    comparison_df.rename(columns={\"label1\": \"label\"}, inplace=True, errors=\"ignore\")\n",
    "\n",
    "    # Count votes\n",
    "    counters = defaultdict(int)\n",
    "    for _, row in comparison_df.iterrows():\n",
    "        if row['label'] == '1 - answer1 is better':\n",
    "            counters[row['metadata']['answer1']] += 1\n",
    "        \n",
    "        elif row['label'] == '2 - answer2 is better':\n",
    "            counters[row['metadata']['answer2']] += 1\n",
    "\n",
    "        elif row['label'] == '3 - both are equal':\n",
    "            counters['parity'] += 1\n",
    "\n",
    "    # Organize answers\n",
    "    answers_pair = comparison_df.apply(organize_answers, axis=1)\n",
    "    answers_pair = list(answers_pair)\n",
    "    model_names = {k for pair in answers_pair for k in pair.keys() }\n",
    "    for model_name in model_names: \n",
    "        answers[model_name] = [pair[model_name] for pair in answers_pair]\n",
    "\n",
    "    #print(answers_pair[:2])\n",
    "\n",
    "    counters = {name: counters[name] for name in sorted(counters.keys())}\n",
    "    comparisons.append(counters)\n",
    "\n",
    "\n",
    "# # Create df with answers\n",
    "# answers = pd.DataFrame(answers)\n",
    "# #answers.columns = [c.replace('.answer', '') for c in answers.columns]\n",
    "# answers.insert(0, \"question\", comparison_df[\"question\"])\n",
    "#\n",
    "#\n",
    "# # Display\n",
    "# with pd.option_context('display.max_rows', None, 'display.max_columns', None, 'display.max_colwidth', None):\n",
    "#     display(answers.head(3))"
   ]
  },
  {
   "cell_type": "code",
   "execution_count": null,
   "metadata": {},
   "outputs": [
    {
     "data": {
      "text/plain": [
       "[{'baseline.answer': 78, 'checkpoint-2500.answer': 40, 'parity': 33},\n",
       " {'checkpoint-2500.answer': 68, 'checkpoint-8500.answer': 60, 'parity': 46},\n",
       " {'3B_baseline.answer': 16, '3B_cp-2500.answer': 53, 'parity': 31},\n",
       " {'7B_baseline.answer': 24, '7B_cp-2000.answer': 60, 'parity': 16},\n",
       " {'7B-chat_cp-2500.answer': 18, '7B-chat_ppo.answer': 19, 'parity': 15},\n",
       " {'7B_cp-2000.answer': 16, '7B_ppo.answer': 17, 'parity': 19}]"
      ]
     },
     "execution_count": 5,
     "metadata": {},
     "output_type": "execute_result"
    }
   ],
   "source": [
    "comparisons"
   ]
  },
  {
   "cell_type": "code",
   "execution_count": null,
   "metadata": {},
   "outputs": [
    {
     "data": {
      "image/png": "[encoded data removed]",
      "text/plain": [
       "<Figure size 300x500 with 1 Axes>"
      ]
     },
     "metadata": {},
     "output_type": "display_data"
    },
    {
     "data": {
      "image/png": "[encoded data removed]",
      "text/plain": [
       "<Figure size 300x500 with 1 Axes>"
      ]
     },
     "metadata": {},
     "output_type": "display_data"
    },
    {
     "data": {
      "image/png": "[encoded data removed]",
      "text/plain": [
       "<Figure size 300x500 with 1 Axes>"
      ]
     },
     "metadata": {},
     "output_type": "display_data"
    },
    {
     "data": {
      "image/png": "[encoded data removed]",
      "text/plain": [
       "<Figure size 300x500 with 1 Axes>"
      ]
     },
     "metadata": {},
     "output_type": "display_data"
    },
    {
     "data": {
      "image/png": "[encoded data removed]",
      "text/plain": [
       "<Figure size 300x500 with 1 Axes>"
      ]
     },
     "metadata": {},
     "output_type": "display_data"
    },
    {
     "data": {
      "image/png": "[encoded data removed]",
      "text/plain": [
       "<Figure size 300x500 with 1 Axes>"
      ]
     },
     "metadata": {},
     "output_type": "display_data"
    }
   ],
   "source": [
    "for comparison in comparisons: \n",
    "\n",
    "    keys = list(comparison.keys())\n",
    "    keys = keys[:1] + ['parity'] + keys[1:2]\n",
    "\n",
    "    pd.DataFrame([\n",
    "        {'rating': k.replace('.answer', ''), 'count': comparison[k]} for k in keys\n",
    "    ]).set_index('rating').T.plot.bar(stacked=True, figsize=(3, 5), legend=False)\n",
    "    plt.axis('off')\n",
    "    plt.legend(bbox_to_anchor=(1.0, 0.0))\n",
    "    plt.show()"
   ]
  },
  {
   "cell_type": "code",
   "execution_count": null,
   "metadata": {},
   "outputs": [],
   "source": []
  }
 ],
 "metadata": {
  "kernelspec": {
   "display_name": "venv",
   "language": "python",
   "name": "python3"
  },
  "language_info": {
   "codemirror_mode": {
    "name": "ipython",
    "version": 3
   },
   "file_extension": ".py",
   "mimetype": "text/x-python",
   "name": "python",
   "nbconvert_exporter": "python",
   "pygments_lexer": "ipython3",
   "version": "3.10.12"
  },
  "orig_nbformat": 4
 },
 "nbformat": 4,
 "nbformat_minor": 2
}
