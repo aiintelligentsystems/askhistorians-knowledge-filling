{
 "cells": [
  {
   "cell_type": "code",
   "execution_count": 2,
   "metadata": {},
   "outputs": [
    {
     "name": "stderr",
     "output_type": "stream",
     "text": [
      "/workspaces/reddit_qa/venv/lib/python3.10/site-packages/tqdm/auto.py:21: TqdmWarning: IProgress not found. Please update jupyter and ipywidgets. See https://ipywidgets.readthedocs.io/en/stable/user_install.html\n",
      "  from .autonotebook import tqdm as notebook_tqdm\n",
      "2023-08-21 09:53:02.577167: I tensorflow/core/platform/cpu_feature_guard.cc:182] This TensorFlow binary is optimized to use available CPU instructions in performance-critical operations.\n",
      "To enable the following instructions: AVX2 FMA, in other operations, rebuild TensorFlow with the appropriate compiler flags.\n",
      "2023-08-21 09:53:03.469598: W tensorflow/compiler/tf2tensorrt/utils/py_utils.cc:38] TF-TRT Warning: Could not find TensorRT\n"
     ]
    }
   ],
   "source": [
    "from transformers import pipeline"
   ]
  },
  {
   "cell_type": "code",
   "execution_count": 3,
   "metadata": {},
   "outputs": [],
   "source": [
    "toxicity_pipe = pipeline(\"text-classification\", model=\"tomh/toxigen_roberta\")"
   ]
  },
  {
   "cell_type": "code",
   "execution_count": 12,
   "metadata": {},
   "outputs": [
    {
     "name": "stdout",
     "output_type": "stream",
     "text": [
      "I love this product\n",
      "Toxic: 0.0011521161068230867\n",
      "\n",
      "I hate this product\n",
      "Toxic: 0.9814018607139587\n",
      "\n",
      "You are awesome!\n",
      "Toxic: 0.0008730472764000297\n",
      "\n",
      "You studid idiot!\n",
      "Toxic: 0.9786295294761658\n",
      "\n",
      "You stupid German idiot!\n",
      "Toxic: 0.978675365447998\n",
      "\n"
     ]
    }
   ],
   "source": [
    "sentences = [\n",
    "    \"I love this product\",\n",
    "    \"I hate this product\",\n",
    "    'You are awesome!',\n",
    "    'You studid idiot!',\n",
    "    'You stupid German idiot!',\n",
    "]\n",
    "\n",
    "for s in sentences: \n",
    "\n",
    "    result = toxicity_pipe(s, top_k=None)\n",
    "    score_label = [r for r in result if r['label'] == 'LABEL_1'][0]['score']\n",
    "\n",
    "    print(s)\n",
    "    print('Toxic:', score_label)\n",
    "    #print(result)\n",
    "    print()"
   ]
  },
  {
   "cell_type": "code",
   "execution_count": null,
   "metadata": {},
   "outputs": [],
   "source": []
  }
 ],
 "metadata": {
  "kernelspec": {
   "display_name": "venv",
   "language": "python",
   "name": "python3"
  },
  "language_info": {
   "codemirror_mode": {
    "name": "ipython",
    "version": 3
   },
   "file_extension": ".py",
   "mimetype": "text/x-python",
   "name": "python",
   "nbconvert_exporter": "python",
   "pygments_lexer": "ipython3",
   "version": "3.10.6"
  },
  "orig_nbformat": 4
 },
 "nbformat": 4,
 "nbformat_minor": 2
}
