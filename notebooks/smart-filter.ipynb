{
 "cells": [
  {
   "cell_type": "code",
   "execution_count": 1,
   "metadata": {},
   "outputs": [
    {
     "data": {
      "text/plain": [
       "<module 'redditqa.data.qa_generation' from '/workspaces/reddit_qa/redditqa/data/qa_generation.py'>"
      ]
     },
     "execution_count": 28,
     "metadata": {},
     "output_type": "execute_result"
    }
   ],
   "source": [
    "# external\n",
    "import datasets as ds\n",
    "from transformers import pipeline\n",
    "import importlib\n",
    "import os\n",
    "import torch\n",
    "import transformers\n",
    "from transformers import pipeline, AutoModelForCausalLM, AutoTokenizer, BitsAndBytesConfig\n",
    "from functools import partial\n",
    "\n",
    "# internal\n",
    "from redditqa.data.smart_filter import question_grading_map, question_filter, answer_grading_map, answer_filter\n",
    "from redditqa.data import qa_generation\n",
    "from redditqa.data.util import mask_links\n",
    "\n",
    "importlib.reload(qa_generation)"
   ]
  },
  {
   "cell_type": "code",
   "execution_count": 2,
   "metadata": {},
   "outputs": [
    {
     "data": {
      "text/plain": [
       "True"
      ]
     },
     "execution_count": 2,
     "metadata": {},
     "output_type": "execute_result"
    }
   ],
   "source": [
    "torch.cuda.is_available()"
   ]
  },
  {
   "cell_type": "code",
   "execution_count": 3,
   "metadata": {},
   "outputs": [],
   "source": [
    "model_id = \"HuggingFaceH4/zephyr-7b-beta\"\n",
    "cache_dir = \"/scratch1/ssawicki/cache\""
   ]
  },
  {
   "cell_type": "markdown",
   "metadata": {},
   "source": [
    "### Load model"
   ]
  },
  {
   "cell_type": "code",
   "execution_count": 4,
   "metadata": {},
   "outputs": [],
   "source": [
    "# quantization config\n",
    "bnb_config = BitsAndBytesConfig(\n",
    "    load_in_4bit=True,\n",
    "    bnb_4bit_use_double_quant=True,\n",
    "    bnb_4bit_quant_type=\"nf4\",\n",
    "    bnb_4bit_compute_dtype=torch.bfloat16\n",
    ")"
   ]
  },
  {
   "cell_type": "code",
   "execution_count": 5,
   "metadata": {},
   "outputs": [
    {
     "name": "stderr",
     "output_type": "stream",
     "text": [
      "Loading checkpoint shards: 100%|██████████| 8/8 [00:05<00:00,  1.45it/s]\n"
     ]
    }
   ],
   "source": [
    "model = AutoModelForCausalLM.from_pretrained(\n",
    "        model_id,\n",
    "        low_cpu_mem_usage=True,\n",
    "        quantization_config=bnb_config,\n",
    "        cache_dir=cache_dir\n",
    "    )"
   ]
  },
  {
   "cell_type": "code",
   "execution_count": 6,
   "metadata": {},
   "outputs": [],
   "source": [
    "tokenizer = AutoTokenizer.from_pretrained(model_id, cache_dir=cache_dir)\n",
    "tokenizer.pad_token_id = tokenizer.eos_token_id"
   ]
  },
  {
   "cell_type": "code",
   "execution_count": 7,
   "metadata": {},
   "outputs": [],
   "source": [
    "pipe = pipeline(\"text-generation\", model=model, tokenizer=tokenizer)"
   ]
  },
  {
   "cell_type": "markdown",
   "metadata": {},
   "source": [
    "### Load dataset"
   ]
  },
  {
   "cell_type": "code",
   "execution_count": 8,
   "metadata": {},
   "outputs": [],
   "source": [
    "dataset = ds.load_from_disk(\"/scratch1/redditqa/cached_datasets/AskHistorians.jsonl\")\n",
    "# Preprocessing\n",
    "dataset = dataset.map(mask_links)"
   ]
  },
  {
   "cell_type": "code",
   "execution_count": 9,
   "metadata": {},
   "outputs": [
    {
     "data": {
      "text/plain": [
       "{'question_created_utc': Value(dtype='int64', id=None),\n",
       " 'question_retrieved_on': Value(dtype='int64', id=None),\n",
       " 'question_deleted': Value(dtype='bool', id=None),\n",
       " 'question_title': Value(dtype='string', id=None),\n",
       " 'question_selftext': Value(dtype='string', id=None),\n",
       " 'question_score': Value(dtype='int64', id=None),\n",
       " 'question_char_length': Value(dtype='int64', id=None),\n",
       " 'question_selftext_char_length': Value(dtype='int64', id=None),\n",
       " 'answers': [{'answer_body': Value(dtype='string', id=None),\n",
       "   'answer_char_length': Value(dtype='int64', id=None),\n",
       "   'answer_created_utc': Value(dtype='int64', id=None),\n",
       "   'answer_deleted': Value(dtype='bool', id=None),\n",
       "   'answer_id': Value(dtype='string', id=None),\n",
       "   'answer_retrieved_on': Value(dtype='int64', id=None),\n",
       "   'answer_score': Value(dtype='int64', id=None)}]}"
      ]
     },
     "execution_count": 9,
     "metadata": {},
     "output_type": "execute_result"
    }
   ],
   "source": [
    "dataset.info.features"
   ]
  },
  {
   "cell_type": "markdown",
   "metadata": {},
   "source": [
    "### LLM Filtering"
   ]
  },
  {
   "cell_type": "markdown",
   "metadata": {},
   "source": [
    "Question filtering:\n",
    "- Few shot classification: define what a well written question is, show some good and bad examples.\n",
    "\n",
    "Answer filter:\n",
    "- Few shot classification: define what a well written answer is, show good & bad examples."
   ]
  },
  {
   "cell_type": "markdown",
   "metadata": {},
   "source": [
    "#### Question filter"
   ]
  },
  {
   "cell_type": "code",
   "execution_count": 10,
   "metadata": {},
   "outputs": [],
   "source": [
    "question_grading = partial(question_grading_map, pipeline=pipe, verbose=True)\n",
    "question_filter = partial(question_filter, accepted_token_str=['y', 'yes'])"
   ]
  },
  {
   "cell_type": "code",
   "execution_count": 11,
   "metadata": {},
   "outputs": [
    {
     "data": {
      "text/plain": [
       "Dataset({\n",
       "    features: ['question_created_utc', 'question_retrieved_on', 'question_deleted', 'question_title', 'question_selftext', 'question_score', 'question_char_length', 'question_selftext_char_length', 'answers'],\n",
       "    num_rows: 30\n",
       "})"
      ]
     },
     "execution_count": 11,
     "metadata": {},
     "output_type": "execute_result"
    }
   ],
   "source": [
    "example_ds = dataset.select(list(range(50,80)))\n",
    "example_ds"
   ]
  },
  {
   "cell_type": "code",
   "execution_count": 12,
   "metadata": {},
   "outputs": [
    {
     "name": "stderr",
     "output_type": "stream",
     "text": [
      "Map:   0%|          | 0/30 [00:00<?, ? examples/s]/usr/local/lib/python3.10/dist-packages/transformers/generation/utils.py:1473: UserWarning: You have modified the pretrained model configuration to control generation. This is a deprecated strategy to control generation and will be removed soon, in a future version. Please use and modify the model generation configuration (see https://huggingface.co/docs/transformers/generation_strategies#default-text-generation-configuration )\n",
      "  warnings.warn(\n",
      "Map:   3%|▎         | 1/30 [00:00<00:22,  1.29 examples/s]"
     ]
    },
    {
     "name": "stdout",
     "output_type": "stream",
     "text": [
      "{'graded_output': [{'token_id': tensor(2301), 'token_str': 'Is', 'probability': 0.650636}]}\n"
     ]
    },
    {
     "name": "stderr",
     "output_type": "stream",
     "text": [
      "Map:   7%|▋         | 2/30 [00:00<00:12,  2.24 examples/s]"
     ]
    },
    {
     "name": "stdout",
     "output_type": "stream",
     "text": [
      "{'graded_output': [{'token_id': tensor(5613), 'token_str': 'Yes', 'probability': 0.61765474}]}\n"
     ]
    },
    {
     "name": "stderr",
     "output_type": "stream",
     "text": [
      "Map:  10%|█         | 3/30 [00:01<00:09,  2.95 examples/s]"
     ]
    },
    {
     "name": "stdout",
     "output_type": "stream",
     "text": [
      "{'graded_output': [{'token_id': tensor(5613), 'token_str': 'Yes', 'probability': 0.8637139}]}\n"
     ]
    },
    {
     "name": "stderr",
     "output_type": "stream",
     "text": [
      "Map:  13%|█▎        | 4/30 [00:01<00:07,  3.43 examples/s]"
     ]
    },
    {
     "name": "stdout",
     "output_type": "stream",
     "text": [
      "{'graded_output': [{'token_id': tensor(2301), 'token_str': 'Is', 'probability': 0.8291705}]}\n"
     ]
    },
    {
     "name": "stderr",
     "output_type": "stream",
     "text": [
      "Map:  17%|█▋        | 5/30 [00:01<00:06,  3.80 examples/s]"
     ]
    },
    {
     "name": "stdout",
     "output_type": "stream",
     "text": [
      "{'graded_output': [{'token_id': tensor(5613), 'token_str': 'Yes', 'probability': 0.72948694}]}\n"
     ]
    },
    {
     "name": "stderr",
     "output_type": "stream",
     "text": [
      "Map:  20%|██        | 6/30 [00:01<00:05,  4.06 examples/s]"
     ]
    },
    {
     "name": "stdout",
     "output_type": "stream",
     "text": [
      "{'graded_output': [{'token_id': tensor(5613), 'token_str': 'Yes', 'probability': 0.66851276}]}\n"
     ]
    },
    {
     "name": "stderr",
     "output_type": "stream",
     "text": [
      "Map:  23%|██▎       | 7/30 [00:02<00:05,  4.25 examples/s]"
     ]
    },
    {
     "name": "stdout",
     "output_type": "stream",
     "text": [
      "{'graded_output': [{'token_id': tensor(1014), 'token_str': 'The', 'probability': 0.39586458}]}\n"
     ]
    },
    {
     "name": "stderr",
     "output_type": "stream",
     "text": [
      "Map:  27%|██▋       | 8/30 [00:02<00:05,  4.38 examples/s]"
     ]
    },
    {
     "name": "stdout",
     "output_type": "stream",
     "text": [
      "{'graded_output': [{'token_id': tensor(1014), 'token_str': 'The', 'probability': 0.339123}]}\n"
     ]
    },
    {
     "name": "stderr",
     "output_type": "stream",
     "text": [
      "Map:  30%|███       | 9/30 [00:02<00:04,  4.47 examples/s]"
     ]
    },
    {
     "name": "stdout",
     "output_type": "stream",
     "text": [
      "{'graded_output': [{'token_id': tensor(24207), 'token_str': 'Based', 'probability': 0.30783248}]}\n"
     ]
    },
    {
     "name": "stderr",
     "output_type": "stream",
     "text": [
      "Map:  33%|███▎      | 10/30 [00:02<00:04,  4.54 examples/s]"
     ]
    },
    {
     "name": "stdout",
     "output_type": "stream",
     "text": [
      "{'graded_output': [{'token_id': tensor(5613), 'token_str': 'Yes', 'probability': 0.8851687}]}\n"
     ]
    },
    {
     "name": "stderr",
     "output_type": "stream",
     "text": [
      "Map:  37%|███▋      | 11/30 [00:02<00:04,  4.57 examples/s]"
     ]
    },
    {
     "name": "stdout",
     "output_type": "stream",
     "text": [
      "{'graded_output': [{'token_id': tensor(2301), 'token_str': 'Is', 'probability': 0.60324824}]}\n"
     ]
    },
    {
     "name": "stderr",
     "output_type": "stream",
     "text": [
      "Map:  40%|████      | 12/30 [00:03<00:03,  4.59 examples/s]"
     ]
    },
    {
     "name": "stdout",
     "output_type": "stream",
     "text": [
      "{'graded_output': [{'token_id': tensor(3260), 'token_str': 'This', 'probability': 0.4616516}]}\n"
     ]
    },
    {
     "name": "stderr",
     "output_type": "stream",
     "text": [
      "Map:  43%|████▎     | 13/30 [00:03<00:03,  4.61 examples/s]"
     ]
    },
    {
     "name": "stdout",
     "output_type": "stream",
     "text": [
      "{'graded_output': [{'token_id': tensor(2301), 'token_str': 'Is', 'probability': 0.6763611}]}\n"
     ]
    },
    {
     "name": "stderr",
     "output_type": "stream",
     "text": [
      "Map:  47%|████▋     | 14/30 [00:03<00:03,  4.64 examples/s]"
     ]
    },
    {
     "name": "stdout",
     "output_type": "stream",
     "text": [
      "{'graded_output': [{'token_id': tensor(2301), 'token_str': 'Is', 'probability': 0.39937752}]}\n"
     ]
    },
    {
     "name": "stderr",
     "output_type": "stream",
     "text": [
      "Map:  50%|█████     | 15/30 [00:03<00:03,  4.66 examples/s]"
     ]
    },
    {
     "name": "stdout",
     "output_type": "stream",
     "text": [
      "{'graded_output': [{'token_id': tensor(5613), 'token_str': 'Yes', 'probability': 0.85479397}]}\n"
     ]
    },
    {
     "name": "stderr",
     "output_type": "stream",
     "text": [
      "Map:  53%|█████▎    | 16/30 [00:03<00:03,  4.66 examples/s]"
     ]
    },
    {
     "name": "stdout",
     "output_type": "stream",
     "text": [
      "{'graded_output': [{'token_id': tensor(2501), 'token_str': 'No', 'probability': 0.7841807}]}\n"
     ]
    },
    {
     "name": "stderr",
     "output_type": "stream",
     "text": [
      "Map:  57%|█████▋    | 17/30 [00:04<00:02,  4.66 examples/s]"
     ]
    },
    {
     "name": "stdout",
     "output_type": "stream",
     "text": [
      "{'graded_output': [{'token_id': tensor(5613), 'token_str': 'Yes', 'probability': 0.8281972}]}\n"
     ]
    },
    {
     "name": "stderr",
     "output_type": "stream",
     "text": [
      "Map:  60%|██████    | 18/30 [00:04<00:02,  4.68 examples/s]"
     ]
    },
    {
     "name": "stdout",
     "output_type": "stream",
     "text": [
      "{'graded_output': [{'token_id': tensor(1014), 'token_str': 'The', 'probability': 0.4351434}]}\n"
     ]
    },
    {
     "name": "stderr",
     "output_type": "stream",
     "text": [
      "Map:  63%|██████▎   | 19/30 [00:04<00:02,  4.68 examples/s]"
     ]
    },
    {
     "name": "stdout",
     "output_type": "stream",
     "text": [
      "{'graded_output': [{'token_id': tensor(2301), 'token_str': 'Is', 'probability': 0.5663763}]}\n"
     ]
    },
    {
     "name": "stderr",
     "output_type": "stream",
     "text": [
      "Map:  67%|██████▋   | 20/30 [00:04<00:02,  4.68 examples/s]"
     ]
    },
    {
     "name": "stdout",
     "output_type": "stream",
     "text": [
      "{'graded_output': [{'token_id': tensor(5613), 'token_str': 'Yes', 'probability': 0.9522475}]}\n"
     ]
    },
    {
     "name": "stderr",
     "output_type": "stream",
     "text": [
      "Map:  70%|███████   | 21/30 [00:05<00:01,  4.68 examples/s]"
     ]
    },
    {
     "name": "stdout",
     "output_type": "stream",
     "text": [
      "{'graded_output': [{'token_id': tensor(2301), 'token_str': 'Is', 'probability': 0.93276036}]}\n"
     ]
    },
    {
     "name": "stderr",
     "output_type": "stream",
     "text": [
      "Map:  73%|███████▎  | 22/30 [00:05<00:01,  4.68 examples/s]"
     ]
    },
    {
     "name": "stdout",
     "output_type": "stream",
     "text": [
      "{'graded_output': [{'token_id': tensor(2301), 'token_str': 'Is', 'probability': 0.4009727}]}\n"
     ]
    },
    {
     "name": "stderr",
     "output_type": "stream",
     "text": [
      "Map:  77%|███████▋  | 23/30 [00:05<00:01,  4.66 examples/s]"
     ]
    },
    {
     "name": "stdout",
     "output_type": "stream",
     "text": [
      "{'graded_output': [{'token_id': tensor(5613), 'token_str': 'Yes', 'probability': 0.9776138}]}\n"
     ]
    },
    {
     "name": "stderr",
     "output_type": "stream",
     "text": [
      "Map:  80%|████████  | 24/30 [00:05<00:01,  4.64 examples/s]"
     ]
    },
    {
     "name": "stdout",
     "output_type": "stream",
     "text": [
      "{'graded_output': [{'token_id': tensor(1014), 'token_str': 'The', 'probability': 0.38265973}]}\n"
     ]
    },
    {
     "name": "stderr",
     "output_type": "stream",
     "text": [
      "Map:  83%|████████▎ | 25/30 [00:05<00:01,  4.63 examples/s]"
     ]
    },
    {
     "name": "stdout",
     "output_type": "stream",
     "text": [
      "{'graded_output': [{'token_id': tensor(2301), 'token_str': 'Is', 'probability': 0.32117096}]}\n"
     ]
    },
    {
     "name": "stderr",
     "output_type": "stream",
     "text": [
      "Map:  87%|████████▋ | 26/30 [00:06<00:00,  4.64 examples/s]"
     ]
    },
    {
     "name": "stdout",
     "output_type": "stream",
     "text": [
      "{'graded_output': [{'token_id': tensor(2501), 'token_str': 'No', 'probability': 0.98222184}]}\n"
     ]
    },
    {
     "name": "stderr",
     "output_type": "stream",
     "text": [
      "Map:  90%|█████████ | 27/30 [00:06<00:00,  4.65 examples/s]"
     ]
    },
    {
     "name": "stdout",
     "output_type": "stream",
     "text": [
      "{'graded_output': [{'token_id': tensor(28737), 'token_str': 'I', 'probability': 0.70708704}]}\n"
     ]
    },
    {
     "name": "stderr",
     "output_type": "stream",
     "text": [
      "Map:  93%|█████████▎| 28/30 [00:06<00:00,  4.66 examples/s]"
     ]
    },
    {
     "name": "stdout",
     "output_type": "stream",
     "text": [
      "{'graded_output': [{'token_id': tensor(1014), 'token_str': 'The', 'probability': 0.59088075}]}\n"
     ]
    },
    {
     "name": "stderr",
     "output_type": "stream",
     "text": [
      "Map:  97%|█████████▋| 29/30 [00:06<00:00,  4.68 examples/s]"
     ]
    },
    {
     "name": "stdout",
     "output_type": "stream",
     "text": [
      "{'graded_output': [{'token_id': tensor(2301), 'token_str': 'Is', 'probability': 0.6315164}]}\n"
     ]
    },
    {
     "name": "stderr",
     "output_type": "stream",
     "text": [
      "Map: 100%|██████████| 30/30 [00:06<00:00,  4.29 examples/s]"
     ]
    },
    {
     "name": "stdout",
     "output_type": "stream",
     "text": [
      "{'graded_output': [{'token_id': tensor(5613), 'token_str': 'Yes', 'probability': 0.3377912}]}\n"
     ]
    },
    {
     "name": "stderr",
     "output_type": "stream",
     "text": [
      "\n"
     ]
    }
   ],
   "source": [
    "# grading the questions\n",
    "example_ds = example_ds.map(question_grading)"
   ]
  },
  {
   "cell_type": "code",
   "execution_count": 13,
   "metadata": {},
   "outputs": [
    {
     "name": "stderr",
     "output_type": "stream",
     "text": [
      "Filter: 100%|██████████| 30/30 [00:00<00:00, 5564.46 examples/s]\n"
     ]
    }
   ],
   "source": [
    "# filtering quetions\n",
    "example_ds = example_ds.filter(question_filter)"
   ]
  },
  {
   "cell_type": "code",
   "execution_count": 14,
   "metadata": {},
   "outputs": [
    {
     "data": {
      "text/plain": [
       "['Was Dwight Eisenhower consulted by JFK during the Cuban Missile Crisis? ',\n",
       " 'Religious sects of Reformation England: Who were they and what did they believe?',\n",
       " 'Reddit, what were the perspectives of the British and the Boers during the Second Boer War ?',\n",
       " 'Were the fire bombings on Dresden from Allied forces during WWII necessary?',\n",
       " 'What was the role of dogs in the Roman military?',\n",
       " 'What did pre-modern racism look like?',\n",
       " 'How did the Roman government react to the eruption of Mt. Vesuvius in AD 79?',\n",
       " 'Do you guys know of any instance when a revolution has succeeded without foreign intervention?',\n",
       " 'Is there any other instance in history where a different race of people were imported into a land as slaves and eventually became fully assimilated as equals into society? If so how long did it take? ',\n",
       " 'What was the longest period of time where the US was not at war, or actively involved in combat?']"
      ]
     },
     "execution_count": 14,
     "metadata": {},
     "output_type": "execute_result"
    }
   ],
   "source": [
    "# remaining questions\n",
    "example_ds[\"question_title\"]"
   ]
  },
  {
   "cell_type": "markdown",
   "metadata": {},
   "source": [
    "#### Answer filter"
   ]
  },
  {
   "cell_type": "code",
   "execution_count": 15,
   "metadata": {},
   "outputs": [],
   "source": [
    "answer_grading = partial(answer_grading_map, pipeline=pipe, verbose=True)\n",
    "answer_filter = partial(answer_filter, accepted_token_str=['y', 'yes'])"
   ]
  },
  {
   "cell_type": "code",
   "execution_count": 16,
   "metadata": {},
   "outputs": [
    {
     "name": "stderr",
     "output_type": "stream",
     "text": [
      "Map:   0%|          | 0/10 [00:00<?, ? examples/s]"
     ]
    },
    {
     "name": "stdout",
     "output_type": "stream",
     "text": [
      "{'graded_output': [{'token_id': tensor(5613), 'token_str': 'Yes', 'probability': 0.7641037}]}\n"
     ]
    },
    {
     "name": "stderr",
     "output_type": "stream",
     "text": [
      "Map:  10%|█         | 1/10 [00:00<00:05,  1.72 examples/s]"
     ]
    },
    {
     "name": "stdout",
     "output_type": "stream",
     "text": [
      "{'graded_output': [{'token_id': tensor(5613), 'token_str': 'Yes', 'probability': 0.7315472}]}\n",
      "{'graded_output': [{'token_id': tensor(2301), 'token_str': 'Is', 'probability': 0.46591264}]}\n"
     ]
    },
    {
     "name": "stderr",
     "output_type": "stream",
     "text": [
      "Map:  20%|██        | 2/10 [00:01<00:05,  1.58 examples/s]"
     ]
    },
    {
     "name": "stdout",
     "output_type": "stream",
     "text": [
      "{'graded_output': [{'token_id': tensor(2301), 'token_str': 'Is', 'probability': 0.35863084}]}\n",
      "{'graded_output': [{'token_id': tensor(2501), 'token_str': 'No', 'probability': 0.95299494}]}\n"
     ]
    },
    {
     "name": "stderr",
     "output_type": "stream",
     "text": [
      "Map:  30%|███       | 3/10 [00:01<00:04,  1.62 examples/s]"
     ]
    },
    {
     "name": "stdout",
     "output_type": "stream",
     "text": [
      "{'graded_output': [{'token_id': tensor(2501), 'token_str': 'No', 'probability': 0.9207272}]}\n",
      "{'graded_output': [{'token_id': tensor(2501), 'token_str': 'No', 'probability': 0.76148134}]}\n",
      "{'graded_output': [{'token_id': tensor(5613), 'token_str': 'Yes', 'probability': 0.55770934}]}\n",
      "{'graded_output': [{'token_id': tensor(5613), 'token_str': 'Yes', 'probability': 0.562034}]}\n",
      "{'graded_output': [{'token_id': tensor(5613), 'token_str': 'Yes', 'probability': 0.55572397}]}\n",
      "{'graded_output': [{'token_id': tensor(5613), 'token_str': 'Yes', 'probability': 0.7264219}]}\n",
      "{'graded_output': [{'token_id': tensor(2301), 'token_str': 'Is', 'probability': 0.2522639}]}\n"
     ]
    },
    {
     "name": "stderr",
     "output_type": "stream",
     "text": [
      "Map:  40%|████      | 4/10 [00:04<00:08,  1.38s/ examples]"
     ]
    },
    {
     "name": "stdout",
     "output_type": "stream",
     "text": [
      "{'graded_output': [{'token_id': tensor(2501), 'token_str': 'No', 'probability': 0.9220224}]}\n",
      "{'graded_output': [{'token_id': tensor(2301), 'token_str': 'Is', 'probability': 0.3299616}]}\n"
     ]
    },
    {
     "name": "stderr",
     "output_type": "stream",
     "text": [
      "Map:  50%|█████     | 5/10 [00:04<00:05,  1.09s/ examples]"
     ]
    },
    {
     "name": "stdout",
     "output_type": "stream",
     "text": [
      "{'graded_output': [{'token_id': tensor(2501), 'token_str': 'No', 'probability': 0.779684}]}\n",
      "{'graded_output': [{'token_id': tensor(5613), 'token_str': 'Yes', 'probability': 0.57565033}]}\n",
      "{'graded_output': [{'token_id': tensor(1014), 'token_str': 'The', 'probability': 0.28809276}]}\n",
      "{'graded_output': [{'token_id': tensor(2301), 'token_str': 'Is', 'probability': 0.25955176}]}\n"
     ]
    },
    {
     "name": "stderr",
     "output_type": "stream",
     "text": [
      "Map:  60%|██████    | 6/10 [00:06<00:04,  1.14s/ examples]"
     ]
    },
    {
     "name": "stdout",
     "output_type": "stream",
     "text": [
      "{'graded_output': [{'token_id': tensor(5613), 'token_str': 'Yes', 'probability': 0.3975593}]}\n",
      "{'graded_output': [{'token_id': tensor(5613), 'token_str': 'Yes', 'probability': 0.90252525}]}\n",
      "{'graded_output': [{'token_id': tensor(2501), 'token_str': 'No', 'probability': 0.89953196}]}\n",
      "{'graded_output': [{'token_id': tensor(5613), 'token_str': 'Yes', 'probability': 0.6132235}]}\n",
      "{'graded_output': [{'token_id': tensor(2501), 'token_str': 'No', 'probability': 0.70639944}]}\n"
     ]
    },
    {
     "name": "stderr",
     "output_type": "stream",
     "text": [
      "Map:  70%|███████   | 7/10 [00:07<00:03,  1.27s/ examples]"
     ]
    },
    {
     "name": "stdout",
     "output_type": "stream",
     "text": [
      "{'graded_output': [{'token_id': tensor(2501), 'token_str': 'No', 'probability': 0.84103245}]}\n",
      "{'graded_output': [{'token_id': tensor(5613), 'token_str': 'Yes', 'probability': 0.87321466}]}\n",
      "{'graded_output': [{'token_id': tensor(2301), 'token_str': 'Is', 'probability': 0.22599277}]}\n",
      "{'graded_output': [{'token_id': tensor(5613), 'token_str': 'Yes', 'probability': 0.5481237}]}\n",
      "{'graded_output': [{'token_id': tensor(5613), 'token_str': 'Yes', 'probability': 0.42372894}]}\n",
      "{'graded_output': [{'token_id': tensor(28777), 'token_str': 'G', 'probability': 0.25677797}]}\n"
     ]
    },
    {
     "name": "stderr",
     "output_type": "stream",
     "text": [
      "Map:  80%|████████  | 8/10 [00:09<00:02,  1.38s/ examples]"
     ]
    },
    {
     "name": "stdout",
     "output_type": "stream",
     "text": [
      "{'graded_output': [{'token_id': tensor(5613), 'token_str': 'Yes', 'probability': 0.94298965}]}\n",
      "{'graded_output': [{'token_id': tensor(2501), 'token_str': 'No', 'probability': 0.6223856}]}\n",
      "{'graded_output': [{'token_id': tensor(5613), 'token_str': 'Yes', 'probability': 0.38676727}]}\n",
      "{'graded_output': [{'token_id': tensor(5613), 'token_str': 'Yes', 'probability': 0.91877407}]}\n",
      "{'graded_output': [{'token_id': tensor(2301), 'token_str': 'Is', 'probability': 0.44995272}]}\n",
      "{'graded_output': [{'token_id': tensor(5613), 'token_str': 'Yes', 'probability': 0.5059207}]}\n",
      "{'graded_output': [{'token_id': tensor(5613), 'token_str': 'Yes', 'probability': 0.81613564}]}\n",
      "{'graded_output': [{'token_id': tensor(1014), 'token_str': 'The', 'probability': 0.35310444}]}\n",
      "{'graded_output': [{'token_id': tensor(2501), 'token_str': 'No', 'probability': 0.49348438}]}\n",
      "{'graded_output': [{'token_id': tensor(5613), 'token_str': 'Yes', 'probability': 0.91818935}]}\n",
      "{'graded_output': [{'token_id': tensor(2301), 'token_str': 'Is', 'probability': 0.44881985}]}\n",
      "{'graded_output': [{'token_id': tensor(2501), 'token_str': 'No', 'probability': 0.25030157}]}\n",
      "{'graded_output': [{'token_id': tensor(2501), 'token_str': 'No', 'probability': 0.8785116}]}\n",
      "{'graded_output': [{'token_id': tensor(5613), 'token_str': 'Yes', 'probability': 0.88645476}]}\n",
      "{'graded_output': [{'token_id': tensor(2501), 'token_str': 'No', 'probability': 0.94140524}]}\n",
      "{'graded_output': [{'token_id': tensor(2501), 'token_str': 'No', 'probability': 0.5394567}]}\n",
      "{'graded_output': [{'token_id': tensor(2501), 'token_str': 'No', 'probability': 0.9677246}]}\n",
      "{'graded_output': [{'token_id': tensor(2301), 'token_str': 'Is', 'probability': 0.38703915}]}\n",
      "{'graded_output': [{'token_id': tensor(5613), 'token_str': 'Yes', 'probability': 0.8160145}]}\n",
      "{'graded_output': [{'token_id': tensor(2301), 'token_str': 'Is', 'probability': 0.45259497}]}\n",
      "{'graded_output': [{'token_id': tensor(2301), 'token_str': 'Is', 'probability': 0.528133}]}\n",
      "{'graded_output': [{'token_id': tensor(2301), 'token_str': 'Is', 'probability': 0.3683259}]}\n",
      "{'graded_output': [{'token_id': tensor(2301), 'token_str': 'Is', 'probability': 0.35777625}]}\n",
      "{'graded_output': [{'token_id': tensor(2501), 'token_str': 'No', 'probability': 0.5776696}]}\n",
      "{'graded_output': [{'token_id': tensor(2501), 'token_str': 'No', 'probability': 0.9908941}]}\n",
      "{'graded_output': [{'token_id': tensor(2301), 'token_str': 'Is', 'probability': 0.5509029}]}\n",
      "{'graded_output': [{'token_id': tensor(5613), 'token_str': 'Yes', 'probability': 0.8565068}]}\n",
      "{'graded_output': [{'token_id': tensor(2501), 'token_str': 'No', 'probability': 0.9762404}]}\n",
      "{'graded_output': [{'token_id': tensor(2501), 'token_str': 'No', 'probability': 0.41893148}]}\n"
     ]
    },
    {
     "name": "stderr",
     "output_type": "stream",
     "text": [
      "Map:  90%|█████████ | 9/10 [00:18<00:03,  3.66s/ examples]"
     ]
    },
    {
     "name": "stdout",
     "output_type": "stream",
     "text": [
      "{'graded_output': [{'token_id': tensor(2501), 'token_str': 'No', 'probability': 0.9745897}]}\n",
      "{'graded_output': [{'token_id': tensor(2301), 'token_str': 'Is', 'probability': 0.43321145}]}\n"
     ]
    },
    {
     "name": "stderr",
     "output_type": "stream",
     "text": [
      "Map: 100%|██████████| 10/10 [00:18<00:00,  1.86s/ examples]"
     ]
    },
    {
     "name": "stdout",
     "output_type": "stream",
     "text": [
      "{'graded_output': [{'token_id': tensor(5613), 'token_str': 'Yes', 'probability': 0.89880574}]}\n"
     ]
    },
    {
     "name": "stderr",
     "output_type": "stream",
     "text": [
      "\n"
     ]
    }
   ],
   "source": [
    "example_ds = example_ds.map(answer_grading)"
   ]
  },
  {
   "cell_type": "code",
   "execution_count": 17,
   "metadata": {},
   "outputs": [
    {
     "name": "stderr",
     "output_type": "stream",
     "text": [
      "Map: 100%|██████████| 10/10 [00:00<00:00, 1067.09 examples/s]\n"
     ]
    }
   ],
   "source": [
    "# filter the answers\n",
    "example_ds = example_ds.map(answer_filter)"
   ]
  },
  {
   "cell_type": "code",
   "execution_count": 18,
   "metadata": {},
   "outputs": [
    {
     "data": {
      "text/plain": [
       "[[{'answer_body': \"Generally speaking, yes. Presidents often meet with with ex-presidents, regardless of political alignment.\\n\\nSpecifically for this case, yes. A lot. Eisenhower was President during the build-up to the Cuban Missile Crisis and widely renowned as an excellent general. Here is a recording of one such phone call:\\n\\n[LINK]\\n\\nHere's another:\\n\\n[LINK]\",\n",
       "   'answer_char_length': 407,\n",
       "   'answer_created_utc': 1347938144000,\n",
       "   'answer_deleted': False,\n",
       "   'answer_id': 'c69qhes',\n",
       "   'answer_retrieved_on': 1429926087000,\n",
       "   'answer_score': 2,\n",
       "   'graded_output': [{'probability': 0.7641037106513977,\n",
       "     'token_id': 5613,\n",
       "     'token_str': 'Yes'}]},\n",
       "  {'answer_body': \"Interestingly enough, Eisenhower was sharply criticized shortly before the Crisis because he made a statement criticizing Kennedy's foreign policy, thus breaking the informal rule against past presidents criticizing sitting ones. As Barrel-rider stated, however, Eisenhower offered his support during the Crisis.\",\n",
       "   'answer_char_length': 312,\n",
       "   'answer_created_utc': 1347950201000,\n",
       "   'answer_deleted': False,\n",
       "   'answer_id': 'c69tgyi',\n",
       "   'answer_retrieved_on': 1429927562000,\n",
       "   'answer_score': 1,\n",
       "   'graded_output': [{'probability': 0.7315471768379211,\n",
       "     'token_id': 5613,\n",
       "     'token_str': 'Yes'}]}],\n",
       " [],\n",
       " [],\n",
       " [{'answer_body': 'To answer the questions on Ethics, you need to ask if Dresden was a legitimate target.  My answer is yes, Dresden was a legitimate target.  It was at the time the major rail cross-roads for German troops heading to the Eastern Front (In the briefings, many RAF crews were told that the bombing was at the behest of the Russians) as well as one potential north-south escape route that may be utilized as a part of a guerilla campaign.  Dresden was also known to have an industry revolving around high-precision glass, such as that used in telescopic sights (e.g. sniper rifles) and bomb sights for aircraft.  I have also heard some rumours that Dresden was linked to making ceramic parts in furnaces, like those used in death camps... So Dresden was a legitimate target.\\n\\nHaving determined that it was a legitimate target, there was no reason to not attack it.  In terms of tactics, you have to keep in mind that the best way to protect bomber crews from flak was to put as many aircraft over the target as possible, which make it impossible to hit an individual building, so it was more common for an industrial area of a city to be targeted.  In order to maximise damage, the aircraft involved were loaded with a combination of 4000lb \"cookie\" bombs (high blast) and incendiary bombs.  This was to ensure that the target was destroyed by burning it.\\n\\nIn terms of targeting morale, Operation Thunderclap (as the bombing of Dresden was called) was arranged so that the civilian population would see the might of the Allied airforces.  The USAAF was supposed to attack in daylight on Feb. 13th, targeting the rail yards, with the RAF coming back that night to hit the same target; whilst the USAAF and RAF were due to come back the next day to finish the job.  Churchill has been quite vocal about such a heavy attack for quite a while, although he was very quick to back off his support when voices were raised in protest.\\n\\nTL;DR: Dresden was a military target attacked for mainly military means.  Churchill called for such an attack only to back away and condemn the attack only after public opinion swung against it.',\n",
       "   'answer_char_length': 2117,\n",
       "   'answer_created_utc': 1347940629000,\n",
       "   'answer_deleted': False,\n",
       "   'answer_id': 'c69r4qa',\n",
       "   'answer_retrieved_on': 1429926393000,\n",
       "   'answer_score': 5,\n",
       "   'graded_output': [{'probability': 0.5577093362808228,\n",
       "     'token_id': 5613,\n",
       "     'token_str': 'Yes'}]},\n",
       "  {'answer_body': 'An excellent PBS documentary discusses about the bombing of Germany: [here] ([LINK] and [here] ([LINK]\\n\\nIn short, during the initial phase of the war for the Americans, the US European air campaign focused on day time, low-altitude strikes on high value targets (e.g. factories, docks); against the advice of the Brits.  They tried to be \"precise\", but at the cost of high casualty rate that was hard to swallow for the American public.\\n\\nEventually, the Americans transitioned to what the Brits advocated all along: high-altitude, night-time, blanket bombing, which made things much easier, but highly imprecise.  Some historians would argue that these devastating bombings were not just solely for military targets, but a sort of \"terror\" against the civilian populace to compel them to submit or rebel or simply just retaliatory for the bombing of Britain.\\n\\nIn the end, the ethical question is a familiar one that has been asked again and again throughout American military history.  Are you willing to end the war sooner, but at the cost of increased collateral damage?  Are American soldiers lives worth the trade off with German civilian lives?\\n',\n",
       "   'answer_char_length': 1283,\n",
       "   'answer_created_utc': 1347936947000,\n",
       "   'answer_deleted': False,\n",
       "   'answer_id': 'c69q5n6',\n",
       "   'answer_retrieved_on': 1429925934000,\n",
       "   'answer_score': 3,\n",
       "   'graded_output': [{'probability': 0.562034010887146,\n",
       "     'token_id': 5613,\n",
       "     'token_str': 'Yes'}]},\n",
       "  {'answer_body': \"I think a must read for those interested in this question is [The Fire: The bombing of Germany 1940-1945]([LINK] by Jorg Friedrich. \\n\\nNever actually stated, the theme is nonetheless clear enough. The allied bombing of Germany - in particular that of Bomber Command - brought massive death and destruction to Germans, destroyed priceless artifacts built and preserved for centuries, yet made little contribution to actually winning the war.\\n\\nThe author makes no excuses for Germany and, from time to time in passing, acknowledges both the evil done by Germans and that the Germans themselves were the pioneers in bombing defenseless cities. The author fully admits that the Germans would have eagerly done worse with bombers - if they had had the power.\\n\\nThe author's point is that the Germans did not have the power. By late 1944, when the war's outcome was no longer in doubt and the destruction began in earnest, they were so totally over-matched by the allies so as to be at the mercy of the bombers. And the bombers showed no mercy, just as readily destroying libraries and the medieval churches of anti-Nazis as factories and the homes of war workers. Showing no discrimination, the bombers killed soldiers and Nazis as readily as they killed children, slave workers and little old ladies.\\nThe author appears grateful that the allies won the war, but in so doing wishes that the bombers' indiscriminate killing and destruction had been tempered. How, he does not say. If nothing else, he wishes to make the reader feel, in a deep visceral way, the destruction sown by the bombers and recognize the tragedy. (This is from a review on Amazon, but having read the book, it summarizes it better than I could.)\",\n",
       "   'answer_char_length': 1775,\n",
       "   'answer_created_utc': 1347962212000,\n",
       "   'answer_deleted': False,\n",
       "   'answer_id': 'c69uqu6',\n",
       "   'answer_retrieved_on': 1429928170000,\n",
       "   'answer_score': 2,\n",
       "   'graded_output': [{'probability': 0.5557239651679993,\n",
       "     'token_id': 5613,\n",
       "     'token_str': 'Yes'}]},\n",
       "  {'answer_body': 'The Pforzheim raid is less known. Pforzheim was placed for the first time on a target list of the Allied Forces in November 1944, but with the lowest priority of category five.\\n\\nThe allied bombardment of  February 23, 1945 caused a firestorm in the medieval city that razed the whole town and killed one fifth of all inhabitants (17,600 people), making it the deadliest bombardment after Hamburg (1943) and Dresden (1945).\\n\\nWas this necessary or justified? Almost any larger town in Germany could be called a transportation hub and almost any town had some manufacturing for the war effort going, and the Germans spend massive resources in getting production out of the cities as a result.\\n\\nBut I think that by 1944 precision bombing was advanced enough to stop with the area bombing and keep concentrating on specific targets. Note that the allies bombed facilities in the occupied countries without wiping out whole cities, although of course collateral damage and devastating mistakes occurred.\\n\\nInteresting enough, in Japan the air force deployed over 63 million leaflets informing the Japanese people of the true status of the war and providing [advance warning to 35 cities targeted for destruction.]([LINK] Postwar surveys showed that the Japanese people trusted the accuracy of the leaflets and many residents of the targeted cities prepared immediately to leave their homes. The Japanese government regarded the leaflets with such concern that it ordered the arrest of those who kept or even read the leaflets and did not turn them in to their local police stations.\\n\\nOf course, this was only possible because Japanese air defense was really weak at the time, but from anecdotal evidence (Japan at war, Cook and Cook) this was devastating for Japanese civilian morale, because it showed how much more powerful the allies were by then.',\n",
       "   'answer_char_length': 1963,\n",
       "   'answer_created_utc': 1347961643000,\n",
       "   'answer_deleted': False,\n",
       "   'answer_id': 'c69upak',\n",
       "   'answer_retrieved_on': 1429928142000,\n",
       "   'answer_score': 1,\n",
       "   'graded_output': [{'probability': 0.7264218926429749,\n",
       "     'token_id': 5613,\n",
       "     'token_str': 'Yes'}]}],\n",
       " [],\n",
       " [{'answer_body': '\"*I do not separate people into Greeks and barbarians. I am not interested in the origin and race of citizens. I separate them by a sole criterion: Excellence/Virtue. For me a good foreigner is Greek and a bad Greek is worse than a barbarian.*\"\\n\\nAlexander the Great at ~~Ioppe~~ Opis in 324 BC \\n\\nedit: \\'Opis\\' (thanks to Daeres)',\n",
       "   'answer_char_length': 327,\n",
       "   'answer_created_utc': 1347952118000,\n",
       "   'answer_deleted': False,\n",
       "   'answer_id': 'c69tsy1',\n",
       "   'answer_retrieved_on': 1429927718000,\n",
       "   'answer_score': 6,\n",
       "   'graded_output': [{'probability': 0.5756503343582153,\n",
       "     'token_id': 5613,\n",
       "     'token_str': 'Yes'}]},\n",
       "  {'answer_body': 'Would anyone like to comment on Aristotle\\'s *Politics*, where he said, \"Some men are by nature free, and others slaves, and that for these latter, slavery is both expedient and right\" ?\\n\\nHow commonly was this view held and attached to racial theories? Might the Romans living in Britain have thought, \"these Iceni are slaves by nature, and I am doing good by enslaving them\"?',\n",
       "   'answer_char_length': 375,\n",
       "   'answer_created_utc': 1347984196000,\n",
       "   'answer_deleted': False,\n",
       "   'answer_id': 'c69yaxs',\n",
       "   'answer_retrieved_on': 1429929839000,\n",
       "   'answer_score': 2,\n",
       "   'graded_output': [{'probability': 0.3975592851638794,\n",
       "     'token_id': 5613,\n",
       "     'token_str': 'Yes'}]}],\n",
       " [{'answer_body': \"In the same manner as governments do today. In fact the reigning emperor Titus personally 'toured' the area and died as a result of the continuous pyroclastic explosion fallout from the eruption which (some argue) caused his fever. It is believed that Titus died from breathing in the airborne ash from the pyroclastic flows from mount Vesuvius. There were immediate rescue efforts and groups sent to help fleeing survivors. Titus personally gave to charities to support the victims and survivors of the explosion. \\n\\nAdditionally a lot of rich aristocrats and rich businessmen and women opened up their estates as a shelter for the fleeing Pompeiins and other people. \",\n",
       "   'answer_char_length': 668,\n",
       "   'answer_created_utc': 1347953450000,\n",
       "   'answer_deleted': False,\n",
       "   'answer_id': 'c69tyrb',\n",
       "   'answer_retrieved_on': 1429927793000,\n",
       "   'answer_score': 105,\n",
       "   'graded_output': [{'probability': 0.9025252461433411,\n",
       "     'token_id': 5613,\n",
       "     'token_str': 'Yes'}]},\n",
       "  {'answer_body': 'One of the few remaining responsibilities that the Senate had in the Imperial period was dealing with this kind of thing alongside the Emperor, in the form of fundraising and charity mandates. \\n\\n(Tac. Ann., 2.48; 4.13)',\n",
       "   'answer_char_length': 218,\n",
       "   'answer_created_utc': 1347966137000,\n",
       "   'answer_deleted': False,\n",
       "   'answer_id': 'c69v2pk',\n",
       "   'answer_retrieved_on': 1429928317000,\n",
       "   'answer_score': 7,\n",
       "   'graded_output': [{'probability': 0.6132234930992126,\n",
       "     'token_id': 5613,\n",
       "     'token_str': 'Yes'}]}],\n",
       " [{'answer_body': 'French revolution? October revolution? Those two are the first that come to mind, but they are rather important.',\n",
       "   'answer_char_length': 112,\n",
       "   'answer_created_utc': 1347973620000,\n",
       "   'answer_deleted': False,\n",
       "   'answer_id': 'c69w16k',\n",
       "   'answer_retrieved_on': 1429928770000,\n",
       "   'answer_score': 7,\n",
       "   'graded_output': [{'probability': 0.8732146620750427,\n",
       "     'token_id': 5613,\n",
       "     'token_str': 'Yes'}]},\n",
       "  {'answer_body': \"In today's society it's less and less likely that anything can go on without foreign intervention, just due to the connected nature of the world and the fact that nations have so much interest in keeping regional and international peace and security.\\n\\nWhen the Parliamentarians killed Charles I, for example, it was pretty much all English. Although the French did offer refuge to the royal family, they didn't really participate in any active way. The restoration was the same way. Hell, if you want to broaden that up as no third-party foreign intervention then even the Glorious Revolution would fall into this. \\n\",\n",
       "   'answer_char_length': 616,\n",
       "   'answer_created_utc': 1347975969000,\n",
       "   'answer_deleted': False,\n",
       "   'answer_id': 'c69wgtx',\n",
       "   'answer_retrieved_on': 1429928975000,\n",
       "   'answer_score': 2,\n",
       "   'graded_output': [{'probability': 0.5481237173080444,\n",
       "     'token_id': 5613,\n",
       "     'token_str': 'Yes'}]},\n",
       "  {'answer_body': 'The Red Turbans?\\n',\n",
       "   'answer_char_length': 17,\n",
       "   'answer_created_utc': 1347974432000,\n",
       "   'answer_deleted': False,\n",
       "   'answer_id': 'c69w6fa',\n",
       "   'answer_retrieved_on': 1429928849000,\n",
       "   'answer_score': 1,\n",
       "   'graded_output': [{'probability': 0.42372894287109375,\n",
       "     'token_id': 5613,\n",
       "     'token_str': 'Yes'}]},\n",
       "  {'answer_body': 'The [Haitian Revolution]([LINK] springs to mind.',\n",
       "   'answer_char_length': 90,\n",
       "   'answer_created_utc': 1347983402000,\n",
       "   'answer_deleted': False,\n",
       "   'answer_id': 'c69y467',\n",
       "   'answer_retrieved_on': 1429929749000,\n",
       "   'answer_score': 1,\n",
       "   'graded_output': [{'probability': 0.9429896473884583,\n",
       "     'token_id': 5613,\n",
       "     'token_str': 'Yes'}]}],\n",
       " [{'answer_body': \"Slaves being fully assimilated?  Yes.  In Roman slavery, the slaves of Roman citizens became freedmen when manumitted, and the children of freedmen were full citizens [(Source)]([LINK]\\n\\nYour question gets more complicated when we talk about 'race', because the Romans (like most peoples before the African slave trade began) didn't source their slaves from one particular race or ethnicity.  Slaves not born into slavery were kidnap victims or prisoners of war; they could be Britons, Gauls, Germans, Greeks, Persians, Egyptians, Nubians, etc., etc.  That is to say, there wasn't a single 'slave race' with a unified culture and history.  Freedmen and their descendants incorporated themselves into Roman culture as they became Romans.  The phenomenon of an entire race going from slavery to legal equality while *still being considered a separate race* may be unique to America.\\n\\n(Though the Jewish experience may count as well; they weren't literally slaves anywhere that I know of, but they were certainly oppressed and exploited for a very long time in Europe.)\\n\\n(Which doesn't get into the question of whether black people in North America *are* actually 'equals' in society.  I'd argue we still have a lot of work to do...)\",\n",
       "   'answer_char_length': 1271,\n",
       "   'answer_created_utc': 1347988588000,\n",
       "   'answer_deleted': False,\n",
       "   'answer_id': 'c69zer7',\n",
       "   'answer_retrieved_on': 1429930369000,\n",
       "   'answer_score': 105,\n",
       "   'graded_output': [{'probability': 0.38676726818084717,\n",
       "     'token_id': 5613,\n",
       "     'token_str': 'Yes'}]},\n",
       "  {'answer_body': 'Hundreds of thousands of Irish people were sent by the English as slaves to Barbados, Jamaica and Virginia, beginning around 1650. By the time of emancipation of all slaves in Barbados in 1834, they had fully assimilated.\\n\\n[LINK]',\n",
       "   'answer_char_length': 274,\n",
       "   'answer_created_utc': 1347985091000,\n",
       "   'answer_deleted': False,\n",
       "   'answer_id': 'c69yirr',\n",
       "   'answer_retrieved_on': 1429929940000,\n",
       "   'answer_score': 70,\n",
       "   'graded_output': [{'probability': 0.9187740683555603,\n",
       "     'token_id': 5613,\n",
       "     'token_str': 'Yes'}]},\n",
       "  {'answer_body': 'The Ptolemaic Egyptians imported large numbers of Galatians and set them up in semi-feudal estates so they would fight in their armies. Eventually they became well integrated and, IIRC, some sections of Egypt where they settled still have lighters skintones.',\n",
       "   'answer_char_length': 258,\n",
       "   'answer_created_utc': 1347989686000,\n",
       "   'answer_deleted': False,\n",
       "   'answer_id': 'c69zp0c',\n",
       "   'answer_retrieved_on': 1429930494000,\n",
       "   'answer_score': 24,\n",
       "   'graded_output': [{'probability': 0.5059207081794739,\n",
       "     'token_id': 5613,\n",
       "     'token_str': 'Yes'}]},\n",
       "  {'answer_body': \"It was extremely common in the Arab/Muslim world, especially in Egypt. The most famous examples are the Mamluks in Egypt, but rather routinely slave soldiers and advisors would usurp authority from the current ruling class and install themselves as leaders. \\n\\nOf course, it goes without saying that the previously designated slaves in these situations were no longer so designated. Granted, the Arabs didn't practice Chattel slavery as we understand it in the U.S. or Europe.\",\n",
       "   'answer_char_length': 475,\n",
       "   'answer_created_utc': 1347991660000,\n",
       "   'answer_deleted': False,\n",
       "   'answer_id': 'c6a07j8',\n",
       "   'answer_retrieved_on': 1429930739000,\n",
       "   'answer_score': 19,\n",
       "   'graded_output': [{'probability': 0.8161356449127197,\n",
       "     'token_id': 5613,\n",
       "     'token_str': 'Yes'}]},\n",
       "  {'answer_body': 'The Ottoman \"slaves\" (kul is the Turkish word) taken by the devshirme levy from the Balkans and Caucasus into the care of the palace in Istanbul were raised to become the palace, military, and governmental elite. Over the long run, all of the devshirme recruits became integrated into the Ottoman public and their descendants probably comprise a non-trivial portion of the population of modern Turkey.\\n\\nThe comparison to the North American situation is very distant. The Ottoman slaves were, from the start, raised to form an elite. The children of kuls were free and often started life with more advantages in terms of elite access than others. There was also no \"racial\" element as we think of it today -- for example, there is no clear physical difference between an enslaved Croat and an Istanbul-born free Turk, so within a generation the descendants of the former were completely assimilated into the latter.\\n\\nThere was something similar going on in Egypt under the Mamluk Sultanate. Slaves were taken from the Caucasus and the steppes to join barracks where they were trained form the military and governmental apparatus -- even the sultans themselves were born slaves. Since their children were by definition free, they usually became ordinary Egyptians, though with Turkish or Caucasian surnames. Some of those names are still around today.\\n\\nIn fact, in many Islamic societies across history, the practice of military slavery was fundamental, and in most cases it followed the same patterns as the Ottomans and Mamluks. This accounts for part of the genetic diversity of Middle Eastern populations -- slave armies imported from elsewhere would leave descendants who were part of ordinary civil society.',\n",
       "   'answer_char_length': 1711,\n",
       "   'answer_created_utc': 1347991404000,\n",
       "   'answer_deleted': False,\n",
       "   'answer_id': 'c6a0560',\n",
       "   'answer_retrieved_on': 1429930705000,\n",
       "   'answer_score': 9,\n",
       "   'graded_output': [{'probability': 0.9181893467903137,\n",
       "     'token_id': 5613,\n",
       "     'token_str': 'Yes'}]},\n",
       "  {'answer_body': 'The entire Roman Empire and current day Brazil comes to mind...',\n",
       "   'answer_char_length': 63,\n",
       "   'answer_created_utc': 1347996670000,\n",
       "   'answer_deleted': False,\n",
       "   'answer_id': 'c6a1jzz',\n",
       "   'answer_retrieved_on': 1429931449000,\n",
       "   'answer_score': 4,\n",
       "   'graded_output': [{'probability': 0.8864547610282898,\n",
       "     'token_id': 5613,\n",
       "     'token_str': 'Yes'}]},\n",
       "  {'answer_body': 'The [Mamluks]([LINK] especially in Egypt, started as slaves and ultimately dominated their societies in many ways.',\n",
       "   'answer_char_length': 145,\n",
       "   'answer_created_utc': 1348018842000,\n",
       "   'answer_deleted': False,\n",
       "   'answer_id': 'c6a7e88',\n",
       "   'answer_retrieved_on': 1429934200000,\n",
       "   'answer_score': 3,\n",
       "   'graded_output': [{'probability': 0.8160145282745361,\n",
       "     'token_id': 5613,\n",
       "     'token_str': 'Yes'}]},\n",
       "  {'answer_body': 'The Ottoman Empire. ',\n",
       "   'answer_char_length': 20,\n",
       "   'answer_created_utc': 1347995645000,\n",
       "   'answer_deleted': False,\n",
       "   'answer_id': 'c6a19uw',\n",
       "   'answer_retrieved_on': 1429931315000,\n",
       "   'answer_score': 0,\n",
       "   'graded_output': [{'probability': 0.8565068244934082,\n",
       "     'token_id': 5613,\n",
       "     'token_str': 'Yes'}]}],\n",
       " [{'answer_body': 'To my knowledge, the period from 1815 to 1846 was most peaceful time in U.S. military. This is between the end of the Anglo-American War/War of 1812 - and the beginning of the Mexican-American War.  ',\n",
       "   'answer_char_length': 199,\n",
       "   'answer_created_utc': 1347990021000,\n",
       "   'answer_deleted': False,\n",
       "   'answer_id': 'c69zs78',\n",
       "   'answer_retrieved_on': 1429930546000,\n",
       "   'answer_score': 3,\n",
       "   'graded_output': [{'probability': 0.8988057374954224,\n",
       "     'token_id': 5613,\n",
       "     'token_str': 'Yes'}]}]]"
      ]
     },
     "execution_count": 18,
     "metadata": {},
     "output_type": "execute_result"
    }
   ],
   "source": [
    "# remaining answers\n",
    "example_ds[\"answers\"]"
   ]
  },
  {
   "cell_type": "markdown",
   "metadata": {},
   "source": [
    "### Toxicity\n",
    "\n",
    "Currently not in use."
   ]
  },
  {
   "cell_type": "code",
   "execution_count": 5,
   "metadata": {},
   "outputs": [],
   "source": [
    "toxicity_pipe = pipeline(\"text-classification\", model=\"tomh/toxigen_roberta\", device=0)"
   ]
  },
  {
   "cell_type": "code",
   "execution_count": 13,
   "metadata": {},
   "outputs": [
    {
     "data": {
      "text/plain": [
       "[{'label': 'LABEL_0', 'score': 0.9992640614509583},\n",
       " {'label': 'LABEL_1', 'score': 0.0007359233568422496}]"
      ]
     },
     "execution_count": 13,
     "metadata": {},
     "output_type": "execute_result"
    }
   ],
   "source": [
    "toxicity_pipe('I love ML', top_k=None)"
   ]
  },
  {
   "cell_type": "code",
   "execution_count": 6,
   "metadata": {},
   "outputs": [],
   "source": [
    "def run_toxicity_pipe(text):\n",
    "    try: \n",
    "        result = toxicity_pipe(text, top_k=None)\n",
    "        result = [r for r in result if r['label'] == 'LABEL_1'][0]\n",
    "    except:\n",
    "        return 0.5\n",
    "\n",
    "    return result['score']"
   ]
  },
  {
   "cell_type": "code",
   "execution_count": 11,
   "metadata": {},
   "outputs": [
    {
     "name": "stdout",
     "output_type": "stream",
     "text": [
      "0.0006564322975464165\n",
      "0.0007360000745393336\n",
      "0.0007385569042526186\n",
      "0.000814662838820368\n"
     ]
    }
   ],
   "source": [
    "for answer in dataset[65]['answers']:\n",
    "    print(run_toxicity_pipe(answer[\"answer_body\"]))"
   ]
  }
 ],
 "metadata": {
  "kernelspec": {
   "display_name": "reddit",
   "language": "python",
   "name": "python3"
  },
  "language_info": {
   "codemirror_mode": {
    "name": "ipython",
    "version": 3
   },
   "file_extension": ".py",
   "mimetype": "text/x-python",
   "name": "python",
   "nbconvert_exporter": "python",
   "pygments_lexer": "ipython3",
   "version": "3.10.12"
  }
 },
 "nbformat": 4,
 "nbformat_minor": 2
}
