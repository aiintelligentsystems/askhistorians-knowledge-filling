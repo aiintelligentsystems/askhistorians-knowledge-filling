{
 "cells": [
  {
   "cell_type": "code",
   "execution_count": 37,
   "metadata": {},
   "outputs": [
    {
     "data": {
      "text/plain": [
       "<module 'redditqa.data.qa_generation' from '/workspaces/reddit_qa/redditqa/data/qa_generation.py'>"
      ]
     },
     "execution_count": 37,
     "metadata": {},
     "output_type": "execute_result"
    }
   ],
   "source": [
    "# external\n",
    "import datasets as ds\n",
    "from transformers import pipeline\n",
    "import importlib\n",
    "import os\n",
    "import torch\n",
    "import transformers\n",
    "from transformers import pipeline, AutoModelForCausalLM, AutoTokenizer, BitsAndBytesConfig\n",
    "from functools import partial\n",
    "import numpy as np\n",
    "\n",
    "# internal\n",
    "from redditqa.data.smart_filter import question_grading_map, question_filter, answer_grading_map, answer_filter\n",
    "from redditqa.data import qa_generation\n",
    "from redditqa.data.util import mask_links\n",
    "\n",
    "importlib.reload(qa_generation)"
   ]
  },
  {
   "cell_type": "code",
   "execution_count": 2,
   "metadata": {},
   "outputs": [
    {
     "data": {
      "text/plain": [
       "True"
      ]
     },
     "execution_count": 2,
     "metadata": {},
     "output_type": "execute_result"
    }
   ],
   "source": [
    "torch.cuda.is_available()"
   ]
  },
  {
   "cell_type": "code",
   "execution_count": 3,
   "metadata": {},
   "outputs": [],
   "source": [
    "model_id = \"HuggingFaceH4/zephyr-7b-beta\"\n",
    "cache_dir = \"/scratch1/ssawicki/cache\""
   ]
  },
  {
   "cell_type": "markdown",
   "metadata": {},
   "source": [
    "### Load model"
   ]
  },
  {
   "cell_type": "code",
   "execution_count": 4,
   "metadata": {},
   "outputs": [],
   "source": [
    "# quantization config\n",
    "bnb_config = BitsAndBytesConfig(\n",
    "    load_in_4bit=True,\n",
    "    bnb_4bit_use_double_quant=True,\n",
    "    bnb_4bit_quant_type=\"nf4\",\n",
    "    bnb_4bit_compute_dtype=torch.bfloat16\n",
    ")"
   ]
  },
  {
   "cell_type": "code",
   "execution_count": 5,
   "metadata": {},
   "outputs": [
    {
     "name": "stderr",
     "output_type": "stream",
     "text": [
      "Loading checkpoint shards: 100%|██████████| 8/8 [01:03<00:00,  7.90s/it]\n"
     ]
    }
   ],
   "source": [
    "model = AutoModelForCausalLM.from_pretrained(\n",
    "        model_id,\n",
    "        low_cpu_mem_usage=True,\n",
    "        quantization_config=bnb_config,\n",
    "        cache_dir=cache_dir\n",
    "    )"
   ]
  },
  {
   "cell_type": "code",
   "execution_count": 6,
   "metadata": {},
   "outputs": [],
   "source": [
    "tokenizer = AutoTokenizer.from_pretrained(model_id, cache_dir=cache_dir)\n",
    "tokenizer.pad_token_id = tokenizer.eos_token_id"
   ]
  },
  {
   "cell_type": "code",
   "execution_count": 7,
   "metadata": {},
   "outputs": [],
   "source": [
    "pipe = pipeline(\"text-generation\", model=model, tokenizer=tokenizer)"
   ]
  },
  {
   "cell_type": "markdown",
   "metadata": {},
   "source": [
    "### Load dataset"
   ]
  },
  {
   "cell_type": "code",
   "execution_count": 8,
   "metadata": {},
   "outputs": [],
   "source": [
    "dataset = ds.load_from_disk(\"/scratch1/redditqa/cached_datasets/AskHistorians.jsonl\")\n",
    "# Preprocessing\n",
    "dataset = dataset.map(mask_links)"
   ]
  },
  {
   "cell_type": "code",
   "execution_count": 9,
   "metadata": {},
   "outputs": [
    {
     "data": {
      "text/plain": [
       "Dataset({\n",
       "    features: ['question_created_utc', 'question_retrieved_on', 'question_deleted', 'question_title', 'question_selftext', 'question_score', 'question_char_length', 'question_selftext_char_length', 'answers'],\n",
       "    num_rows: 116452\n",
       "})"
      ]
     },
     "execution_count": 9,
     "metadata": {},
     "output_type": "execute_result"
    }
   ],
   "source": [
    "dataset"
   ]
  },
  {
   "cell_type": "code",
   "execution_count": 10,
   "metadata": {},
   "outputs": [],
   "source": [
    "dataset = dataset.filter(lambda x: len(x['question_title']) >= 55)"
   ]
  },
  {
   "cell_type": "code",
   "execution_count": 11,
   "metadata": {},
   "outputs": [],
   "source": [
    "dataset = dataset.filter(lambda x: x['question_score'] >= 4)"
   ]
  },
  {
   "cell_type": "code",
   "execution_count": 10,
   "metadata": {},
   "outputs": [
    {
     "data": {
      "text/plain": [
       "['In pre-modern warfare, how did opposing armies handle battle field casualties in multi-day engagements?',\n",
       " 'Anybody familiar with how black troops were treated by the American military in WWII?',\n",
       " 'Did King Richard III murder the princes in the Tower of London?',\n",
       " 'How were weapon control laws implemented throughout history? Did strict laws ever really exist banning civilian use of things like swords, bows, and gunpowder?',\n",
       " 'A few questions about the end of the civil war and slavery, inspired by the movie *Lincoln*',\n",
       " 'The Polar Bear Expedition of 1918 was basically an allied invasion of Russia, why did it have such limited ramifications?',\n",
       " 'Is there any truth to the Soviet Union and China having a \"location ambiguity\" pact about nuclear weapons during the Cold War?',\n",
       " 'Why did the Russians take Prussia from the Germans after WW2?',\n",
       " 'How does a society typically recover from a state of poor law enforcement?',\n",
       " 'During WW2, how would non-combatant aircraft and ships travel safely through the war zones?  i.e. commercial/diplomatic flights to/from Switzerland, American diplomatic flights pre-1942, Red Cross, Swedish shipping...',\n",
       " 'How effective were the Vietcong traps during the war in Vietnam? How did they influence military tactics today? ',\n",
       " 'Why did Russia never heavily invest in colonizing Alaska, and other parts of western North America?',\n",
       " '\"Does history search for the truth?\" A philosophical question about history that a relative posed and I haven\\'t been able to understand, can someone please give me some insight?',\n",
       " 'Why do you think the Roman poet Ovid was exiled from Rome to Tomis?',\n",
       " 'In America, what causes political parties to change and/or die out, and are there any parallels to the current state of the Republican Party?',\n",
       " 'Are there any known situations where a military/army/division refused to attack a city/opposing army, and for what reasons?',\n",
       " 'What caused the Japanese electronics industry to boom post WWII?',\n",
       " 'How were health disorders that are commonly treated today handled in the Past? (e.g. things like Asthma)',\n",
       " 'It seems like each generation is getting more and more liberal than their parents. Was there ever a time in history when the opposite was happening?',\n",
       " 'How important a role did George Washington play in the Revolutionary War?',\n",
       " 'How often were \"Wanted Dead or Alive\" criminals returned alive, and how did Dead or Alive bounties actually work?',\n",
       " \"Has there ever been a case of a government completely restarting it's bureaucracy, without something like a revolution?\",\n",
       " 'Were there specific craftsmen or regions that were so far ahead of their time that their products were thought of as magical?',\n",
       " 'Was Gandhi actually a positive influence on the development of India as a country? ',\n",
       " 'Were there major events from 1940 to 1945 not related to WWII?',\n",
       " 'What are the contemporary general feelings / official teachings in Japan regarding their involvement in WWII?',\n",
       " 'How did Jews reintegrate into Germany after being released from concentration camps in WWII?',\n",
       " \"Question about something I read in Art Spiegelman's Maus - about the Holocaust \",\n",
       " 'Historians, has the prevalence of extramarital affairs/cheating changed over time?',\n",
       " 'Generally speaking, how loyal was the Mongol high command to Genghis Khan? ',\n",
       " '/Was there ever pre-Colombian contact between East-Asian cultures and the indigenous populations of the North America?',\n",
       " 'Why were gnostic religions very popular at a certain point in human history and not today?  Is it just because they \"lost\" to Catholicism and Islam, or were there broader trends at work?',\n",
       " 'How did Japanese reintegrate into the United States after being released from internment camps after WWII?',\n",
       " \"Was execution of slaves when they weren't financially viable common in the south?\",\n",
       " 'How and what were mainstream sports through out civilizations?',\n",
       " 'How were 18th/19th century marines kept separate from sailors?',\n",
       " 'do any historians find it difficult to watch or read period pieces because inaccuracies bother them?',\n",
       " 'When Europe was at the height of empire building, did the powers have secret police/CIA equivalents that operated heavily in rival nations? (i.e. sabotage, assassination attempts, rebel assistance)',\n",
       " 'During your time period, what were nation\\'s \"Special Forces\" or clandestine operations like and what were their objectives?',\n",
       " 'What caused the military stalemate to break at the end of World War I?',\n",
       " 'How did the Japanese start the \"kamikaze\"/suicide ethos into its people?',\n",
       " 'What wars saw engagements between propeller and jet driven aircraft?',\n",
       " 'Did any significant amount of early-ish American settlers return to Europe? ',\n",
       " 'When did curse words take on their taboo meaning? What has it meant historically to be a \"bad\" word?',\n",
       " \"What exactly was Egypt's territorial height at the pinnacle of its power, during the New Kingdom?\",\n",
       " 'When societies began to become agricultural, were there any epidemics of unhealthy eating habits due to the lack of nutritional knowledge?',\n",
       " 'How did people react to love before the era of romantic marriages?',\n",
       " 'My historian friend just told me that when George Washington ended his term as president of the US it was the first time in the history of western civilization that power transitioned without any violence. Is this true?',\n",
       " 'What happened to legal professionals during major regime changes (ie French or American revolutions) ',\n",
       " 'When/how did American-British relations turn from negative to positive?',\n",
       " \"How important was the USA's involvement actually during WW1 and WW2?\",\n",
       " \"Why didn't the United States take action to prevent or destroy South Africa's nuclear weapons program?\",\n",
       " \"Is there any evidence for Chinese circumnavigation of the globe in the early 1400's?\",\n",
       " 'What condition were the uniforms of line infantry [16th-19th Centuries] kept in? How long were uniforms in service?',\n",
       " 'What were the Native American cultures of North America like before European colonization? ',\n",
       " 'What are some great ancient structures that survived to today and can be visited (Greece/Italy)',\n",
       " 'Can someone provide me with some good sources, that provide some general knowledge of Ancient Rome?',\n",
       " 'How important were stirrups to mounted warfare? What, other than stirrups, could have led to the rise of shock cavalry?',\n",
       " 'Was your average Nazi aware of and complicit in the atrocities of the Nazi regime?',\n",
       " 'How did the prohibitionist movement become so powerful?',\n",
       " 'How was the office of President of the U.S.A. viewed in Europe, in particular among other European heads of state, throughout the 19th century?',\n",
       " 'I have a few questions about Spartan family life and the Spartan kings.',\n",
       " 'How did Kim Il Sung begin to implement the Juche ideology on a population that was old enough to remember life before the Korean War?',\n",
       " 'To what extent has the culture or national identity of post-colonial nations been defined by opposition to their colonial power?',\n",
       " 'How often did people in the Middle Ages bathe/cleanse themselves? Was it different from those of royalty or members of the upper class?',\n",
       " 'Was there a particular battle that marked the end of massed melee infantry in favor of massed gunpowder-using infantry?',\n",
       " \"What were the major contributing factors to modern China's enormous population? Geographical area? Type? Culture? War and politics?\",\n",
       " 'What was the impact of mass conscription/war experience on American society after the American Civil War?',\n",
       " \"How did the Dalai Lamas act before China's annexation of Tibet?\",\n",
       " 'What is the oldest institution/organisation that still functions?',\n",
       " 'How did the Aztecs react , religiously, to the fall of Tenochtitlan, and subsequent banning of human sacrifice? ',\n",
       " 'Why was the British Colonial army in India made up of so many Muslims and Sikhs, percentage-wise? ',\n",
       " 'What did people in Scandinavia and other cold climates do during the winter months before modern technologies were available?',\n",
       " 'In WWII, did non fighter planes ever combat each other using their gun turrets?',\n",
       " 'Did the Japanese fight anywhere other than the Asian/oceanic continent during the WWII or other eras?',\n",
       " 'How were \"classic\" novels critically received throughout history?',\n",
       " 'What factors influenced the Imperial throne of Japan to desire centralized power over Japan after such a long period of Shogunate rule?',\n",
       " 'What do we know about ancient Chinese language? Is Cantonese and Mandarin a branch of an older language or did they develop independently?',\n",
       " 'Were there ever any instances of executions through an archer \"firing squad.\"',\n",
       " 'What was my grandfather (British Army Artilleryman) doing in Afghanistan in the early 1940s? [Also: a WW2 uniform ID question]',\n",
       " 'North American Historians: When the west was being won, was the violent crime and murder rate high?',\n",
       " 'Why did birthrates in the United States decline so rapidly in the 1920s?',\n",
       " 'In WW2 did soldiers change sides on the Eastern Front at all?',\n",
       " 'What is the impact of the Steppes invasions (Mongols, etc.) on the course of western history?',\n",
       " 'During the Napoleonic War era, what scientists, philosophers, artists, and writers were most popular, or, better yet, radical and controversial? Specifically in England.',\n",
       " 'so Knights-errant are a common feature in fiction, but did some version of them ever exist?',\n",
       " 'Why did so many 18th Century Americans join the Society of Freemasons?',\n",
       " 'How effective would  late medieval plate armor (e.g. Gothic plate) be in a 1 vs 1 fight?',\n",
       " 'What was the Mongol government like during the time of Genghis Khan',\n",
       " 'Does the scantily-clad and bejewelled Cleopatra have any bearing in history or is was that image simply perpetuated by the media?',\n",
       " 'What was life like for people with poor vision before the invention of glasses?',\n",
       " 'When did nationalism begin, and where did it come from?',\n",
       " 'Do we know of any notable historical figures who were hoarders? ',\n",
       " 'How was music notated in before the invention of sheet music? Was it notated like our present day quarter note, eighth note, etc system, or did that come later?',\n",
       " 'How did Nazi Germany justify their alliance with Japan in light of their racial theories?',\n",
       " 'What happened to urban planning after the fall of Rome?',\n",
       " 'How did the experiments performed in concentration camps advance us in the field of medicine?',\n",
       " 'When did it become common to serve food in different courses (e.g. appetizer, entree, dessert etc.)?',\n",
       " 'In religions, is there usually a \"technology gap\" between what the deities are portrayed as using and the current technology of the time?',\n",
       " 'Besides the Axis powers, Franco\\'s Spain, and Pinochet\\'s Chile have there been any significant fascist countries in history? Are there any countries today that can be considered \"fascist\"?']"
      ]
     },
     "execution_count": 10,
     "metadata": {},
     "output_type": "execute_result"
    }
   ],
   "source": [
    "dataset = ds.load_from_disk(\"/scratch1/redditqa/cached_datasets/AskHistorians_question_filtered.jsonl\")\n",
    "question_filter = partial(question_filter, accepted_token_str=['y', 'yes'])\n",
    "dataset = dataset.filter(question_filter)\n",
    "dataset[1000:1100]['question_title']"
   ]
  },
  {
   "cell_type": "code",
   "execution_count": 5,
   "metadata": {},
   "outputs": [
    {
     "name": "stderr",
     "output_type": "stream",
     "text": [
      "Saving the dataset (1/1 shards): 100%|██████████| 1/1 [00:00<00:00, 177.16 examples/s]\n"
     ]
    }
   ],
   "source": [
    "dataset.save_to_disk(\"/scratch1/redditqa/cached_datasets/AskHistorians_question_filtered.jsonl\")"
   ]
  },
  {
   "cell_type": "code",
   "execution_count": 15,
   "metadata": {},
   "outputs": [
    {
     "data": {
      "text/plain": [
       "{'question_created_utc': Value(dtype='int64', id=None),\n",
       " 'question_retrieved_on': Value(dtype='int64', id=None),\n",
       " 'question_deleted': Value(dtype='bool', id=None),\n",
       " 'question_title': Value(dtype='string', id=None),\n",
       " 'question_selftext': Value(dtype='string', id=None),\n",
       " 'question_score': Value(dtype='int64', id=None),\n",
       " 'question_char_length': Value(dtype='int64', id=None),\n",
       " 'question_selftext_char_length': Value(dtype='int64', id=None),\n",
       " 'answers': [{'answer_body': Value(dtype='string', id=None),\n",
       "   'answer_char_length': Value(dtype='int64', id=None),\n",
       "   'answer_created_utc': Value(dtype='int64', id=None),\n",
       "   'answer_deleted': Value(dtype='bool', id=None),\n",
       "   'answer_id': Value(dtype='string', id=None),\n",
       "   'answer_retrieved_on': Value(dtype='int64', id=None),\n",
       "   'answer_score': Value(dtype='int64', id=None)}]}"
      ]
     },
     "execution_count": 15,
     "metadata": {},
     "output_type": "execute_result"
    }
   ],
   "source": [
    "dataset.info.features"
   ]
  },
  {
   "cell_type": "markdown",
   "metadata": {},
   "source": [
    "### LLM Filtering"
   ]
  },
  {
   "cell_type": "markdown",
   "metadata": {},
   "source": [
    "Question filtering:\n",
    "- Few shot classification: define what a well written question is, show some good and bad examples.\n",
    "\n",
    "Answer filter:\n",
    "- Few shot classification: define what a well written answer is, show good & bad examples."
   ]
  },
  {
   "cell_type": "markdown",
   "metadata": {},
   "source": [
    "#### Question filter"
   ]
  },
  {
   "cell_type": "code",
   "execution_count": 44,
   "metadata": {},
   "outputs": [],
   "source": [
    "question_grading = partial(question_grading_map, pipeline=pipe, verbose=True)\n",
    "question_filter = partial(question_filter, accepted_token_str=['y', 'yes'])"
   ]
  },
  {
   "cell_type": "code",
   "execution_count": 45,
   "metadata": {},
   "outputs": [
    {
     "data": {
      "text/plain": [
       "Dataset({\n",
       "    features: ['question_created_utc', 'question_retrieved_on', 'question_deleted', 'question_title', 'question_selftext', 'question_score', 'question_char_length', 'question_selftext_char_length', 'answers'],\n",
       "    num_rows: 30\n",
       "})"
      ]
     },
     "execution_count": 45,
     "metadata": {},
     "output_type": "execute_result"
    }
   ],
   "source": [
    "example_ds = dataset.select(list(range(50,80)))\n",
    "example_ds"
   ]
  },
  {
   "cell_type": "code",
   "execution_count": 48,
   "metadata": {},
   "outputs": [
    {
     "name": "stderr",
     "output_type": "stream",
     "text": [
      "Map:   3%|▎         | 1/30 [00:00<00:06,  4.51 examples/s]"
     ]
    },
    {
     "name": "stdout",
     "output_type": "stream",
     "text": [
      "{'graded_output': [{'token_id': tensor(9780), 'token_str': 'yes', 'probability': 0.0010224399}, {'token_id': tensor(1510), 'token_str': 'no', 'probability': 4.9931226e-10}, {'token_id': tensor(5613), 'token_str': 'Yes', 'probability': 0.85968566}, {'token_id': tensor(2501), 'token_str': 'No', 'probability': 1.7314133e-07}, {'token_id': tensor(28724), 'token_str': 'y', 'probability': 4.893228e-08}, {'token_id': tensor(28711), 'token_str': 'n', 'probability': 1.4886707e-09}, {'token_id': tensor(5613), 'token_str': 'generated: Yes', 'probability': 0.85968566}]}\n"
     ]
    },
    {
     "name": "stderr",
     "output_type": "stream",
     "text": [
      "Map:   7%|▋         | 2/30 [00:00<00:06,  4.59 examples/s]"
     ]
    },
    {
     "name": "stdout",
     "output_type": "stream",
     "text": [
      "{'graded_output': [{'token_id': tensor(9780), 'token_str': 'yes', 'probability': 0.012283739}, {'token_id': tensor(1510), 'token_str': 'no', 'probability': 1.866186e-09}, {'token_id': tensor(5613), 'token_str': 'Yes', 'probability': 0.7902418}, {'token_id': tensor(2501), 'token_str': 'No', 'probability': 8.2891866e-08}, {'token_id': tensor(28724), 'token_str': 'y', 'probability': 4.1281754e-07}, {'token_id': tensor(28711), 'token_str': 'n', 'probability': 3.214851e-09}, {'token_id': tensor(5613), 'token_str': 'generated: Yes', 'probability': 0.7902418}]}\n"
     ]
    },
    {
     "name": "stderr",
     "output_type": "stream",
     "text": [
      "Map:  10%|█         | 3/30 [00:00<00:05,  4.63 examples/s]"
     ]
    },
    {
     "name": "stdout",
     "output_type": "stream",
     "text": [
      "{'graded_output': [{'token_id': tensor(9780), 'token_str': 'yes', 'probability': 4.089529e-08}, {'token_id': tensor(1510), 'token_str': 'no', 'probability': 0.000702899}, {'token_id': tensor(5613), 'token_str': 'Yes', 'probability': 7.4800837e-06}, {'token_id': tensor(2501), 'token_str': 'No', 'probability': 0.8599144}, {'token_id': tensor(28724), 'token_str': 'y', 'probability': 1.3765256e-08}, {'token_id': tensor(28711), 'token_str': 'n', 'probability': 7.882774e-08}, {'token_id': tensor(2501), 'token_str': 'generated: No', 'probability': 0.8599144}]}\n"
     ]
    },
    {
     "name": "stderr",
     "output_type": "stream",
     "text": [
      "Map:  13%|█▎        | 4/30 [00:00<00:05,  4.64 examples/s]"
     ]
    },
    {
     "name": "stdout",
     "output_type": "stream",
     "text": [
      "{'graded_output': [{'token_id': tensor(9780), 'token_str': 'yes', 'probability': 0.0012329542}, {'token_id': tensor(1510), 'token_str': 'no', 'probability': 1.6048263e-10}, {'token_id': tensor(5613), 'token_str': 'Yes', 'probability': 0.7948575}, {'token_id': tensor(2501), 'token_str': 'No', 'probability': 5.467929e-08}, {'token_id': tensor(28724), 'token_str': 'y', 'probability': 4.787879e-08}, {'token_id': tensor(28711), 'token_str': 'n', 'probability': 1.4472266e-09}, {'token_id': tensor(5613), 'token_str': 'generated: Yes', 'probability': 0.7948575}]}\n"
     ]
    },
    {
     "name": "stderr",
     "output_type": "stream",
     "text": [
      "Map:  17%|█▋        | 5/30 [00:01<00:05,  4.63 examples/s]"
     ]
    },
    {
     "name": "stdout",
     "output_type": "stream",
     "text": [
      "{'graded_output': [{'token_id': tensor(9780), 'token_str': 'yes', 'probability': 0.00049505144}, {'token_id': tensor(1510), 'token_str': 'no', 'probability': 8.405353e-10}, {'token_id': tensor(5613), 'token_str': 'Yes', 'probability': 0.53866506}, {'token_id': tensor(2501), 'token_str': 'No', 'probability': 4.4097135e-07}, {'token_id': tensor(28724), 'token_str': 'y', 'probability': 5.1647806e-08}, {'token_id': tensor(28711), 'token_str': 'n', 'probability': 7.554054e-09}, {'token_id': tensor(5613), 'token_str': 'generated: Yes', 'probability': 0.53866506}]}\n"
     ]
    },
    {
     "name": "stderr",
     "output_type": "stream",
     "text": [
      "Map:  20%|██        | 6/30 [00:01<00:05,  4.64 examples/s]"
     ]
    },
    {
     "name": "stdout",
     "output_type": "stream",
     "text": [
      "{'graded_output': [{'token_id': tensor(9780), 'token_str': 'yes', 'probability': 0.00011417482}, {'token_id': tensor(1510), 'token_str': 'no', 'probability': 1.4840994e-07}, {'token_id': tensor(5613), 'token_str': 'Yes', 'probability': 0.01890357}, {'token_id': tensor(2501), 'token_str': 'No', 'probability': 8.385902e-05}, {'token_id': tensor(28724), 'token_str': 'y', 'probability': 1.1717284e-07}, {'token_id': tensor(28711), 'token_str': 'n', 'probability': 2.024565e-07}, {'token_id': tensor(2301), 'token_str': 'generated: Is', 'probability': 0.35390842}]}\n"
     ]
    },
    {
     "name": "stderr",
     "output_type": "stream",
     "text": [
      "Map:  23%|██▎       | 7/30 [00:01<00:04,  4.63 examples/s]"
     ]
    },
    {
     "name": "stdout",
     "output_type": "stream",
     "text": [
      "{'graded_output': [{'token_id': tensor(9780), 'token_str': 'yes', 'probability': 3.2598038e-08}, {'token_id': tensor(1510), 'token_str': 'no', 'probability': 5.446129e-06}, {'token_id': tensor(5613), 'token_str': 'Yes', 'probability': 1.1849063e-05}, {'token_id': tensor(2501), 'token_str': 'No', 'probability': 0.003038514}, {'token_id': tensor(28724), 'token_str': 'y', 'probability': 5.9215065e-08}, {'token_id': tensor(28711), 'token_str': 'n', 'probability': 4.3961943e-08}, {'token_id': tensor(2198), 'token_str': 'generated: As', 'probability': 0.5745321}]}\n"
     ]
    },
    {
     "name": "stderr",
     "output_type": "stream",
     "text": [
      "Map:  27%|██▋       | 8/30 [00:01<00:04,  4.64 examples/s]"
     ]
    },
    {
     "name": "stdout",
     "output_type": "stream",
     "text": [
      "{'graded_output': [{'token_id': tensor(9780), 'token_str': 'yes', 'probability': 1.0989602e-05}, {'token_id': tensor(1510), 'token_str': 'no', 'probability': 9.0915665e-07}, {'token_id': tensor(5613), 'token_str': 'Yes', 'probability': 0.014480293}, {'token_id': tensor(2501), 'token_str': 'No', 'probability': 0.0015143345}, {'token_id': tensor(28724), 'token_str': 'y', 'probability': 5.9093434e-08}, {'token_id': tensor(28711), 'token_str': 'n', 'probability': 4.4410474e-08}, {'token_id': tensor(3260), 'token_str': 'generated: This', 'probability': 0.53914034}]}\n"
     ]
    },
    {
     "name": "stderr",
     "output_type": "stream",
     "text": [
      "Map:  30%|███       | 9/30 [00:01<00:04,  4.64 examples/s]"
     ]
    },
    {
     "name": "stdout",
     "output_type": "stream",
     "text": [
      "{'graded_output': [{'token_id': tensor(9780), 'token_str': 'yes', 'probability': 1.6456577e-08}, {'token_id': tensor(1510), 'token_str': 'no', 'probability': 7.995751e-05}, {'token_id': tensor(5613), 'token_str': 'Yes', 'probability': 7.3793294e-06}, {'token_id': tensor(2501), 'token_str': 'No', 'probability': 0.1401187}, {'token_id': tensor(28724), 'token_str': 'y', 'probability': 1.8955282e-08}, {'token_id': tensor(28711), 'token_str': 'n', 'probability': 5.8700817e-08}, {'token_id': tensor(3260), 'token_str': 'generated: This', 'probability': 0.4890623}]}\n"
     ]
    },
    {
     "name": "stderr",
     "output_type": "stream",
     "text": [
      "Map:  33%|███▎      | 10/30 [00:02<00:04,  4.64 examples/s]"
     ]
    },
    {
     "name": "stdout",
     "output_type": "stream",
     "text": [
      "{'graded_output': [{'token_id': tensor(9780), 'token_str': 'yes', 'probability': 1.7728684e-05}, {'token_id': tensor(1510), 'token_str': 'no', 'probability': 0.012166407}, {'token_id': tensor(5613), 'token_str': 'Yes', 'probability': 2.4613839e-05}, {'token_id': tensor(2501), 'token_str': 'No', 'probability': 0.09644673}, {'token_id': tensor(28724), 'token_str': 'y', 'probability': 8.8771365e-08}, {'token_id': tensor(28711), 'token_str': 'n', 'probability': 7.9430725e-07}, {'token_id': tensor(2301), 'token_str': 'generated: Is', 'probability': 0.87315744}]}\n"
     ]
    },
    {
     "name": "stderr",
     "output_type": "stream",
     "text": [
      "Map:  37%|███▋      | 11/30 [00:02<00:04,  4.63 examples/s]"
     ]
    },
    {
     "name": "stdout",
     "output_type": "stream",
     "text": [
      "{'graded_output': [{'token_id': tensor(9780), 'token_str': 'yes', 'probability': 0.0011352679}, {'token_id': tensor(1510), 'token_str': 'no', 'probability': 7.421579e-09}, {'token_id': tensor(5613), 'token_str': 'Yes', 'probability': 0.8423905}, {'token_id': tensor(2501), 'token_str': 'No', 'probability': 2.3975986e-06}, {'token_id': tensor(28724), 'token_str': 'y', 'probability': 8.5810875e-08}, {'token_id': tensor(28711), 'token_str': 'n', 'probability': 4.8010995e-09}, {'token_id': tensor(5613), 'token_str': 'generated: Yes', 'probability': 0.8423905}]}\n"
     ]
    },
    {
     "name": "stderr",
     "output_type": "stream",
     "text": [
      "Map:  40%|████      | 12/30 [00:02<00:03,  4.64 examples/s]"
     ]
    },
    {
     "name": "stdout",
     "output_type": "stream",
     "text": [
      "{'graded_output': [{'token_id': tensor(9780), 'token_str': 'yes', 'probability': 9.502734e-05}, {'token_id': tensor(1510), 'token_str': 'no', 'probability': 8.46212e-10}, {'token_id': tensor(5613), 'token_str': 'Yes', 'probability': 0.9658147}, {'token_id': tensor(2501), 'token_str': 'No', 'probability': 1.442914e-06}, {'token_id': tensor(28724), 'token_str': 'y', 'probability': 5.093354e-09}, {'token_id': tensor(28711), 'token_str': 'n', 'probability': 7.526366e-10}, {'token_id': tensor(5613), 'token_str': 'generated: Yes', 'probability': 0.9658147}]}\n"
     ]
    },
    {
     "name": "stderr",
     "output_type": "stream",
     "text": [
      "Map:  43%|████▎     | 13/30 [00:02<00:03,  4.64 examples/s]"
     ]
    },
    {
     "name": "stdout",
     "output_type": "stream",
     "text": [
      "{'graded_output': [{'token_id': tensor(9780), 'token_str': 'yes', 'probability': 3.0360818e-06}, {'token_id': tensor(1510), 'token_str': 'no', 'probability': 2.4446947e-05}, {'token_id': tensor(5613), 'token_str': 'Yes', 'probability': 0.00093545835}, {'token_id': tensor(2501), 'token_str': 'No', 'probability': 0.023938036}, {'token_id': tensor(28724), 'token_str': 'y', 'probability': 4.1913513e-08}, {'token_id': tensor(28711), 'token_str': 'n', 'probability': 3.5833025e-08}, {'token_id': tensor(28737), 'token_str': 'generated: I', 'probability': 0.570974}]}\n"
     ]
    },
    {
     "name": "stderr",
     "output_type": "stream",
     "text": [
      "Map:  47%|████▋     | 14/30 [00:03<00:03,  4.64 examples/s]"
     ]
    },
    {
     "name": "stdout",
     "output_type": "stream",
     "text": [
      "{'graded_output': [{'token_id': tensor(9780), 'token_str': 'yes', 'probability': 0.00064305746}, {'token_id': tensor(1510), 'token_str': 'no', 'probability': 3.8501398e-09}, {'token_id': tensor(5613), 'token_str': 'Yes', 'probability': 0.4771608}, {'token_id': tensor(2501), 'token_str': 'No', 'probability': 4.0545015e-06}, {'token_id': tensor(28724), 'token_str': 'y', 'probability': 7.8434944e-08}, {'token_id': tensor(28711), 'token_str': 'n', 'probability': 8.841073e-09}, {'token_id': tensor(5613), 'token_str': 'generated: Yes', 'probability': 0.4771608}]}\n"
     ]
    },
    {
     "name": "stderr",
     "output_type": "stream",
     "text": [
      "Map:  50%|█████     | 15/30 [00:03<00:03,  4.64 examples/s]"
     ]
    },
    {
     "name": "stdout",
     "output_type": "stream",
     "text": [
      "{'graded_output': [{'token_id': tensor(9780), 'token_str': 'yes', 'probability': 0.003972109}, {'token_id': tensor(1510), 'token_str': 'no', 'probability': 1.3726309e-10}, {'token_id': tensor(5613), 'token_str': 'Yes', 'probability': 0.9568744}, {'token_id': tensor(2501), 'token_str': 'No', 'probability': 2.14538e-08}, {'token_id': tensor(28724), 'token_str': 'y', 'probability': 3.2522024e-08}, {'token_id': tensor(28711), 'token_str': 'n', 'probability': 7.8436957e-10}, {'token_id': tensor(5613), 'token_str': 'generated: Yes', 'probability': 0.9568744}]}\n"
     ]
    },
    {
     "name": "stderr",
     "output_type": "stream",
     "text": [
      "Map:  53%|█████▎    | 16/30 [00:03<00:03,  4.65 examples/s]"
     ]
    },
    {
     "name": "stdout",
     "output_type": "stream",
     "text": [
      "{'graded_output': [{'token_id': tensor(9780), 'token_str': 'yes', 'probability': 0.0021188662}, {'token_id': tensor(1510), 'token_str': 'no', 'probability': 2.3973123e-10}, {'token_id': tensor(5613), 'token_str': 'Yes', 'probability': 0.76624817}, {'token_id': tensor(2501), 'token_str': 'No', 'probability': 4.8182017e-08}, {'token_id': tensor(28724), 'token_str': 'y', 'probability': 1.8648528e-08}, {'token_id': tensor(28711), 'token_str': 'n', 'probability': 6.301445e-10}, {'token_id': tensor(5613), 'token_str': 'generated: Yes', 'probability': 0.76624817}]}\n"
     ]
    },
    {
     "name": "stderr",
     "output_type": "stream",
     "text": [
      "Map:  57%|█████▋    | 17/30 [00:03<00:02,  4.66 examples/s]"
     ]
    },
    {
     "name": "stdout",
     "output_type": "stream",
     "text": [
      "{'graded_output': [{'token_id': tensor(9780), 'token_str': 'yes', 'probability': 0.00066310493}, {'token_id': tensor(1510), 'token_str': 'no', 'probability': 8.599975e-09}, {'token_id': tensor(5613), 'token_str': 'Yes', 'probability': 0.3226854}, {'token_id': tensor(2501), 'token_str': 'No', 'probability': 3.7771283e-06}, {'token_id': tensor(28724), 'token_str': 'y', 'probability': 1.12950964e-07}, {'token_id': tensor(28711), 'token_str': 'n', 'probability': 1.845677e-08}, {'token_id': tensor(2301), 'token_str': 'generated: Is', 'probability': 0.4410586}]}\n"
     ]
    },
    {
     "name": "stderr",
     "output_type": "stream",
     "text": [
      "Map:  60%|██████    | 18/30 [00:03<00:02,  4.66 examples/s]"
     ]
    },
    {
     "name": "stdout",
     "output_type": "stream",
     "text": [
      "{'graded_output': [{'token_id': tensor(9780), 'token_str': 'yes', 'probability': 0.0013605129}, {'token_id': tensor(1510), 'token_str': 'no', 'probability': 1.5193675e-09}, {'token_id': tensor(5613), 'token_str': 'Yes', 'probability': 0.8501067}, {'token_id': tensor(2501), 'token_str': 'No', 'probability': 3.9652826e-07}, {'token_id': tensor(28724), 'token_str': 'y', 'probability': 9.928372e-08}, {'token_id': tensor(28711), 'token_str': 'n', 'probability': 3.7632257e-09}, {'token_id': tensor(5613), 'token_str': 'generated: Yes', 'probability': 0.8501067}]}\n"
     ]
    },
    {
     "name": "stderr",
     "output_type": "stream",
     "text": [
      "Map:  63%|██████▎   | 19/30 [00:04<00:02,  4.65 examples/s]"
     ]
    },
    {
     "name": "stdout",
     "output_type": "stream",
     "text": [
      "{'graded_output': [{'token_id': tensor(9780), 'token_str': 'yes', 'probability': 7.415732e-06}, {'token_id': tensor(1510), 'token_str': 'no', 'probability': 8.604032e-08}, {'token_id': tensor(5613), 'token_str': 'Yes', 'probability': 0.0035113648}, {'token_id': tensor(2501), 'token_str': 'No', 'probability': 5.810185e-05}, {'token_id': tensor(28724), 'token_str': 'y', 'probability': 6.297919e-08}, {'token_id': tensor(28711), 'token_str': 'n', 'probability': 5.388211e-08}, {'token_id': tensor(1014), 'token_str': 'generated: The', 'probability': 0.3933715}]}\n"
     ]
    },
    {
     "name": "stderr",
     "output_type": "stream",
     "text": [
      "Map:  67%|██████▋   | 20/30 [00:04<00:02,  4.65 examples/s]"
     ]
    },
    {
     "name": "stdout",
     "output_type": "stream",
     "text": [
      "{'graded_output': [{'token_id': tensor(9780), 'token_str': 'yes', 'probability': 0.0020061184}, {'token_id': tensor(1510), 'token_str': 'no', 'probability': 9.815169e-09}, {'token_id': tensor(5613), 'token_str': 'Yes', 'probability': 0.5266385}, {'token_id': tensor(2501), 'token_str': 'No', 'probability': 9.791769e-07}, {'token_id': tensor(28724), 'token_str': 'y', 'probability': 2.1848389e-07}, {'token_id': tensor(28711), 'token_str': 'n', 'probability': 2.2915865e-08}, {'token_id': tensor(5613), 'token_str': 'generated: Yes', 'probability': 0.5266385}]}\n"
     ]
    },
    {
     "name": "stderr",
     "output_type": "stream",
     "text": [
      "Map:  70%|███████   | 21/30 [00:04<00:01,  4.65 examples/s]"
     ]
    },
    {
     "name": "stdout",
     "output_type": "stream",
     "text": [
      "{'graded_output': [{'token_id': tensor(9780), 'token_str': 'yes', 'probability': 0.00010251865}, {'token_id': tensor(1510), 'token_str': 'no', 'probability': 0.00020229605}, {'token_id': tensor(5613), 'token_str': 'Yes', 'probability': 0.0066991253}, {'token_id': tensor(2501), 'token_str': 'No', 'probability': 0.08824369}, {'token_id': tensor(28724), 'token_str': 'y', 'probability': 3.1013843e-07}, {'token_id': tensor(28711), 'token_str': 'n', 'probability': 1.0553505e-06}, {'token_id': tensor(2301), 'token_str': 'generated: Is', 'probability': 0.69953424}]}\n"
     ]
    },
    {
     "name": "stderr",
     "output_type": "stream",
     "text": [
      "Map:  73%|███████▎  | 22/30 [00:04<00:01,  4.63 examples/s]"
     ]
    },
    {
     "name": "stdout",
     "output_type": "stream",
     "text": [
      "{'graded_output': [{'token_id': tensor(9780), 'token_str': 'yes', 'probability': 0.0012128709}, {'token_id': tensor(1510), 'token_str': 'no', 'probability': 2.4012425e-07}, {'token_id': tensor(5613), 'token_str': 'Yes', 'probability': 0.48172104}, {'token_id': tensor(2501), 'token_str': 'No', 'probability': 0.00015785589}, {'token_id': tensor(28724), 'token_str': 'y', 'probability': 7.2948254e-08}, {'token_id': tensor(28711), 'token_str': 'n', 'probability': 1.1481663e-08}, {'token_id': tensor(5613), 'token_str': 'generated: Yes', 'probability': 0.48172104}]}\n"
     ]
    },
    {
     "name": "stderr",
     "output_type": "stream",
     "text": [
      "Map:  77%|███████▋  | 23/30 [00:04<00:01,  4.64 examples/s]"
     ]
    },
    {
     "name": "stdout",
     "output_type": "stream",
     "text": [
      "{'graded_output': [{'token_id': tensor(9780), 'token_str': 'yes', 'probability': 0.00010871565}, {'token_id': tensor(1510), 'token_str': 'no', 'probability': 1.8198293e-07}, {'token_id': tensor(5613), 'token_str': 'Yes', 'probability': 0.03159046}, {'token_id': tensor(2501), 'token_str': 'No', 'probability': 0.00011572721}, {'token_id': tensor(28724), 'token_str': 'y', 'probability': 4.3266922e-08}, {'token_id': tensor(28711), 'token_str': 'n', 'probability': 1.2758493e-08}, {'token_id': tensor(2301), 'token_str': 'generated: Is', 'probability': 0.90889555}]}\n"
     ]
    },
    {
     "name": "stderr",
     "output_type": "stream",
     "text": [
      "Map:  80%|████████  | 24/30 [00:05<00:01,  4.65 examples/s]"
     ]
    },
    {
     "name": "stdout",
     "output_type": "stream",
     "text": [
      "{'graded_output': [{'token_id': tensor(9780), 'token_str': 'yes', 'probability': 0.002046508}, {'token_id': tensor(1510), 'token_str': 'no', 'probability': 1.513315e-08}, {'token_id': tensor(5613), 'token_str': 'Yes', 'probability': 0.21369985}, {'token_id': tensor(2501), 'token_str': 'No', 'probability': 1.3181556e-06}, {'token_id': tensor(28724), 'token_str': 'y', 'probability': 1.5651149e-07}, {'token_id': tensor(28711), 'token_str': 'n', 'probability': 2.7131327e-08}, {'token_id': tensor(2301), 'token_str': 'generated: Is', 'probability': 0.48916382}]}\n"
     ]
    },
    {
     "name": "stderr",
     "output_type": "stream",
     "text": [
      "Map:  83%|████████▎ | 25/30 [00:05<00:01,  4.64 examples/s]"
     ]
    },
    {
     "name": "stdout",
     "output_type": "stream",
     "text": [
      "{'graded_output': [{'token_id': tensor(9780), 'token_str': 'yes', 'probability': 0.0016672731}, {'token_id': tensor(1510), 'token_str': 'no', 'probability': 3.7717032e-10}, {'token_id': tensor(5613), 'token_str': 'Yes', 'probability': 0.66739166}, {'token_id': tensor(2501), 'token_str': 'No', 'probability': 1.114324e-07}, {'token_id': tensor(28724), 'token_str': 'y', 'probability': 2.0253752e-08}, {'token_id': tensor(28711), 'token_str': 'n', 'probability': 2.5699511e-09}, {'token_id': tensor(5613), 'token_str': 'generated: Yes', 'probability': 0.66739166}]}\n"
     ]
    },
    {
     "name": "stderr",
     "output_type": "stream",
     "text": [
      "Map:  87%|████████▋ | 26/30 [00:05<00:00,  4.64 examples/s]"
     ]
    },
    {
     "name": "stdout",
     "output_type": "stream",
     "text": [
      "{'graded_output': [{'token_id': tensor(9780), 'token_str': 'yes', 'probability': 8.231417e-05}, {'token_id': tensor(1510), 'token_str': 'no', 'probability': 4.895039e-08}, {'token_id': tensor(5613), 'token_str': 'Yes', 'probability': 0.019752033}, {'token_id': tensor(2501), 'token_str': 'No', 'probability': 1.794131e-05}, {'token_id': tensor(28724), 'token_str': 'y', 'probability': 2.756356e-07}, {'token_id': tensor(28711), 'token_str': 'n', 'probability': 6.265437e-08}, {'token_id': tensor(1014), 'token_str': 'generated: The', 'probability': 0.2835303}]}\n"
     ]
    },
    {
     "name": "stderr",
     "output_type": "stream",
     "text": [
      "Map:  90%|█████████ | 27/30 [00:05<00:00,  4.65 examples/s]"
     ]
    },
    {
     "name": "stdout",
     "output_type": "stream",
     "text": [
      "{'graded_output': [{'token_id': tensor(9780), 'token_str': 'yes', 'probability': 7.081951e-05}, {'token_id': tensor(1510), 'token_str': 'no', 'probability': 7.0029547e-09}, {'token_id': tensor(5613), 'token_str': 'Yes', 'probability': 0.03314251}, {'token_id': tensor(2501), 'token_str': 'No', 'probability': 1.595466e-06}, {'token_id': tensor(28724), 'token_str': 'y', 'probability': 3.0267582e-08}, {'token_id': tensor(28711), 'token_str': 'n', 'probability': 2.3457597e-08}, {'token_id': tensor(15423), 'token_str': 'generated: Here', 'probability': 0.36476526}]}\n"
     ]
    },
    {
     "name": "stderr",
     "output_type": "stream",
     "text": [
      "Map:  93%|█████████▎| 28/30 [00:06<00:00,  4.64 examples/s]"
     ]
    },
    {
     "name": "stdout",
     "output_type": "stream",
     "text": [
      "{'graded_output': [{'token_id': tensor(9780), 'token_str': 'yes', 'probability': 0.0012166302}, {'token_id': tensor(1510), 'token_str': 'no', 'probability': 2.367969e-10}, {'token_id': tensor(5613), 'token_str': 'Yes', 'probability': 0.86142224}, {'token_id': tensor(2501), 'token_str': 'No', 'probability': 1.4723997e-07}, {'token_id': tensor(28724), 'token_str': 'y', 'probability': 2.2980423e-08}, {'token_id': tensor(28711), 'token_str': 'n', 'probability': 1.1642753e-09}, {'token_id': tensor(5613), 'token_str': 'generated: Yes', 'probability': 0.86142224}]}\n"
     ]
    },
    {
     "name": "stderr",
     "output_type": "stream",
     "text": [
      "Map:  97%|█████████▋| 29/30 [00:06<00:00,  4.64 examples/s]"
     ]
    },
    {
     "name": "stdout",
     "output_type": "stream",
     "text": [
      "{'graded_output': [{'token_id': tensor(9780), 'token_str': 'yes', 'probability': 1.27161675e-05}, {'token_id': tensor(1510), 'token_str': 'no', 'probability': 1.1087928e-07}, {'token_id': tensor(5613), 'token_str': 'Yes', 'probability': 0.009927167}, {'token_id': tensor(2501), 'token_str': 'No', 'probability': 5.0886258e-05}, {'token_id': tensor(28724), 'token_str': 'y', 'probability': 1.5514799e-07}, {'token_id': tensor(28711), 'token_str': 'n', 'probability': 4.4624613e-08}, {'token_id': tensor(2198), 'token_str': 'generated: As', 'probability': 0.5091666}]}\n"
     ]
    },
    {
     "name": "stderr",
     "output_type": "stream",
     "text": [
      "Map: 100%|██████████| 30/30 [00:06<00:00,  4.62 examples/s]"
     ]
    },
    {
     "name": "stdout",
     "output_type": "stream",
     "text": [
      "{'graded_output': [{'token_id': tensor(9780), 'token_str': 'yes', 'probability': 0.0006323905}, {'token_id': tensor(1510), 'token_str': 'no', 'probability': 9.781082e-09}, {'token_id': tensor(5613), 'token_str': 'Yes', 'probability': 0.5660184}, {'token_id': tensor(2501), 'token_str': 'No', 'probability': 1.6621306e-06}, {'token_id': tensor(28724), 'token_str': 'y', 'probability': 1.6297389e-07}, {'token_id': tensor(28711), 'token_str': 'n', 'probability': 1.3815863e-08}, {'token_id': tensor(5613), 'token_str': 'generated: Yes', 'probability': 0.5660184}]}\n"
     ]
    },
    {
     "name": "stderr",
     "output_type": "stream",
     "text": [
      "\n"
     ]
    }
   ],
   "source": [
    "# grading the questions\n",
    "example_ds = example_ds.map(question_grading)"
   ]
  },
  {
   "cell_type": "code",
   "execution_count": 13,
   "metadata": {},
   "outputs": [
    {
     "name": "stderr",
     "output_type": "stream",
     "text": [
      "Filter: 100%|██████████| 30/30 [00:00<00:00, 5564.46 examples/s]\n"
     ]
    }
   ],
   "source": [
    "# filtering quetions\n",
    "example_ds = example_ds.filter(question_filter)"
   ]
  },
  {
   "cell_type": "code",
   "execution_count": 14,
   "metadata": {},
   "outputs": [
    {
     "data": {
      "text/plain": [
       "['Was Dwight Eisenhower consulted by JFK during the Cuban Missile Crisis? ',\n",
       " 'Religious sects of Reformation England: Who were they and what did they believe?',\n",
       " 'Reddit, what were the perspectives of the British and the Boers during the Second Boer War ?',\n",
       " 'Were the fire bombings on Dresden from Allied forces during WWII necessary?',\n",
       " 'What was the role of dogs in the Roman military?',\n",
       " 'What did pre-modern racism look like?',\n",
       " 'How did the Roman government react to the eruption of Mt. Vesuvius in AD 79?',\n",
       " 'Do you guys know of any instance when a revolution has succeeded without foreign intervention?',\n",
       " 'Is there any other instance in history where a different race of people were imported into a land as slaves and eventually became fully assimilated as equals into society? If so how long did it take? ',\n",
       " 'What was the longest period of time where the US was not at war, or actively involved in combat?']"
      ]
     },
     "execution_count": 14,
     "metadata": {},
     "output_type": "execute_result"
    }
   ],
   "source": [
    "# remaining questions\n",
    "example_ds[\"question_title\"]"
   ]
  },
  {
   "cell_type": "markdown",
   "metadata": {},
   "source": [
    "#### Answer filter"
   ]
  },
  {
   "cell_type": "code",
   "execution_count": 15,
   "metadata": {},
   "outputs": [],
   "source": [
    "answer_grading = partial(answer_grading_map, pipeline=pipe, verbose=True)\n",
    "answer_filter = partial(answer_filter, accepted_token_str=['y', 'yes'])"
   ]
  },
  {
   "cell_type": "code",
   "execution_count": 16,
   "metadata": {},
   "outputs": [
    {
     "name": "stderr",
     "output_type": "stream",
     "text": [
      "Map:   0%|          | 0/10 [00:00<?, ? examples/s]"
     ]
    },
    {
     "name": "stdout",
     "output_type": "stream",
     "text": [
      "{'graded_output': [{'token_id': tensor(5613), 'token_str': 'Yes', 'probability': 0.7641037}]}\n"
     ]
    },
    {
     "name": "stderr",
     "output_type": "stream",
     "text": [
      "Map:  10%|█         | 1/10 [00:00<00:05,  1.72 examples/s]"
     ]
    },
    {
     "name": "stdout",
     "output_type": "stream",
     "text": [
      "{'graded_output': [{'token_id': tensor(5613), 'token_str': 'Yes', 'probability': 0.7315472}]}\n",
      "{'graded_output': [{'token_id': tensor(2301), 'token_str': 'Is', 'probability': 0.46591264}]}\n"
     ]
    },
    {
     "name": "stderr",
     "output_type": "stream",
     "text": [
      "Map:  20%|██        | 2/10 [00:01<00:05,  1.58 examples/s]"
     ]
    },
    {
     "name": "stdout",
     "output_type": "stream",
     "text": [
      "{'graded_output': [{'token_id': tensor(2301), 'token_str': 'Is', 'probability': 0.35863084}]}\n",
      "{'graded_output': [{'token_id': tensor(2501), 'token_str': 'No', 'probability': 0.95299494}]}\n"
     ]
    },
    {
     "name": "stderr",
     "output_type": "stream",
     "text": [
      "Map:  30%|███       | 3/10 [00:01<00:04,  1.62 examples/s]"
     ]
    },
    {
     "name": "stdout",
     "output_type": "stream",
     "text": [
      "{'graded_output': [{'token_id': tensor(2501), 'token_str': 'No', 'probability': 0.9207272}]}\n",
      "{'graded_output': [{'token_id': tensor(2501), 'token_str': 'No', 'probability': 0.76148134}]}\n",
      "{'graded_output': [{'token_id': tensor(5613), 'token_str': 'Yes', 'probability': 0.55770934}]}\n",
      "{'graded_output': [{'token_id': tensor(5613), 'token_str': 'Yes', 'probability': 0.562034}]}\n",
      "{'graded_output': [{'token_id': tensor(5613), 'token_str': 'Yes', 'probability': 0.55572397}]}\n",
      "{'graded_output': [{'token_id': tensor(5613), 'token_str': 'Yes', 'probability': 0.7264219}]}\n",
      "{'graded_output': [{'token_id': tensor(2301), 'token_str': 'Is', 'probability': 0.2522639}]}\n"
     ]
    },
    {
     "name": "stderr",
     "output_type": "stream",
     "text": [
      "Map:  40%|████      | 4/10 [00:04<00:08,  1.38s/ examples]"
     ]
    },
    {
     "name": "stdout",
     "output_type": "stream",
     "text": [
      "{'graded_output': [{'token_id': tensor(2501), 'token_str': 'No', 'probability': 0.9220224}]}\n",
      "{'graded_output': [{'token_id': tensor(2301), 'token_str': 'Is', 'probability': 0.3299616}]}\n"
     ]
    },
    {
     "name": "stderr",
     "output_type": "stream",
     "text": [
      "Map:  50%|█████     | 5/10 [00:04<00:05,  1.09s/ examples]"
     ]
    },
    {
     "name": "stdout",
     "output_type": "stream",
     "text": [
      "{'graded_output': [{'token_id': tensor(2501), 'token_str': 'No', 'probability': 0.779684}]}\n",
      "{'graded_output': [{'token_id': tensor(5613), 'token_str': 'Yes', 'probability': 0.57565033}]}\n",
      "{'graded_output': [{'token_id': tensor(1014), 'token_str': 'The', 'probability': 0.28809276}]}\n",
      "{'graded_output': [{'token_id': tensor(2301), 'token_str': 'Is', 'probability': 0.25955176}]}\n"
     ]
    },
    {
     "name": "stderr",
     "output_type": "stream",
     "text": [
      "Map:  60%|██████    | 6/10 [00:06<00:04,  1.14s/ examples]"
     ]
    },
    {
     "name": "stdout",
     "output_type": "stream",
     "text": [
      "{'graded_output': [{'token_id': tensor(5613), 'token_str': 'Yes', 'probability': 0.3975593}]}\n",
      "{'graded_output': [{'token_id': tensor(5613), 'token_str': 'Yes', 'probability': 0.90252525}]}\n",
      "{'graded_output': [{'token_id': tensor(2501), 'token_str': 'No', 'probability': 0.89953196}]}\n",
      "{'graded_output': [{'token_id': tensor(5613), 'token_str': 'Yes', 'probability': 0.6132235}]}\n",
      "{'graded_output': [{'token_id': tensor(2501), 'token_str': 'No', 'probability': 0.70639944}]}\n"
     ]
    },
    {
     "name": "stderr",
     "output_type": "stream",
     "text": [
      "Map:  70%|███████   | 7/10 [00:07<00:03,  1.27s/ examples]"
     ]
    },
    {
     "name": "stdout",
     "output_type": "stream",
     "text": [
      "{'graded_output': [{'token_id': tensor(2501), 'token_str': 'No', 'probability': 0.84103245}]}\n",
      "{'graded_output': [{'token_id': tensor(5613), 'token_str': 'Yes', 'probability': 0.87321466}]}\n",
      "{'graded_output': [{'token_id': tensor(2301), 'token_str': 'Is', 'probability': 0.22599277}]}\n",
      "{'graded_output': [{'token_id': tensor(5613), 'token_str': 'Yes', 'probability': 0.5481237}]}\n",
      "{'graded_output': [{'token_id': tensor(5613), 'token_str': 'Yes', 'probability': 0.42372894}]}\n",
      "{'graded_output': [{'token_id': tensor(28777), 'token_str': 'G', 'probability': 0.25677797}]}\n"
     ]
    },
    {
     "name": "stderr",
     "output_type": "stream",
     "text": [
      "Map:  80%|████████  | 8/10 [00:09<00:02,  1.38s/ examples]"
     ]
    },
    {
     "name": "stdout",
     "output_type": "stream",
     "text": [
      "{'graded_output': [{'token_id': tensor(5613), 'token_str': 'Yes', 'probability': 0.94298965}]}\n",
      "{'graded_output': [{'token_id': tensor(2501), 'token_str': 'No', 'probability': 0.6223856}]}\n",
      "{'graded_output': [{'token_id': tensor(5613), 'token_str': 'Yes', 'probability': 0.38676727}]}\n",
      "{'graded_output': [{'token_id': tensor(5613), 'token_str': 'Yes', 'probability': 0.91877407}]}\n",
      "{'graded_output': [{'token_id': tensor(2301), 'token_str': 'Is', 'probability': 0.44995272}]}\n",
      "{'graded_output': [{'token_id': tensor(5613), 'token_str': 'Yes', 'probability': 0.5059207}]}\n",
      "{'graded_output': [{'token_id': tensor(5613), 'token_str': 'Yes', 'probability': 0.81613564}]}\n",
      "{'graded_output': [{'token_id': tensor(1014), 'token_str': 'The', 'probability': 0.35310444}]}\n",
      "{'graded_output': [{'token_id': tensor(2501), 'token_str': 'No', 'probability': 0.49348438}]}\n",
      "{'graded_output': [{'token_id': tensor(5613), 'token_str': 'Yes', 'probability': 0.91818935}]}\n",
      "{'graded_output': [{'token_id': tensor(2301), 'token_str': 'Is', 'probability': 0.44881985}]}\n",
      "{'graded_output': [{'token_id': tensor(2501), 'token_str': 'No', 'probability': 0.25030157}]}\n",
      "{'graded_output': [{'token_id': tensor(2501), 'token_str': 'No', 'probability': 0.8785116}]}\n",
      "{'graded_output': [{'token_id': tensor(5613), 'token_str': 'Yes', 'probability': 0.88645476}]}\n",
      "{'graded_output': [{'token_id': tensor(2501), 'token_str': 'No', 'probability': 0.94140524}]}\n",
      "{'graded_output': [{'token_id': tensor(2501), 'token_str': 'No', 'probability': 0.5394567}]}\n",
      "{'graded_output': [{'token_id': tensor(2501), 'token_str': 'No', 'probability': 0.9677246}]}\n",
      "{'graded_output': [{'token_id': tensor(2301), 'token_str': 'Is', 'probability': 0.38703915}]}\n",
      "{'graded_output': [{'token_id': tensor(5613), 'token_str': 'Yes', 'probability': 0.8160145}]}\n",
      "{'graded_output': [{'token_id': tensor(2301), 'token_str': 'Is', 'probability': 0.45259497}]}\n",
      "{'graded_output': [{'token_id': tensor(2301), 'token_str': 'Is', 'probability': 0.528133}]}\n",
      "{'graded_output': [{'token_id': tensor(2301), 'token_str': 'Is', 'probability': 0.3683259}]}\n",
      "{'graded_output': [{'token_id': tensor(2301), 'token_str': 'Is', 'probability': 0.35777625}]}\n",
      "{'graded_output': [{'token_id': tensor(2501), 'token_str': 'No', 'probability': 0.5776696}]}\n",
      "{'graded_output': [{'token_id': tensor(2501), 'token_str': 'No', 'probability': 0.9908941}]}\n",
      "{'graded_output': [{'token_id': tensor(2301), 'token_str': 'Is', 'probability': 0.5509029}]}\n",
      "{'graded_output': [{'token_id': tensor(5613), 'token_str': 'Yes', 'probability': 0.8565068}]}\n",
      "{'graded_output': [{'token_id': tensor(2501), 'token_str': 'No', 'probability': 0.9762404}]}\n",
      "{'graded_output': [{'token_id': tensor(2501), 'token_str': 'No', 'probability': 0.41893148}]}\n"
     ]
    },
    {
     "name": "stderr",
     "output_type": "stream",
     "text": [
      "Map:  90%|█████████ | 9/10 [00:18<00:03,  3.66s/ examples]"
     ]
    },
    {
     "name": "stdout",
     "output_type": "stream",
     "text": [
      "{'graded_output': [{'token_id': tensor(2501), 'token_str': 'No', 'probability': 0.9745897}]}\n",
      "{'graded_output': [{'token_id': tensor(2301), 'token_str': 'Is', 'probability': 0.43321145}]}\n"
     ]
    },
    {
     "name": "stderr",
     "output_type": "stream",
     "text": [
      "Map: 100%|██████████| 10/10 [00:18<00:00,  1.86s/ examples]"
     ]
    },
    {
     "name": "stdout",
     "output_type": "stream",
     "text": [
      "{'graded_output': [{'token_id': tensor(5613), 'token_str': 'Yes', 'probability': 0.89880574}]}\n"
     ]
    },
    {
     "name": "stderr",
     "output_type": "stream",
     "text": [
      "\n"
     ]
    }
   ],
   "source": [
    "example_ds = example_ds.map(answer_grading)"
   ]
  },
  {
   "cell_type": "code",
   "execution_count": 17,
   "metadata": {},
   "outputs": [
    {
     "name": "stderr",
     "output_type": "stream",
     "text": [
      "Map: 100%|██████████| 10/10 [00:00<00:00, 1067.09 examples/s]\n"
     ]
    }
   ],
   "source": [
    "# filter the answers\n",
    "example_ds = example_ds.map(answer_filter)"
   ]
  },
  {
   "cell_type": "code",
   "execution_count": 18,
   "metadata": {},
   "outputs": [
    {
     "data": {
      "text/plain": [
       "[[{'answer_body': \"Generally speaking, yes. Presidents often meet with with ex-presidents, regardless of political alignment.\\n\\nSpecifically for this case, yes. A lot. Eisenhower was President during the build-up to the Cuban Missile Crisis and widely renowned as an excellent general. Here is a recording of one such phone call:\\n\\n[LINK]\\n\\nHere's another:\\n\\n[LINK]\",\n",
       "   'answer_char_length': 407,\n",
       "   'answer_created_utc': 1347938144000,\n",
       "   'answer_deleted': False,\n",
       "   'answer_id': 'c69qhes',\n",
       "   'answer_retrieved_on': 1429926087000,\n",
       "   'answer_score': 2,\n",
       "   'graded_output': [{'probability': 0.7641037106513977,\n",
       "     'token_id': 5613,\n",
       "     'token_str': 'Yes'}]},\n",
       "  {'answer_body': \"Interestingly enough, Eisenhower was sharply criticized shortly before the Crisis because he made a statement criticizing Kennedy's foreign policy, thus breaking the informal rule against past presidents criticizing sitting ones. As Barrel-rider stated, however, Eisenhower offered his support during the Crisis.\",\n",
       "   'answer_char_length': 312,\n",
       "   'answer_created_utc': 1347950201000,\n",
       "   'answer_deleted': False,\n",
       "   'answer_id': 'c69tgyi',\n",
       "   'answer_retrieved_on': 1429927562000,\n",
       "   'answer_score': 1,\n",
       "   'graded_output': [{'probability': 0.7315471768379211,\n",
       "     'token_id': 5613,\n",
       "     'token_str': 'Yes'}]}],\n",
       " [],\n",
       " [],\n",
       " [{'answer_body': 'To answer the questions on Ethics, you need to ask if Dresden was a legitimate target.  My answer is yes, Dresden was a legitimate target.  It was at the time the major rail cross-roads for German troops heading to the Eastern Front (In the briefings, many RAF crews were told that the bombing was at the behest of the Russians) as well as one potential north-south escape route that may be utilized as a part of a guerilla campaign.  Dresden was also known to have an industry revolving around high-precision glass, such as that used in telescopic sights (e.g. sniper rifles) and bomb sights for aircraft.  I have also heard some rumours that Dresden was linked to making ceramic parts in furnaces, like those used in death camps... So Dresden was a legitimate target.\\n\\nHaving determined that it was a legitimate target, there was no reason to not attack it.  In terms of tactics, you have to keep in mind that the best way to protect bomber crews from flak was to put as many aircraft over the target as possible, which make it impossible to hit an individual building, so it was more common for an industrial area of a city to be targeted.  In order to maximise damage, the aircraft involved were loaded with a combination of 4000lb \"cookie\" bombs (high blast) and incendiary bombs.  This was to ensure that the target was destroyed by burning it.\\n\\nIn terms of targeting morale, Operation Thunderclap (as the bombing of Dresden was called) was arranged so that the civilian population would see the might of the Allied airforces.  The USAAF was supposed to attack in daylight on Feb. 13th, targeting the rail yards, with the RAF coming back that night to hit the same target; whilst the USAAF and RAF were due to come back the next day to finish the job.  Churchill has been quite vocal about such a heavy attack for quite a while, although he was very quick to back off his support when voices were raised in protest.\\n\\nTL;DR: Dresden was a military target attacked for mainly military means.  Churchill called for such an attack only to back away and condemn the attack only after public opinion swung against it.',\n",
       "   'answer_char_length': 2117,\n",
       "   'answer_created_utc': 1347940629000,\n",
       "   'answer_deleted': False,\n",
       "   'answer_id': 'c69r4qa',\n",
       "   'answer_retrieved_on': 1429926393000,\n",
       "   'answer_score': 5,\n",
       "   'graded_output': [{'probability': 0.5577093362808228,\n",
       "     'token_id': 5613,\n",
       "     'token_str': 'Yes'}]},\n",
       "  {'answer_body': 'An excellent PBS documentary discusses about the bombing of Germany: [here] ([LINK] and [here] ([LINK]\\n\\nIn short, during the initial phase of the war for the Americans, the US European air campaign focused on day time, low-altitude strikes on high value targets (e.g. factories, docks); against the advice of the Brits.  They tried to be \"precise\", but at the cost of high casualty rate that was hard to swallow for the American public.\\n\\nEventually, the Americans transitioned to what the Brits advocated all along: high-altitude, night-time, blanket bombing, which made things much easier, but highly imprecise.  Some historians would argue that these devastating bombings were not just solely for military targets, but a sort of \"terror\" against the civilian populace to compel them to submit or rebel or simply just retaliatory for the bombing of Britain.\\n\\nIn the end, the ethical question is a familiar one that has been asked again and again throughout American military history.  Are you willing to end the war sooner, but at the cost of increased collateral damage?  Are American soldiers lives worth the trade off with German civilian lives?\\n',\n",
       "   'answer_char_length': 1283,\n",
       "   'answer_created_utc': 1347936947000,\n",
       "   'answer_deleted': False,\n",
       "   'answer_id': 'c69q5n6',\n",
       "   'answer_retrieved_on': 1429925934000,\n",
       "   'answer_score': 3,\n",
       "   'graded_output': [{'probability': 0.562034010887146,\n",
       "     'token_id': 5613,\n",
       "     'token_str': 'Yes'}]},\n",
       "  {'answer_body': \"I think a must read for those interested in this question is [The Fire: The bombing of Germany 1940-1945]([LINK] by Jorg Friedrich. \\n\\nNever actually stated, the theme is nonetheless clear enough. The allied bombing of Germany - in particular that of Bomber Command - brought massive death and destruction to Germans, destroyed priceless artifacts built and preserved for centuries, yet made little contribution to actually winning the war.\\n\\nThe author makes no excuses for Germany and, from time to time in passing, acknowledges both the evil done by Germans and that the Germans themselves were the pioneers in bombing defenseless cities. The author fully admits that the Germans would have eagerly done worse with bombers - if they had had the power.\\n\\nThe author's point is that the Germans did not have the power. By late 1944, when the war's outcome was no longer in doubt and the destruction began in earnest, they were so totally over-matched by the allies so as to be at the mercy of the bombers. And the bombers showed no mercy, just as readily destroying libraries and the medieval churches of anti-Nazis as factories and the homes of war workers. Showing no discrimination, the bombers killed soldiers and Nazis as readily as they killed children, slave workers and little old ladies.\\nThe author appears grateful that the allies won the war, but in so doing wishes that the bombers' indiscriminate killing and destruction had been tempered. How, he does not say. If nothing else, he wishes to make the reader feel, in a deep visceral way, the destruction sown by the bombers and recognize the tragedy. (This is from a review on Amazon, but having read the book, it summarizes it better than I could.)\",\n",
       "   'answer_char_length': 1775,\n",
       "   'answer_created_utc': 1347962212000,\n",
       "   'answer_deleted': False,\n",
       "   'answer_id': 'c69uqu6',\n",
       "   'answer_retrieved_on': 1429928170000,\n",
       "   'answer_score': 2,\n",
       "   'graded_output': [{'probability': 0.5557239651679993,\n",
       "     'token_id': 5613,\n",
       "     'token_str': 'Yes'}]},\n",
       "  {'answer_body': 'The Pforzheim raid is less known. Pforzheim was placed for the first time on a target list of the Allied Forces in November 1944, but with the lowest priority of category five.\\n\\nThe allied bombardment of  February 23, 1945 caused a firestorm in the medieval city that razed the whole town and killed one fifth of all inhabitants (17,600 people), making it the deadliest bombardment after Hamburg (1943) and Dresden (1945).\\n\\nWas this necessary or justified? Almost any larger town in Germany could be called a transportation hub and almost any town had some manufacturing for the war effort going, and the Germans spend massive resources in getting production out of the cities as a result.\\n\\nBut I think that by 1944 precision bombing was advanced enough to stop with the area bombing and keep concentrating on specific targets. Note that the allies bombed facilities in the occupied countries without wiping out whole cities, although of course collateral damage and devastating mistakes occurred.\\n\\nInteresting enough, in Japan the air force deployed over 63 million leaflets informing the Japanese people of the true status of the war and providing [advance warning to 35 cities targeted for destruction.]([LINK] Postwar surveys showed that the Japanese people trusted the accuracy of the leaflets and many residents of the targeted cities prepared immediately to leave their homes. The Japanese government regarded the leaflets with such concern that it ordered the arrest of those who kept or even read the leaflets and did not turn them in to their local police stations.\\n\\nOf course, this was only possible because Japanese air defense was really weak at the time, but from anecdotal evidence (Japan at war, Cook and Cook) this was devastating for Japanese civilian morale, because it showed how much more powerful the allies were by then.',\n",
       "   'answer_char_length': 1963,\n",
       "   'answer_created_utc': 1347961643000,\n",
       "   'answer_deleted': False,\n",
       "   'answer_id': 'c69upak',\n",
       "   'answer_retrieved_on': 1429928142000,\n",
       "   'answer_score': 1,\n",
       "   'graded_output': [{'probability': 0.7264218926429749,\n",
       "     'token_id': 5613,\n",
       "     'token_str': 'Yes'}]}],\n",
       " [],\n",
       " [{'answer_body': '\"*I do not separate people into Greeks and barbarians. I am not interested in the origin and race of citizens. I separate them by a sole criterion: Excellence/Virtue. For me a good foreigner is Greek and a bad Greek is worse than a barbarian.*\"\\n\\nAlexander the Great at ~~Ioppe~~ Opis in 324 BC \\n\\nedit: \\'Opis\\' (thanks to Daeres)',\n",
       "   'answer_char_length': 327,\n",
       "   'answer_created_utc': 1347952118000,\n",
       "   'answer_deleted': False,\n",
       "   'answer_id': 'c69tsy1',\n",
       "   'answer_retrieved_on': 1429927718000,\n",
       "   'answer_score': 6,\n",
       "   'graded_output': [{'probability': 0.5756503343582153,\n",
       "     'token_id': 5613,\n",
       "     'token_str': 'Yes'}]},\n",
       "  {'answer_body': 'Would anyone like to comment on Aristotle\\'s *Politics*, where he said, \"Some men are by nature free, and others slaves, and that for these latter, slavery is both expedient and right\" ?\\n\\nHow commonly was this view held and attached to racial theories? Might the Romans living in Britain have thought, \"these Iceni are slaves by nature, and I am doing good by enslaving them\"?',\n",
       "   'answer_char_length': 375,\n",
       "   'answer_created_utc': 1347984196000,\n",
       "   'answer_deleted': False,\n",
       "   'answer_id': 'c69yaxs',\n",
       "   'answer_retrieved_on': 1429929839000,\n",
       "   'answer_score': 2,\n",
       "   'graded_output': [{'probability': 0.3975592851638794,\n",
       "     'token_id': 5613,\n",
       "     'token_str': 'Yes'}]}],\n",
       " [{'answer_body': \"In the same manner as governments do today. In fact the reigning emperor Titus personally 'toured' the area and died as a result of the continuous pyroclastic explosion fallout from the eruption which (some argue) caused his fever. It is believed that Titus died from breathing in the airborne ash from the pyroclastic flows from mount Vesuvius. There were immediate rescue efforts and groups sent to help fleeing survivors. Titus personally gave to charities to support the victims and survivors of the explosion. \\n\\nAdditionally a lot of rich aristocrats and rich businessmen and women opened up their estates as a shelter for the fleeing Pompeiins and other people. \",\n",
       "   'answer_char_length': 668,\n",
       "   'answer_created_utc': 1347953450000,\n",
       "   'answer_deleted': False,\n",
       "   'answer_id': 'c69tyrb',\n",
       "   'answer_retrieved_on': 1429927793000,\n",
       "   'answer_score': 105,\n",
       "   'graded_output': [{'probability': 0.9025252461433411,\n",
       "     'token_id': 5613,\n",
       "     'token_str': 'Yes'}]},\n",
       "  {'answer_body': 'One of the few remaining responsibilities that the Senate had in the Imperial period was dealing with this kind of thing alongside the Emperor, in the form of fundraising and charity mandates. \\n\\n(Tac. Ann., 2.48; 4.13)',\n",
       "   'answer_char_length': 218,\n",
       "   'answer_created_utc': 1347966137000,\n",
       "   'answer_deleted': False,\n",
       "   'answer_id': 'c69v2pk',\n",
       "   'answer_retrieved_on': 1429928317000,\n",
       "   'answer_score': 7,\n",
       "   'graded_output': [{'probability': 0.6132234930992126,\n",
       "     'token_id': 5613,\n",
       "     'token_str': 'Yes'}]}],\n",
       " [{'answer_body': 'French revolution? October revolution? Those two are the first that come to mind, but they are rather important.',\n",
       "   'answer_char_length': 112,\n",
       "   'answer_created_utc': 1347973620000,\n",
       "   'answer_deleted': False,\n",
       "   'answer_id': 'c69w16k',\n",
       "   'answer_retrieved_on': 1429928770000,\n",
       "   'answer_score': 7,\n",
       "   'graded_output': [{'probability': 0.8732146620750427,\n",
       "     'token_id': 5613,\n",
       "     'token_str': 'Yes'}]},\n",
       "  {'answer_body': \"In today's society it's less and less likely that anything can go on without foreign intervention, just due to the connected nature of the world and the fact that nations have so much interest in keeping regional and international peace and security.\\n\\nWhen the Parliamentarians killed Charles I, for example, it was pretty much all English. Although the French did offer refuge to the royal family, they didn't really participate in any active way. The restoration was the same way. Hell, if you want to broaden that up as no third-party foreign intervention then even the Glorious Revolution would fall into this. \\n\",\n",
       "   'answer_char_length': 616,\n",
       "   'answer_created_utc': 1347975969000,\n",
       "   'answer_deleted': False,\n",
       "   'answer_id': 'c69wgtx',\n",
       "   'answer_retrieved_on': 1429928975000,\n",
       "   'answer_score': 2,\n",
       "   'graded_output': [{'probability': 0.5481237173080444,\n",
       "     'token_id': 5613,\n",
       "     'token_str': 'Yes'}]},\n",
       "  {'answer_body': 'The Red Turbans?\\n',\n",
       "   'answer_char_length': 17,\n",
       "   'answer_created_utc': 1347974432000,\n",
       "   'answer_deleted': False,\n",
       "   'answer_id': 'c69w6fa',\n",
       "   'answer_retrieved_on': 1429928849000,\n",
       "   'answer_score': 1,\n",
       "   'graded_output': [{'probability': 0.42372894287109375,\n",
       "     'token_id': 5613,\n",
       "     'token_str': 'Yes'}]},\n",
       "  {'answer_body': 'The [Haitian Revolution]([LINK] springs to mind.',\n",
       "   'answer_char_length': 90,\n",
       "   'answer_created_utc': 1347983402000,\n",
       "   'answer_deleted': False,\n",
       "   'answer_id': 'c69y467',\n",
       "   'answer_retrieved_on': 1429929749000,\n",
       "   'answer_score': 1,\n",
       "   'graded_output': [{'probability': 0.9429896473884583,\n",
       "     'token_id': 5613,\n",
       "     'token_str': 'Yes'}]}],\n",
       " [{'answer_body': \"Slaves being fully assimilated?  Yes.  In Roman slavery, the slaves of Roman citizens became freedmen when manumitted, and the children of freedmen were full citizens [(Source)]([LINK]\\n\\nYour question gets more complicated when we talk about 'race', because the Romans (like most peoples before the African slave trade began) didn't source their slaves from one particular race or ethnicity.  Slaves not born into slavery were kidnap victims or prisoners of war; they could be Britons, Gauls, Germans, Greeks, Persians, Egyptians, Nubians, etc., etc.  That is to say, there wasn't a single 'slave race' with a unified culture and history.  Freedmen and their descendants incorporated themselves into Roman culture as they became Romans.  The phenomenon of an entire race going from slavery to legal equality while *still being considered a separate race* may be unique to America.\\n\\n(Though the Jewish experience may count as well; they weren't literally slaves anywhere that I know of, but they were certainly oppressed and exploited for a very long time in Europe.)\\n\\n(Which doesn't get into the question of whether black people in North America *are* actually 'equals' in society.  I'd argue we still have a lot of work to do...)\",\n",
       "   'answer_char_length': 1271,\n",
       "   'answer_created_utc': 1347988588000,\n",
       "   'answer_deleted': False,\n",
       "   'answer_id': 'c69zer7',\n",
       "   'answer_retrieved_on': 1429930369000,\n",
       "   'answer_score': 105,\n",
       "   'graded_output': [{'probability': 0.38676726818084717,\n",
       "     'token_id': 5613,\n",
       "     'token_str': 'Yes'}]},\n",
       "  {'answer_body': 'Hundreds of thousands of Irish people were sent by the English as slaves to Barbados, Jamaica and Virginia, beginning around 1650. By the time of emancipation of all slaves in Barbados in 1834, they had fully assimilated.\\n\\n[LINK]',\n",
       "   'answer_char_length': 274,\n",
       "   'answer_created_utc': 1347985091000,\n",
       "   'answer_deleted': False,\n",
       "   'answer_id': 'c69yirr',\n",
       "   'answer_retrieved_on': 1429929940000,\n",
       "   'answer_score': 70,\n",
       "   'graded_output': [{'probability': 0.9187740683555603,\n",
       "     'token_id': 5613,\n",
       "     'token_str': 'Yes'}]},\n",
       "  {'answer_body': 'The Ptolemaic Egyptians imported large numbers of Galatians and set them up in semi-feudal estates so they would fight in their armies. Eventually they became well integrated and, IIRC, some sections of Egypt where they settled still have lighters skintones.',\n",
       "   'answer_char_length': 258,\n",
       "   'answer_created_utc': 1347989686000,\n",
       "   'answer_deleted': False,\n",
       "   'answer_id': 'c69zp0c',\n",
       "   'answer_retrieved_on': 1429930494000,\n",
       "   'answer_score': 24,\n",
       "   'graded_output': [{'probability': 0.5059207081794739,\n",
       "     'token_id': 5613,\n",
       "     'token_str': 'Yes'}]},\n",
       "  {'answer_body': \"It was extremely common in the Arab/Muslim world, especially in Egypt. The most famous examples are the Mamluks in Egypt, but rather routinely slave soldiers and advisors would usurp authority from the current ruling class and install themselves as leaders. \\n\\nOf course, it goes without saying that the previously designated slaves in these situations were no longer so designated. Granted, the Arabs didn't practice Chattel slavery as we understand it in the U.S. or Europe.\",\n",
       "   'answer_char_length': 475,\n",
       "   'answer_created_utc': 1347991660000,\n",
       "   'answer_deleted': False,\n",
       "   'answer_id': 'c6a07j8',\n",
       "   'answer_retrieved_on': 1429930739000,\n",
       "   'answer_score': 19,\n",
       "   'graded_output': [{'probability': 0.8161356449127197,\n",
       "     'token_id': 5613,\n",
       "     'token_str': 'Yes'}]},\n",
       "  {'answer_body': 'The Ottoman \"slaves\" (kul is the Turkish word) taken by the devshirme levy from the Balkans and Caucasus into the care of the palace in Istanbul were raised to become the palace, military, and governmental elite. Over the long run, all of the devshirme recruits became integrated into the Ottoman public and their descendants probably comprise a non-trivial portion of the population of modern Turkey.\\n\\nThe comparison to the North American situation is very distant. The Ottoman slaves were, from the start, raised to form an elite. The children of kuls were free and often started life with more advantages in terms of elite access than others. There was also no \"racial\" element as we think of it today -- for example, there is no clear physical difference between an enslaved Croat and an Istanbul-born free Turk, so within a generation the descendants of the former were completely assimilated into the latter.\\n\\nThere was something similar going on in Egypt under the Mamluk Sultanate. Slaves were taken from the Caucasus and the steppes to join barracks where they were trained form the military and governmental apparatus -- even the sultans themselves were born slaves. Since their children were by definition free, they usually became ordinary Egyptians, though with Turkish or Caucasian surnames. Some of those names are still around today.\\n\\nIn fact, in many Islamic societies across history, the practice of military slavery was fundamental, and in most cases it followed the same patterns as the Ottomans and Mamluks. This accounts for part of the genetic diversity of Middle Eastern populations -- slave armies imported from elsewhere would leave descendants who were part of ordinary civil society.',\n",
       "   'answer_char_length': 1711,\n",
       "   'answer_created_utc': 1347991404000,\n",
       "   'answer_deleted': False,\n",
       "   'answer_id': 'c6a0560',\n",
       "   'answer_retrieved_on': 1429930705000,\n",
       "   'answer_score': 9,\n",
       "   'graded_output': [{'probability': 0.9181893467903137,\n",
       "     'token_id': 5613,\n",
       "     'token_str': 'Yes'}]},\n",
       "  {'answer_body': 'The entire Roman Empire and current day Brazil comes to mind...',\n",
       "   'answer_char_length': 63,\n",
       "   'answer_created_utc': 1347996670000,\n",
       "   'answer_deleted': False,\n",
       "   'answer_id': 'c6a1jzz',\n",
       "   'answer_retrieved_on': 1429931449000,\n",
       "   'answer_score': 4,\n",
       "   'graded_output': [{'probability': 0.8864547610282898,\n",
       "     'token_id': 5613,\n",
       "     'token_str': 'Yes'}]},\n",
       "  {'answer_body': 'The [Mamluks]([LINK] especially in Egypt, started as slaves and ultimately dominated their societies in many ways.',\n",
       "   'answer_char_length': 145,\n",
       "   'answer_created_utc': 1348018842000,\n",
       "   'answer_deleted': False,\n",
       "   'answer_id': 'c6a7e88',\n",
       "   'answer_retrieved_on': 1429934200000,\n",
       "   'answer_score': 3,\n",
       "   'graded_output': [{'probability': 0.8160145282745361,\n",
       "     'token_id': 5613,\n",
       "     'token_str': 'Yes'}]},\n",
       "  {'answer_body': 'The Ottoman Empire. ',\n",
       "   'answer_char_length': 20,\n",
       "   'answer_created_utc': 1347995645000,\n",
       "   'answer_deleted': False,\n",
       "   'answer_id': 'c6a19uw',\n",
       "   'answer_retrieved_on': 1429931315000,\n",
       "   'answer_score': 0,\n",
       "   'graded_output': [{'probability': 0.8565068244934082,\n",
       "     'token_id': 5613,\n",
       "     'token_str': 'Yes'}]}],\n",
       " [{'answer_body': 'To my knowledge, the period from 1815 to 1846 was most peaceful time in U.S. military. This is between the end of the Anglo-American War/War of 1812 - and the beginning of the Mexican-American War.  ',\n",
       "   'answer_char_length': 199,\n",
       "   'answer_created_utc': 1347990021000,\n",
       "   'answer_deleted': False,\n",
       "   'answer_id': 'c69zs78',\n",
       "   'answer_retrieved_on': 1429930546000,\n",
       "   'answer_score': 3,\n",
       "   'graded_output': [{'probability': 0.8988057374954224,\n",
       "     'token_id': 5613,\n",
       "     'token_str': 'Yes'}]}]]"
      ]
     },
     "execution_count": 18,
     "metadata": {},
     "output_type": "execute_result"
    }
   ],
   "source": [
    "# remaining answers\n",
    "example_ds[\"answers\"]"
   ]
  },
  {
   "cell_type": "markdown",
   "metadata": {},
   "source": [
    "### Toxicity\n",
    "\n",
    "Currently not in use."
   ]
  },
  {
   "cell_type": "code",
   "execution_count": 5,
   "metadata": {},
   "outputs": [],
   "source": [
    "toxicity_pipe = pipeline(\"text-classification\", model=\"tomh/toxigen_roberta\", device=0)"
   ]
  },
  {
   "cell_type": "code",
   "execution_count": 13,
   "metadata": {},
   "outputs": [
    {
     "data": {
      "text/plain": [
       "[{'label': 'LABEL_0', 'score': 0.9992640614509583},\n",
       " {'label': 'LABEL_1', 'score': 0.0007359233568422496}]"
      ]
     },
     "execution_count": 13,
     "metadata": {},
     "output_type": "execute_result"
    }
   ],
   "source": [
    "toxicity_pipe('I love ML', top_k=None)"
   ]
  },
  {
   "cell_type": "code",
   "execution_count": 6,
   "metadata": {},
   "outputs": [],
   "source": [
    "def run_toxicity_pipe(text):\n",
    "    try: \n",
    "        result = toxicity_pipe(text, top_k=None)\n",
    "        result = [r for r in result if r['label'] == 'LABEL_1'][0]\n",
    "    except:\n",
    "        return 0.5\n",
    "\n",
    "    return result['score']"
   ]
  },
  {
   "cell_type": "code",
   "execution_count": 11,
   "metadata": {},
   "outputs": [
    {
     "name": "stdout",
     "output_type": "stream",
     "text": [
      "0.0006564322975464165\n",
      "0.0007360000745393336\n",
      "0.0007385569042526186\n",
      "0.000814662838820368\n"
     ]
    }
   ],
   "source": [
    "for answer in dataset[65]['answers']:\n",
    "    print(run_toxicity_pipe(answer[\"answer_body\"]))"
   ]
  }
 ],
 "metadata": {
  "kernelspec": {
   "display_name": "reddit",
   "language": "python",
   "name": "python3"
  },
  "language_info": {
   "codemirror_mode": {
    "name": "ipython",
    "version": 3
   },
   "file_extension": ".py",
   "mimetype": "text/x-python",
   "name": "python",
   "nbconvert_exporter": "python",
   "pygments_lexer": "ipython3",
   "version": "3.10.12"
  }
 },
 "nbformat": 4,
 "nbformat_minor": 2
}
