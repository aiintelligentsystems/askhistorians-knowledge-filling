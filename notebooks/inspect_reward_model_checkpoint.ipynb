{
 "cells": [
  {
   "cell_type": "code",
   "execution_count": 1,
   "metadata": {},
   "outputs": [
    {
     "name": "stderr",
     "output_type": "stream",
     "text": [
      "/home/jhoffbauer/reddit_qa/venv/lib/python3.10/site-packages/tqdm/auto.py:21: TqdmWarning: IProgress not found. Please update jupyter and ipywidgets. See https://ipywidgets.readthedocs.io/en/stable/user_install.html\n",
      "  from .autonotebook import tqdm as notebook_tqdm\n",
      "2023-07-30 15:51:47.235091: I tensorflow/core/platform/cpu_feature_guard.cc:182] This TensorFlow binary is optimized to use available CPU instructions in performance-critical operations.\n",
      "To enable the following instructions: AVX2 FMA, in other operations, rebuild TensorFlow with the appropriate compiler flags.\n",
      "2023-07-30 15:51:47.738468: W tensorflow/compiler/tf2tensorrt/utils/py_utils.cc:38] TF-TRT Warning: Could not find TensorRT\n"
     ]
    }
   ],
   "source": [
    "from dataclasses import dataclass, field\n",
    "from typing import Optional\n",
    "import huggingface_hub\n",
    "import functools as ft\n",
    "import torch\n",
    "import pandas as pd\n",
    "import torch\n",
    "from accelerate import Accelerator\n",
    "from datasets import load_dataset\n",
    "from peft import LoraConfig\n",
    "from tqdm import tqdm\n",
    "from transformers import Adafactor, AutoTokenizer, HfArgumentParser, pipeline, AutoConfig, GPTNeoXForCausalLM, AutoModelForCausalLM\n",
    "from trl import AutoModelForCausalLMWithValueHead, PPOConfig, PPOTrainer, set_seed\n",
    "from trl.core import LengthSampler\n",
    "from transformers import pipeline, TextGenerationPipeline, AutoConfig, AutoTokenizer, AutoModelForCausalLM, AutoModel, AutoModelForSequenceClassification, GPTNeoXForCausalLM, LlamaForSequenceClassification\n",
    "from redditqa.dataset import load_reddit_dataset\n",
    "from transformers.utils.hub import convert_file_size_to_int, get_checkpoint_shard_files"
   ]
  },
  {
   "cell_type": "code",
   "execution_count": 2,
   "metadata": {},
   "outputs": [],
   "source": [
    "model_checkpoint = '/scratch1/jhoff/checkpoints/reward_llama-2-7b-chat-hf/checkpoint-3000'"
   ]
  },
  {
   "cell_type": "code",
   "execution_count": 7,
   "metadata": {},
   "outputs": [
    {
     "name": "stdout",
     "output_type": "stream",
     "text": [
      "base_model.model.model.layers.0.self_attn.q_proj.lora_A.weight\n",
      "base_model.model.model.layers.0.self_attn.q_proj.lora_B.weight\n",
      "base_model.model.model.layers.0.self_attn.v_proj.lora_A.weight\n",
      "base_model.model.model.layers.0.self_attn.v_proj.lora_B.weight\n",
      "base_model.model.model.layers.1.self_attn.q_proj.lora_A.weight\n",
      "base_model.model.model.layers.1.self_attn.q_proj.lora_B.weight\n",
      "base_model.model.model.layers.1.self_attn.v_proj.lora_A.weight\n",
      "base_model.model.model.layers.1.self_attn.v_proj.lora_B.weight\n",
      "base_model.model.model.layers.2.self_attn.q_proj.lora_A.weight\n",
      "base_model.model.model.layers.2.self_attn.q_proj.lora_B.weight\n",
      "base_model.model.model.layers.2.self_attn.v_proj.lora_A.weight\n",
      "base_model.model.model.layers.2.self_attn.v_proj.lora_B.weight\n",
      "base_model.model.model.layers.3.self_attn.q_proj.lora_A.weight\n",
      "base_model.model.model.layers.3.self_attn.q_proj.lora_B.weight\n",
      "base_model.model.model.layers.3.self_attn.v_proj.lora_A.weight\n",
      "base_model.model.model.layers.3.self_attn.v_proj.lora_B.weight\n",
      "base_model.model.model.layers.4.self_attn.q_proj.lora_A.weight\n",
      "base_model.model.model.layers.4.self_attn.q_proj.lora_B.weight\n",
      "base_model.model.model.layers.4.self_attn.v_proj.lora_A.weight\n",
      "base_model.model.model.layers.4.self_attn.v_proj.lora_B.weight\n",
      "base_model.model.model.layers.5.self_attn.q_proj.lora_A.weight\n",
      "base_model.model.model.layers.5.self_attn.q_proj.lora_B.weight\n",
      "base_model.model.model.layers.5.self_attn.v_proj.lora_A.weight\n",
      "base_model.model.model.layers.5.self_attn.v_proj.lora_B.weight\n",
      "base_model.model.model.layers.6.self_attn.q_proj.lora_A.weight\n",
      "base_model.model.model.layers.6.self_attn.q_proj.lora_B.weight\n",
      "base_model.model.model.layers.6.self_attn.v_proj.lora_A.weight\n",
      "base_model.model.model.layers.6.self_attn.v_proj.lora_B.weight\n",
      "base_model.model.model.layers.7.self_attn.q_proj.lora_A.weight\n",
      "base_model.model.model.layers.7.self_attn.q_proj.lora_B.weight\n",
      "base_model.model.model.layers.7.self_attn.v_proj.lora_A.weight\n",
      "base_model.model.model.layers.7.self_attn.v_proj.lora_B.weight\n",
      "base_model.model.model.layers.8.self_attn.q_proj.lora_A.weight\n",
      "base_model.model.model.layers.8.self_attn.q_proj.lora_B.weight\n",
      "base_model.model.model.layers.8.self_attn.v_proj.lora_A.weight\n",
      "base_model.model.model.layers.8.self_attn.v_proj.lora_B.weight\n",
      "base_model.model.model.layers.9.self_attn.q_proj.lora_A.weight\n",
      "base_model.model.model.layers.9.self_attn.q_proj.lora_B.weight\n",
      "base_model.model.model.layers.9.self_attn.v_proj.lora_A.weight\n",
      "base_model.model.model.layers.9.self_attn.v_proj.lora_B.weight\n",
      "base_model.model.model.layers.10.self_attn.q_proj.lora_A.weight\n",
      "base_model.model.model.layers.10.self_attn.q_proj.lora_B.weight\n",
      "base_model.model.model.layers.10.self_attn.v_proj.lora_A.weight\n",
      "base_model.model.model.layers.10.self_attn.v_proj.lora_B.weight\n",
      "base_model.model.model.layers.11.self_attn.q_proj.lora_A.weight\n",
      "base_model.model.model.layers.11.self_attn.q_proj.lora_B.weight\n",
      "base_model.model.model.layers.11.self_attn.v_proj.lora_A.weight\n",
      "base_model.model.model.layers.11.self_attn.v_proj.lora_B.weight\n",
      "base_model.model.model.layers.12.self_attn.q_proj.lora_A.weight\n",
      "base_model.model.model.layers.12.self_attn.q_proj.lora_B.weight\n",
      "base_model.model.model.layers.12.self_attn.v_proj.lora_A.weight\n",
      "base_model.model.model.layers.12.self_attn.v_proj.lora_B.weight\n",
      "base_model.model.model.layers.13.self_attn.q_proj.lora_A.weight\n",
      "base_model.model.model.layers.13.self_attn.q_proj.lora_B.weight\n",
      "base_model.model.model.layers.13.self_attn.v_proj.lora_A.weight\n",
      "base_model.model.model.layers.13.self_attn.v_proj.lora_B.weight\n",
      "base_model.model.model.layers.14.self_attn.q_proj.lora_A.weight\n",
      "base_model.model.model.layers.14.self_attn.q_proj.lora_B.weight\n",
      "base_model.model.model.layers.14.self_attn.v_proj.lora_A.weight\n",
      "base_model.model.model.layers.14.self_attn.v_proj.lora_B.weight\n",
      "base_model.model.model.layers.15.self_attn.q_proj.lora_A.weight\n",
      "base_model.model.model.layers.15.self_attn.q_proj.lora_B.weight\n",
      "base_model.model.model.layers.15.self_attn.v_proj.lora_A.weight\n",
      "base_model.model.model.layers.15.self_attn.v_proj.lora_B.weight\n",
      "base_model.model.model.layers.16.self_attn.q_proj.lora_A.weight\n",
      "base_model.model.model.layers.16.self_attn.q_proj.lora_B.weight\n",
      "base_model.model.model.layers.16.self_attn.v_proj.lora_A.weight\n",
      "base_model.model.model.layers.16.self_attn.v_proj.lora_B.weight\n",
      "base_model.model.model.layers.17.self_attn.q_proj.lora_A.weight\n",
      "base_model.model.model.layers.17.self_attn.q_proj.lora_B.weight\n",
      "base_model.model.model.layers.17.self_attn.v_proj.lora_A.weight\n",
      "base_model.model.model.layers.17.self_attn.v_proj.lora_B.weight\n",
      "base_model.model.model.layers.18.self_attn.q_proj.lora_A.weight\n",
      "base_model.model.model.layers.18.self_attn.q_proj.lora_B.weight\n",
      "base_model.model.model.layers.18.self_attn.v_proj.lora_A.weight\n",
      "base_model.model.model.layers.18.self_attn.v_proj.lora_B.weight\n",
      "base_model.model.model.layers.19.self_attn.q_proj.lora_A.weight\n",
      "base_model.model.model.layers.19.self_attn.q_proj.lora_B.weight\n",
      "base_model.model.model.layers.19.self_attn.v_proj.lora_A.weight\n",
      "base_model.model.model.layers.19.self_attn.v_proj.lora_B.weight\n",
      "base_model.model.model.layers.20.self_attn.q_proj.lora_A.weight\n",
      "base_model.model.model.layers.20.self_attn.q_proj.lora_B.weight\n",
      "base_model.model.model.layers.20.self_attn.v_proj.lora_A.weight\n",
      "base_model.model.model.layers.20.self_attn.v_proj.lora_B.weight\n",
      "base_model.model.model.layers.21.self_attn.q_proj.lora_A.weight\n",
      "base_model.model.model.layers.21.self_attn.q_proj.lora_B.weight\n",
      "base_model.model.model.layers.21.self_attn.v_proj.lora_A.weight\n",
      "base_model.model.model.layers.21.self_attn.v_proj.lora_B.weight\n",
      "base_model.model.model.layers.22.self_attn.q_proj.lora_A.weight\n",
      "base_model.model.model.layers.22.self_attn.q_proj.lora_B.weight\n",
      "base_model.model.model.layers.22.self_attn.v_proj.lora_A.weight\n",
      "base_model.model.model.layers.22.self_attn.v_proj.lora_B.weight\n",
      "base_model.model.model.layers.23.self_attn.q_proj.lora_A.weight\n",
      "base_model.model.model.layers.23.self_attn.q_proj.lora_B.weight\n",
      "base_model.model.model.layers.23.self_attn.v_proj.lora_A.weight\n",
      "base_model.model.model.layers.23.self_attn.v_proj.lora_B.weight\n",
      "base_model.model.model.layers.24.self_attn.q_proj.lora_A.weight\n",
      "base_model.model.model.layers.24.self_attn.q_proj.lora_B.weight\n",
      "base_model.model.model.layers.24.self_attn.v_proj.lora_A.weight\n",
      "base_model.model.model.layers.24.self_attn.v_proj.lora_B.weight\n",
      "base_model.model.model.layers.25.self_attn.q_proj.lora_A.weight\n",
      "base_model.model.model.layers.25.self_attn.q_proj.lora_B.weight\n",
      "base_model.model.model.layers.25.self_attn.v_proj.lora_A.weight\n",
      "base_model.model.model.layers.25.self_attn.v_proj.lora_B.weight\n",
      "base_model.model.model.layers.26.self_attn.q_proj.lora_A.weight\n",
      "base_model.model.model.layers.26.self_attn.q_proj.lora_B.weight\n",
      "base_model.model.model.layers.26.self_attn.v_proj.lora_A.weight\n",
      "base_model.model.model.layers.26.self_attn.v_proj.lora_B.weight\n",
      "base_model.model.model.layers.27.self_attn.q_proj.lora_A.weight\n",
      "base_model.model.model.layers.27.self_attn.q_proj.lora_B.weight\n",
      "base_model.model.model.layers.27.self_attn.v_proj.lora_A.weight\n",
      "base_model.model.model.layers.27.self_attn.v_proj.lora_B.weight\n",
      "base_model.model.model.layers.28.self_attn.q_proj.lora_A.weight\n",
      "base_model.model.model.layers.28.self_attn.q_proj.lora_B.weight\n",
      "base_model.model.model.layers.28.self_attn.v_proj.lora_A.weight\n",
      "base_model.model.model.layers.28.self_attn.v_proj.lora_B.weight\n",
      "base_model.model.model.layers.29.self_attn.q_proj.lora_A.weight\n",
      "base_model.model.model.layers.29.self_attn.q_proj.lora_B.weight\n",
      "base_model.model.model.layers.29.self_attn.v_proj.lora_A.weight\n",
      "base_model.model.model.layers.29.self_attn.v_proj.lora_B.weight\n",
      "base_model.model.model.layers.30.self_attn.q_proj.lora_A.weight\n",
      "base_model.model.model.layers.30.self_attn.q_proj.lora_B.weight\n",
      "base_model.model.model.layers.30.self_attn.v_proj.lora_A.weight\n",
      "base_model.model.model.layers.30.self_attn.v_proj.lora_B.weight\n",
      "base_model.model.model.layers.31.self_attn.q_proj.lora_A.weight\n",
      "base_model.model.model.layers.31.self_attn.q_proj.lora_B.weight\n",
      "base_model.model.model.layers.31.self_attn.v_proj.lora_A.weight\n",
      "base_model.model.model.layers.31.self_attn.v_proj.lora_B.weight\n",
      "base_model.model.score.weight\n"
     ]
    }
   ],
   "source": [
    "adapter_weights = torch.load(f'{model_checkpoint}/adapter_model.bin', map_location='cpu')\n",
    "print('\\n'.join(list(adapter_weights.keys())))"
   ]
  },
  {
   "cell_type": "code",
   "execution_count": 3,
   "metadata": {},
   "outputs": [
    {
     "ename": "ValueError",
     "evalue": "Can't find a checkpoint index (/scratch1/jhoff/checkpoints/reward_llama-2-7b-chat-hf/checkpoint-3000/pytorch_model.bin.index.json) in /scratch1/jhoff/checkpoints/reward_llama-2-7b-chat-hf/checkpoint-3000.",
     "output_type": "error",
     "traceback": [
      "\u001b[0;31m---------------------------------------------------------------------------\u001b[0m",
      "\u001b[0;31mValueError\u001b[0m                                Traceback (most recent call last)",
      "Cell \u001b[0;32mIn[3], line 1\u001b[0m\n\u001b[0;32m----> 1\u001b[0m shard_files \u001b[39m=\u001b[39m get_checkpoint_shard_files(model_checkpoint, index_filename\u001b[39m=\u001b[39;49m\u001b[39mf\u001b[39;49m\u001b[39m'\u001b[39;49m\u001b[39m{\u001b[39;49;00mmodel_checkpoint\u001b[39m}\u001b[39;49;00m\u001b[39m/pytorch_model.bin.index.json\u001b[39;49m\u001b[39m'\u001b[39;49m)\n\u001b[1;32m      3\u001b[0m \u001b[39mfor\u001b[39;00m shard_file \u001b[39min\u001b[39;00m shard_files[\u001b[39m0\u001b[39m]:\n\u001b[1;32m      5\u001b[0m     manually_loaded_weights \u001b[39m=\u001b[39m torch\u001b[39m.\u001b[39mload(shard_files[\u001b[39m0\u001b[39m][\u001b[39m2\u001b[39m], map_location\u001b[39m=\u001b[39m\u001b[39m'\u001b[39m\u001b[39mcpu\u001b[39m\u001b[39m'\u001b[39m)\n",
      "File \u001b[0;32m~/reddit_qa/venv/lib/python3.10/site-packages/transformers/utils/hub.py:999\u001b[0m, in \u001b[0;36mget_checkpoint_shard_files\u001b[0;34m(pretrained_model_name_or_path, index_filename, cache_dir, force_download, proxies, resume_download, local_files_only, token, user_agent, revision, subfolder, _commit_hash, **deprecated_kwargs)\u001b[0m\n\u001b[1;32m    996\u001b[0m     token \u001b[39m=\u001b[39m use_auth_token\n\u001b[1;32m    998\u001b[0m \u001b[39mif\u001b[39;00m \u001b[39mnot\u001b[39;00m os\u001b[39m.\u001b[39mpath\u001b[39m.\u001b[39misfile(index_filename):\n\u001b[0;32m--> 999\u001b[0m     \u001b[39mraise\u001b[39;00m \u001b[39mValueError\u001b[39;00m(\u001b[39mf\u001b[39m\u001b[39m\"\u001b[39m\u001b[39mCan\u001b[39m\u001b[39m'\u001b[39m\u001b[39mt find a checkpoint index (\u001b[39m\u001b[39m{\u001b[39;00mindex_filename\u001b[39m}\u001b[39;00m\u001b[39m) in \u001b[39m\u001b[39m{\u001b[39;00mpretrained_model_name_or_path\u001b[39m}\u001b[39;00m\u001b[39m.\u001b[39m\u001b[39m\"\u001b[39m)\n\u001b[1;32m   1001\u001b[0m \u001b[39mwith\u001b[39;00m \u001b[39mopen\u001b[39m(index_filename, \u001b[39m\"\u001b[39m\u001b[39mr\u001b[39m\u001b[39m\"\u001b[39m) \u001b[39mas\u001b[39;00m f:\n\u001b[1;32m   1002\u001b[0m     index \u001b[39m=\u001b[39m json\u001b[39m.\u001b[39mloads(f\u001b[39m.\u001b[39mread())\n",
      "\u001b[0;31mValueError\u001b[0m: Can't find a checkpoint index (/scratch1/jhoff/checkpoints/reward_llama-2-7b-chat-hf/checkpoint-3000/pytorch_model.bin.index.json) in /scratch1/jhoff/checkpoints/reward_llama-2-7b-chat-hf/checkpoint-3000."
     ]
    }
   ],
   "source": [
    "shard_files = get_checkpoint_shard_files(model_checkpoint, index_filename=f'{model_checkpoint}/pytorch_model.bin.index.json')\n",
    "\n",
    "for shard_file in shard_files[0]:\n",
    "    \n",
    "    manually_loaded_weights = torch.load(shard_files[0][2], map_location='cpu')\n",
    "\n",
    "    print('\\n'.join(list(manually_loaded_weights.keys())))"
   ]
  },
  {
   "cell_type": "code",
   "execution_count": 10,
   "metadata": {},
   "outputs": [
    {
     "data": {
      "text/plain": [
       "tensor([[ 0.0381,  0.0195,  0.0079,  ..., -0.0181, -0.0104, -0.0177]],\n",
       "       dtype=torch.bfloat16)"
      ]
     },
     "execution_count": 10,
     "metadata": {},
     "output_type": "execute_result"
    }
   ],
   "source": [
    "adapter_weights['base_model.model.score.weight']"
   ]
  },
  {
   "cell_type": "code",
   "execution_count": null,
   "metadata": {},
   "outputs": [],
   "source": []
  }
 ],
 "metadata": {
  "kernelspec": {
   "display_name": "venv",
   "language": "python",
   "name": "python3"
  },
  "language_info": {
   "codemirror_mode": {
    "name": "ipython",
    "version": 3
   },
   "file_extension": ".py",
   "mimetype": "text/x-python",
   "name": "python",
   "nbconvert_exporter": "python",
   "pygments_lexer": "ipython3",
   "version": "3.10.6"
  },
  "orig_nbformat": 4
 },
 "nbformat": 4,
 "nbformat_minor": 2
}
