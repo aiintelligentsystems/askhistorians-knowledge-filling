{
 "cells": [
  {
   "cell_type": "markdown",
   "metadata": {},
   "source": [
    "### Create a dataset of pairs from the eval set. Enrich it with scores, sentiment analysis and other markers so that the dataset can effectively be used to label the quality of each pair. "
   ]
  },
  {
   "cell_type": "code",
   "execution_count": 16,
   "metadata": {},
   "outputs": [],
   "source": [
    "import os\n",
    "os.environ[\"CUDA_VISIBLE_DEVICES\"] = \"0\""
   ]
  },
  {
   "cell_type": "code",
   "execution_count": 17,
   "metadata": {},
   "outputs": [],
   "source": [
    "from dataclasses import dataclass, field\n",
    "from typing import Optional\n",
    "import huggingface_hub\n",
    "import functools as ft\n",
    "import torch\n",
    "import pandas as pd\n",
    "import torch\n",
    "from accelerate import Accelerator\n",
    "from datasets import load_dataset\n",
    "from peft import LoraConfig\n",
    "from tqdm import tqdm\n",
    "from transformers import Adafactor, AutoTokenizer, HfArgumentParser, pipeline, AutoConfig, GPTNeoXForCausalLM, AutoModelForCausalLM\n",
    "from trl import AutoModelForCausalLMWithValueHead, PPOConfig, PPOTrainer, set_seed\n",
    "from trl.core import LengthSampler\n",
    "from transformers import pipeline, TextGenerationPipeline, AutoConfig, AutoTokenizer, AutoModelForCausalLM, AutoModel, AutoModelForSequenceClassification, GPTNeoXForCausalLM, LlamaForSequenceClassification\n",
    "from redditqa.dataset import load_reddit_dataset\n",
    "from textblob import TextBlob"
   ]
  },
  {
   "cell_type": "code",
   "execution_count": 18,
   "metadata": {},
   "outputs": [
    {
     "name": "stderr",
     "output_type": "stream",
     "text": [
      "Loading cached processed dataset at /scratch1/jhoff/reddit_dataset_cached/eval/cache-cba55e4212677d14.arrow\n",
      "Loading cached processed dataset at /scratch1/jhoff/reddit_dataset_cached/eval/cache-d8898fc7c787d1eb.arrow\n",
      "Loading cached shuffled indices for dataset at /scratch1/jhoff/reddit_dataset_cached/eval/cache-e35089f0b695ca2b.arrow\n",
      "Loading cached shuffled indices for dataset at /scratch1/jhoff/reddit_dataset_cached/eval/cache-ea21b592f4358562.arrow\n"
     ]
    },
    {
     "data": {
      "text/plain": [
       "(Dataset({\n",
       "     features: ['answer_link_id', 'question_title', 'response_j', 'response_k', 'score_j', 'score_k'],\n",
       "     num_rows: 250\n",
       " }),\n",
       " {'answer_link_id': '2y0dxt',\n",
       "  'question_title': 'Why do employers ask \"where do you see yourself in 5-10 years?\" How do personal goals matter at all?',\n",
       "  'response_j': 'After you respond, be sure to ask, \"How do you see the company changing over that timespan?\"',\n",
       "  'response_k': \"Whatever job you're applying for, think of the logical career path and where you should be in fifteen years. Like all basic interview questions it's more about whether you can have an adult conversation than the actual answers. \",\n",
       "  'score_j': 13,\n",
       "  'score_k': 2})"
      ]
     },
     "execution_count": 18,
     "metadata": {},
     "output_type": "execute_result"
    }
   ],
   "source": [
    "# Load the dataset \n",
    "\n",
    "eval_dataset = load_reddit_dataset(\"eval\", pairs=True)\n",
    "eval_dataset = eval_dataset.shuffle(seed=42).select(range(250))\n",
    "\n",
    "eval_dataset, eval_dataset[0]"
   ]
  },
  {
   "cell_type": "code",
   "execution_count": 19,
   "metadata": {},
   "outputs": [
    {
     "name": "stderr",
     "output_type": "stream",
     "text": [
      "Loading cached processed dataset at /scratch1/jhoff/reddit_dataset_cached/eval/cache-aa778f10af66955c.arrow\n",
      "Loading cached processed dataset at /scratch1/jhoff/reddit_dataset_cached/eval/cache-5e29707aeaf881d0.arrow\n"
     ]
    }
   ],
   "source": [
    "# Add sentiment analysis and question detection to both answers \n",
    "\n",
    "sentiment_pipe = pipeline(\"text-classification\", model=\"michellejieli/emotion_text_classifier\", device='cuda:0')\n",
    "question_detection_pipe = pipeline(\"text-classification\", model=\"huaen/question_detection\", device='cuda:0')\n",
    "\n",
    "def apply_get_emotions(row): \n",
    "    row['emotion_j'] = sentiment_pipe(row['response_j'])[0]['label']\n",
    "    row['emotion_k'] = sentiment_pipe(row['response_k'])[0]['label']\n",
    "    return row\n",
    "\n",
    "def apply_question_detection(row): \n",
    "    row['is_question_j'] = question_detection_pipe(row['response_j'])[0]['label']\n",
    "    row['is_question_k'] = question_detection_pipe(row['response_k'])[0]['label']\n",
    "    return row\n",
    "    \n",
    "eval_dataset = eval_dataset.map(apply_get_emotions).map(apply_question_detection)"
   ]
  },
  {
   "cell_type": "code",
   "execution_count": 20,
   "metadata": {},
   "outputs": [
    {
     "name": "stderr",
     "output_type": "stream",
     "text": [
      "Loading cached processed dataset at /scratch1/jhoff/reddit_dataset_cached/eval/cache-4dad404e64e4d280.arrow\n"
     ]
    }
   ],
   "source": [
    "def percent(x): \n",
    "    return \"{:.2f}%\".format(x * 100)\n",
    "\n",
    "def apply_textblob(row):\n",
    "    textblob_j = TextBlob(row[\"response_j\"]).sentiment\n",
    "    textblob_k = TextBlob(row[\"response_k\"]).sentiment\n",
    "    row[\"polarity_j\"] = percent(textblob_j.polarity)\n",
    "    row[\"subjectivity_j\"] = percent(textblob_j.subjectivity)\n",
    "    row[\"polarity_k\"] = percent(textblob_k.polarity)\n",
    "    row[\"subjectivity_k\"] = percent(textblob_k.subjectivity)\n",
    "    return row\n",
    "\n",
    "eval_dataset = eval_dataset.map(apply_textblob)"
   ]
  },
  {
   "cell_type": "code",
   "execution_count": 21,
   "metadata": {},
   "outputs": [
    {
     "data": {
      "text/plain": [
       "{'answer_link_id': '2y0dxt',\n",
       " 'question_title': 'Why do employers ask \"where do you see yourself in 5-10 years?\" How do personal goals matter at all?',\n",
       " 'response_j': 'After you respond, be sure to ask, \"How do you see the company changing over that timespan?\"',\n",
       " 'response_k': \"Whatever job you're applying for, think of the logical career path and where you should be in fifteen years. Like all basic interview questions it's more about whether you can have an adult conversation than the actual answers. \",\n",
       " 'score_j': 13,\n",
       " 'score_k': 2,\n",
       " 'emotion_j': 'neutral',\n",
       " 'emotion_k': 'neutral',\n",
       " 'is_question_j': 'question',\n",
       " 'is_question_k': 'non_question',\n",
       " 'polarity_j': '50.00%',\n",
       " 'subjectivity_j': '88.89%',\n",
       " 'polarity_k': '17.00%',\n",
       " 'subjectivity_k': '25.50%'}"
      ]
     },
     "execution_count": 21,
     "metadata": {},
     "output_type": "execute_result"
    }
   ],
   "source": [
    "eval_dataset[0]"
   ]
  },
  {
   "cell_type": "code",
   "execution_count": 22,
   "metadata": {},
   "outputs": [],
   "source": [
    "# Export pairs for labelling\n",
    "pd.DataFrame(eval_dataset).to_excel(\"eval_dataset_for_labelling-n250.xlsx\")"
   ]
  },
  {
   "cell_type": "code",
   "execution_count": null,
   "metadata": {},
   "outputs": [],
   "source": []
  },
  {
   "cell_type": "code",
   "execution_count": null,
   "metadata": {},
   "outputs": [],
   "source": []
  }
 ],
 "metadata": {
  "kernelspec": {
   "display_name": "venv",
   "language": "python",
   "name": "python3"
  },
  "language_info": {
   "codemirror_mode": {
    "name": "ipython",
    "version": 3
   },
   "file_extension": ".py",
   "mimetype": "text/x-python",
   "name": "python",
   "nbconvert_exporter": "python",
   "pygments_lexer": "ipython3",
   "version": "3.10.6"
  },
  "orig_nbformat": 4
 },
 "nbformat": 4,
 "nbformat_minor": 2
}
