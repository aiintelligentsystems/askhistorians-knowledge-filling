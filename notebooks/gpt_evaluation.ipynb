{
 "cells": [
  {
   "cell_type": "code",
   "execution_count": 1,
   "metadata": {},
   "outputs": [
    {
     "name": "stderr",
     "output_type": "stream",
     "text": [
      "/usr/local/lib/python3.10/dist-packages/tqdm/auto.py:21: TqdmWarning: IProgress not found. Please update jupyter and ipywidgets. See https://ipywidgets.readthedocs.io/en/stable/user_install.html\n",
      "  from .autonotebook import tqdm as notebook_tqdm\n"
     ]
    }
   ],
   "source": [
    "import json\n",
    "import random\n",
    "from collections import Counter, defaultdict\n",
    "\n",
    "from dataclasses import dataclass, field\n",
    "from typing import Optional\n",
    "\n",
    "import huggingface_hub\n",
    "from openai import OpenAI\n",
    "import torch\n",
    "from accelerate import Accelerator\n",
    "from datasets import load_dataset\n",
    "import datasets as ds"
   ]
  },
  {
   "cell_type": "code",
   "execution_count": 3,
   "metadata": {},
   "outputs": [],
   "source": [
    "client = OpenAI(api_key=input())"
   ]
  },
  {
   "cell_type": "code",
   "execution_count": 4,
   "metadata": {},
   "outputs": [
    {
     "data": {
      "text/plain": [
       "Dataset({\n",
       "    features: ['question_created_utc', 'question_retrieved_on', 'question_deleted', 'question_title', 'question_selftext', 'question_score', 'question_char_length', 'question_selftext_char_length', 'answers', 'graded_output', 'Zephyr-7B-beta', 'Zephyr-History-7600'],\n",
       "    num_rows: 100\n",
       "})"
      ]
     },
     "execution_count": 4,
     "metadata": {},
     "output_type": "execute_result"
    }
   ],
   "source": [
    "dataset = ds.load_from_disk(\"/scratch1/redditqa/cached_datasets/AskHistorians_test_set_100_model_generated\")\n",
    "dataset"
   ]
  },
  {
   "cell_type": "code",
   "execution_count": 5,
   "metadata": {},
   "outputs": [],
   "source": [
    "model_a = 'Zephyr-7B-beta'\n",
    "model_b = 'Zephyr-History-7600'"
   ]
  },
  {
   "cell_type": "code",
   "execution_count": 6,
   "metadata": {},
   "outputs": [],
   "source": [
    "def get_model_order(models):\n",
    "    return random.sample(models, k=2)"
   ]
  },
  {
   "cell_type": "code",
   "execution_count": 11,
   "metadata": {},
   "outputs": [],
   "source": [
    "PROMPT_TEMPLATE = \"\"\"\n",
    "You are a seasoned historian tasked with evaluating responses to historical questions. \n",
    "Consider the following question and assess which of the two provided \n",
    "answers presents the most accurate and comprehensive information. Your evaluation\n",
    "should consider factors such as the helpfulness, relevance, accuracy, depth, creativity,\n",
    "and level of detail of their responses. Begin your evaluation by comparing the two\n",
    "responses and provide a short explanation. Avoid any position biases and ensure that the\n",
    "order in which the responses were presented does not influence your decision. Do not allow\n",
    "the length of the responses to influence your evaluation. Do not favor certain names of\n",
    "the assistants. Be as objective as possible. After providing your explanation, output your\n",
    "final verdict by strictly following this format: \"[[A]]\" if assistant A is better, \"[[B]]\"\n",
    "if assistant B is better, and \"[[C]]\" for a tie.\n",
    "\n",
    "[User Question]\n",
    "Question: %QUESTION\n",
    "\n",
    "[The Start of Assistant A's Answer]\n",
    "%ANSWER1\n",
    "[The End of Assistant A's Answer]\n",
    "\n",
    "[The Start of Assistant B's Answer]\n",
    "%ANSWER2\n",
    "[The End of Assistant B's Answer]\n",
    "\"\"\".strip()"
   ]
  },
  {
   "cell_type": "code",
   "execution_count": 16,
   "metadata": {},
   "outputs": [],
   "source": [
    "def gpt4_preference(ds_item):\n",
    "    model1, model2 = get_model_order([model_a, model_b])\n",
    "    user_prompt = PROMPT_TEMPLATE.replace(\"%QUESTION\", ds_item['question_title'])\n",
    "    user_prompt = user_prompt.replace(\"%ANSWER1\", ds_item[model1])\n",
    "    user_prompt = user_prompt.replace(\"%ANSWER2\", ds_item[model2])\n",
    "\n",
    "    response = client.chat.completions.create(\n",
    "    model=\"gpt-4-1106-preview\",\n",
    "    messages=[\n",
    "        {\"role\": \"user\", \"content\": user_prompt}\n",
    "        ],\n",
    "        temperature=0.0,\n",
    "        top_p=1,\n",
    "        frequency_penalty=0,\n",
    "        presence_penalty=0,\n",
    "    )\n",
    "    answer = response.choices[0].message.content\n",
    "\n",
    "    ds_item['model-order'] = f\"Answer1:{model1};Answer2:{model2}\"\n",
    "    ds_item['raw-gpt4-answer'] = answer\n",
    "\n",
    "    # Convert to preference\n",
    "    if \"[[A]]\" in answer and \"[[B]]\" in answer:\n",
    "        ds_item['gpt4-preference'] = \"\"\n",
    "    elif \"[[A]]\" in answer:\n",
    "        ds_item['gpt4-preference'] = model1\n",
    "    elif \"[[B]]\" in answer:\n",
    "        ds_item['gpt4-preference'] = model2\n",
    "    else:\n",
    "        ds_item['gpt4-preference'] = \"\"\n",
    "\n",
    "    return ds_item"
   ]
  },
  {
   "cell_type": "code",
   "execution_count": 17,
   "metadata": {},
   "outputs": [
    {
     "data": {
      "text/plain": [
       "{'question_created_utc': 1664471496000,\n",
       " 'question_retrieved_on': 1665428342000,\n",
       " 'question_deleted': False,\n",
       " 'question_title': 'Who were some early/Renaissance philosophers who believed that all human beings were essentially the same, with all concepts of race being pseudoscience?',\n",
       " 'question_selftext': 'The historical record is filled with examples of race science and people employing racial categorizations to describe people. But underlying all of that has been a scientific truth: from a scientific perspective, every human being is essentially equal. Races do not inherently exist in the human body. Cultures do not inherently exist. Those things are all constructed by whatever society a person happens to live in. The march of science would ultimately provide no more specificity than “Homo sapiens”.\\n\\nI realized that I don’t really have any examples of early philosophers who believed this. Outside of the American abolition movement, I don’t know of anyone who taught against racial classifications. Are there philosophers who believed the “savages” of Africa were, in a very meaningful way, identical to the aristocracy of Europe?\\n\\nI feel like maybe Jesus Christ—to the extent he was an actual person who actually held beliefs and taught them to people—is one of the only figures I’m familiar with who taught something like that before 1700. But as far as secular philosophers go, I’m not familiar with any, and I am interested to know of any.',\n",
       " 'question_score': 7,\n",
       " 'question_char_length': 153,\n",
       " 'question_selftext_char_length': 1150,\n",
       " 'answers': [{'answer_body': 'There are two threads of thought that one can find in this period which get at this issue. Neither are the position that all races are just superficial variations — that sort of requires Darwin to really get to that point, much later. Instead one finds either an advocacy of Biblical monogenism as applied to questions of what we would today call race, or one finds the discussions of the ways in which apparent \"savages\" are in fact culturally equivalent to Europeans. \\n\\nOn the former point, one of the earliest questions that Enlightenment Europeans concerned with taxonomy and geographic diversity asked about human beings was whether they were all essentially the same species or whether they were all different. One sees this is Linnaeus and Buffon and much later in Agassiz. The pre-Darwinian version of this debate was about monogenism versus polygenism, or whether all humans are descended from a single pair of ancestors (as in the Adam and Eve story in Genesis) or whether different geographically distant humans are acts of separate creation. The former tended to be coded as a literally Biblical approach and the latter as a \"scientific\" approach that understood the Bible was not a literal account, somewhat ironically. There were several 17th century advocates of the idea of monogenism, including Robert Boyle. In general this debate did not, as I understand it, heat up until the 19th century, though (and Darwin\\'s work contributed to this argument — Darwin created a \"scientific\" monogenic argument).\\n\\nThe other thread is more common in the 18th century: inquiries in the nature of \"savages,\" trying to figure out if they are really that different from \"civilized\" peoples, or if it was just a matter of what they were used to. One of the key sources of discourage for the Enlightenment were critiques of European societies processed through the lens of external viewpoints (whether indigenous or Asian or what have you). Fitting your timeline, Michel de Montaigne\\'s 1580 essay _On Cannibals_ essentially argues that Amazonian tribesmen were not essentially different, culturally or morally, from 16th-century Europeans who regularly engaged in torture and other practices he found abhorrent. This is not framed in terms of \"race\" — it is framed in terms of barbarism vs. civilization — but you can see how this debate also ends up having a \"biological\" component over time. (And, again, became a major issue for later 19th-century  theorists like Darwin, who also argued that culture was essentially malleable.) \\n\\nSo the above is not nearly any kind of complete answer, and you are right that such writings are fewer and farther between than the writings of those who found ways to justify European (and American) enslavement, extermination, suppression, etc., of non-Europeans in such topics.\\n\\nThis is an utterly later time period than you are asking about, but Stocking\\'s _Victorian Anthropology_ is an extremely useful resource on pre-Darwinian debates on both of these topics.',\n",
       "   'answer_char_length': 2998,\n",
       "   'answer_created_utc': 1664503502000,\n",
       "   'answer_deleted': False,\n",
       "   'answer_id': 'iqg4yt6',\n",
       "   'answer_retrieved_on': 1664965340000,\n",
       "   'answer_score': 7},\n",
       "  {'answer_body': 'Jesus didn\\'t directly taught it, but there\\'s a famous part of Paul\\'s [epistle to Galatians]([LINK] which sounds a bit revolutionary even today:\\n\\n&gt;There is neither Jew nor Gentile, neither slave nor free, nor is there male and female, for you are all one in Christ Jesus.\\n\\nAncient people didn\\'t think in terms of \"races\". They thought about *peoples*, and described their various customs, dress, food, weapons etc. Greeks thought in terms Greeks vs most else (Barbarians). Greeks did think they are in some ways superior to most others. Jews likewise -- they were \"the chosen people\", everyone else wasn\\'t. (Note that Paul speaks about \"Jews\" vs \"Gentiles\", i.e. non-Jews, because it was the most important distinction in that area; in some translations, you\\'ll find \"Jew nor Greek\").\\n\\nRome was a mix of peoples from all sides, including Africa.\\n\\nRaces like homogeneous blocks of \"whites\", \"blacks\", \"reds\" etc don\\'t exist, but it doesn\\'t mean there\\'s no biological variation between various regions and peoples -- for instance, in Europe, where everybody is natively \"white\", there are significant variations in height, eye and hair color that haven\\'t been really explained. After all, we know that people outside Africa have some small percentage of Neanderthal DNA and that could have some subtle effects...\\n\\nThere was a similar question recently so /u/gynnis-scholasticus has assembled an [list of previous posts]([LINK] about the history of racism.\\n\\nWhat is missing is that racism seems to be connected to a general belief that superficial physical characteristics must be connected to everything about the person. For example, phrenology was an attempt to connect bumps on the skull to various mental characteristics. There was also a lot of 19th century literature where shape of nose, chin, relative length of fingers etc was supposedly connected to much else. People with red hair were often associated with violence or negative characteristics. There seems to be an obsession with measurable physical characteristics peaking in the 19th century.',\n",
       "   'answer_char_length': 2196,\n",
       "   'answer_created_utc': 1664549258000,\n",
       "   'answer_deleted': False,\n",
       "   'answer_id': 'iqi71bs',\n",
       "   'answer_retrieved_on': 1664963017000,\n",
       "   'answer_score': 3},\n",
       "  {'answer_body': 'Welcome to /r/AskHistorians. **Please [Read Our Rules]([LINK] before you comment in this community**. Understand that [rule breaking comments get removed]([LINK]\\n\\n#Please consider **[Clicking Here for RemindMeBot]([LINK] as it takes time for an answer to be written. Additionally, for weekly content summaries, **[Click Here to Subscribe to our Weekly Roundup]([LINK]\\n\\nWe thank you for your interest in this *question*, and your patience in waiting for an in-depth and comprehensive answer to show up. In addition to RemindMeBot, consider [using our Browser Extension]([LINK] or getting the [Weekly Roundup]([LINK] In the meantime our [Twitter]([LINK] [Facebook]([LINK] and [Sunday Digest]([LINK] feature excellent content that has already been written!\\n\\n\\n*I am a bot, and this action was performed automatically. Please [contact the moderators of this subreddit](/message/compose/?to=/r/AskHistorians) if you have any questions or concerns.*',\n",
       "   'answer_char_length': 1784,\n",
       "   'answer_created_utc': 1664471497000,\n",
       "   'answer_deleted': False,\n",
       "   'answer_id': 'iqe1dsb',\n",
       "   'answer_retrieved_on': 1664967761000,\n",
       "   'answer_score': 1}],\n",
       " 'graded_output': [{'probability': 0.9450191855430603,\n",
       "   'token_id': 5613,\n",
       "   'token_str': 'Yes'}],\n",
       " 'Zephyr-7B-beta': '2) Thomas Paine, John Locke, and Baruch Spinoza all believed that all human beings were essentially the same, with all concepts of race being pseudoscience.',\n",
       " 'Zephyr-History-7600': ' The most famous example of this is Girolamo Savonarola. He was an Italian priest and a prominent political and social reformer. He preached a message of moral and religious purity: he believed in forcing all Italians to convert to their Catholic religion, purge their cities of heretics (specifically Jews and heretical aristocrats) and to convert their souls to a rigorous religious life. Most importantly, he preached that the only way a man could save his soul was to practice holy war against the Turks and the French invasion of Piedmont.\\n\\nNow, Girolamo was far from purified. He was eventually burned at the stake for treason (he betrayed Milan to the French and contradicted the Pope). Characteristically, he said that every purification was ultimately holy war against the infidel (no different from the true Christian war against the infidel). This is basically the idea that every European Christian was a small, sinful infant with his soul destined for damnation until saved by holy war. How did he prove himself wrong? Unfortunately, he was a heretic in the end since he was indeed not a martyr. In reality, his war against France simply meant the unstoppable conquest of Italian territories (which had a large Jewish population) by the French troops, which included small auxiliary armies provided by saveonarola and Piedmont. René Descartes was a later follower of Girolamo, and he discounted the pernicious theory of predestination. No one today believes that the doctrine of predestination should be the principal aspect of Christian doctrine although the doctrine lingers – at least in a weaker and less revisionist form. The true bad news for any civil right-wingers concerned about current political currents is that modern sociologists study the idea of black power.\\n\\nBasic skeptics look at the idea that non-white races have been historically downtrodden by whitemale imperialism. Although the idea is not important but it is found in some dissident schools of thought.\\n\\n\\n\\nThere is no one conglomerate philospher behind the predestination idea.\\n\\n[Photograph of Girolamo Savonarola in prison about 1492]([LINK]\\n\\n',\n",
       " 'model-order': 'Answer1:Zephyr-History-7600;Answer2:Zephyr-7B-beta',\n",
       " 'raw-gpt4-answer': \"Comparing the two responses, Assistant A's answer is not accurate in addressing the user's question. The response focuses on Girolamo Savonarola, who was indeed a historical figure from the Renaissance period, but the information provided does not accurately reflect his views or contributions to the philosophy of human equality or the pseudoscientific nature of race. Instead, the answer discusses Savonarola's religious and political activities, which are not relevant to the question. Additionally, the mention of René Descartes and modern sociologists is tangential and does not provide a clear connection to the question at hand.\\n\\nAssistant B's answer, while brief, directly addresses the question by naming three philosophers—Thomas Paine, John Locke, and Baruch Spinoza—who held views more in line with the idea that all human beings are essentially the same. This response is more accurate in the context of the question, as these philosophers are known for their contributions to Enlightenment thought, which often emphasized the equality and common traits of humanity. However, it is important to note that the concepts of race and pseudoscience as understood today were not fully developed during the Renaissance or even the Enlightenment, so the philosophers' views would not have been framed in the same terms as the question suggests.\\n\\nIn terms of helpfulness, relevance, accuracy, depth, creativity, and level of detail, Assistant B's response is more helpful and relevant, though it lacks depth and detail. Assistant A's response, while more detailed, is largely inaccurate and not relevant to the question.\\n\\nFinal Verdict: [[B]]\",\n",
       " 'gpt4-preference': 'Zephyr-7B-beta'}"
      ]
     },
     "execution_count": 17,
     "metadata": {},
     "output_type": "execute_result"
    }
   ],
   "source": [
    "gpt4_preference(dataset[0])"
   ]
  },
  {
   "cell_type": "code",
   "execution_count": 21,
   "metadata": {},
   "outputs": [
    {
     "data": {
      "text/plain": [
       "Dataset({\n",
       "    features: ['question_created_utc', 'question_retrieved_on', 'question_deleted', 'question_title', 'question_selftext', 'question_score', 'question_char_length', 'question_selftext_char_length', 'answers', 'graded_output', 'Zephyr-7B-beta', 'Zephyr-History-7600'],\n",
       "    num_rows: 50\n",
       "})"
      ]
     },
     "execution_count": 21,
     "metadata": {},
     "output_type": "execute_result"
    }
   ],
   "source": [
    "dataset = dataset.select(range(0, 50))\n",
    "dataset"
   ]
  },
  {
   "cell_type": "code",
   "execution_count": 22,
   "metadata": {},
   "outputs": [
    {
     "name": "stderr",
     "output_type": "stream",
     "text": [
      "Parameter 'function'=<function gpt4_preference at 0x7eff366dc4c0> of the transform datasets.arrow_dataset.Dataset._map_single couldn't be hashed properly, a random hash was used instead. Make sure your transforms and parameters are serializable with pickle or dill for the dataset fingerprinting and caching to work. If you reuse this transform, the caching mechanism will consider it to be different from the previous calls and recompute everything. This warning is only showed once. Subsequent hashing failures won't be showed.\n",
      "Map: 100%|██████████| 50/50 [19:53<00:00, 23.88s/ examples]\n"
     ]
    }
   ],
   "source": [
    "dataset = dataset.map(gpt4_preference)"
   ]
  },
  {
   "cell_type": "code",
   "execution_count": 32,
   "metadata": {},
   "outputs": [
    {
     "name": "stderr",
     "output_type": "stream",
     "text": [
      "Saving the dataset (1/1 shards): 100%|██████████| 50/50 [00:00<00:00, 8924.43 examples/s]\n"
     ]
    }
   ],
   "source": [
    "dataset.save_to_disk(\"/scratch1/redditqa/cached_datasets/AskHistorians_test_set_50_model_generated_gpt4_preference_reasoning\")"
   ]
  },
  {
   "cell_type": "code",
   "execution_count": 33,
   "metadata": {},
   "outputs": [
    {
     "data": {
      "text/plain": [
       "Counter({'Zephyr-7B-beta': 46, '': 2, 'Zephyr-History-7600': 2})"
      ]
     },
     "execution_count": 33,
     "metadata": {},
     "output_type": "execute_result"
    }
   ],
   "source": [
    "Counter(dataset['gpt4-preference'])"
   ]
  },
  {
   "cell_type": "code",
   "execution_count": null,
   "metadata": {},
   "outputs": [],
   "source": []
  }
 ],
 "metadata": {
  "kernelspec": {
   "display_name": "Python 3",
   "language": "python",
   "name": "python3"
  },
  "language_info": {
   "codemirror_mode": {
    "name": "ipython",
    "version": 3
   },
   "file_extension": ".py",
   "mimetype": "text/x-python",
   "name": "python",
   "nbconvert_exporter": "python",
   "pygments_lexer": "ipython3",
   "version": "3.10.12"
  }
 },
 "nbformat": 4,
 "nbformat_minor": 2
}
