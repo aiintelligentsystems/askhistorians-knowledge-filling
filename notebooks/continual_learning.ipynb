{
 "cells": [
  {
   "cell_type": "code",
   "execution_count": null,
   "metadata": {},
   "outputs": [],
   "source": [
    "import datasets as ds\n",
    "from datasets import load_dataset\n",
    "import pandas as pd\n",
    "from trl.trainer import ConstantLengthDataset\n",
    "from transformers import AutoTokenizer"
   ]
  },
  {
   "cell_type": "code",
   "execution_count": 2,
   "metadata": {},
   "outputs": [],
   "source": [
    "# ultrachat = load_dataset(\"HuggingFaceH4/ultrachat_200k\")\n",
    "# ultrachat.save_to_disk(\"/scratch1/redditqa/cached_datasets/ultrachat_200k\")\n",
    "\n",
    "# ultrafeedback = load_dataset(\"HuggingFaceH4/ultrafeedback_binarized\")\n",
    "# ultrafeedback.save_to_disk(\"/scratch1/redditqa/cached_datasets/ultrafeedback_binarized\")"
   ]
  }
 ],
 "metadata": {
  "kernelspec": {
   "display_name": "Python 3",
   "language": "python",
   "name": "python3"
  },
  "language_info": {
   "codemirror_mode": {
    "name": "ipython",
    "version": 3
   },
   "file_extension": ".py",
   "mimetype": "text/x-python",
   "name": "python",
   "nbconvert_exporter": "python",
   "pygments_lexer": "ipython3",
   "version": "3.10.12"
  }
 },
 "nbformat": 4,
 "nbformat_minor": 2
}
